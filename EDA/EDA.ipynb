{
  "nbformat": 4,
  "nbformat_minor": 0,
  "metadata": {
    "colab": {
      "name": "EDA.ipynb",
      "provenance": [],
      "collapsed_sections": [
        "KFSLKJgKBVS2"
      ],
      "authorship_tag": "ABX9TyNrmJXKAE9WneclCNHuonu7",
      "include_colab_link": true
    },
    "kernelspec": {
      "name": "python3",
      "display_name": "Python 3"
    },
    "language_info": {
      "name": "python"
    }
  },
  "cells": [
    {
      "cell_type": "markdown",
      "metadata": {
        "id": "view-in-github",
        "colab_type": "text"
      },
      "source": [
        "<a href=\"https://colab.research.google.com/github/nazia-noor/nazia_data606/blob/master/EDA/EDA.ipynb\" target=\"_parent\"><img src=\"https://colab.research.google.com/assets/colab-badge.svg\" alt=\"Open In Colab\"/></a>"
      ]
    },
    {
      "cell_type": "code",
      "execution_count": 1,
      "metadata": {
        "id": "G4La_bJJLqBG"
      },
      "outputs": [],
      "source": [
        "import pandas as pd\n",
        "import plotly\n",
        "import plotly.express as px\n",
        "import plotly.graph_objects as go\n",
        "import numpy as np"
      ]
    },
    {
      "cell_type": "code",
      "source": [
        "file_path = r'https://raw.githubusercontent.com/nazia-noor/nazia_data606/master/dataset/final_dataset.csv'\n",
        "\n",
        "df= pd.read_csv(file_path)"
      ],
      "metadata": {
        "id": "tH1l4RaEQrIn"
      },
      "execution_count": 2,
      "outputs": []
    },
    {
      "cell_type": "code",
      "execution_count": 3,
      "metadata": {
        "id": "N_j3-NUALqBG",
        "colab": {
          "base_uri": "https://localhost:8080/",
          "height": 1000
        },
        "outputId": "92ae8d38-c4c1-45a7-abbb-3be585bb7a31"
      },
      "outputs": [
        {
          "output_type": "execute_result",
          "data": {
            "text/plain": [
              "                                                   name  price  \\\n",
              "34    skin republic brightening vitamin c face mask ...    6.9   \n",
              "43                   chantecaille retinol intense+ 50ml  142.0   \n",
              "75                          skin gym reusable face mask   18.0   \n",
              "78    estée lauder revitalizing supreme+ youth power...   77.6   \n",
              "102          jason brightening apricot scrubble (128ml)    8.3   \n",
              "...                                                 ...    ...   \n",
              "2715  elemis pro-intense eye & lip contour cream (15ml)  105.0   \n",
              "2727  crystal clear wipe away the years cleansing mi...   38.7   \n",
              "2741               omorovicza miracle facial oil (30ml)  125.0   \n",
              "2753  estée lauder revitalizing supreme+ youth power...  102.2   \n",
              "2793  garnier pure active 3in1 clay wash scrub mask ...    8.3   \n",
              "\n",
              "                                        product_details ingredients  \\\n",
              "34    rediscover youthful radiance with skin republi...         NaN   \n",
              "43    reduce the visible effects of skin fatigue whi...         NaN   \n",
              "75    recharge. revive. reuse. our reusable face mas...         NaN   \n",
              "78    now your eyes can have it all: firmness, stren...         NaN   \n",
              "102   extra-gentle, jason apricot scrubble facial wa...         NaN   \n",
              "...                                                 ...         ...   \n",
              "2715  breaking the boundaries in formulation develop...         NaN   \n",
              "2727  turn back the clock with the crystal clear wip...         NaN   \n",
              "2741  restore youthful-looking skin with the miracle...         NaN   \n",
              "2753  now your skin can have it all: firmness, stren...         NaN   \n",
              "2793  treat your skin to the multi-tasking benefits ...         NaN   \n",
              "\n",
              "              brand  product_amount measurement_unit  \\\n",
              "34    skin republic            25.0             gram   \n",
              "43     chantecaille            50.0             gram   \n",
              "75         skin gym            53.0             gram   \n",
              "78     estée lauder            15.0             gram   \n",
              "102           jason           128.0             gram   \n",
              "...             ...             ...              ...   \n",
              "2715         elemis            15.0             gram   \n",
              "2727  crystal clear           200.0             gram   \n",
              "2741     omorovicza            30.0             gram   \n",
              "2753   estée lauder            50.0             gram   \n",
              "2793        garnier           150.0             gram   \n",
              "\n",
              "                  product_type product_size  \n",
              "34                        mask        small  \n",
              "43                   treatment     standard  \n",
              "75                        mask     standard  \n",
              "78                         eye        small  \n",
              "102                  exfoliant     standard  \n",
              "...                        ...          ...  \n",
              "2715                       eye        small  \n",
              "2727                  cleanser     standard  \n",
              "2741  cream/lotion/moisturizer        small  \n",
              "2753  cream/lotion/moisturizer     standard  \n",
              "2793                  cleanser     standard  \n",
              "\n",
              "[123 rows x 9 columns]"
            ],
            "text/html": [
              "\n",
              "  <div id=\"df-32685b6c-676c-420f-8dfc-924981ca2968\">\n",
              "    <div class=\"colab-df-container\">\n",
              "      <div>\n",
              "<style scoped>\n",
              "    .dataframe tbody tr th:only-of-type {\n",
              "        vertical-align: middle;\n",
              "    }\n",
              "\n",
              "    .dataframe tbody tr th {\n",
              "        vertical-align: top;\n",
              "    }\n",
              "\n",
              "    .dataframe thead th {\n",
              "        text-align: right;\n",
              "    }\n",
              "</style>\n",
              "<table border=\"1\" class=\"dataframe\">\n",
              "  <thead>\n",
              "    <tr style=\"text-align: right;\">\n",
              "      <th></th>\n",
              "      <th>name</th>\n",
              "      <th>price</th>\n",
              "      <th>product_details</th>\n",
              "      <th>ingredients</th>\n",
              "      <th>brand</th>\n",
              "      <th>product_amount</th>\n",
              "      <th>measurement_unit</th>\n",
              "      <th>product_type</th>\n",
              "      <th>product_size</th>\n",
              "    </tr>\n",
              "  </thead>\n",
              "  <tbody>\n",
              "    <tr>\n",
              "      <th>34</th>\n",
              "      <td>skin republic brightening vitamin c face mask ...</td>\n",
              "      <td>6.9</td>\n",
              "      <td>rediscover youthful radiance with skin republi...</td>\n",
              "      <td>NaN</td>\n",
              "      <td>skin republic</td>\n",
              "      <td>25.0</td>\n",
              "      <td>gram</td>\n",
              "      <td>mask</td>\n",
              "      <td>small</td>\n",
              "    </tr>\n",
              "    <tr>\n",
              "      <th>43</th>\n",
              "      <td>chantecaille retinol intense+ 50ml</td>\n",
              "      <td>142.0</td>\n",
              "      <td>reduce the visible effects of skin fatigue whi...</td>\n",
              "      <td>NaN</td>\n",
              "      <td>chantecaille</td>\n",
              "      <td>50.0</td>\n",
              "      <td>gram</td>\n",
              "      <td>treatment</td>\n",
              "      <td>standard</td>\n",
              "    </tr>\n",
              "    <tr>\n",
              "      <th>75</th>\n",
              "      <td>skin gym reusable face mask</td>\n",
              "      <td>18.0</td>\n",
              "      <td>recharge. revive. reuse. our reusable face mas...</td>\n",
              "      <td>NaN</td>\n",
              "      <td>skin gym</td>\n",
              "      <td>53.0</td>\n",
              "      <td>gram</td>\n",
              "      <td>mask</td>\n",
              "      <td>standard</td>\n",
              "    </tr>\n",
              "    <tr>\n",
              "      <th>78</th>\n",
              "      <td>estée lauder revitalizing supreme+ youth power...</td>\n",
              "      <td>77.6</td>\n",
              "      <td>now your eyes can have it all: firmness, stren...</td>\n",
              "      <td>NaN</td>\n",
              "      <td>estée lauder</td>\n",
              "      <td>15.0</td>\n",
              "      <td>gram</td>\n",
              "      <td>eye</td>\n",
              "      <td>small</td>\n",
              "    </tr>\n",
              "    <tr>\n",
              "      <th>102</th>\n",
              "      <td>jason brightening apricot scrubble (128ml)</td>\n",
              "      <td>8.3</td>\n",
              "      <td>extra-gentle, jason apricot scrubble facial wa...</td>\n",
              "      <td>NaN</td>\n",
              "      <td>jason</td>\n",
              "      <td>128.0</td>\n",
              "      <td>gram</td>\n",
              "      <td>exfoliant</td>\n",
              "      <td>standard</td>\n",
              "    </tr>\n",
              "    <tr>\n",
              "      <th>...</th>\n",
              "      <td>...</td>\n",
              "      <td>...</td>\n",
              "      <td>...</td>\n",
              "      <td>...</td>\n",
              "      <td>...</td>\n",
              "      <td>...</td>\n",
              "      <td>...</td>\n",
              "      <td>...</td>\n",
              "      <td>...</td>\n",
              "    </tr>\n",
              "    <tr>\n",
              "      <th>2715</th>\n",
              "      <td>elemis pro-intense eye &amp; lip contour cream (15ml)</td>\n",
              "      <td>105.0</td>\n",
              "      <td>breaking the boundaries in formulation develop...</td>\n",
              "      <td>NaN</td>\n",
              "      <td>elemis</td>\n",
              "      <td>15.0</td>\n",
              "      <td>gram</td>\n",
              "      <td>eye</td>\n",
              "      <td>small</td>\n",
              "    </tr>\n",
              "    <tr>\n",
              "      <th>2727</th>\n",
              "      <td>crystal clear wipe away the years cleansing mi...</td>\n",
              "      <td>38.7</td>\n",
              "      <td>turn back the clock with the crystal clear wip...</td>\n",
              "      <td>NaN</td>\n",
              "      <td>crystal clear</td>\n",
              "      <td>200.0</td>\n",
              "      <td>gram</td>\n",
              "      <td>cleanser</td>\n",
              "      <td>standard</td>\n",
              "    </tr>\n",
              "    <tr>\n",
              "      <th>2741</th>\n",
              "      <td>omorovicza miracle facial oil (30ml)</td>\n",
              "      <td>125.0</td>\n",
              "      <td>restore youthful-looking skin with the miracle...</td>\n",
              "      <td>NaN</td>\n",
              "      <td>omorovicza</td>\n",
              "      <td>30.0</td>\n",
              "      <td>gram</td>\n",
              "      <td>cream/lotion/moisturizer</td>\n",
              "      <td>small</td>\n",
              "    </tr>\n",
              "    <tr>\n",
              "      <th>2753</th>\n",
              "      <td>estée lauder revitalizing supreme+ youth power...</td>\n",
              "      <td>102.2</td>\n",
              "      <td>now your skin can have it all: firmness, stren...</td>\n",
              "      <td>NaN</td>\n",
              "      <td>estée lauder</td>\n",
              "      <td>50.0</td>\n",
              "      <td>gram</td>\n",
              "      <td>cream/lotion/moisturizer</td>\n",
              "      <td>standard</td>\n",
              "    </tr>\n",
              "    <tr>\n",
              "      <th>2793</th>\n",
              "      <td>garnier pure active 3in1 clay wash scrub mask ...</td>\n",
              "      <td>8.3</td>\n",
              "      <td>treat your skin to the multi-tasking benefits ...</td>\n",
              "      <td>NaN</td>\n",
              "      <td>garnier</td>\n",
              "      <td>150.0</td>\n",
              "      <td>gram</td>\n",
              "      <td>cleanser</td>\n",
              "      <td>standard</td>\n",
              "    </tr>\n",
              "  </tbody>\n",
              "</table>\n",
              "<p>123 rows × 9 columns</p>\n",
              "</div>\n",
              "      <button class=\"colab-df-convert\" onclick=\"convertToInteractive('df-32685b6c-676c-420f-8dfc-924981ca2968')\"\n",
              "              title=\"Convert this dataframe to an interactive table.\"\n",
              "              style=\"display:none;\">\n",
              "        \n",
              "  <svg xmlns=\"http://www.w3.org/2000/svg\" height=\"24px\"viewBox=\"0 0 24 24\"\n",
              "       width=\"24px\">\n",
              "    <path d=\"M0 0h24v24H0V0z\" fill=\"none\"/>\n",
              "    <path d=\"M18.56 5.44l.94 2.06.94-2.06 2.06-.94-2.06-.94-.94-2.06-.94 2.06-2.06.94zm-11 1L8.5 8.5l.94-2.06 2.06-.94-2.06-.94L8.5 2.5l-.94 2.06-2.06.94zm10 10l.94 2.06.94-2.06 2.06-.94-2.06-.94-.94-2.06-.94 2.06-2.06.94z\"/><path d=\"M17.41 7.96l-1.37-1.37c-.4-.4-.92-.59-1.43-.59-.52 0-1.04.2-1.43.59L10.3 9.45l-7.72 7.72c-.78.78-.78 2.05 0 2.83L4 21.41c.39.39.9.59 1.41.59.51 0 1.02-.2 1.41-.59l7.78-7.78 2.81-2.81c.8-.78.8-2.07 0-2.86zM5.41 20L4 18.59l7.72-7.72 1.47 1.35L5.41 20z\"/>\n",
              "  </svg>\n",
              "      </button>\n",
              "      \n",
              "  <style>\n",
              "    .colab-df-container {\n",
              "      display:flex;\n",
              "      flex-wrap:wrap;\n",
              "      gap: 12px;\n",
              "    }\n",
              "\n",
              "    .colab-df-convert {\n",
              "      background-color: #E8F0FE;\n",
              "      border: none;\n",
              "      border-radius: 50%;\n",
              "      cursor: pointer;\n",
              "      display: none;\n",
              "      fill: #1967D2;\n",
              "      height: 32px;\n",
              "      padding: 0 0 0 0;\n",
              "      width: 32px;\n",
              "    }\n",
              "\n",
              "    .colab-df-convert:hover {\n",
              "      background-color: #E2EBFA;\n",
              "      box-shadow: 0px 1px 2px rgba(60, 64, 67, 0.3), 0px 1px 3px 1px rgba(60, 64, 67, 0.15);\n",
              "      fill: #174EA6;\n",
              "    }\n",
              "\n",
              "    [theme=dark] .colab-df-convert {\n",
              "      background-color: #3B4455;\n",
              "      fill: #D2E3FC;\n",
              "    }\n",
              "\n",
              "    [theme=dark] .colab-df-convert:hover {\n",
              "      background-color: #434B5C;\n",
              "      box-shadow: 0px 1px 3px 1px rgba(0, 0, 0, 0.15);\n",
              "      filter: drop-shadow(0px 1px 2px rgba(0, 0, 0, 0.3));\n",
              "      fill: #FFFFFF;\n",
              "    }\n",
              "  </style>\n",
              "\n",
              "      <script>\n",
              "        const buttonEl =\n",
              "          document.querySelector('#df-32685b6c-676c-420f-8dfc-924981ca2968 button.colab-df-convert');\n",
              "        buttonEl.style.display =\n",
              "          google.colab.kernel.accessAllowed ? 'block' : 'none';\n",
              "\n",
              "        async function convertToInteractive(key) {\n",
              "          const element = document.querySelector('#df-32685b6c-676c-420f-8dfc-924981ca2968');\n",
              "          const dataTable =\n",
              "            await google.colab.kernel.invokeFunction('convertToInteractive',\n",
              "                                                     [key], {});\n",
              "          if (!dataTable) return;\n",
              "\n",
              "          const docLinkHtml = 'Like what you see? Visit the ' +\n",
              "            '<a target=\"_blank\" href=https://colab.research.google.com/notebooks/data_table.ipynb>data table notebook</a>'\n",
              "            + ' to learn more about interactive tables.';\n",
              "          element.innerHTML = '';\n",
              "          dataTable['output_type'] = 'display_data';\n",
              "          await google.colab.output.renderOutput(dataTable, element);\n",
              "          const docLink = document.createElement('div');\n",
              "          docLink.innerHTML = docLinkHtml;\n",
              "          element.appendChild(docLink);\n",
              "        }\n",
              "      </script>\n",
              "    </div>\n",
              "  </div>\n",
              "  "
            ]
          },
          "metadata": {},
          "execution_count": 3
        }
      ],
      "source": [
        "df[df['ingredients'].isnull()]"
      ]
    },
    {
      "cell_type": "code",
      "source": [
        "df[\"ingredients\"].fillna(\"N/A\", inplace = True)"
      ],
      "metadata": {
        "id": "kcMxwv-wKT3e"
      },
      "execution_count": 4,
      "outputs": []
    },
    {
      "cell_type": "markdown",
      "source": [
        "#Exploratory Data Analysis"
      ],
      "metadata": {
        "id": "vVx97vFyNXhv"
      }
    },
    {
      "cell_type": "markdown",
      "source": [
        "- Relation between \"price\" and \"product_amount\""
      ],
      "metadata": {
        "id": "XLXaIgBJP4Do"
      }
    },
    {
      "cell_type": "code",
      "source": [
        "df_corr = df.corr()\n",
        "\n",
        "fig = go.Figure()\n",
        "fig.add_trace(\n",
        "    go.Heatmap(\n",
        "        x = df_corr.columns,\n",
        "        y = df_corr.index,\n",
        "        z = np.array(df_corr),\n",
        "        text=df_corr.values,\n",
        "        texttemplate='%{text:.2f}'\n",
        "    )\n",
        ")\n",
        "fig.show()"
      ],
      "metadata": {
        "colab": {
          "base_uri": "https://localhost:8080/",
          "height": 542
        },
        "id": "IbRdDXHbfV_j",
        "outputId": "354875f2-a536-4837-cca1-da3df3a2fd2f"
      },
      "execution_count": 5,
      "outputs": [
        {
          "output_type": "display_data",
          "data": {
            "text/html": [
              "<html>\n",
              "<head><meta charset=\"utf-8\" /></head>\n",
              "<body>\n",
              "    <div>            <script src=\"https://cdnjs.cloudflare.com/ajax/libs/mathjax/2.7.5/MathJax.js?config=TeX-AMS-MML_SVG\"></script><script type=\"text/javascript\">if (window.MathJax) {MathJax.Hub.Config({SVG: {font: \"STIX-Web\"}});}</script>                <script type=\"text/javascript\">window.PlotlyConfig = {MathJaxConfig: 'local'};</script>\n",
              "        <script src=\"https://cdn.plot.ly/plotly-2.8.3.min.js\"></script>                <div id=\"8a3ef813-9488-404a-bcd3-c8a7b4288f7c\" class=\"plotly-graph-div\" style=\"height:525px; width:100%;\"></div>            <script type=\"text/javascript\">                                    window.PLOTLYENV=window.PLOTLYENV || {};                                    if (document.getElementById(\"8a3ef813-9488-404a-bcd3-c8a7b4288f7c\")) {                    Plotly.newPlot(                        \"8a3ef813-9488-404a-bcd3-c8a7b4288f7c\",                        [{\"text\":[[1.0,-0.08749492636551716],[-0.08749492636551716,1.0]],\"texttemplate\":\"%{text:.2f}\",\"x\":[\"price\",\"product_amount\"],\"y\":[\"price\",\"product_amount\"],\"z\":[[1.0,-0.08749492636551716],[-0.08749492636551716,1.0]],\"type\":\"heatmap\"}],                        {\"template\":{\"data\":{\"bar\":[{\"error_x\":{\"color\":\"#2a3f5f\"},\"error_y\":{\"color\":\"#2a3f5f\"},\"marker\":{\"line\":{\"color\":\"#E5ECF6\",\"width\":0.5},\"pattern\":{\"fillmode\":\"overlay\",\"size\":10,\"solidity\":0.2}},\"type\":\"bar\"}],\"barpolar\":[{\"marker\":{\"line\":{\"color\":\"#E5ECF6\",\"width\":0.5},\"pattern\":{\"fillmode\":\"overlay\",\"size\":10,\"solidity\":0.2}},\"type\":\"barpolar\"}],\"carpet\":[{\"aaxis\":{\"endlinecolor\":\"#2a3f5f\",\"gridcolor\":\"white\",\"linecolor\":\"white\",\"minorgridcolor\":\"white\",\"startlinecolor\":\"#2a3f5f\"},\"baxis\":{\"endlinecolor\":\"#2a3f5f\",\"gridcolor\":\"white\",\"linecolor\":\"white\",\"minorgridcolor\":\"white\",\"startlinecolor\":\"#2a3f5f\"},\"type\":\"carpet\"}],\"choropleth\":[{\"colorbar\":{\"outlinewidth\":0,\"ticks\":\"\"},\"type\":\"choropleth\"}],\"contour\":[{\"colorbar\":{\"outlinewidth\":0,\"ticks\":\"\"},\"colorscale\":[[0.0,\"#0d0887\"],[0.1111111111111111,\"#46039f\"],[0.2222222222222222,\"#7201a8\"],[0.3333333333333333,\"#9c179e\"],[0.4444444444444444,\"#bd3786\"],[0.5555555555555556,\"#d8576b\"],[0.6666666666666666,\"#ed7953\"],[0.7777777777777778,\"#fb9f3a\"],[0.8888888888888888,\"#fdca26\"],[1.0,\"#f0f921\"]],\"type\":\"contour\"}],\"contourcarpet\":[{\"colorbar\":{\"outlinewidth\":0,\"ticks\":\"\"},\"type\":\"contourcarpet\"}],\"heatmap\":[{\"colorbar\":{\"outlinewidth\":0,\"ticks\":\"\"},\"colorscale\":[[0.0,\"#0d0887\"],[0.1111111111111111,\"#46039f\"],[0.2222222222222222,\"#7201a8\"],[0.3333333333333333,\"#9c179e\"],[0.4444444444444444,\"#bd3786\"],[0.5555555555555556,\"#d8576b\"],[0.6666666666666666,\"#ed7953\"],[0.7777777777777778,\"#fb9f3a\"],[0.8888888888888888,\"#fdca26\"],[1.0,\"#f0f921\"]],\"type\":\"heatmap\"}],\"heatmapgl\":[{\"colorbar\":{\"outlinewidth\":0,\"ticks\":\"\"},\"colorscale\":[[0.0,\"#0d0887\"],[0.1111111111111111,\"#46039f\"],[0.2222222222222222,\"#7201a8\"],[0.3333333333333333,\"#9c179e\"],[0.4444444444444444,\"#bd3786\"],[0.5555555555555556,\"#d8576b\"],[0.6666666666666666,\"#ed7953\"],[0.7777777777777778,\"#fb9f3a\"],[0.8888888888888888,\"#fdca26\"],[1.0,\"#f0f921\"]],\"type\":\"heatmapgl\"}],\"histogram\":[{\"marker\":{\"pattern\":{\"fillmode\":\"overlay\",\"size\":10,\"solidity\":0.2}},\"type\":\"histogram\"}],\"histogram2d\":[{\"colorbar\":{\"outlinewidth\":0,\"ticks\":\"\"},\"colorscale\":[[0.0,\"#0d0887\"],[0.1111111111111111,\"#46039f\"],[0.2222222222222222,\"#7201a8\"],[0.3333333333333333,\"#9c179e\"],[0.4444444444444444,\"#bd3786\"],[0.5555555555555556,\"#d8576b\"],[0.6666666666666666,\"#ed7953\"],[0.7777777777777778,\"#fb9f3a\"],[0.8888888888888888,\"#fdca26\"],[1.0,\"#f0f921\"]],\"type\":\"histogram2d\"}],\"histogram2dcontour\":[{\"colorbar\":{\"outlinewidth\":0,\"ticks\":\"\"},\"colorscale\":[[0.0,\"#0d0887\"],[0.1111111111111111,\"#46039f\"],[0.2222222222222222,\"#7201a8\"],[0.3333333333333333,\"#9c179e\"],[0.4444444444444444,\"#bd3786\"],[0.5555555555555556,\"#d8576b\"],[0.6666666666666666,\"#ed7953\"],[0.7777777777777778,\"#fb9f3a\"],[0.8888888888888888,\"#fdca26\"],[1.0,\"#f0f921\"]],\"type\":\"histogram2dcontour\"}],\"mesh3d\":[{\"colorbar\":{\"outlinewidth\":0,\"ticks\":\"\"},\"type\":\"mesh3d\"}],\"parcoords\":[{\"line\":{\"colorbar\":{\"outlinewidth\":0,\"ticks\":\"\"}},\"type\":\"parcoords\"}],\"pie\":[{\"automargin\":true,\"type\":\"pie\"}],\"scatter\":[{\"marker\":{\"colorbar\":{\"outlinewidth\":0,\"ticks\":\"\"}},\"type\":\"scatter\"}],\"scatter3d\":[{\"line\":{\"colorbar\":{\"outlinewidth\":0,\"ticks\":\"\"}},\"marker\":{\"colorbar\":{\"outlinewidth\":0,\"ticks\":\"\"}},\"type\":\"scatter3d\"}],\"scattercarpet\":[{\"marker\":{\"colorbar\":{\"outlinewidth\":0,\"ticks\":\"\"}},\"type\":\"scattercarpet\"}],\"scattergeo\":[{\"marker\":{\"colorbar\":{\"outlinewidth\":0,\"ticks\":\"\"}},\"type\":\"scattergeo\"}],\"scattergl\":[{\"marker\":{\"colorbar\":{\"outlinewidth\":0,\"ticks\":\"\"}},\"type\":\"scattergl\"}],\"scattermapbox\":[{\"marker\":{\"colorbar\":{\"outlinewidth\":0,\"ticks\":\"\"}},\"type\":\"scattermapbox\"}],\"scatterpolar\":[{\"marker\":{\"colorbar\":{\"outlinewidth\":0,\"ticks\":\"\"}},\"type\":\"scatterpolar\"}],\"scatterpolargl\":[{\"marker\":{\"colorbar\":{\"outlinewidth\":0,\"ticks\":\"\"}},\"type\":\"scatterpolargl\"}],\"scatterternary\":[{\"marker\":{\"colorbar\":{\"outlinewidth\":0,\"ticks\":\"\"}},\"type\":\"scatterternary\"}],\"surface\":[{\"colorbar\":{\"outlinewidth\":0,\"ticks\":\"\"},\"colorscale\":[[0.0,\"#0d0887\"],[0.1111111111111111,\"#46039f\"],[0.2222222222222222,\"#7201a8\"],[0.3333333333333333,\"#9c179e\"],[0.4444444444444444,\"#bd3786\"],[0.5555555555555556,\"#d8576b\"],[0.6666666666666666,\"#ed7953\"],[0.7777777777777778,\"#fb9f3a\"],[0.8888888888888888,\"#fdca26\"],[1.0,\"#f0f921\"]],\"type\":\"surface\"}],\"table\":[{\"cells\":{\"fill\":{\"color\":\"#EBF0F8\"},\"line\":{\"color\":\"white\"}},\"header\":{\"fill\":{\"color\":\"#C8D4E3\"},\"line\":{\"color\":\"white\"}},\"type\":\"table\"}]},\"layout\":{\"annotationdefaults\":{\"arrowcolor\":\"#2a3f5f\",\"arrowhead\":0,\"arrowwidth\":1},\"autotypenumbers\":\"strict\",\"coloraxis\":{\"colorbar\":{\"outlinewidth\":0,\"ticks\":\"\"}},\"colorscale\":{\"diverging\":[[0,\"#8e0152\"],[0.1,\"#c51b7d\"],[0.2,\"#de77ae\"],[0.3,\"#f1b6da\"],[0.4,\"#fde0ef\"],[0.5,\"#f7f7f7\"],[0.6,\"#e6f5d0\"],[0.7,\"#b8e186\"],[0.8,\"#7fbc41\"],[0.9,\"#4d9221\"],[1,\"#276419\"]],\"sequential\":[[0.0,\"#0d0887\"],[0.1111111111111111,\"#46039f\"],[0.2222222222222222,\"#7201a8\"],[0.3333333333333333,\"#9c179e\"],[0.4444444444444444,\"#bd3786\"],[0.5555555555555556,\"#d8576b\"],[0.6666666666666666,\"#ed7953\"],[0.7777777777777778,\"#fb9f3a\"],[0.8888888888888888,\"#fdca26\"],[1.0,\"#f0f921\"]],\"sequentialminus\":[[0.0,\"#0d0887\"],[0.1111111111111111,\"#46039f\"],[0.2222222222222222,\"#7201a8\"],[0.3333333333333333,\"#9c179e\"],[0.4444444444444444,\"#bd3786\"],[0.5555555555555556,\"#d8576b\"],[0.6666666666666666,\"#ed7953\"],[0.7777777777777778,\"#fb9f3a\"],[0.8888888888888888,\"#fdca26\"],[1.0,\"#f0f921\"]]},\"colorway\":[\"#636efa\",\"#EF553B\",\"#00cc96\",\"#ab63fa\",\"#FFA15A\",\"#19d3f3\",\"#FF6692\",\"#B6E880\",\"#FF97FF\",\"#FECB52\"],\"font\":{\"color\":\"#2a3f5f\"},\"geo\":{\"bgcolor\":\"white\",\"lakecolor\":\"white\",\"landcolor\":\"#E5ECF6\",\"showlakes\":true,\"showland\":true,\"subunitcolor\":\"white\"},\"hoverlabel\":{\"align\":\"left\"},\"hovermode\":\"closest\",\"mapbox\":{\"style\":\"light\"},\"paper_bgcolor\":\"white\",\"plot_bgcolor\":\"#E5ECF6\",\"polar\":{\"angularaxis\":{\"gridcolor\":\"white\",\"linecolor\":\"white\",\"ticks\":\"\"},\"bgcolor\":\"#E5ECF6\",\"radialaxis\":{\"gridcolor\":\"white\",\"linecolor\":\"white\",\"ticks\":\"\"}},\"scene\":{\"xaxis\":{\"backgroundcolor\":\"#E5ECF6\",\"gridcolor\":\"white\",\"gridwidth\":2,\"linecolor\":\"white\",\"showbackground\":true,\"ticks\":\"\",\"zerolinecolor\":\"white\"},\"yaxis\":{\"backgroundcolor\":\"#E5ECF6\",\"gridcolor\":\"white\",\"gridwidth\":2,\"linecolor\":\"white\",\"showbackground\":true,\"ticks\":\"\",\"zerolinecolor\":\"white\"},\"zaxis\":{\"backgroundcolor\":\"#E5ECF6\",\"gridcolor\":\"white\",\"gridwidth\":2,\"linecolor\":\"white\",\"showbackground\":true,\"ticks\":\"\",\"zerolinecolor\":\"white\"}},\"shapedefaults\":{\"line\":{\"color\":\"#2a3f5f\"}},\"ternary\":{\"aaxis\":{\"gridcolor\":\"white\",\"linecolor\":\"white\",\"ticks\":\"\"},\"baxis\":{\"gridcolor\":\"white\",\"linecolor\":\"white\",\"ticks\":\"\"},\"bgcolor\":\"#E5ECF6\",\"caxis\":{\"gridcolor\":\"white\",\"linecolor\":\"white\",\"ticks\":\"\"}},\"title\":{\"x\":0.05},\"xaxis\":{\"automargin\":true,\"gridcolor\":\"white\",\"linecolor\":\"white\",\"ticks\":\"\",\"title\":{\"standoff\":15},\"zerolinecolor\":\"white\",\"zerolinewidth\":2},\"yaxis\":{\"automargin\":true,\"gridcolor\":\"white\",\"linecolor\":\"white\",\"ticks\":\"\",\"title\":{\"standoff\":15},\"zerolinecolor\":\"white\",\"zerolinewidth\":2}}}},                        {\"responsive\": true}                    ).then(function(){\n",
              "                            \n",
              "var gd = document.getElementById('8a3ef813-9488-404a-bcd3-c8a7b4288f7c');\n",
              "var x = new MutationObserver(function (mutations, observer) {{\n",
              "        var display = window.getComputedStyle(gd).display;\n",
              "        if (!display || display === 'none') {{\n",
              "            console.log([gd, 'removed!']);\n",
              "            Plotly.purge(gd);\n",
              "            observer.disconnect();\n",
              "        }}\n",
              "}});\n",
              "\n",
              "// Listen for the removal of the full notebook cells\n",
              "var notebookContainer = gd.closest('#notebook-container');\n",
              "if (notebookContainer) {{\n",
              "    x.observe(notebookContainer, {childList: true});\n",
              "}}\n",
              "\n",
              "// Listen for the clearing of the current output cell\n",
              "var outputEl = gd.closest('.output');\n",
              "if (outputEl) {{\n",
              "    x.observe(outputEl, {childList: true});\n",
              "}}\n",
              "\n",
              "                        })                };                            </script>        </div>\n",
              "</body>\n",
              "</html>"
            ]
          },
          "metadata": {}
        }
      ]
    },
    {
      "cell_type": "code",
      "source": [
        "fig = px.scatter(df, x=\"product_amount\", y=\"price\",title=\"Correlation Between Price & Product Amount \")\n",
        "fig.show()"
      ],
      "metadata": {
        "colab": {
          "base_uri": "https://localhost:8080/",
          "height": 542
        },
        "id": "WX12HC0mnQX3",
        "outputId": "2a671c70-617e-4791-8a71-4e46931bac01"
      },
      "execution_count": 6,
      "outputs": [
        {
          "output_type": "display_data",
          "data": {
            "text/html": [
              "<html>\n",
              "<head><meta charset=\"utf-8\" /></head>\n",
              "<body>\n",
              "    <div>            <script src=\"https://cdnjs.cloudflare.com/ajax/libs/mathjax/2.7.5/MathJax.js?config=TeX-AMS-MML_SVG\"></script><script type=\"text/javascript\">if (window.MathJax) {MathJax.Hub.Config({SVG: {font: \"STIX-Web\"}});}</script>                <script type=\"text/javascript\">window.PlotlyConfig = {MathJaxConfig: 'local'};</script>\n",
              "        <script src=\"https://cdn.plot.ly/plotly-2.8.3.min.js\"></script>                <div id=\"7c41a817-4e13-44f8-87f7-37b5b0f78aa9\" class=\"plotly-graph-div\" style=\"height:525px; width:100%;\"></div>            <script type=\"text/javascript\">                                    window.PLOTLYENV=window.PLOTLYENV || {};                                    if (document.getElementById(\"7c41a817-4e13-44f8-87f7-37b5b0f78aa9\")) {                    Plotly.newPlot(                        \"7c41a817-4e13-44f8-87f7-37b5b0f78aa9\",                        [{\"hovertemplate\":\"product_amount=%{x}<br>price=%{y}<extra></extra>\",\"legendgroup\":\"\",\"marker\":{\"color\":\"#636efa\",\"symbol\":\"circle\"},\"mode\":\"markers\",\"name\":\"\",\"showlegend\":false,\"x\":[59.15,50.0,30.0,198.14,50.0,70.87,75.0,40.0,50.0,30.0,50.0,8.5,60.0,189.94,48.19,30.0,150.0,15.0,30.0,50.27,30.0,50.0,90.0,30.0,60.0,125.0,50.0,48.19,130.0,28.35,100.0,15.0,15.0,28.35,25.0,59.15,6.5,30.0,44.36,30.0,30.0,100.0,237.0,50.0,100.0,15.0,15.0,150.0,100.0,200.0,30.0,1.98,50.0,0.05,180.0,15.0,30.0,150.0,113.4,180.0,75.0,30.0,75.0,15.0,50.0,150.0,18.99,50.0,75.0,50.0,100.55,200.0,30.0,30.0,99.96,53.0,50.0,14.79,15.0,125.0,11.83,60.0,50.0,29.57,100.0,50.0,30.0,49.98,28.35,56.7,150.0,200.0,28.35,30.0,56.7,237.0,50.0,150.0,130.0,493.88,40.0,40.0,128.0,30.0,30.0,150.0,100.0,200.0,120.0,10.0,60.0,200.0,30.0,50.0,125.0,50.0,50.0,30.0,48.19,119.07,159.7,198.14,30.0,15.0,200.0,30.0,141.75,50.0,50.0,30.0,5.0,15.08,36.85,150.0,30.0,100.0,15.0,50.0,100.0,118.29,50.0,30.0,50.0,50.0,10.0,75.0,50.0,30.0,47.91,73.0,30.0,150.0,14.17,39.33,50.0,48.0,75.0,11.3,49.98,80.0,15.0,50.27,200.0,100.0,125.0,50.0,15.08,75.0,50.0,15.0,30.0,10.0,30.0,225.0,50.0,50.0,45.36,300.0,4.25,50.0,50.0,109.42,20.0,50.0,50.0,30.0,30.0,15.0,150.0,100.0,10.0,120.0,30.0,50.0,200.0,141.75,10.0,100.0,50.0,14.79,50.0,50.0,90.0,50.0,28.35,50.0,50.0,20.0,25.0,50.0,30.0,60.0,30.0,50.27,50.0,16.0,13.0,50.0,15.0,49.98,30.0,50.0,100.0,47.91,30.0,59.0,70.0,30.0,149.0,75.0,125.0,50.0,75.0,115.1,130.0,50.0,32.0,200.0,49.9,30.0,30.0,30.0,200.0,74.0,49.98,29.57,50.0,68.04,23.0,177.44,28.35,15.0,15.0,400.0,57.0,9.0,120.0,15.0,10.0,50.0,50.0,20.0,120.0,20.0,15.0,50.0,10.0,20.0,75.0,8.5,75.0,149.94,50.0,48.19,100.0,236.0,30.0,40.0,10.0,200.0,15.0,82.21,30.0,48.19,90.0,60.0,60.0,15.0,17.01,30.0,50.0,10.0,100.0,30.0,49.98,29.57,120.0,30.0,50.0,100.0,10.0,15.0,200.0,28.35,50.0,5.0,200.0,50.0,150.0,30.0,73.71,30.0,60.0,35.0,15.0,200.0,30.0,94.0,28.35,50.0,50.0,120.0,118.29,14.0,30.0,60.0,28.0,50.0,118.29,28.35,30.0,50.0,150.0,30.0,30.0,39.92,52.0,50.0,150.0,88.0,30.0,15.0,400.0,200.0,14.46,50.0,50.0,75.0,50.0,147.87,30.0,201.1,50.0,50.0,50.0,60.0,30.0,9.0,49.98,15.0,60.0,50.0,95.0,100.0,60.0,100.0,30.0,85.05,22.0,380.0,40.0,30.0,30.0,30.0,125.0,200.0,300.0,150.0,150.0,30.0,82.81,198.45,177.0,30.0,250.0,30.0,200.0,30.0,28.35,60.0,30.0,200.0,354.88,56.7,190.0,49.98,300.0,15.0,4.44,22.0,50.27,75.0,98.48,30.0,192.78,493.88,40.0,125.0,25.0,200.0,30.0,50.0,150.0,39.33,30.0,41.4,200.0,100.0,30.0,19.28,500.0,35.0,50.0,49.98,40.0,150.0,19.84,14.17,59.15,28.35,60.0,48.0,59.0,28.35,200.0,130.0,59.15,100.0,28.0,200.0,100.0,4.0,48.0,29.57,105.0,48.19,12.5,20.0,60.0,141.75,56.7,28.63,150.0,503.0,9.92,100.0,3.2,100.0,28.35,50.0,50.0,48.19,24.95,30.0,200.0,15.0,189.94,50.0,25.0,100.0,175.0,10.0,10.0,50.0,30.0,50.0,125.0,50.0,647.99,34.9,30.0,100.0,80.0,30.0,30.0,30.0,28.35,40.0,30.0,34.9,50.0,50.0,200.0,100.0,200.0,30.0,40.0,177.44,50.0,400.0,148.0,100.0,200.0,15.0,50.0,199.62,30.0,73.93,30.0,15.0,15.0,14.0,30.0,40.0,10.0,45.36,60.0,192.78,150.0,30.0,198.14,100.0,30.0,180.0,100.0,50.0,100.0,56.7,125.0,100.55,30.0,100.0,4.5,100.0,28.0,150.0,15.0,50.27,30.0,50.0,100.0,6.0,30.0,28.35,10.0,120.0,48.19,30.0,50.0,180.0,100.0,75.0,30.0,4.25,147.87,50.0,100.0,100.0,50.0,200.0,9.0,30.0,30.0,400.0,1.7,30.0,30.0,15.0,75.0,30.0,42.52,29.57,197.26,30.0,59.15,49.98,47.32,50.0,50.0,30.0,28.0,50.0,50.0,50.0,50.0,200.0,647.99,26.0,59.0,28.0,200.0,125.0,100.0,30.0,30.0,15.0,30.0,28.35,15.0,50.0,48.19,163.0,50.0,15.0,29.57,30.0,104.39,65.0,20.0,15.0,75.0,453.59,40.0,100.0,141.75,50.0,15.0,48.0,30.0,50.0,170.0,30.0,60.0,88.72,56.7,40.0,50.0,28.63,240.97,50.0,15.0,15.0,100.0,35.0,97.59,28.35,59.15,125.0,30.0,50.0,15.0,15.0,200.0,50.0,15.0,120.0,120.0,50.0,55.01,120.0,192.78,50.0,1.77,50.0,30.0,50.0,50.0,50.0,100.0,133.08,50.0,30.0,29.57,50.0,50.0,30.0,60.0,50.27,44.36,15.0,177.44,14.79,140.0,70.87,14.46,50.0,75.0,50.0,55.0,200.0,15.0,150.0,200.0,40.0,40.0,50.0,30.0,60.0,30.0,50.0,50.0,251.0,40.0,55.0,15.0,28.35,30.0,150.0,3.3,40.0,30.0,50.0,55.0,30.0,11.0,8.0,25.0,15.0,50.0,10.0,48.19,15.0,15.0,48.0,50.0,30.0,30.0,25.0,7.0,30.0,15.0,150.0,50.0,60.0,14.17,30.0,50.0,50.0,311.84,150.0,22.77,15.0,125.0,50.27,75.0,30.0,48.19,20.0,40.0,130.0,48.19,30.0,15.0,50.0,100.0,30.0,20.0,100.0,125.0,30.0,50.0,30.0,50.0,29.57,170.0,50.0,43.0,30.0,50.0,30.0,15.0,150.0,100.55,30.0,30.0,50.0,75.0,200.0,14.79,15.0,15.0,150.0,100.0,59.0,59.0,47.32,19.84,125.0,103.0,30.0,499.79,15.0,75.0,236.59,400.0,50.0,300.0,50.27,28.0,50.0,15.0,5.0,189.94,56.7,8.0,120.0,14.79,25.0,74.0,100.0,14.79,75.0,85.05,400.0,50.0,50.0,150.0,120.0,109.42,115.1,60.03,30.0,200.0,50.0,30.0,28.35,141.75,30.0,29.87,15.88,49.98,34.0,20.0,15.0,100.0,15.0,30.0,300.0,20.0,30.0,40.0,50.0,130.0,125.0,200.0,50.0,100.55,125.0,50.27,100.0,15.0,49.98,60.0,26.02,30.0,28.0,125.0,30.0,30.0,100.0,2.35,200.0,16.0,25.0,15.0,8.87,51.03,15.0,48.19,199.62,177.44,31.0,150.0,150.0,15.0,5.0,500.0,100.0,30.0,25.0,48.0,73.93,59.15,35.0,50.0,250.0,40.0,170.1,40.0,195.0,55.0,100.0,25.0,28.35,38.45,15.0,100.0,100.0,30.0,180.0,50.0,150.0,15.0,30.0,200.0,50.0,29.57,100.0,30.0,100.0,20.0,30.0,15.0,150.0,99.22,28.0,10.05,100.0,100.0,125.0,30.0,88.72,49.98,200.0,30.33,148.0,28.35,30.0,15.0,572.89,50.0,50.0,50.27,100.0,20.0,50.0,189.94,50.0,50.0,30.0,50.0,28.35,29.57,55.0,28.35,50.0,15.0,25.0,15.0,150.0,75.0,50.0,50.0,250.0,25.0,198.14,40.0,30.0,200.0,25.0,50.0,30.0,50.0,125.0,30.0,15.0,30.0,1.1,177.44,30.0,39.33,30.0,15.0,2.0,30.0,30.0,14.79,150.0,100.0,15.0,50.0,30.0,30.0,170.0,30.0,19.0,15.0,30.0,50.0,113.4,49.98,4.25,200.0,150.0,50.0,10.05,100.0,50.0,50.0,30.0,75.0,50.0,189.94,28.35,59.15,14.17,15.0,120.0,150.0,49.98,99.22,50.0,50.0,30.0,125.0,29.57,198.14,50.0,144.58,15.0,30.0,28.35,200.0,15.0,50.0,60.0,28.35,31.0,40.0,40.0,75.0,50.0,50.0,70.87,200.0,60.0,14.0,6.52,29.57,59.15,25.0,200.0,100.0,198.45,700.0,100.0,15.0,200.0,15.0,30.0,15.0,125.0,0.6,17.01,50.0,40.0,40.0,50.0,68.04,75.0,453.0,49.98,28.63,100.0,30.0,30.0,50.0,55.0,50.0,60.0,50.0,60.0,30.0,75.0,95.0,200.0,200.0,100.0,50.0,9.0,68.04,29.57,15.0,85.05,40.0,120.0,30.0,14.0,200.0,30.0,50.0,139.0,50.0,30.0,15.0,15.0,25.0,40.0,30.0,12.76,100.0,200.0,200.0,30.0,50.0,150.0,30.0,15.0,50.27,56.7,30.0,250.0,60.0,50.0,40.0,100.0,50.0,100.0,50.0,130.0,75.0,100.0,30.0,14.0,30.0,150.0,120.0,60.0,30.0,30.0,33.17,100.0,50.0,50.0,30.0,125.0,80.0,100.0,23.36,125.0,499.79,177.0,15.0,30.0,30.0,22.0,150.0,29.57,113.4,75.0,28.0,30.0,200.0,23.81,28.3,40.0,7.98,100.0,113.4,180.0,50.0,120.0,50.0,28.63,45.0,100.0,33.17,15.0,20.0,29.87,0.15,150.0,50.0,295.0,50.0,50.0,50.0,120.0,200.0,50.0,300.0,75.0,56.7,56.7,29.57,75.0,200.0,50.0,100.0,30.0,200.0,400.0,50.0,453.59,200.0,15.0,47.32,15.0,15.0,40.0,50.0,30.0,150.0,15.0,38.45,39.92,50.0,198.45,50.0,50.0,180.0,30.0,500.0,42.52,236.0,30.0,20.11,75.0,50.0,30.0,15.0,40.0,75.0,14.17,16.0,8.87,30.0,30.0,40.0,50.0,100.0,15.0,272.16,50.0,10.0,200.0,59.15,49.98,113.4,14.17,25.0,30.0,120.0,209.97,400.0,50.0,113.4,60.0,30.0,59.0,80.0,14.79,120.0,2.96,100.0,30.0,28.35,120.0,56.7,30.0,30.0,150.0,15.0,50.0,35.0,5.0,90.0,100.0,125.0,100.0,40.0,30.0,199.62,30.0,3.3,70.0,150.0,2.0,100.0,38.45,48.19,6.0,100.0,50.0,7.5,49.98,50.0,94.64,48.19,30.0,180.0,125.0,34.02,150.0,40.0,50.0,4.25,9.92,987.75,48.0,50.0,15.0,28.35,15.0,30.0,29.57,180.0,93.55,50.0,8.0,56.7,75.0,50.0,200.0,200.0,29.57,150.0,30.0,35.0,40.0,48.19,30.0,33.17,15.0,25.0,29.57,15.0,30.0,50.0,30.0,100.0,19.28,14.79,50.0,50.0,56.7,59.0,30.0,200.0,29.87,200.0,45.36,100.0,30.0,15.0,150.0,50.0,30.0,50.0,15.0,29.57,50.0,50.0,96.39,100.0,200.0,50.0,8.4,40.0,100.0,120.0,30.0,75.0,50.0,75.0,15.0,50.0,28.35,30.0,30.0,10.0,34.6,15.0,30.0,19.84,125.0,150.0,8.5,240.0,50.0,150.0,236.59,647.99,30.0,30.0,100.0,50.0,15.0,25.0,246.35,35.0,30.0,118.0,75.12,150.0,15.0,14.79,48.19,30.0,50.0,30.0,30.0,48.19,50.0,30.0,57.0,30.0,30.0,30.0,15.0,150.0,25.0,50.0,120.0,59.15,48.19,5.67,15.0,30.0,5.0,200.0,150.0,200.0,0.15,49.98,15.0,30.0,60.0,40.0,79.85,100.0,155.0,139.0,50.0,75.0,48.19,50.0,8.0,30.0,15.0,6.0,50.0,85.0,17.01,150.0,200.0,105.0,60.0,50.0,28.35,125.0,30.0,73.71,100.0,19.84,30.0,139.0,60.0,10.05,30.0,114.82,48.19,28.35,9.3,4.3,4.25,33.17,100.0,100.0,50.0,120.0,20.0,15.0,50.0,30.0,50.0,198.14,200.0,198.14,300.0,113.4,30.0,300.0,4.0,30.0,200.0,50.0,75.0,10.0,150.0,400.0,40.0,100.0,75.0,200.0,150.0,6.8,30.0,50.27,120.0,11.34,30.0,50.0,30.0,30.0,28.0,50.0,29.57,150.0,99.22,28.35,150.0,50.0,30.0,200.0,60.0,45.0,30.0,50.27,14.79,50.0,50.0,30.0,30.0,29.57,14.17,15.0,125.0,180.0,7.0,50.0,10.0,199.62,30.0,15.0,30.0,100.0,15.0,50.0,75.0,31.05,88.0,28.0,100.0,50.0,50.0,60.0,100.0,41.4,2.0,50.0,50.0,50.0,15.0,33.17,198.45,15.0,113.4,124.74,29.87,50.0,49.98,4.14,29.87,15.0,38.45,100.0,50.0,30.0,14.79,40.0,45.0,60.0,236.0,15.0,150.0,48.19,50.27,120.0,50.0,50.0,238.14,48.19,14.79,28.35,28.35,40.0,12.0,15.0,14.0,50.0,150.0,150.0,20.0,107.73,50.0,0.15,120.0,30.0,50.0,201.1,3.0,50.0,201.1,50.0,15.0,50.0,85.0,8.87,100.0,100.0,15.0,200.0,236.0,59.15,50.0,118.29,12.0,73.93,50.0,48.0,30.0,30.0,8.0,100.0,30.0,141.75,50.27,50.0,75.12,29.57,100.0,94.0,30.0,30.0,50.0,30.0,125.0,16.0,105.0,195.0,14.8,50.0,147.0,50.0,200.0,30.0,29.57,50.27,500.0,100.0,15.0,47.91,50.0,99.96,60.0,90.0,90.0,29.87,120.0,28.35,15.0,50.0,100.0,15.0,50.0,15.0,200.0,147.87,30.0,14.79,200.0,125.0,15.0,28.35,75.0,100.0,75.0,30.0,30.0,50.0,198.14,14.79,48.19,100.0,250.0,14.79,60.0,30.0,120.0,116.23,19.84,35.0,150.0,35.0,15.0,22.0,25.0,150.0,50.0,49.98,250.0,30.0,250.0,125.0,30.0,50.0,30.0,30.0,18.0,15.0,150.0,18.0,100.0,30.0,25.0,30.0,50.0,120.0,30.0,249.9,100.0,50.0,56.7,192.78,200.0,39.92,30.0,14.79,30.0,30.0,56.7,50.0,25.0,30.0,15.0,177.44,150.0,6.8,30.0,85.05,50.0,30.0,48.19,31.0,73.93,48.0,200.0,80.0,28.0,50.0,96.39,50.0,14.79,30.0,150.0,125.0,30.0,15.0,100.0,40.0,30.0,30.0,100.0,30.0,15.0,50.27,236.0,50.0,50.0,28.35,30.0,50.0,50.0,17.01,29.57,59.15,141.75,89.0,99.96,29.57,30.0,55.0,200.0,30.0,15.0,15.0,150.0,14.0,150.0,30.0,50.0,29.57,30.0,56.7,48.19,260.0,28.35,70.87,50.27,56.7,50.0,453.59,50.27,25.0,15.0,200.0,100.0,50.0,29.87,28.0,86.0,272.16,15.0,62.5,50.0,15.0,29.57,59.15,30.0,15.0,30.0,75.0,100.0,100.0,300.0,17.01,180.0,100.0,75.0,50.0,45.0,113.4,14.79,50.0,75.0,29.57,60.0,50.0,150.0,50.0,55.0,30.0,28.0,150.0,40.0,3.0,97.59,75.0,50.0,30.0,30.0,15.0,200.0,200.0,50.0,28.35,200.0,30.0,150.0,150.0,30.0,50.0,200.0,15.0,48.0,30.0,60.0,93.55,30.0,50.0,15.0,59.15,30.0,50.0,28.35,100.0,50.0,50.0,30.0,15.0,96.39,30.0,80.0,150.0,8.0,50.0,25.51,48.19,75.0,30.0,30.0,237.0,55.0,26.0,25.51,50.0,30.0,30.0,55.0,75.0,10.0,30.0,226.8,200.0,50.0,15.0,50.0,59.15,48.0,30.0,30.0,150.0,50.0,30.0,15.0,200.0,50.0,30.0,36.85,14.17,50.0,50.0,30.0,28.35,50.0,150.0,10.0,48.19,75.0,175.0,198.0,75.0,15.0,150.0,30.0,100.0,50.0,40.0,400.0,15.0,4.0,15.0,14.17,30.0,30.0,150.0,14.79,39.69,56.7,50.0,28.4,32.0,50.0,135.0,59.15,75.0,15.0,6.0,50.0,30.0,40.52,100.0,30.0,80.0,50.0,14.17,100.0,150.0,59.15,400.0,50.0,50.0,120.0,4.25,90.0,48.19,26.0,75.12,60.0,25.0,100.0,51.03,15.0,115.1,30.0,50.0,50.0,40.0,30.0,19.81,65.77,48.19,15.0,30.0,10.0,50.0,52.05,3.0,100.0,9.0,150.0,150.0,325.0,50.0,72.01,75.0,60.0,30.0,60.0,60.0,50.0,13.0,201.1,48.19,125.0,125.0,14.17,100.0,29.57,73.64,40.0,50.0,39.92,160.0,200.0,480.0,15.0,28.35,100.0,80.0,9.0,15.0,30.0,10.0,30.0,141.75,19.84,200.0,200.0,4.25,15.0,140.0,15.0,18.0,50.0,20.0,30.0,50.0,49.98,50.27,30.0,25.0,50.0,50.0,50.0,7.09,30.0,30.0,10.0,30.0,50.27,40.0,50.0,0.15,50.0,34.02,100.0,50.0,30.0,125.0,90.0,15.0,15.0,50.0,80.0,50.0,15.0,14.17,45.0,15.0,40.0,20.0,50.0,50.0,50.0,30.0,50.27,29.57,30.0,29.0,60.0,50.0,150.0,65.77,50.0,60.0,50.0,15.0,50.0,30.0,30.0,100.55,50.0,48.19,50.0,49.98,400.0,200.0,75.0,150.0,20.0,48.19,90.72,147.87,150.0,120.0,400.0,3.7,30.0,28.35,29.57,34.9,30.0,150.0,180.0,29.57,25.0,15.0,50.0,29.57,15.0,50.27,30.0,75.0,48.19,49.39,56.7,300.0,50.0,141.75,40.0,59.15,200.0,60.0,120.0,25.0,56.7,5.0,59.0,39.33,5.1,28.35,90.0,4.0,14.17,35.0,50.0,1.98,10.0,30.0,50.0,55.0,149.94,50.0,50.0,20.0,30.0,200.0,39.92,98.48,28.0,150.0,10.0,75.0,17.74,50.0,150.0,29.57,48.19,15.0,125.0,30.0,5.0,125.0,30.0,15.0,30.0,40.0,50.0,100.0,30.0,30.0,125.0,100.0,30.0,647.99,50.0,198.45,30.0,30.0,50.0,200.0,5.0,150.0,50.0,50.0,125.0,150.0,30.0,100.0,15.0,15.0,100.0,89.9,177.0,30.0,40.0,15.0,50.27,30.0,100.0,49.98,30.0,50.0,30.0,200.0,177.44,56.6,30.0,50.0,28.35,30.0,75.0,75.0,180.0,2.3,115.34,15.0,59.53,30.0,30.0,28.3,25.0,40.0,30.0,6.0,29.57,3.1,100.0,100.0,50.0,50.0,50.0,4.0,60.0,100.0,55.0,30.0,100.0,14.17,59.15,147.87,15.0,110.0,180.0,50.0,30.0,15.0,15.0,30.0,50.0,7.09,50.0,50.0,100.0,50.0,0.5,60.0,155.0,50.0,125.0,59.15,50.0,150.0,50.0,50.0,195.0,150.0,50.0,200.0,198.14,60.0,29.57,60.0,200.0,14.79,113.4,50.0,40.0,25.0,75.0,10.0,198.14,30.0,150.0,47.91,150.0,30.0,15.0,30.0,56.7,150.0,5.0,50.0,15.0,110.0,59.15,113.4,30.0,30.0,75.0,40.0,100.0,30.0,28.35,500.0,177.0,75.0,30.0,237.0,15.0,14.79,9.36,150.0,246.35,51.03,59.0,135.0,250.0,14.17,30.0,200.0,28.5,56.7,50.0,28.35,700.0,30.0,50.0,48.19,30.0,30.0,7.0,50.0,75.0,30.0,96.39,50.0,400.0,50.0,118.29,199.92,50.0,150.0,124.21,60.0,50.0,15.0,150.0,15.0,48.19,15.0,80.0,30.0,125.0,236.59,40.0,100.0,30.0,100.0,30.0,48.19,60.0,15.0,50.27,35.0,41.4,99.96,887.2,5.0,15.0,30.0,145.0,100.0,20.0,97.59,90.72,30.0,75.0,39.92,10.0,169.53,30.0,30.0,15.0,14.79,50.0,10.0,49.98,30.0,50.0,15.0,50.0,200.0,100.0,246.35,68.04,15.0,50.0,30.0,125.0,75.0,15.0,83.0,8.0,79.38,50.0,55.0,28.35,50.0,30.0,30.0,39.69,17.01,80.0,500.0,198.45,30.0,212.62,50.0,30.0,28.35,60.0,48.19,30.0,15.0,30.0,453.59,45.0,30.0,145.0,50.0,100.0,30.0,90.0,147.87,30.0,20.0,15.0,50.0,150.0,73.64,15.0,150.0,114.0,50.0,30.0,200.0,25.0,49.98,59.0,6.0,15.0,25.0,30.0,201.28,100.0,150.0,10.0,50.0,0.5,15.0,30.0,15.0,80.0,30.0,31.94,118.29,30.0,150.0,50.0,74.0,30.0,50.0,130.0,30.0,15.0,50.0,96.39,100.0,50.0,200.0,30.0,15.0,14.17,100.0,50.0,60.03,48.19,10.0,120.0,60.0,15.0,30.0,50.0,50.27,120.0,15.0,10.0,75.0,50.0,14.79,45.0,40.0,246.35,30.0,14.79,207.0,30.0,50.0,28.35,57.27,50.0,85.05,60.0,100.0,50.0,200.0,14.79,125.0,29.87,100.0,15.0,100.0,50.0,60.03,50.0,100.0,47.91,400.0,207.01,15.0,10.0,31.0,11.34,60.0,50.27,50.0,19.0,50.0,44.36,50.0,50.0,50.27,100.0,15.0,14.8,493.88,236.0,10.0,101.0,50.0,50.0,300.0,30.0,10.0,130.0,120.0,113.4,59.15,30.0,50.0,15.0,10.0,150.0,75.0,49.61,30.0,60.0,100.0,400.0,50.0,50.0,50.0,150.0,96.39,50.27,75.0,10.0,50.0,60.0,50.0,22.0,25.0,100.0,15.0,50.0,75.0,100.0,15.0,8.0,14.79,200.0,150.0,119.07,96.39,160.0,25.0,1000.0,50.0,3.4,14.79,50.0,200.0,85.05,125.0,15.0,150.0,50.0,30.0,50.0,50.0,80.0,30.0,40.0,200.0,150.0,49.98,17.01,30.0,50.0,60.0,175.0,100.0,59.15,15.0,65.0,30.0,200.0,28.35,118.29,100.0,30.0,15.0,30.0,125.0,94.64,7.0,15.0,25.0,30.0,55.0,29.57,15.0,50.0,25.0,75.0,73.93,82.81,60.0,0.02,50.0,100.0,60.0,120.0,30.0,4.25,99.22,50.0,28.35,30.0,55.0,29.57,98.0,20.0,45.36,42.52,50.0,100.0,19.81,150.0,30.0,50.0,50.0,29.57,60.0,22.11,283.5,133.24,120.07,50.0,39.69,185.0,48.19,48.19,30.0,50.0,100.0,50.0,30.0,30.0,50.0,12.0,29.57,100.0,10.0,15.0,15.0,100.0,150.0,7.0,75.0,29.57,50.0,15.0,29.57,50.0,57.27,100.0,28.35,20.0,15.0,30.0,14.79,50.0,200.0,200.0,12.0,30.0,100.0,15.0,30.0,75.0,5.0,50.0,15.0,25.51,50.0,29.87,150.0,30.0,14.0,100.0,227.0,15.0,400.0,30.0,25.0,10.0,200.0,199.92,50.0,50.0,50.0,14.79,150.0,226.8,6.5,14.79,48.19,56.7,15.0,50.0,14.17,40.0,30.0,110.0,50.0,73.93,19.28,50.0,499.79,100.0,75.0,100.0,10.0,88.72,160.0,50.0,50.0,96.39,100.0,12.5,236.0,177.0,200.0,50.0,60.0,150.0,150.0,200.0,29.57,150.0,147.87,75.0,50.0,60.0,40.0,110.0,50.0,55.0,30.0,189.94,50.0,59.15,28.35,85.05,133.08,30.0,20.0,25.0,399.83,4.0,28.0,141.75,40.0,206.95,29.57,150.0,30.0,50.0,50.0,250.0,30.0,284.0,50.0,75.0,50.0,15.0,200.0,100.0,125.0,30.0,80.0,14.79,30.0,95.82],\"xaxis\":\"x\",\"y\":[39.0,75.0,117.3,95.0,11.1,59.0,11.1,53.0,40.0,62.0,62.1,12.0,37.2,14.0,34.0,23.5,45.0,55.0,40.1,72.0,7.5,25.0,47.0,12.4,33.2,100.0,54.0,30.0,13.0,120.0,180.0,50.0,105.0,55.0,6.9,113.2,15.0,67.3,48.0,85.0,75.0,22.1,30.4,142.0,30.0,41.0,40.1,48.0,90.0,79.0,23.5,8.0,20.7,14.0,37.3,43.0,22.1,20.0,15.0,50.0,39.0,135.0,41.4,61.0,29.7,35.6,65.0,95.0,14.0,65.0,10.0,5.6,8.0,12.0,9.0,18.0,155.0,48.0,77.6,6.9,22.0,13.8,11.8,59.5,21.0,26.3,10.0,14.0,275.0,53.2,30.4,82.0,55.0,59.0,49.0,14.0,40.0,41.4,13.0,19.0,72.0,40.4,8.3,60.8,38.0,6.3,4.9,36.0,62.1,9.0,21.4,13.8,62.1,32.0,10.0,18.7,150.0,48.0,46.0,52.0,30.0,21.0,52.5,27.0,34.0,80.0,28.0,48.3,38.7,38.0,150.0,41.4,56.0,9.0,11.1,60.8,40.1,50.0,36.0,48.0,53.9,105.0,78.7,103.5,18.0,34.0,27.0,6.5,65.0,99.0,110.0,28.0,16.5,12.0,91.1,62.0,41.4,6.9,7.6,65.0,60.8,59.0,19.0,29.0,11.0,179.0,25.0,41.4,52.5,13.8,79.0,19.4,68.0,11.0,94.0,34.5,21.0,22.0,4.5,50.0,38.7,52.0,62.1,74.6,13.8,62.1,23.0,212.0,64.0,34.5,60.0,80.0,72.0,100.0,34.0,59.0,10.6,16.6,15.2,68.0,24.2,69.0,39.0,38.0,160.0,104.9,22.0,33.2,6.0,18.0,35.9,32.0,100.0,75.0,85.6,4.9,29.0,38.7,72.0,27.0,275.0,418.0,10.5,27.0,65.0,113.2,41.4,12.4,99.0,36.0,13.8,28.0,27.6,70.0,45.6,65.0,38.0,50.0,20.0,58.0,13.8,7.5,33.0,19.0,14.5,61.0,18.0,55.0,11.8,40.0,8.0,71.8,84.0,6.0,14.0,32.0,13.8,56.6,9.0,39.1,110.0,40.0,68.0,2.8,62.1,48.3,31.8,23.0,16.6,39.0,34.5,80.0,168.0,45.0,37.0,28.0,144.0,21.4,28.0,69.8,46.0,115.0,48.3,84.0,30.0,24.9,79.0,13.8,24.0,238.0,81.5,4.2,66.0,72.0,65.0,85.0,22.8,279.0,27.6,11.0,27.0,44.0,30.3,48.0,65.0,4.2,26.3,62.1,23.9,48.0,34.0,7.5,31.7,33.2,183.6,4.9,225.0,79.99,65.0,75.0,22.1,20.7,40.0,16.0,88.4,27.6,85.0,165.0,38.0,79.0,131.1,47.0,27.6,119.0,82.0,48.0,48.0,35.9,6.3,18.0,79.0,18.0,24.9,29.0,140.0,65.0,99.0,63.5,18.0,31.0,66.3,17.0,7.3,99.0,32.0,16.5,55.2,32.0,32.0,18.0,31.7,58.0,8.3,42.0,27.5,34.5,62.0,40.1,6.9,66.0,33.4,34.0,27.6,16.6,13.8,58.0,65.0,95.0,37.0,27.6,64.0,68.0,45.6,24.9,35.9,98.0,41.4,173.0,57.0,23.0,81.0,25.0,15.0,79.0,32.0,335.0,87.0,30.0,16.0,6.9,95.0,19.4,9.0,9.0,55.0,17.0,55.2,27.6,4.9,44.2,113.0,115.0,44.2,29.0,75.9,52.0,45.6,15.0,98.0,135.0,55.0,31.8,27.2,92.0,28.0,38.7,13.0,62.0,69.0,8.0,49.0,46.0,113.2,120.0,5.6,29.0,68.0,18.0,48.0,29.0,65.0,17.0,45.0,185.0,36.0,89.0,44.0,4.9,50.0,92.0,39.0,350.0,82.0,199.0,36.0,75.0,28.0,22.1,12.0,28.0,180.0,105.0,190.0,225.0,29.0,149.0,40.0,66.3,15.2,22.1,4.3,18.7,53.9,400.2,145.0,88.0,75.0,23.0,20.0,72.0,75.9,90.0,25.0,13.0,52.5,41.4,68.0,45.0,5.8,72.0,78.0,12.0,69.3,16.5,29.5,198.0,22.0,49.0,99.0,8.0,29.0,21.0,36.0,14.0,50.0,38.0,15.0,42.0,69.0,58.0,16.5,13.8,63.5,35.6,5.6,52.5,27.5,48.0,31.8,22.1,33.0,47.0,48.3,27.6,4.2,29.4,14.0,79.0,13.8,60.0,106.0,55.2,12.0,34.5,59.4,34.0,16.0,68.0,77.0,66.0,39.0,95.0,45.6,32.0,9.0,52.0,129.0,52.0,28.0,24.0,49.7,22.1,44.2,6.7,31.0,33.2,32.0,60.8,71.0,50.0,12.0,32.0,125.0,9.7,56.0,30.9,10.0,83.0,49.0,12.0,20.0,148.0,17.0,67.7,94.0,80.0,36.0,67.0,44.2,128.0,8.0,30.0,41.4,50.0,48.7,39.0,199.0,44.2,207.0,90.0,22.1,35.9,24.9,14.0,18.4,86.0,95.0,71.0,46.8,115.0,32.0,34.0,72.0,60.8,71.8,106.0,10.0,49.0,72.0,27.6,54.0,79.0,140.0,80.0,42.0,105.0,55.0,42.0,485.0,22.1,26.0,375.0,38.0,17.0,40.5,52.0,15.2,350.0,39.0,16.6,16.0,60.8,60.0,64.0,50.0,105.0,85.0,11.0,62.1,35.0,20.6,13.8,8.3,82.8,18.0,24.9,66.3,34.5,40.0,11.1,55.0,41.4,50.0,29.0,85.6,55.2,13.2,32.0,48.0,34.0,23.5,33.2,125.0,120.0,85.0,8.0,18.7,99.0,39.0,64.9,35.0,10.0,20.0,30.0,105.0,15.2,11.0,60.0,82.0,29.5,56.0,22.8,6.6,99.0,50.0,60.0,93.9,48.3,21.0,44.0,60.0,58.0,36.0,55.0,68.0,27.0,44.2,4.6,17.9,125.0,117.0,102.1,84.0,14.5,27.6,11.1,119.0,42.0,340.0,4.2,65.0,18.0,51.1,42.0,72.0,24.6,48.3,20.7,26.0,95.0,115.0,34.5,105.0,46.0,65.0,78.0,59.0,30.0,50.0,33.2,5.4,78.0,38.0,69.0,16.6,22.8,44.0,180.0,95.0,30.4,82.9,74.0,75.0,156.0,45.5,59.0,35.0,35.0,6.9,193.2,99.0,64.0,41.4,82.0,12.5,47.5,27.6,40.1,51.1,136.0,56.6,18.0,34.0,8.3,22.6,205.0,52.5,70.0,61.0,106.0,53.0,8.3,49.0,39.0,22.1,235.0,3.0,18.0,9.0,34.5,35.0,48.3,37.3,20.0,25.4,31.0,11.1,89.0,8.3,22.0,20.7,30.0,14.0,48.0,97.0,24.0,22.0,115.0,19.0,25.0,18.0,185.0,21.0,20.7,115.0,34.5,22.0,24.8,59.0,70.0,12.5,9.3,6.1,99.0,75.0,100.0,20.0,72.0,104.0,42.0,68.0,13.0,24.5,27.0,59.0,13.8,52.5,12.0,31.8,62.1,72.0,55.2,54.0,16.6,19.0,12.5,90.0,98.0,49.0,14.0,34.0,197.0,42.8,6.0,12.4,4.2,34.5,275.0,125.0,20.7,25.0,7.2,91.1,19.3,24.9,15.0,58.0,42.0,235.0,36.0,45.6,105.0,36.0,29.0,68.0,6.9,91.1,35.0,34.5,19.4,53.0,42.0,49.0,29.7,51.1,39.0,11.1,35.0,19.4,49.0,89.0,45.0,18.0,100.0,145.0,51.1,24.9,99.0,72.0,75.0,52.0,9.7,9.0,110.4,11.1,78.5,69.0,14.0,96.0,69.0,82.0,152.0,11.1,38.7,23.0,130.0,19.5,29.0,52.0,6.9,99.0,16.0,64.0,22.6,215.0,26.0,148.0,23.5,39.0,30.0,155.0,36.0,71.0,34.0,40.4,13.8,14.0,120.0,11.1,62.1,14.0,8.0,8.0,65.0,92.0,12.5,57.0,24.8,16.6,12.0,35.0,132.0,90.0,20.1,15.2,95.0,78.7,48.3,44.2,17.0,72.0,198.0,276.0,5.6,310.0,6.3,37.3,8.0,36.0,23.5,34.0,80.0,27.6,14.0,12.4,7.0,15.0,62.1,45.0,47.0,119.0,28.0,57.0,29.0,51.1,5.6,5.9,62.0,38.7,24.0,45.0,11.7,30.4,6.2,13.8,35.0,9.0,105.0,24.2,95.0,135.0,29.6,14.0,57.0,25.0,38.0,28.0,48.0,6.3,55.0,90.0,22.1,132.0,142.0,35.9,75.0,95.0,19.0,39.0,23.5,17.8,37.0,6.6,22.0,145.0,30.8,42.0,47.0,85.0,35.0,105.0,41.4,13.8,180.0,18.0,55.2,45.0,74.0,89.0,84.0,9.7,28.0,24.9,20.0,11.1,15.2,65.0,43.0,13.0,28.8,55.0,105.0,34.5,10.0,99.0,38.5,31.5,80.0,48.0,20.7,495.0,95.0,32.0,9.1,69.0,71.8,82.8,79.0,34.5,82.0,29.6,85.6,10.5,40.0,138.0,49.0,30.8,42.8,91.0,11.1,63.0,56.0,40.0,44.0,20.7,24.0,68.0,45.5,21.4,23.5,45.0,38.0,48.3,107.7,37.3,108.0,190.0,35.0,275.0,48.0,12.0,6.2,95.0,5.2,120.0,28.0,55.0,41.4,82.0,160.0,155.0,60.8,23.4,13.8,40.1,34.0,60.0,27.0,34.5,30.3,37.3,17.3,16.6,20.7,4.2,9.0,27.6,45.0,7.1,150.0,52.0,173.0,138.0,137.0,92.0,12.4,96.0,27.0,6.0,11.0,16.0,45.6,150.0,10.0,18.0,42.0,71.0,76.8,525.0,10.0,8.3,72.0,11.4,42.0,59.0,75.9,165.0,29.4,105.0,31.8,38.7,40.0,25.0,600.0,14.0,89.7,57.0,44.0,5.8,16.0,14.0,28.0,12.5,55.0,48.3,17.0,96.0,47.0,34.5,205.0,48.3,40.0,87.0,69.0,70.0,16.6,44.0,45.0,52.0,48.3,4.9,32.0,39.0,30.0,34.0,9.3,58.0,52.0,22.8,64.9,59.4,255.3,29.0,16.0,28.0,15.0,58.0,48.0,56.6,198.0,22.0,30.4,22.0,45.0,20.7,30.4,145.0,138.0,25.0,40.0,34.5,51.0,30.0,89.0,27.6,52.0,80.1,120.0,19.4,160.0,40.1,80.0,99.0,58.0,79.0,8.3,98.0,52.0,45.0,38.0,39.0,62.1,45.0,32.0,11.4,104.0,48.0,50.0,115.0,22.1,30.0,100.0,60.0,14.0,20.0,34.5,75.0,26.2,40.0,67.7,44.0,32.0,11.8,53.9,30.0,12.0,32.0,16.5,40.0,220.0,40.1,20.7,25.0,48.0,15.2,52.5,38.0,49.0,9.0,145.0,38.0,5.0,32.0,48.3,30.4,32.0,15.2,50.0,30.0,82.8,14.0,45.0,39.0,38.0,26.0,24.2,10.0,36.0,21.0,62.0,195.0,30.0,295.0,17.0,45.0,89.0,20.7,10.0,20.7,13.5,87.0,55.0,55.2,53.9,69.0,24.0,31.8,75.0,6.9,54.0,125.0,78.0,60.0,78.0,20.7,137.0,17.0,17.0,25.6,40.0,13.8,135.0,21.0,298.0,116.0,41.0,22.1,104.0,48.0,62.0,55.0,42.0,12.0,40.0,130.0,21.2,7.2,55.0,34.5,87.0,365.0,120.0,48.3,65.0,11.1,30.8,66.3,39.5,47.0,100.0,60.0,325.0,132.5,53.9,40.0,29.0,125.0,89.0,27.6,104.0,46.0,33.0,69.0,136.0,3.0,13.8,13.8,49.0,30.4,85.0,7.6,42.0,349.0,44.0,16.6,8.3,18.0,34.5,6.9,18.0,230.5,135.3,9.7,29.0,6.6,56.0,65.0,48.0,9.0,99.0,99.0,12.9,41.5,62.1,80.0,75.0,72.0,10.6,110.4,72.0,20.6,28.0,41.4,16.6,50.0,146.0,15.0,75.0,331.2,34.0,11.4,31.9,18.0,14.0,27.0,45.0,7.0,69.0,22.1,65.0,99.0,28.0,38.0,99.0,66.3,40.0,27.6,15.2,12.4,88.4,45.0,42.8,53.0,10.0,11.8,30.3,66.0,60.0,52.0,96.0,11.0,62.1,34.0,94.0,3.0,8.5,55.0,27.5,55.0,14.0,39.0,49.0,70.0,20.7,27.0,4.8,70.0,73.0,28.1,68.0,46.0,46.0,38.7,20.0,59.0,43.0,86.0,75.0,31.0,45.0,37.0,38.0,29.0,63.0,29.0,38.0,16.0,120.0,55.2,24.8,9.7,20.0,22.1,122.2,96.0,85.0,10.0,12.0,40.0,18.0,19.0,22.1,80.1,10.0,131.1,34.0,18.7,90.0,24.0,20.0,150.0,6.2,11.1,52.4,39.4,260.0,34.5,19.4,90.0,12.0,100.0,13.8,41.4,27.6,440.0,65.0,27.0,18.0,29.0,4.0,85.0,18.0,26.0,81.5,38.7,15.2,27.6,33.1,58.0,58.0,10.0,155.0,8.3,38.7,58.0,59.4,45.0,15.2,46.0,37.3,28.3,50.0,22.0,18.0,56.0,20.0,69.0,11.0,55.0,14.0,41.4,27.6,30.0,49.7,13.8,62.0,81.5,45.0,28.8,40.0,96.0,52.0,31.7,12.5,27.0,36.0,49.0,95.0,41.4,45.6,115.0,39.5,52.0,170.0,115.0,54.0,52.0,9.3,54.0,48.3,24.9,27.6,60.0,11.0,29.5,13.8,14.0,22.1,89.0,20.7,32.0,51.1,101.5,25.0,41.4,16.6,59.0,19.9,45.6,95.0,32.0,75.0,160.0,12.5,32.0,70.0,30.0,23.0,240.0,22.1,182.0,12.0,68.0,18.0,55.0,55.2,75.0,47.0,125.0,30.0,68.0,11.1,64.9,60.0,66.0,65.0,16.6,12.0,9.0,68.0,6.9,12.0,36.0,40.1,46.0,28.0,45.0,8.0,79.0,19.0,29.0,36.0,210.0,92.0,15.9,24.9,34.5,75.0,110.0,60.0,250.0,53.9,58.0,16.6,4.9,238.0,51.0,22.1,33.0,39.0,75.0,28.0,11.0,150.0,79.0,49.0,13.8,107.7,9.0,43.0,79.0,13.8,20.0,44.0,150.5,33.2,68.0,48.3,12.0,40.0,60.0,13.0,92.0,37.0,6.9,100.0,6.9,6.0,38.0,69.0,68.0,18.0,48.3,50.0,65.1,39.9,34.5,50.0,65.0,29.0,48.3,16.6,24.0,23.0,52.5,15.0,22.1,46.0,45.0,34.5,15.0,99.0,62.1,87.0,52.0,45.0,48.3,68.0,24.0,85.0,7.5,35.0,55.0,6.9,73.0,123.0,10.0,20.0,47.0,7.0,36.0,66.3,65.0,55.0,52.5,42.0,62.0,15.0,40.0,8.0,53.9,250.0,36.6,78.0,92.0,54.0,7.6,155.0,70.0,6.0,152.0,53.9,110.0,15.0,38.0,30.4,94.0,15.2,48.3,85.0,28.0,6.5,71.0,18.0,13.0,80.0,38.0,39.0,15.2,7.0,80.0,53.9,89.0,36.0,131.1,47.0,34.5,16.6,75.0,8.3,32.0,144.0,94.0,42.8,69.0,21.0,30.4,169.0,74.0,54.0,350.0,55.2,79.0,35.0,12.5,30.4,21.4,24.9,385.0,10.0,29.0,19.3,65.0,80.0,75.0,110.4,30.0,84.2,20.0,62.0,30.0,383.0,59.0,11.1,24.0,19.4,88.0,26.3,20.0,39.0,11.1,41.4,33.5,59.0,41.4,11.0,59.5,48.3,116.0,49.0,24.8,61.0,12.5,120.0,32.0,49.0,12.4,26.0,11.0,250.0,40.0,173.0,138.0,6.9,12.5,13.2,315.0,9.0,15.2,41.4,6.2,84.2,122.0,48.0,82.0,272.0,68.0,75.0,80.0,85.6,230.0,280.0,32.0,16.8,20.7,96.0,10.4,64.0,41.4,52.0,72.0,32.0,52.4,83.0,13.8,27.6,21.0,15.0,95.0,41.4,60.0,35.9,45.0,94.0,24.8,88.0,28.3,52.5,87.0,153.0,58.0,9.0,115.0,26.0,13.2,35.9,62.0,145.0,69.0,73.0,10.0,6.8,60.0,155.0,26.3,36.0,36.0,195.0,103.9,95.0,59.0,20.7,82.8,12.4,60.0,32.0,27.0,27.6,195.0,38.7,4.3,43.0,146.7,22.1,33.2,10.8,27.0,82.0,38.5,9.7,33.9,55.2,12.0,125.0,50.0,56.0,28.8,55.0,11.0,52.0,140.0,281.0,4.2,19.4,165.6,99.0,6.9,38.0,22.0,9.0,68.0,32.0,90.0,168.0,66.0,49.0,42.0,15.2,13.8,96.0,8.0,32.0,91.1,26.2,6.7,40.1,87.0,34.5,35.0,35.9,115.0,72.0,38.0,95.0,80.0,117.3,13.8,51.8,116.0,21.4,3.0,8.0,220.0,81.0,12.5,13.0,64.0,84.0,10.0,40.0,6.0,24.0,25.0,80.0,74.6,34.0,24.9,35.7,70.0,27.5,65.0,60.0,56.6,17.0,160.0,72.0,22.0,32.0,77.3,98.0,27.0,20.0,15.0,59.0,38.0,49.0,45.6,46.0,78.0,53.9,19.0,12.0,16.0,53.9,9.0,109.0,40.0,13.0,22.8,11.1,20.0,48.0,38.0,58.0,98.0,13.8,11.0,52.0,99.0,58.0,27.0,80.0,11.0,22.8,32.0,43.0,120.0,45.0,29.0,18.0,13.8,42.0,74.6,95.0,14.0,54.9,139.0,35.0,13.8,13.8,29.5,48.0,6.5,23.0,50.0,39.0,41.4,11.1,106.0,92.0,13.8,30.3,20.0,45.2,155.0,132.0,27.6,60.0,74.0,9.9,40.0,15.9,48.3,9.1,8.0,16.6,30.8,82.8,42.0,23.0,183.6,75.0,31.0,65.0,90.0,54.0,52.5,9.7,70.0,47.0,16.6,49.7,90.0,95.0,38.0,32.0,54.0,27.6,25.0,38.0,8.0,110.0,6.0,118.0,28.0,65.0,24.0,113.0,14.5,33.2,30.0,285.0,70.0,11.1,8.1,99.0,28.0,139.0,45.0,345.0,40.0,60.0,45.0,24.0,49.0,38.0,115.0,60.0,19.0,65.0,22.0,10.0,59.0,13.8,17.0,59.0,89.0,10.0,8.0,59.4,20.7,72.0,57.0,28.0,52.0,66.3,11.0,9.0,30.7,30.0,5.0,4.2,69.0,38.7,150.0,63.0,125.0,65.0,38.0,44.0,52.0,40.1,28.8,26.3,11.1,65.0,28.0,12.5,26.2,47.0,30.4,52.0,12.0,104.9,11.1,48.3,20.0,67.3,135.0,79.0,48.0,11.1,27.6,13.8,6.9,100.0,50.0,34.0,6.5,23.0,26.3,44.0,54.0,44.9,55.0,46.0,59.0,98.0,72.0,45.0,48.0,16.5,62.0,33.2,45.6,75.0,21.9,36.0,53.0,49.0,18.0,275.0,150.0,33.0,16.0,33.4,34.0,45.0,11.1,64.0,117.3,12.4,42.0,9.0,152.0,12.4,4.2,47.0,41.4,17.9,4.2,22.0,96.0,66.3,16.0,36.6,52.5,45.0,70.0,58.0,150.0,45.0,19.0,73.2,19.0,22.0,34.0,58.0,52.5,13.8,82.0,95.0,44.2,62.0,34.5,30.4,45.0,80.1,260.0,13.8,66.3,13.8,18.0,105.0,17.0,98.0,164.0,36.0,24.9,40.0,37.0,48.0,62.1,55.0,24.9,6.6,79.0,45.0,64.0,35.0,4.2,105.3,35.0,24.0,20.7,27.6,270.0,9.0,33.0,47.0,19.9,29.0,36.0,34.5,64.0,6.5,31.8,36.0,24.0,82.0,67.3,82.8,12.4,24.0,9.8,79.0,35.9,70.4,6.9,74.0,14.0,20.7,72.0,42.1,62.0,11.0,69.0,109.1,49.0,32.0,32.0,53.0,5.1,74.0,60.0,45.2,10.0,11.1,8.3,13.8,7.9,7.0,60.8,4.0,67.7,23.5,48.3,65.0,105.0,20.7,195.0,34.0,18.0,149.0,25.0,42.0,59.4,26.0,80.0,33.9,56.0,90.0,48.3,22.0,27.6,11.0,45.0,48.3,27.1,21.0,45.0,150.0,55.0,17.0,99.0,59.5,42.5,110.0,10.8,148.0,17.0,29.0,55.2,29.0,23.2,2.8,25.0,48.0,96.0,15.0,58.0,27.0,79.0,73.2,52.0,40.0,100.0,92.0,49.7,68.0,70.0,80.1,62.1,60.0,27.0,225.0,11.0,48.0,45.0,109.1,52.5,53.0,90.0,95.0,14.0,7.0,39.0,119.0,72.0,80.0,55.0,10.0,28.8,11.0,22.0,30.0,97.0,120.0,139.0,115.0,23.0,88.4,42.0,56.0,129.0,41.4,40.8,15.0,30.0,54.6,58.0,25.0,117.3,145.0,65.0,35.0,15.0,52.0,34.0,110.0,41.4,7.2,26.0,122.0,37.3,8.3,82.0,160.0,74.6,8.0,178.0,26.0,44.0,200.0,65.0,32.0,32.0,48.0,34.5,41.4,30.4,54.0,15.0,105.0,68.0,88.0,20.7,145.0,38.0,67.3,52.0,65.0,64.0,20.7,16.0,29.0,45.0,12.0,70.0,575.0,8.3,40.0,29.4,165.0,16.6,38.0,60.0,40.0,25.0,195.0,28.0,24.9,95.3,62.1,12.4,59.0,70.0,135.0,13.0,15.0,19.4,39.0,75.0,150.0,49.0,18.0,235.0,66.0,59.0,85.0,38.0,44.0,28.0,68.0,53.0,52.4,49.0,113.2,11.1,45.0,11.0,33.0,27.6,18.0,11.1,58.7,30.0,22.1,33.2,158.7,22.0,52.0,32.0,30.4,47.0,95.0,68.0,70.0,16.0,26.3,103.5,39.0,27.0,125.0,74.0,53.9,150.0,97.0,22.0,13.8,22.0,39.0,51.1,65.0,87.0,34.5,52.0,31.0,34.5,63.0,79.0,34.5,104.0,49.0,20.0,8.6,35.9,189.0,80.0,40.4,8.3,20.7,58.0,67.7,57.9,22.1,139.0,38.0,92.0,27.0,18.0,79.0,995.0,47.0,175.0,11.0,67.7,80.0,66.0,40.1,58.0,11.1,79.0,37.0,18.0,45.0,59.0,19.0,10.0,24.9,90.0,10.0,70.0,50.0,13.2,55.0,11.0,82.0,16.6,44.2,69.0,9.7,23.5,30.4,20.0,35.0,27.6,24.9,28.0,13.0,150.0,99.0,89.0,35.0,17.0,95.0,40.0,11.1,78.0,18.0,38.0,40.0,32.0,41.4,31.0,85.0,15.2,58.0,48.0,22.1,45.6,8.0,119.0,58.0,12.4,89.7,4.9,34.5,28.0,68.0,45.0,34.0,23.0,55.0,129.0,27.6,125.0,11.7,75.0,115.0,25.0,52.5,69.0,130.0,79.99,1500.0,69.0,15.0,86.0,53.0,3.0,20.0,103.5,130.0,20.7,150.0,44.7,32.0,62.0,49.0,35.0,13.8,10.0,22.1,38.5,99.0,15.2,74.0,81.5,34.5,5.8,109.0,166.0,17.0,72.0,39.0,3.4,74.6,8.3,65.0,8.3,39.0,150.0,14.9,29.7,105.0,7.7,28.3,34.0,95.0,8.0,22.1,34.0,386.4,68.0,38.7,27.6,38.7,12.5,52.5,70.0,55.0,158.7,58.0,19.0,130.0,18.0,10.0,56.6,32.0,8.3,125.0,31.7,20.0,120.0,68.0,9.7,157.4,6.0,8.3,51.1,28.0,225.0,102.2,53.9,40.0,4.9,98.0,20.0,10.0,99.0,15.0,16.6,165.0,50.0,22.1,130.0,24.9,58.0,40.0,135.0,45.6,16.0,30.0,46.0,38.7,20.0,16.5,25.8,72.0,96.0,59.0,65.0,44.0,12.5,35.9,4.9,14.0,22.4,49.0,11.1,27.0,160.0,8.3,32.0,39.0,59.0,31.7,74.0,31.8,36.6,56.0,100.0,14.0,45.6,75.0,81.5,299.0,28.0,108.0,120.0,6.0,9.7,16.6,70.0,34.0,12.0,34.0,120.0,25.0,42.0,18.0,41.4,39.0,35.0,40.1,11.8,11.0,74.6,103.5,37.0,8.3,11.0,62.1,26.3,74.0,7.6,38.0],\"yaxis\":\"y\",\"type\":\"scattergl\"}],                        {\"template\":{\"data\":{\"bar\":[{\"error_x\":{\"color\":\"#2a3f5f\"},\"error_y\":{\"color\":\"#2a3f5f\"},\"marker\":{\"line\":{\"color\":\"#E5ECF6\",\"width\":0.5},\"pattern\":{\"fillmode\":\"overlay\",\"size\":10,\"solidity\":0.2}},\"type\":\"bar\"}],\"barpolar\":[{\"marker\":{\"line\":{\"color\":\"#E5ECF6\",\"width\":0.5},\"pattern\":{\"fillmode\":\"overlay\",\"size\":10,\"solidity\":0.2}},\"type\":\"barpolar\"}],\"carpet\":[{\"aaxis\":{\"endlinecolor\":\"#2a3f5f\",\"gridcolor\":\"white\",\"linecolor\":\"white\",\"minorgridcolor\":\"white\",\"startlinecolor\":\"#2a3f5f\"},\"baxis\":{\"endlinecolor\":\"#2a3f5f\",\"gridcolor\":\"white\",\"linecolor\":\"white\",\"minorgridcolor\":\"white\",\"startlinecolor\":\"#2a3f5f\"},\"type\":\"carpet\"}],\"choropleth\":[{\"colorbar\":{\"outlinewidth\":0,\"ticks\":\"\"},\"type\":\"choropleth\"}],\"contour\":[{\"colorbar\":{\"outlinewidth\":0,\"ticks\":\"\"},\"colorscale\":[[0.0,\"#0d0887\"],[0.1111111111111111,\"#46039f\"],[0.2222222222222222,\"#7201a8\"],[0.3333333333333333,\"#9c179e\"],[0.4444444444444444,\"#bd3786\"],[0.5555555555555556,\"#d8576b\"],[0.6666666666666666,\"#ed7953\"],[0.7777777777777778,\"#fb9f3a\"],[0.8888888888888888,\"#fdca26\"],[1.0,\"#f0f921\"]],\"type\":\"contour\"}],\"contourcarpet\":[{\"colorbar\":{\"outlinewidth\":0,\"ticks\":\"\"},\"type\":\"contourcarpet\"}],\"heatmap\":[{\"colorbar\":{\"outlinewidth\":0,\"ticks\":\"\"},\"colorscale\":[[0.0,\"#0d0887\"],[0.1111111111111111,\"#46039f\"],[0.2222222222222222,\"#7201a8\"],[0.3333333333333333,\"#9c179e\"],[0.4444444444444444,\"#bd3786\"],[0.5555555555555556,\"#d8576b\"],[0.6666666666666666,\"#ed7953\"],[0.7777777777777778,\"#fb9f3a\"],[0.8888888888888888,\"#fdca26\"],[1.0,\"#f0f921\"]],\"type\":\"heatmap\"}],\"heatmapgl\":[{\"colorbar\":{\"outlinewidth\":0,\"ticks\":\"\"},\"colorscale\":[[0.0,\"#0d0887\"],[0.1111111111111111,\"#46039f\"],[0.2222222222222222,\"#7201a8\"],[0.3333333333333333,\"#9c179e\"],[0.4444444444444444,\"#bd3786\"],[0.5555555555555556,\"#d8576b\"],[0.6666666666666666,\"#ed7953\"],[0.7777777777777778,\"#fb9f3a\"],[0.8888888888888888,\"#fdca26\"],[1.0,\"#f0f921\"]],\"type\":\"heatmapgl\"}],\"histogram\":[{\"marker\":{\"pattern\":{\"fillmode\":\"overlay\",\"size\":10,\"solidity\":0.2}},\"type\":\"histogram\"}],\"histogram2d\":[{\"colorbar\":{\"outlinewidth\":0,\"ticks\":\"\"},\"colorscale\":[[0.0,\"#0d0887\"],[0.1111111111111111,\"#46039f\"],[0.2222222222222222,\"#7201a8\"],[0.3333333333333333,\"#9c179e\"],[0.4444444444444444,\"#bd3786\"],[0.5555555555555556,\"#d8576b\"],[0.6666666666666666,\"#ed7953\"],[0.7777777777777778,\"#fb9f3a\"],[0.8888888888888888,\"#fdca26\"],[1.0,\"#f0f921\"]],\"type\":\"histogram2d\"}],\"histogram2dcontour\":[{\"colorbar\":{\"outlinewidth\":0,\"ticks\":\"\"},\"colorscale\":[[0.0,\"#0d0887\"],[0.1111111111111111,\"#46039f\"],[0.2222222222222222,\"#7201a8\"],[0.3333333333333333,\"#9c179e\"],[0.4444444444444444,\"#bd3786\"],[0.5555555555555556,\"#d8576b\"],[0.6666666666666666,\"#ed7953\"],[0.7777777777777778,\"#fb9f3a\"],[0.8888888888888888,\"#fdca26\"],[1.0,\"#f0f921\"]],\"type\":\"histogram2dcontour\"}],\"mesh3d\":[{\"colorbar\":{\"outlinewidth\":0,\"ticks\":\"\"},\"type\":\"mesh3d\"}],\"parcoords\":[{\"line\":{\"colorbar\":{\"outlinewidth\":0,\"ticks\":\"\"}},\"type\":\"parcoords\"}],\"pie\":[{\"automargin\":true,\"type\":\"pie\"}],\"scatter\":[{\"marker\":{\"colorbar\":{\"outlinewidth\":0,\"ticks\":\"\"}},\"type\":\"scatter\"}],\"scatter3d\":[{\"line\":{\"colorbar\":{\"outlinewidth\":0,\"ticks\":\"\"}},\"marker\":{\"colorbar\":{\"outlinewidth\":0,\"ticks\":\"\"}},\"type\":\"scatter3d\"}],\"scattercarpet\":[{\"marker\":{\"colorbar\":{\"outlinewidth\":0,\"ticks\":\"\"}},\"type\":\"scattercarpet\"}],\"scattergeo\":[{\"marker\":{\"colorbar\":{\"outlinewidth\":0,\"ticks\":\"\"}},\"type\":\"scattergeo\"}],\"scattergl\":[{\"marker\":{\"colorbar\":{\"outlinewidth\":0,\"ticks\":\"\"}},\"type\":\"scattergl\"}],\"scattermapbox\":[{\"marker\":{\"colorbar\":{\"outlinewidth\":0,\"ticks\":\"\"}},\"type\":\"scattermapbox\"}],\"scatterpolar\":[{\"marker\":{\"colorbar\":{\"outlinewidth\":0,\"ticks\":\"\"}},\"type\":\"scatterpolar\"}],\"scatterpolargl\":[{\"marker\":{\"colorbar\":{\"outlinewidth\":0,\"ticks\":\"\"}},\"type\":\"scatterpolargl\"}],\"scatterternary\":[{\"marker\":{\"colorbar\":{\"outlinewidth\":0,\"ticks\":\"\"}},\"type\":\"scatterternary\"}],\"surface\":[{\"colorbar\":{\"outlinewidth\":0,\"ticks\":\"\"},\"colorscale\":[[0.0,\"#0d0887\"],[0.1111111111111111,\"#46039f\"],[0.2222222222222222,\"#7201a8\"],[0.3333333333333333,\"#9c179e\"],[0.4444444444444444,\"#bd3786\"],[0.5555555555555556,\"#d8576b\"],[0.6666666666666666,\"#ed7953\"],[0.7777777777777778,\"#fb9f3a\"],[0.8888888888888888,\"#fdca26\"],[1.0,\"#f0f921\"]],\"type\":\"surface\"}],\"table\":[{\"cells\":{\"fill\":{\"color\":\"#EBF0F8\"},\"line\":{\"color\":\"white\"}},\"header\":{\"fill\":{\"color\":\"#C8D4E3\"},\"line\":{\"color\":\"white\"}},\"type\":\"table\"}]},\"layout\":{\"annotationdefaults\":{\"arrowcolor\":\"#2a3f5f\",\"arrowhead\":0,\"arrowwidth\":1},\"autotypenumbers\":\"strict\",\"coloraxis\":{\"colorbar\":{\"outlinewidth\":0,\"ticks\":\"\"}},\"colorscale\":{\"diverging\":[[0,\"#8e0152\"],[0.1,\"#c51b7d\"],[0.2,\"#de77ae\"],[0.3,\"#f1b6da\"],[0.4,\"#fde0ef\"],[0.5,\"#f7f7f7\"],[0.6,\"#e6f5d0\"],[0.7,\"#b8e186\"],[0.8,\"#7fbc41\"],[0.9,\"#4d9221\"],[1,\"#276419\"]],\"sequential\":[[0.0,\"#0d0887\"],[0.1111111111111111,\"#46039f\"],[0.2222222222222222,\"#7201a8\"],[0.3333333333333333,\"#9c179e\"],[0.4444444444444444,\"#bd3786\"],[0.5555555555555556,\"#d8576b\"],[0.6666666666666666,\"#ed7953\"],[0.7777777777777778,\"#fb9f3a\"],[0.8888888888888888,\"#fdca26\"],[1.0,\"#f0f921\"]],\"sequentialminus\":[[0.0,\"#0d0887\"],[0.1111111111111111,\"#46039f\"],[0.2222222222222222,\"#7201a8\"],[0.3333333333333333,\"#9c179e\"],[0.4444444444444444,\"#bd3786\"],[0.5555555555555556,\"#d8576b\"],[0.6666666666666666,\"#ed7953\"],[0.7777777777777778,\"#fb9f3a\"],[0.8888888888888888,\"#fdca26\"],[1.0,\"#f0f921\"]]},\"colorway\":[\"#636efa\",\"#EF553B\",\"#00cc96\",\"#ab63fa\",\"#FFA15A\",\"#19d3f3\",\"#FF6692\",\"#B6E880\",\"#FF97FF\",\"#FECB52\"],\"font\":{\"color\":\"#2a3f5f\"},\"geo\":{\"bgcolor\":\"white\",\"lakecolor\":\"white\",\"landcolor\":\"#E5ECF6\",\"showlakes\":true,\"showland\":true,\"subunitcolor\":\"white\"},\"hoverlabel\":{\"align\":\"left\"},\"hovermode\":\"closest\",\"mapbox\":{\"style\":\"light\"},\"paper_bgcolor\":\"white\",\"plot_bgcolor\":\"#E5ECF6\",\"polar\":{\"angularaxis\":{\"gridcolor\":\"white\",\"linecolor\":\"white\",\"ticks\":\"\"},\"bgcolor\":\"#E5ECF6\",\"radialaxis\":{\"gridcolor\":\"white\",\"linecolor\":\"white\",\"ticks\":\"\"}},\"scene\":{\"xaxis\":{\"backgroundcolor\":\"#E5ECF6\",\"gridcolor\":\"white\",\"gridwidth\":2,\"linecolor\":\"white\",\"showbackground\":true,\"ticks\":\"\",\"zerolinecolor\":\"white\"},\"yaxis\":{\"backgroundcolor\":\"#E5ECF6\",\"gridcolor\":\"white\",\"gridwidth\":2,\"linecolor\":\"white\",\"showbackground\":true,\"ticks\":\"\",\"zerolinecolor\":\"white\"},\"zaxis\":{\"backgroundcolor\":\"#E5ECF6\",\"gridcolor\":\"white\",\"gridwidth\":2,\"linecolor\":\"white\",\"showbackground\":true,\"ticks\":\"\",\"zerolinecolor\":\"white\"}},\"shapedefaults\":{\"line\":{\"color\":\"#2a3f5f\"}},\"ternary\":{\"aaxis\":{\"gridcolor\":\"white\",\"linecolor\":\"white\",\"ticks\":\"\"},\"baxis\":{\"gridcolor\":\"white\",\"linecolor\":\"white\",\"ticks\":\"\"},\"bgcolor\":\"#E5ECF6\",\"caxis\":{\"gridcolor\":\"white\",\"linecolor\":\"white\",\"ticks\":\"\"}},\"title\":{\"x\":0.05},\"xaxis\":{\"automargin\":true,\"gridcolor\":\"white\",\"linecolor\":\"white\",\"ticks\":\"\",\"title\":{\"standoff\":15},\"zerolinecolor\":\"white\",\"zerolinewidth\":2},\"yaxis\":{\"automargin\":true,\"gridcolor\":\"white\",\"linecolor\":\"white\",\"ticks\":\"\",\"title\":{\"standoff\":15},\"zerolinecolor\":\"white\",\"zerolinewidth\":2}}},\"xaxis\":{\"anchor\":\"y\",\"domain\":[0.0,1.0],\"title\":{\"text\":\"product_amount\"}},\"yaxis\":{\"anchor\":\"x\",\"domain\":[0.0,1.0],\"title\":{\"text\":\"price\"}},\"legend\":{\"tracegroupgap\":0},\"title\":{\"text\":\"Correlation Between Price & Product Amount \"}},                        {\"responsive\": true}                    ).then(function(){\n",
              "                            \n",
              "var gd = document.getElementById('7c41a817-4e13-44f8-87f7-37b5b0f78aa9');\n",
              "var x = new MutationObserver(function (mutations, observer) {{\n",
              "        var display = window.getComputedStyle(gd).display;\n",
              "        if (!display || display === 'none') {{\n",
              "            console.log([gd, 'removed!']);\n",
              "            Plotly.purge(gd);\n",
              "            observer.disconnect();\n",
              "        }}\n",
              "}});\n",
              "\n",
              "// Listen for the removal of the full notebook cells\n",
              "var notebookContainer = gd.closest('#notebook-container');\n",
              "if (notebookContainer) {{\n",
              "    x.observe(notebookContainer, {childList: true});\n",
              "}}\n",
              "\n",
              "// Listen for the clearing of the current output cell\n",
              "var outputEl = gd.closest('.output');\n",
              "if (outputEl) {{\n",
              "    x.observe(outputEl, {childList: true});\n",
              "}}\n",
              "\n",
              "                        })                };                            </script>        </div>\n",
              "</body>\n",
              "</html>"
            ]
          },
          "metadata": {}
        }
      ]
    },
    {
      "cell_type": "markdown",
      "source": [
        "- Product Size Analysis"
      ],
      "metadata": {
        "id": "VK2YdNfxPFVD"
      }
    },
    {
      "cell_type": "code",
      "source": [
        "a=df[\"product_size\"].value_counts()\n",
        "a"
      ],
      "metadata": {
        "colab": {
          "base_uri": "https://localhost:8080/"
        },
        "id": "W2WG_PiLJrSx",
        "outputId": "3a590c35-14b2-4a9b-dad1-ec07ee6f7c4d"
      },
      "execution_count": 7,
      "outputs": [
        {
          "output_type": "execute_result",
          "data": {
            "text/plain": [
              "standard    1711\n",
              "small       1076\n",
              "large         51\n",
              "Name: product_size, dtype: int64"
            ]
          },
          "metadata": {},
          "execution_count": 7
        }
      ]
    },
    {
      "cell_type": "code",
      "source": [
        "colors = ['darkorange', 'lightgreen',\"blue\"]\n",
        "fig = go.Figure(data=[go.Pie(labels=['small','standard',\"large\"],\n",
        "                             values=a,title='Product Size Catgeory')])\n",
        "fig.update_traces(hoverinfo='label+percent', textinfo='value', textfont_size=20,\n",
        "                  marker=dict(colors=colors, line=dict(color='#000000', width=2)))\n",
        "fig.show()\n"
      ],
      "metadata": {
        "colab": {
          "base_uri": "https://localhost:8080/",
          "height": 542
        },
        "id": "3tPefRwyaWz6",
        "outputId": "afc854c3-cd6e-474e-d718-e1423fbb3da0"
      },
      "execution_count": 8,
      "outputs": [
        {
          "output_type": "display_data",
          "data": {
            "text/html": [
              "<html>\n",
              "<head><meta charset=\"utf-8\" /></head>\n",
              "<body>\n",
              "    <div>            <script src=\"https://cdnjs.cloudflare.com/ajax/libs/mathjax/2.7.5/MathJax.js?config=TeX-AMS-MML_SVG\"></script><script type=\"text/javascript\">if (window.MathJax) {MathJax.Hub.Config({SVG: {font: \"STIX-Web\"}});}</script>                <script type=\"text/javascript\">window.PlotlyConfig = {MathJaxConfig: 'local'};</script>\n",
              "        <script src=\"https://cdn.plot.ly/plotly-2.8.3.min.js\"></script>                <div id=\"c98170db-b7ad-46d4-a3df-51dccdea3452\" class=\"plotly-graph-div\" style=\"height:525px; width:100%;\"></div>            <script type=\"text/javascript\">                                    window.PLOTLYENV=window.PLOTLYENV || {};                                    if (document.getElementById(\"c98170db-b7ad-46d4-a3df-51dccdea3452\")) {                    Plotly.newPlot(                        \"c98170db-b7ad-46d4-a3df-51dccdea3452\",                        [{\"labels\":[\"small\",\"standard\",\"large\"],\"title\":{\"text\":\"Product Size Catgeory\"},\"values\":[1711,1076,51],\"type\":\"pie\",\"textfont\":{\"size\":20},\"marker\":{\"line\":{\"color\":\"#000000\",\"width\":2},\"colors\":[\"darkorange\",\"lightgreen\",\"blue\"]},\"hoverinfo\":\"label+percent\",\"textinfo\":\"value\"}],                        {\"template\":{\"data\":{\"bar\":[{\"error_x\":{\"color\":\"#2a3f5f\"},\"error_y\":{\"color\":\"#2a3f5f\"},\"marker\":{\"line\":{\"color\":\"#E5ECF6\",\"width\":0.5},\"pattern\":{\"fillmode\":\"overlay\",\"size\":10,\"solidity\":0.2}},\"type\":\"bar\"}],\"barpolar\":[{\"marker\":{\"line\":{\"color\":\"#E5ECF6\",\"width\":0.5},\"pattern\":{\"fillmode\":\"overlay\",\"size\":10,\"solidity\":0.2}},\"type\":\"barpolar\"}],\"carpet\":[{\"aaxis\":{\"endlinecolor\":\"#2a3f5f\",\"gridcolor\":\"white\",\"linecolor\":\"white\",\"minorgridcolor\":\"white\",\"startlinecolor\":\"#2a3f5f\"},\"baxis\":{\"endlinecolor\":\"#2a3f5f\",\"gridcolor\":\"white\",\"linecolor\":\"white\",\"minorgridcolor\":\"white\",\"startlinecolor\":\"#2a3f5f\"},\"type\":\"carpet\"}],\"choropleth\":[{\"colorbar\":{\"outlinewidth\":0,\"ticks\":\"\"},\"type\":\"choropleth\"}],\"contour\":[{\"colorbar\":{\"outlinewidth\":0,\"ticks\":\"\"},\"colorscale\":[[0.0,\"#0d0887\"],[0.1111111111111111,\"#46039f\"],[0.2222222222222222,\"#7201a8\"],[0.3333333333333333,\"#9c179e\"],[0.4444444444444444,\"#bd3786\"],[0.5555555555555556,\"#d8576b\"],[0.6666666666666666,\"#ed7953\"],[0.7777777777777778,\"#fb9f3a\"],[0.8888888888888888,\"#fdca26\"],[1.0,\"#f0f921\"]],\"type\":\"contour\"}],\"contourcarpet\":[{\"colorbar\":{\"outlinewidth\":0,\"ticks\":\"\"},\"type\":\"contourcarpet\"}],\"heatmap\":[{\"colorbar\":{\"outlinewidth\":0,\"ticks\":\"\"},\"colorscale\":[[0.0,\"#0d0887\"],[0.1111111111111111,\"#46039f\"],[0.2222222222222222,\"#7201a8\"],[0.3333333333333333,\"#9c179e\"],[0.4444444444444444,\"#bd3786\"],[0.5555555555555556,\"#d8576b\"],[0.6666666666666666,\"#ed7953\"],[0.7777777777777778,\"#fb9f3a\"],[0.8888888888888888,\"#fdca26\"],[1.0,\"#f0f921\"]],\"type\":\"heatmap\"}],\"heatmapgl\":[{\"colorbar\":{\"outlinewidth\":0,\"ticks\":\"\"},\"colorscale\":[[0.0,\"#0d0887\"],[0.1111111111111111,\"#46039f\"],[0.2222222222222222,\"#7201a8\"],[0.3333333333333333,\"#9c179e\"],[0.4444444444444444,\"#bd3786\"],[0.5555555555555556,\"#d8576b\"],[0.6666666666666666,\"#ed7953\"],[0.7777777777777778,\"#fb9f3a\"],[0.8888888888888888,\"#fdca26\"],[1.0,\"#f0f921\"]],\"type\":\"heatmapgl\"}],\"histogram\":[{\"marker\":{\"pattern\":{\"fillmode\":\"overlay\",\"size\":10,\"solidity\":0.2}},\"type\":\"histogram\"}],\"histogram2d\":[{\"colorbar\":{\"outlinewidth\":0,\"ticks\":\"\"},\"colorscale\":[[0.0,\"#0d0887\"],[0.1111111111111111,\"#46039f\"],[0.2222222222222222,\"#7201a8\"],[0.3333333333333333,\"#9c179e\"],[0.4444444444444444,\"#bd3786\"],[0.5555555555555556,\"#d8576b\"],[0.6666666666666666,\"#ed7953\"],[0.7777777777777778,\"#fb9f3a\"],[0.8888888888888888,\"#fdca26\"],[1.0,\"#f0f921\"]],\"type\":\"histogram2d\"}],\"histogram2dcontour\":[{\"colorbar\":{\"outlinewidth\":0,\"ticks\":\"\"},\"colorscale\":[[0.0,\"#0d0887\"],[0.1111111111111111,\"#46039f\"],[0.2222222222222222,\"#7201a8\"],[0.3333333333333333,\"#9c179e\"],[0.4444444444444444,\"#bd3786\"],[0.5555555555555556,\"#d8576b\"],[0.6666666666666666,\"#ed7953\"],[0.7777777777777778,\"#fb9f3a\"],[0.8888888888888888,\"#fdca26\"],[1.0,\"#f0f921\"]],\"type\":\"histogram2dcontour\"}],\"mesh3d\":[{\"colorbar\":{\"outlinewidth\":0,\"ticks\":\"\"},\"type\":\"mesh3d\"}],\"parcoords\":[{\"line\":{\"colorbar\":{\"outlinewidth\":0,\"ticks\":\"\"}},\"type\":\"parcoords\"}],\"pie\":[{\"automargin\":true,\"type\":\"pie\"}],\"scatter\":[{\"marker\":{\"colorbar\":{\"outlinewidth\":0,\"ticks\":\"\"}},\"type\":\"scatter\"}],\"scatter3d\":[{\"line\":{\"colorbar\":{\"outlinewidth\":0,\"ticks\":\"\"}},\"marker\":{\"colorbar\":{\"outlinewidth\":0,\"ticks\":\"\"}},\"type\":\"scatter3d\"}],\"scattercarpet\":[{\"marker\":{\"colorbar\":{\"outlinewidth\":0,\"ticks\":\"\"}},\"type\":\"scattercarpet\"}],\"scattergeo\":[{\"marker\":{\"colorbar\":{\"outlinewidth\":0,\"ticks\":\"\"}},\"type\":\"scattergeo\"}],\"scattergl\":[{\"marker\":{\"colorbar\":{\"outlinewidth\":0,\"ticks\":\"\"}},\"type\":\"scattergl\"}],\"scattermapbox\":[{\"marker\":{\"colorbar\":{\"outlinewidth\":0,\"ticks\":\"\"}},\"type\":\"scattermapbox\"}],\"scatterpolar\":[{\"marker\":{\"colorbar\":{\"outlinewidth\":0,\"ticks\":\"\"}},\"type\":\"scatterpolar\"}],\"scatterpolargl\":[{\"marker\":{\"colorbar\":{\"outlinewidth\":0,\"ticks\":\"\"}},\"type\":\"scatterpolargl\"}],\"scatterternary\":[{\"marker\":{\"colorbar\":{\"outlinewidth\":0,\"ticks\":\"\"}},\"type\":\"scatterternary\"}],\"surface\":[{\"colorbar\":{\"outlinewidth\":0,\"ticks\":\"\"},\"colorscale\":[[0.0,\"#0d0887\"],[0.1111111111111111,\"#46039f\"],[0.2222222222222222,\"#7201a8\"],[0.3333333333333333,\"#9c179e\"],[0.4444444444444444,\"#bd3786\"],[0.5555555555555556,\"#d8576b\"],[0.6666666666666666,\"#ed7953\"],[0.7777777777777778,\"#fb9f3a\"],[0.8888888888888888,\"#fdca26\"],[1.0,\"#f0f921\"]],\"type\":\"surface\"}],\"table\":[{\"cells\":{\"fill\":{\"color\":\"#EBF0F8\"},\"line\":{\"color\":\"white\"}},\"header\":{\"fill\":{\"color\":\"#C8D4E3\"},\"line\":{\"color\":\"white\"}},\"type\":\"table\"}]},\"layout\":{\"annotationdefaults\":{\"arrowcolor\":\"#2a3f5f\",\"arrowhead\":0,\"arrowwidth\":1},\"autotypenumbers\":\"strict\",\"coloraxis\":{\"colorbar\":{\"outlinewidth\":0,\"ticks\":\"\"}},\"colorscale\":{\"diverging\":[[0,\"#8e0152\"],[0.1,\"#c51b7d\"],[0.2,\"#de77ae\"],[0.3,\"#f1b6da\"],[0.4,\"#fde0ef\"],[0.5,\"#f7f7f7\"],[0.6,\"#e6f5d0\"],[0.7,\"#b8e186\"],[0.8,\"#7fbc41\"],[0.9,\"#4d9221\"],[1,\"#276419\"]],\"sequential\":[[0.0,\"#0d0887\"],[0.1111111111111111,\"#46039f\"],[0.2222222222222222,\"#7201a8\"],[0.3333333333333333,\"#9c179e\"],[0.4444444444444444,\"#bd3786\"],[0.5555555555555556,\"#d8576b\"],[0.6666666666666666,\"#ed7953\"],[0.7777777777777778,\"#fb9f3a\"],[0.8888888888888888,\"#fdca26\"],[1.0,\"#f0f921\"]],\"sequentialminus\":[[0.0,\"#0d0887\"],[0.1111111111111111,\"#46039f\"],[0.2222222222222222,\"#7201a8\"],[0.3333333333333333,\"#9c179e\"],[0.4444444444444444,\"#bd3786\"],[0.5555555555555556,\"#d8576b\"],[0.6666666666666666,\"#ed7953\"],[0.7777777777777778,\"#fb9f3a\"],[0.8888888888888888,\"#fdca26\"],[1.0,\"#f0f921\"]]},\"colorway\":[\"#636efa\",\"#EF553B\",\"#00cc96\",\"#ab63fa\",\"#FFA15A\",\"#19d3f3\",\"#FF6692\",\"#B6E880\",\"#FF97FF\",\"#FECB52\"],\"font\":{\"color\":\"#2a3f5f\"},\"geo\":{\"bgcolor\":\"white\",\"lakecolor\":\"white\",\"landcolor\":\"#E5ECF6\",\"showlakes\":true,\"showland\":true,\"subunitcolor\":\"white\"},\"hoverlabel\":{\"align\":\"left\"},\"hovermode\":\"closest\",\"mapbox\":{\"style\":\"light\"},\"paper_bgcolor\":\"white\",\"plot_bgcolor\":\"#E5ECF6\",\"polar\":{\"angularaxis\":{\"gridcolor\":\"white\",\"linecolor\":\"white\",\"ticks\":\"\"},\"bgcolor\":\"#E5ECF6\",\"radialaxis\":{\"gridcolor\":\"white\",\"linecolor\":\"white\",\"ticks\":\"\"}},\"scene\":{\"xaxis\":{\"backgroundcolor\":\"#E5ECF6\",\"gridcolor\":\"white\",\"gridwidth\":2,\"linecolor\":\"white\",\"showbackground\":true,\"ticks\":\"\",\"zerolinecolor\":\"white\"},\"yaxis\":{\"backgroundcolor\":\"#E5ECF6\",\"gridcolor\":\"white\",\"gridwidth\":2,\"linecolor\":\"white\",\"showbackground\":true,\"ticks\":\"\",\"zerolinecolor\":\"white\"},\"zaxis\":{\"backgroundcolor\":\"#E5ECF6\",\"gridcolor\":\"white\",\"gridwidth\":2,\"linecolor\":\"white\",\"showbackground\":true,\"ticks\":\"\",\"zerolinecolor\":\"white\"}},\"shapedefaults\":{\"line\":{\"color\":\"#2a3f5f\"}},\"ternary\":{\"aaxis\":{\"gridcolor\":\"white\",\"linecolor\":\"white\",\"ticks\":\"\"},\"baxis\":{\"gridcolor\":\"white\",\"linecolor\":\"white\",\"ticks\":\"\"},\"bgcolor\":\"#E5ECF6\",\"caxis\":{\"gridcolor\":\"white\",\"linecolor\":\"white\",\"ticks\":\"\"}},\"title\":{\"x\":0.05},\"xaxis\":{\"automargin\":true,\"gridcolor\":\"white\",\"linecolor\":\"white\",\"ticks\":\"\",\"title\":{\"standoff\":15},\"zerolinecolor\":\"white\",\"zerolinewidth\":2},\"yaxis\":{\"automargin\":true,\"gridcolor\":\"white\",\"linecolor\":\"white\",\"ticks\":\"\",\"title\":{\"standoff\":15},\"zerolinecolor\":\"white\",\"zerolinewidth\":2}}}},                        {\"responsive\": true}                    ).then(function(){\n",
              "                            \n",
              "var gd = document.getElementById('c98170db-b7ad-46d4-a3df-51dccdea3452');\n",
              "var x = new MutationObserver(function (mutations, observer) {{\n",
              "        var display = window.getComputedStyle(gd).display;\n",
              "        if (!display || display === 'none') {{\n",
              "            console.log([gd, 'removed!']);\n",
              "            Plotly.purge(gd);\n",
              "            observer.disconnect();\n",
              "        }}\n",
              "}});\n",
              "\n",
              "// Listen for the removal of the full notebook cells\n",
              "var notebookContainer = gd.closest('#notebook-container');\n",
              "if (notebookContainer) {{\n",
              "    x.observe(notebookContainer, {childList: true});\n",
              "}}\n",
              "\n",
              "// Listen for the clearing of the current output cell\n",
              "var outputEl = gd.closest('.output');\n",
              "if (outputEl) {{\n",
              "    x.observe(outputEl, {childList: true});\n",
              "}}\n",
              "\n",
              "                        })                };                            </script>        </div>\n",
              "</body>\n",
              "</html>"
            ]
          },
          "metadata": {}
        }
      ]
    },
    {
      "cell_type": "code",
      "source": [
        "fig = px.box(\n",
        "    df.dropna(),\n",
        "    x= \"product_size\",\n",
        "    y=\t\"price\",\n",
        "    title =\"abc \",\n",
        "    template= \"seaborn\"\n",
        ")\n",
        "fig.update_layout(\n",
        "    autosize=False,\n",
        "    width=500,\n",
        "    height=500\n",
        ")\n",
        "\n",
        "fig.show()"
      ],
      "metadata": {
        "colab": {
          "base_uri": "https://localhost:8080/",
          "height": 517
        },
        "id": "oWGagdYT62ve",
        "outputId": "d6a48267-24df-4c95-a1f6-8162f48911c9"
      },
      "execution_count": 9,
      "outputs": [
        {
          "output_type": "display_data",
          "data": {
            "text/html": [
              "<html>\n",
              "<head><meta charset=\"utf-8\" /></head>\n",
              "<body>\n",
              "    <div>            <script src=\"https://cdnjs.cloudflare.com/ajax/libs/mathjax/2.7.5/MathJax.js?config=TeX-AMS-MML_SVG\"></script><script type=\"text/javascript\">if (window.MathJax) {MathJax.Hub.Config({SVG: {font: \"STIX-Web\"}});}</script>                <script type=\"text/javascript\">window.PlotlyConfig = {MathJaxConfig: 'local'};</script>\n",
              "        <script src=\"https://cdn.plot.ly/plotly-2.8.3.min.js\"></script>                <div id=\"8183ff07-54c5-4608-b1b0-01e84d52f2b5\" class=\"plotly-graph-div\" style=\"height:500px; width:500px;\"></div>            <script type=\"text/javascript\">                                    window.PLOTLYENV=window.PLOTLYENV || {};                                    if (document.getElementById(\"8183ff07-54c5-4608-b1b0-01e84d52f2b5\")) {                    Plotly.newPlot(                        \"8183ff07-54c5-4608-b1b0-01e84d52f2b5\",                        [{\"alignmentgroup\":\"True\",\"hovertemplate\":\"product_size=%{x}<br>price=%{y}<extra></extra>\",\"legendgroup\":\"\",\"marker\":{\"color\":\"rgb(76,114,176)\"},\"name\":\"\",\"notched\":false,\"offsetgroup\":\"\",\"orientation\":\"v\",\"showlegend\":false,\"x\":[\"standard\",\"standard\",\"small\",\"standard\",\"standard\",\"standard\",\"standard\",\"standard\",\"standard\",\"small\",\"standard\",\"small\",\"standard\",\"standard\",\"standard\",\"small\",\"standard\",\"small\",\"small\",\"standard\",\"small\",\"standard\",\"standard\",\"small\",\"standard\",\"standard\",\"standard\",\"standard\",\"standard\",\"small\",\"standard\",\"small\",\"small\",\"small\",\"small\",\"standard\",\"small\",\"small\",\"standard\",\"small\",\"small\",\"standard\",\"standard\",\"standard\",\"standard\",\"small\",\"small\",\"standard\",\"standard\",\"standard\",\"small\",\"small\",\"standard\",\"small\",\"standard\",\"small\",\"small\",\"standard\",\"standard\",\"standard\",\"standard\",\"small\",\"standard\",\"small\",\"standard\",\"standard\",\"small\",\"standard\",\"standard\",\"standard\",\"standard\",\"standard\",\"small\",\"small\",\"standard\",\"standard\",\"standard\",\"small\",\"small\",\"standard\",\"small\",\"standard\",\"standard\",\"small\",\"standard\",\"standard\",\"small\",\"standard\",\"small\",\"standard\",\"standard\",\"standard\",\"small\",\"small\",\"standard\",\"standard\",\"standard\",\"standard\",\"standard\",\"large\",\"standard\",\"standard\",\"standard\",\"small\",\"small\",\"standard\",\"standard\",\"standard\",\"standard\",\"small\",\"standard\",\"standard\",\"small\",\"standard\",\"standard\",\"standard\",\"standard\",\"small\",\"standard\",\"standard\",\"standard\",\"standard\",\"small\",\"small\",\"standard\",\"small\",\"standard\",\"standard\",\"standard\",\"small\",\"small\",\"small\",\"standard\",\"standard\",\"small\",\"standard\",\"small\",\"standard\",\"standard\",\"standard\",\"standard\",\"small\",\"standard\",\"standard\",\"small\",\"standard\",\"standard\",\"small\",\"standard\",\"standard\",\"small\",\"standard\",\"small\",\"standard\",\"standard\",\"standard\",\"standard\",\"small\",\"standard\",\"standard\",\"small\",\"standard\",\"standard\",\"standard\",\"standard\",\"standard\",\"small\",\"standard\",\"standard\",\"small\",\"small\",\"small\",\"small\",\"standard\",\"standard\",\"standard\",\"standard\",\"standard\",\"small\",\"standard\",\"standard\",\"standard\",\"small\",\"standard\",\"standard\",\"small\",\"small\",\"small\",\"standard\",\"standard\",\"small\",\"standard\",\"small\",\"standard\",\"standard\",\"standard\",\"small\",\"standard\",\"standard\",\"small\",\"standard\",\"standard\",\"standard\",\"standard\",\"small\",\"standard\",\"standard\",\"small\",\"small\",\"standard\",\"small\",\"standard\",\"small\",\"standard\",\"standard\",\"small\",\"small\",\"standard\",\"small\",\"standard\",\"small\",\"standard\",\"standard\",\"standard\",\"small\",\"standard\",\"standard\",\"small\",\"standard\",\"standard\",\"standard\",\"standard\",\"standard\",\"standard\",\"standard\",\"standard\",\"standard\",\"standard\",\"standard\",\"small\",\"small\",\"small\",\"standard\",\"standard\",\"standard\",\"small\",\"standard\",\"standard\",\"small\",\"standard\",\"small\",\"small\",\"small\",\"large\",\"standard\",\"small\",\"standard\",\"small\",\"small\",\"standard\",\"standard\",\"small\",\"standard\",\"small\",\"small\",\"standard\",\"small\",\"small\",\"standard\",\"small\",\"standard\",\"standard\",\"standard\",\"standard\",\"standard\",\"standard\",\"small\",\"standard\",\"small\",\"standard\",\"small\",\"standard\",\"small\",\"standard\",\"standard\",\"standard\",\"standard\",\"small\",\"small\",\"small\",\"standard\",\"small\",\"standard\",\"small\",\"standard\",\"small\",\"standard\",\"small\",\"standard\",\"standard\",\"small\",\"small\",\"standard\",\"small\",\"standard\",\"small\",\"standard\",\"standard\",\"standard\",\"small\",\"standard\",\"small\",\"standard\",\"standard\",\"small\",\"standard\",\"small\",\"standard\",\"small\",\"standard\",\"standard\",\"standard\",\"standard\",\"small\",\"small\",\"standard\",\"small\",\"standard\",\"standard\",\"small\",\"small\",\"standard\",\"standard\",\"small\",\"small\",\"standard\",\"standard\",\"standard\",\"standard\",\"standard\",\"small\",\"small\",\"large\",\"standard\",\"small\",\"standard\",\"standard\",\"standard\",\"standard\",\"standard\",\"small\",\"standard\",\"standard\",\"standard\",\"standard\",\"standard\",\"small\",\"small\",\"standard\",\"small\",\"standard\",\"standard\",\"standard\",\"standard\",\"standard\",\"standard\",\"small\",\"standard\",\"small\",\"large\",\"standard\",\"small\",\"small\",\"small\",\"standard\",\"standard\",\"standard\",\"standard\",\"standard\",\"small\",\"standard\",\"standard\",\"standard\",\"small\",\"standard\",\"small\",\"standard\",\"small\",\"small\",\"standard\",\"small\",\"standard\",\"large\",\"standard\",\"standard\",\"standard\",\"standard\",\"small\",\"small\",\"small\",\"standard\",\"standard\",\"standard\",\"small\",\"standard\",\"large\",\"standard\",\"standard\",\"small\",\"standard\",\"small\",\"standard\",\"standard\",\"standard\",\"small\",\"standard\",\"standard\",\"standard\",\"small\",\"small\",\"large\",\"standard\",\"standard\",\"standard\",\"standard\",\"standard\",\"small\",\"small\",\"standard\",\"small\",\"standard\",\"standard\",\"standard\",\"small\",\"standard\",\"standard\",\"standard\",\"standard\",\"small\",\"standard\",\"standard\",\"small\",\"standard\",\"small\",\"standard\",\"standard\",\"small\",\"small\",\"standard\",\"standard\",\"standard\",\"small\",\"standard\",\"large\",\"small\",\"standard\",\"small\",\"standard\",\"small\",\"standard\",\"standard\",\"standard\",\"small\",\"small\",\"standard\",\"small\",\"standard\",\"standard\",\"small\",\"standard\",\"standard\",\"small\",\"small\",\"standard\",\"small\",\"standard\",\"standard\",\"standard\",\"large\",\"standard\",\"small\",\"standard\",\"standard\",\"small\",\"small\",\"small\",\"small\",\"standard\",\"small\",\"standard\",\"standard\",\"standard\",\"standard\",\"standard\",\"standard\",\"small\",\"standard\",\"standard\",\"standard\",\"large\",\"standard\",\"standard\",\"standard\",\"small\",\"standard\",\"standard\",\"small\",\"standard\",\"small\",\"small\",\"small\",\"small\",\"small\",\"standard\",\"small\",\"standard\",\"standard\",\"standard\",\"standard\",\"small\",\"standard\",\"standard\",\"small\",\"standard\",\"standard\",\"standard\",\"standard\",\"standard\",\"standard\",\"standard\",\"small\",\"standard\",\"small\",\"standard\",\"small\",\"standard\",\"small\",\"standard\",\"small\",\"standard\",\"standard\",\"small\",\"small\",\"small\",\"small\",\"standard\",\"standard\",\"small\",\"standard\",\"standard\",\"standard\",\"standard\",\"small\",\"small\",\"standard\",\"standard\",\"standard\",\"standard\",\"standard\",\"standard\",\"small\",\"small\",\"small\",\"large\",\"small\",\"small\",\"small\",\"small\",\"standard\",\"small\",\"standard\",\"small\",\"standard\",\"small\",\"standard\",\"standard\",\"standard\",\"standard\",\"standard\",\"small\",\"small\",\"standard\",\"standard\",\"standard\",\"standard\",\"standard\",\"large\",\"small\",\"standard\",\"small\",\"standard\",\"standard\",\"standard\",\"small\",\"small\",\"small\",\"small\",\"small\",\"small\",\"standard\",\"standard\",\"standard\",\"standard\",\"small\",\"small\",\"small\",\"standard\",\"standard\",\"small\",\"small\",\"standard\",\"large\",\"standard\",\"standard\",\"standard\",\"standard\",\"small\",\"standard\",\"small\",\"standard\",\"standard\",\"small\",\"standard\",\"standard\",\"standard\",\"standard\",\"standard\",\"small\",\"standard\",\"standard\",\"small\",\"small\",\"standard\",\"standard\",\"standard\",\"small\",\"standard\",\"standard\",\"small\",\"standard\",\"small\",\"small\",\"standard\",\"standard\",\"small\",\"standard\",\"standard\",\"standard\",\"standard\",\"standard\",\"standard\",\"standard\",\"small\",\"standard\",\"small\",\"standard\",\"standard\",\"standard\",\"standard\",\"standard\",\"standard\",\"small\",\"small\",\"standard\",\"standard\",\"small\",\"standard\",\"standard\",\"standard\",\"small\",\"standard\",\"small\",\"standard\",\"standard\",\"small\",\"standard\",\"standard\",\"standard\",\"standard\",\"standard\",\"small\",\"standard\",\"standard\",\"standard\",\"standard\",\"standard\",\"small\",\"standard\",\"small\",\"standard\",\"standard\",\"standard\",\"standard\",\"standard\",\"small\",\"small\",\"small\",\"standard\",\"small\",\"standard\",\"small\",\"standard\",\"standard\",\"small\",\"small\",\"small\",\"small\",\"small\",\"standard\",\"small\",\"standard\",\"small\",\"small\",\"standard\",\"standard\",\"small\",\"small\",\"small\",\"small\",\"small\",\"small\",\"standard\",\"standard\",\"standard\",\"small\",\"small\",\"standard\",\"standard\",\"large\",\"standard\",\"small\",\"small\",\"standard\",\"standard\",\"standard\",\"small\",\"standard\",\"small\",\"standard\",\"standard\",\"standard\",\"small\",\"small\",\"standard\",\"standard\",\"small\",\"small\",\"standard\",\"standard\",\"small\",\"standard\",\"small\",\"standard\",\"small\",\"standard\",\"standard\",\"standard\",\"small\",\"standard\",\"small\",\"small\",\"standard\",\"standard\",\"small\",\"small\",\"standard\",\"standard\",\"standard\",\"small\",\"small\",\"small\",\"standard\",\"standard\",\"standard\",\"standard\",\"standard\",\"small\",\"standard\",\"standard\",\"small\",\"large\",\"small\",\"standard\",\"standard\",\"large\",\"standard\",\"standard\",\"standard\",\"small\",\"standard\",\"small\",\"small\",\"standard\",\"standard\",\"small\",\"standard\",\"small\",\"small\",\"standard\",\"standard\",\"small\",\"standard\",\"standard\",\"large\",\"standard\",\"standard\",\"standard\",\"standard\",\"standard\",\"standard\",\"standard\",\"small\",\"standard\",\"standard\",\"small\",\"small\",\"standard\",\"small\",\"small\",\"small\",\"standard\",\"standard\",\"small\",\"small\",\"standard\",\"small\",\"small\",\"standard\",\"small\",\"small\",\"standard\",\"standard\",\"standard\",\"standard\",\"standard\",\"standard\",\"standard\",\"standard\",\"standard\",\"standard\",\"small\",\"standard\",\"standard\",\"small\",\"small\",\"small\",\"standard\",\"small\",\"small\",\"standard\",\"small\",\"standard\",\"small\",\"small\",\"small\",\"small\",\"standard\",\"small\",\"standard\",\"standard\",\"standard\",\"standard\",\"standard\",\"standard\",\"small\",\"small\",\"large\",\"standard\",\"small\",\"small\",\"standard\",\"standard\",\"standard\",\"standard\",\"standard\",\"standard\",\"standard\",\"standard\",\"standard\",\"standard\",\"standard\",\"standard\",\"small\",\"small\",\"standard\",\"small\",\"standard\",\"standard\",\"small\",\"standard\",\"standard\",\"standard\",\"small\",\"small\",\"standard\",\"standard\",\"small\",\"standard\",\"small\",\"standard\",\"small\",\"small\",\"small\",\"standard\",\"standard\",\"small\",\"small\",\"standard\",\"standard\",\"standard\",\"small\",\"standard\",\"standard\",\"standard\",\"standard\",\"standard\",\"small\",\"small\",\"small\",\"large\",\"standard\",\"standard\",\"standard\",\"standard\",\"small\",\"standard\",\"standard\",\"standard\",\"standard\",\"small\",\"standard\",\"small\",\"small\",\"standard\",\"small\",\"standard\",\"small\",\"small\",\"small\",\"standard\",\"standard\",\"standard\",\"standard\",\"standard\",\"small\",\"standard\",\"standard\",\"small\",\"standard\",\"small\",\"standard\",\"small\",\"standard\",\"standard\",\"small\",\"small\",\"small\",\"small\",\"standard\",\"small\",\"standard\",\"small\",\"small\",\"small\",\"small\",\"small\",\"small\",\"standard\",\"standard\",\"small\",\"standard\",\"small\",\"small\",\"standard\",\"small\",\"small\",\"small\",\"small\",\"standard\",\"standard\",\"standard\",\"small\",\"standard\",\"standard\",\"standard\",\"small\",\"standard\",\"standard\",\"standard\",\"small\",\"standard\",\"standard\",\"standard\",\"small\",\"standard\",\"small\",\"small\",\"standard\",\"standard\",\"standard\",\"standard\",\"standard\",\"standard\",\"small\",\"standard\",\"small\",\"standard\",\"standard\",\"standard\",\"small\",\"small\",\"small\",\"standard\",\"small\",\"standard\",\"standard\",\"small\",\"standard\",\"standard\",\"standard\",\"standard\",\"standard\",\"standard\",\"standard\",\"standard\",\"standard\",\"small\",\"small\",\"small\",\"standard\",\"small\",\"standard\",\"standard\",\"standard\",\"large\",\"standard\",\"small\",\"standard\",\"small\",\"small\",\"small\",\"standard\",\"small\",\"small\",\"standard\",\"standard\",\"standard\",\"standard\",\"standard\",\"standard\",\"large\",\"standard\",\"small\",\"standard\",\"small\",\"small\",\"standard\",\"standard\",\"standard\",\"standard\",\"standard\",\"standard\",\"small\",\"standard\",\"standard\",\"standard\",\"standard\",\"standard\",\"standard\",\"small\",\"standard\",\"small\",\"small\",\"standard\",\"standard\",\"standard\",\"small\",\"small\",\"standard\",\"small\",\"standard\",\"standard\",\"standard\",\"small\",\"small\",\"small\",\"small\",\"standard\",\"small\",\"small\",\"standard\",\"standard\",\"standard\",\"small\",\"standard\",\"standard\",\"small\",\"small\",\"standard\",\"standard\",\"small\",\"standard\",\"standard\",\"standard\",\"standard\",\"standard\",\"standard\",\"standard\",\"standard\",\"standard\",\"standard\",\"standard\",\"small\",\"small\",\"small\",\"standard\",\"standard\",\"standard\",\"small\",\"small\",\"standard\",\"standard\",\"standard\",\"standard\",\"small\",\"standard\",\"standard\",\"standard\",\"small\",\"standard\",\"large\",\"standard\",\"small\",\"small\",\"small\",\"small\",\"standard\",\"small\",\"standard\",\"standard\",\"small\",\"small\",\"standard\",\"small\",\"small\",\"standard\",\"small\",\"standard\",\"standard\",\"standard\",\"standard\",\"standard\",\"standard\",\"small\",\"standard\",\"standard\",\"standard\",\"small\",\"small\",\"small\",\"small\",\"standard\",\"standard\",\"standard\",\"standard\",\"standard\",\"standard\",\"standard\",\"standard\",\"standard\",\"standard\",\"standard\",\"standard\",\"standard\",\"small\",\"standard\",\"standard\",\"standard\",\"standard\",\"small\",\"standard\",\"large\",\"standard\",\"large\",\"standard\",\"small\",\"standard\",\"small\",\"small\",\"standard\",\"standard\",\"small\",\"standard\",\"small\",\"standard\",\"standard\",\"standard\",\"standard\",\"standard\",\"standard\",\"standard\",\"small\",\"large\",\"standard\",\"standard\",\"small\",\"small\",\"standard\",\"standard\",\"small\",\"small\",\"standard\",\"standard\",\"small\",\"small\",\"small\",\"small\",\"small\",\"standard\",\"standard\",\"standard\",\"small\",\"standard\",\"standard\",\"small\",\"standard\",\"standard\",\"standard\",\"standard\",\"small\",\"small\",\"small\",\"standard\",\"standard\",\"large\",\"standard\",\"standard\",\"standard\",\"small\",\"standard\",\"standard\",\"small\",\"standard\",\"small\",\"standard\",\"small\",\"small\",\"standard\",\"standard\",\"small\",\"small\",\"standard\",\"small\",\"standard\",\"standard\",\"small\",\"standard\",\"standard\",\"standard\",\"standard\",\"standard\",\"small\",\"standard\",\"small\",\"small\",\"standard\",\"standard\",\"small\",\"standard\",\"standard\",\"standard\",\"small\",\"standard\",\"standard\",\"small\",\"standard\",\"standard\",\"standard\",\"standard\",\"small\",\"standard\",\"standard\",\"standard\",\"standard\",\"standard\",\"standard\",\"small\",\"small\",\"large\",\"standard\",\"standard\",\"small\",\"small\",\"small\",\"small\",\"small\",\"standard\",\"standard\",\"standard\",\"small\",\"standard\",\"standard\",\"standard\",\"standard\",\"standard\",\"small\",\"standard\",\"small\",\"standard\",\"standard\",\"standard\",\"small\",\"standard\",\"small\",\"small\",\"small\",\"small\",\"small\",\"standard\",\"small\",\"standard\",\"small\",\"small\",\"standard\",\"standard\",\"standard\",\"standard\",\"small\",\"standard\",\"small\",\"standard\",\"standard\",\"standard\",\"small\",\"small\",\"standard\",\"standard\",\"small\",\"standard\",\"small\",\"small\",\"standard\",\"standard\",\"standard\",\"standard\",\"standard\",\"standard\",\"small\",\"standard\",\"standard\",\"standard\",\"small\",\"standard\",\"standard\",\"standard\",\"small\",\"standard\",\"small\",\"small\",\"small\",\"small\",\"standard\",\"small\",\"small\",\"small\",\"standard\",\"standard\",\"small\",\"standard\",\"standard\",\"standard\",\"standard\",\"large\",\"small\",\"small\",\"standard\",\"standard\",\"small\",\"small\",\"standard\",\"standard\",\"small\",\"standard\",\"standard\",\"standard\",\"small\",\"small\",\"standard\",\"small\",\"standard\",\"small\",\"small\",\"standard\",\"standard\",\"small\",\"standard\",\"small\",\"small\",\"small\",\"small\",\"standard\",\"small\",\"standard\",\"standard\",\"standard\",\"standard\",\"small\",\"small\",\"small\",\"small\",\"standard\",\"standard\",\"standard\",\"small\",\"standard\",\"small\",\"small\",\"standard\",\"standard\",\"standard\",\"standard\",\"standard\",\"standard\",\"standard\",\"standard\",\"standard\",\"standard\",\"small\",\"small\",\"small\",\"small\",\"standard\",\"standard\",\"small\",\"standard\",\"standard\",\"standard\",\"standard\",\"standard\",\"small\",\"standard\",\"small\",\"standard\",\"standard\",\"small\",\"small\",\"standard\",\"standard\",\"small\",\"small\",\"standard\",\"standard\",\"small\",\"small\",\"small\",\"small\",\"standard\",\"standard\",\"standard\",\"standard\",\"standard\",\"small\",\"small\",\"standard\",\"small\",\"standard\",\"standard\",\"standard\",\"standard\",\"standard\",\"standard\",\"small\",\"standard\",\"small\",\"small\",\"standard\",\"standard\",\"standard\",\"small\",\"standard\",\"large\",\"standard\",\"standard\",\"standard\",\"standard\",\"standard\",\"small\",\"small\",\"standard\",\"standard\",\"small\",\"small\",\"standard\",\"small\",\"small\",\"small\",\"standard\",\"small\",\"standard\",\"standard\",\"small\",\"standard\",\"standard\",\"small\",\"standard\",\"standard\",\"standard\",\"small\",\"standard\",\"small\",\"standard\",\"standard\",\"small\",\"small\",\"small\",\"small\",\"small\",\"standard\",\"standard\",\"small\",\"standard\",\"small\",\"standard\",\"small\",\"small\",\"small\",\"standard\",\"small\",\"standard\",\"standard\",\"standard\",\"standard\",\"small\",\"standard\",\"standard\",\"standard\",\"standard\",\"standard\",\"standard\",\"small\",\"standard\",\"standard\",\"standard\",\"small\",\"standard\",\"standard\",\"small\",\"standard\",\"standard\",\"small\",\"standard\",\"standard\",\"small\",\"small\",\"small\",\"standard\",\"standard\",\"standard\",\"small\",\"small\",\"standard\",\"standard\",\"standard\",\"standard\",\"small\",\"standard\",\"standard\",\"standard\",\"standard\",\"standard\",\"standard\",\"standard\",\"standard\",\"small\",\"small\",\"small\",\"standard\",\"small\",\"small\",\"small\",\"standard\",\"standard\",\"standard\",\"small\",\"standard\",\"standard\",\"small\",\"standard\",\"small\",\"standard\",\"standard\",\"small\",\"standard\",\"standard\",\"standard\",\"small\",\"standard\",\"standard\",\"small\",\"standard\",\"standard\",\"small\",\"standard\",\"standard\",\"standard\",\"standard\",\"standard\",\"small\",\"standard\",\"standard\",\"standard\",\"small\",\"small\",\"small\",\"standard\",\"small\",\"standard\",\"standard\",\"standard\",\"standard\",\"small\",\"standard\",\"standard\",\"small\",\"small\",\"standard\",\"small\",\"standard\",\"small\",\"standard\",\"standard\",\"small\",\"standard\",\"standard\",\"standard\",\"standard\",\"small\",\"small\",\"standard\",\"large\",\"standard\",\"small\",\"standard\",\"standard\",\"standard\",\"standard\",\"standard\",\"standard\",\"small\",\"standard\",\"small\",\"small\",\"standard\",\"standard\",\"small\",\"standard\",\"small\",\"standard\",\"standard\",\"small\",\"small\",\"standard\",\"standard\",\"small\",\"small\",\"standard\",\"standard\",\"standard\",\"small\",\"small\",\"standard\",\"standard\",\"small\",\"standard\",\"standard\",\"standard\",\"small\",\"standard\",\"small\",\"standard\",\"standard\",\"small\",\"standard\",\"standard\",\"standard\",\"small\",\"small\",\"small\",\"standard\",\"standard\",\"standard\",\"standard\",\"small\",\"standard\",\"standard\",\"small\",\"standard\",\"small\",\"small\",\"small\",\"small\",\"standard\",\"small\",\"standard\",\"small\",\"small\",\"small\",\"standard\",\"standard\",\"small\",\"standard\",\"standard\",\"standard\",\"standard\",\"standard\",\"standard\",\"standard\",\"small\",\"small\",\"small\",\"small\",\"standard\",\"standard\",\"small\",\"small\",\"small\",\"standard\",\"standard\",\"small\",\"small\",\"standard\",\"standard\",\"small\",\"standard\",\"standard\",\"standard\",\"standard\",\"standard\",\"standard\",\"small\",\"standard\",\"standard\",\"standard\",\"small\",\"small\",\"standard\",\"standard\",\"small\",\"small\",\"standard\",\"standard\",\"small\",\"small\",\"standard\",\"small\",\"small\",\"standard\",\"standard\",\"standard\",\"standard\",\"small\",\"small\",\"standard\",\"standard\",\"small\",\"small\",\"standard\",\"standard\",\"standard\",\"standard\",\"small\",\"small\",\"standard\",\"standard\",\"small\",\"small\",\"small\",\"standard\",\"small\",\"standard\",\"small\",\"standard\",\"small\",\"small\",\"standard\",\"standard\",\"standard\",\"small\",\"standard\",\"standard\",\"standard\",\"standard\",\"large\",\"standard\",\"small\",\"small\",\"standard\",\"standard\",\"standard\",\"small\",\"small\",\"standard\",\"standard\",\"small\",\"standard\",\"standard\",\"small\",\"small\",\"standard\",\"small\",\"small\",\"small\",\"standard\",\"standard\",\"standard\",\"standard\",\"small\",\"standard\",\"standard\",\"standard\",\"standard\",\"standard\",\"standard\",\"small\",\"standard\",\"standard\",\"small\",\"standard\",\"standard\",\"standard\",\"standard\",\"standard\",\"small\",\"small\",\"standard\",\"standard\",\"small\",\"standard\",\"standard\",\"standard\",\"small\",\"small\",\"small\",\"standard\",\"standard\",\"standard\",\"small\",\"standard\",\"small\",\"standard\",\"standard\",\"small\",\"standard\",\"standard\",\"small\",\"standard\",\"small\",\"standard\",\"standard\",\"small\",\"standard\",\"small\",\"standard\",\"small\",\"standard\",\"small\",\"standard\",\"standard\",\"standard\",\"small\",\"small\",\"standard\",\"small\",\"standard\",\"standard\",\"small\",\"standard\",\"small\",\"standard\",\"standard\",\"small\",\"small\",\"standard\",\"standard\",\"small\",\"small\",\"standard\",\"small\",\"small\",\"standard\",\"standard\",\"small\",\"small\",\"standard\",\"standard\",\"standard\",\"small\",\"standard\",\"standard\",\"standard\",\"small\",\"small\",\"standard\",\"standard\",\"small\",\"small\",\"standard\",\"standard\",\"small\",\"standard\",\"small\",\"standard\",\"standard\",\"small\",\"small\",\"standard\",\"standard\",\"small\",\"standard\",\"standard\",\"standard\",\"standard\",\"standard\",\"small\",\"standard\",\"small\",\"standard\",\"standard\",\"standard\",\"large\",\"small\",\"small\",\"small\",\"small\",\"small\",\"small\",\"standard\",\"small\",\"standard\",\"standard\",\"standard\",\"small\",\"standard\",\"standard\",\"standard\",\"standard\",\"standard\",\"small\",\"small\",\"standard\",\"small\",\"standard\",\"standard\",\"small\",\"standard\",\"standard\",\"small\",\"standard\",\"standard\",\"standard\",\"large\",\"standard\",\"standard\",\"standard\",\"small\",\"standard\",\"standard\",\"small\",\"standard\",\"standard\",\"small\",\"standard\",\"standard\",\"small\",\"standard\",\"small\",\"standard\",\"standard\",\"standard\",\"small\",\"small\",\"standard\",\"standard\",\"small\",\"small\",\"small\",\"standard\",\"standard\",\"small\",\"standard\",\"small\",\"standard\",\"standard\",\"large\",\"standard\",\"standard\",\"standard\",\"standard\",\"small\",\"standard\",\"standard\",\"standard\",\"small\",\"standard\",\"standard\",\"standard\",\"standard\",\"small\",\"standard\",\"small\",\"standard\",\"standard\",\"standard\",\"standard\",\"standard\",\"standard\",\"large\",\"small\",\"small\",\"standard\",\"standard\",\"small\",\"small\",\"small\",\"small\",\"small\",\"standard\",\"small\",\"standard\",\"standard\",\"small\",\"small\",\"standard\",\"small\",\"small\",\"standard\",\"small\",\"small\",\"standard\",\"standard\",\"standard\",\"small\",\"small\",\"standard\",\"standard\",\"standard\",\"small\",\"small\",\"small\",\"small\",\"small\",\"standard\",\"standard\",\"standard\",\"small\",\"standard\",\"standard\",\"standard\",\"standard\",\"small\",\"standard\",\"standard\",\"small\",\"small\",\"standard\",\"standard\",\"standard\",\"small\",\"small\",\"standard\",\"small\",\"standard\",\"small\",\"standard\",\"standard\",\"standard\",\"small\",\"standard\",\"small\",\"small\",\"small\",\"standard\",\"standard\",\"standard\",\"standard\",\"standard\",\"standard\",\"standard\",\"small\",\"standard\",\"small\",\"small\",\"standard\",\"standard\",\"standard\",\"standard\",\"standard\",\"large\",\"standard\",\"standard\",\"standard\",\"small\",\"standard\",\"standard\",\"standard\",\"standard\",\"standard\",\"large\",\"small\",\"small\",\"small\",\"small\",\"standard\",\"small\",\"standard\",\"standard\",\"small\",\"small\",\"small\",\"standard\",\"small\",\"small\",\"standard\",\"small\",\"standard\",\"standard\",\"standard\",\"standard\",\"standard\",\"standard\",\"standard\",\"standard\",\"standard\",\"standard\",\"standard\",\"standard\",\"small\",\"standard\",\"small\",\"standard\",\"standard\",\"small\",\"small\",\"standard\",\"small\",\"small\",\"standard\",\"standard\",\"small\",\"small\",\"small\",\"standard\",\"standard\",\"standard\",\"standard\",\"standard\",\"small\",\"small\",\"standard\",\"standard\",\"standard\",\"small\",\"standard\",\"small\",\"standard\",\"small\",\"standard\",\"standard\",\"small\",\"standard\",\"small\",\"standard\",\"small\",\"small\",\"standard\",\"small\",\"small\",\"small\",\"standard\",\"standard\",\"standard\",\"small\",\"small\",\"standard\",\"standard\",\"small\",\"large\",\"standard\",\"standard\",\"small\",\"small\",\"standard\",\"standard\",\"small\",\"standard\",\"standard\",\"standard\",\"standard\",\"standard\",\"small\",\"standard\",\"small\",\"small\",\"standard\",\"standard\",\"standard\",\"small\",\"standard\",\"small\",\"standard\",\"small\",\"standard\",\"standard\",\"small\",\"standard\",\"small\",\"standard\",\"standard\",\"standard\",\"small\",\"standard\",\"small\",\"small\",\"standard\",\"standard\",\"standard\",\"small\",\"standard\",\"small\",\"standard\",\"small\",\"small\",\"small\",\"small\",\"standard\",\"small\",\"small\",\"small\",\"small\",\"standard\",\"standard\",\"standard\",\"standard\",\"standard\",\"small\",\"standard\",\"standard\",\"standard\",\"small\",\"standard\",\"small\",\"standard\",\"standard\",\"small\",\"standard\",\"standard\",\"standard\",\"small\",\"small\",\"small\",\"small\",\"standard\",\"small\",\"standard\",\"standard\",\"standard\",\"standard\",\"small\",\"standard\",\"standard\",\"standard\",\"standard\",\"standard\",\"standard\",\"standard\",\"standard\",\"standard\",\"standard\",\"standard\",\"standard\",\"standard\",\"standard\",\"standard\",\"small\",\"standard\",\"standard\",\"small\",\"standard\",\"standard\",\"standard\",\"small\",\"standard\",\"small\",\"standard\",\"small\",\"standard\",\"standard\",\"standard\",\"small\",\"small\",\"small\",\"standard\",\"standard\",\"small\",\"standard\",\"small\",\"standard\",\"standard\",\"standard\",\"small\",\"small\",\"standard\",\"standard\",\"standard\",\"small\",\"small\",\"large\",\"standard\",\"standard\",\"small\",\"standard\",\"small\",\"small\",\"small\",\"standard\",\"standard\",\"standard\",\"standard\",\"standard\",\"standard\",\"small\",\"small\",\"standard\",\"small\",\"standard\",\"standard\",\"small\",\"large\",\"small\",\"standard\",\"standard\",\"small\",\"small\",\"small\",\"standard\",\"standard\",\"small\",\"standard\",\"standard\",\"large\",\"standard\",\"standard\",\"standard\",\"standard\",\"standard\",\"standard\",\"standard\",\"standard\",\"small\",\"standard\",\"small\",\"standard\",\"small\",\"standard\",\"small\",\"standard\",\"standard\",\"standard\",\"standard\",\"small\",\"standard\",\"small\",\"standard\",\"standard\",\"small\",\"standard\",\"standard\",\"standard\",\"standard\",\"large\",\"small\",\"small\",\"small\",\"standard\",\"standard\",\"small\",\"standard\",\"standard\",\"small\",\"standard\",\"standard\",\"small\",\"standard\",\"small\",\"small\",\"small\",\"small\",\"standard\",\"small\",\"standard\",\"small\",\"standard\",\"small\",\"standard\",\"standard\",\"standard\",\"standard\",\"standard\",\"small\",\"standard\",\"small\",\"standard\",\"standard\",\"small\",\"standard\",\"small\",\"standard\",\"standard\",\"standard\",\"small\",\"standard\",\"small\",\"small\",\"standard\",\"small\",\"standard\",\"large\",\"standard\",\"small\",\"standard\",\"standard\",\"small\",\"small\",\"standard\",\"standard\",\"small\",\"small\",\"small\",\"large\",\"standard\",\"small\",\"standard\",\"standard\",\"standard\",\"small\",\"standard\",\"standard\",\"small\",\"small\",\"small\",\"standard\",\"standard\",\"standard\",\"small\",\"standard\",\"standard\",\"standard\",\"small\",\"standard\",\"small\",\"standard\",\"standard\",\"small\",\"small\",\"small\",\"small\",\"standard\",\"standard\",\"standard\",\"small\",\"standard\",\"small\",\"small\",\"small\",\"small\",\"standard\",\"small\",\"standard\",\"standard\",\"small\",\"standard\",\"standard\",\"standard\",\"small\",\"standard\",\"standard\",\"small\",\"small\",\"standard\",\"standard\",\"standard\",\"standard\",\"standard\",\"small\",\"small\",\"small\",\"standard\",\"standard\",\"standard\",\"standard\",\"small\",\"standard\",\"standard\",\"small\",\"small\",\"standard\",\"standard\",\"standard\",\"small\",\"small\",\"standard\",\"standard\",\"small\",\"standard\",\"standard\",\"standard\",\"small\",\"small\",\"standard\",\"small\",\"standard\",\"small\",\"standard\",\"standard\",\"standard\",\"standard\",\"standard\",\"standard\",\"standard\",\"small\",\"standard\",\"small\",\"standard\",\"small\",\"standard\",\"standard\",\"standard\",\"standard\",\"standard\",\"standard\",\"large\",\"standard\",\"small\",\"small\",\"standard\",\"small\",\"standard\",\"standard\",\"standard\",\"small\",\"standard\",\"standard\",\"standard\",\"standard\",\"standard\",\"standard\",\"small\",\"small\",\"large\",\"standard\",\"small\",\"standard\",\"standard\",\"standard\",\"standard\",\"small\",\"small\",\"standard\",\"standard\",\"standard\",\"standard\",\"small\",\"standard\",\"small\",\"small\",\"standard\",\"standard\",\"standard\",\"small\",\"standard\",\"standard\",\"large\",\"standard\",\"standard\",\"standard\",\"standard\",\"standard\",\"standard\",\"standard\",\"small\",\"standard\",\"standard\",\"standard\",\"small\",\"small\",\"standard\",\"small\",\"standard\",\"standard\",\"standard\",\"small\",\"small\",\"small\",\"standard\",\"standard\",\"standard\",\"standard\",\"standard\",\"small\",\"large\",\"standard\",\"small\",\"small\",\"standard\",\"standard\",\"standard\",\"standard\",\"small\",\"standard\",\"standard\",\"small\",\"standard\",\"standard\",\"standard\",\"small\",\"standard\",\"standard\",\"standard\",\"standard\",\"small\",\"small\",\"standard\",\"standard\",\"standard\",\"standard\",\"standard\",\"small\",\"standard\",\"small\",\"standard\",\"small\",\"standard\",\"standard\",\"small\",\"small\",\"small\",\"standard\",\"standard\",\"small\",\"small\",\"small\",\"small\",\"standard\",\"small\",\"small\",\"standard\",\"small\",\"standard\",\"standard\",\"standard\",\"standard\",\"small\",\"standard\",\"standard\",\"standard\",\"standard\",\"small\",\"small\",\"standard\",\"standard\",\"small\",\"small\",\"standard\",\"small\",\"standard\",\"small\",\"standard\",\"standard\",\"standard\",\"standard\",\"small\",\"standard\",\"small\",\"standard\",\"standard\",\"small\",\"standard\",\"small\",\"standard\",\"standard\",\"standard\",\"standard\",\"standard\",\"standard\",\"standard\",\"standard\",\"small\",\"standard\",\"standard\",\"standard\",\"small\",\"small\",\"standard\",\"small\",\"small\",\"standard\",\"small\",\"small\",\"small\",\"standard\",\"standard\",\"small\",\"standard\",\"small\",\"standard\",\"small\",\"small\",\"standard\",\"standard\",\"standard\",\"small\",\"small\",\"small\",\"small\",\"small\",\"standard\",\"standard\",\"standard\",\"small\",\"small\",\"standard\",\"small\",\"small\",\"standard\",\"small\",\"standard\",\"small\",\"small\",\"standard\",\"small\",\"standard\",\"small\",\"small\",\"standard\",\"standard\",\"small\",\"large\",\"small\",\"small\",\"small\",\"standard\",\"standard\",\"standard\",\"standard\",\"standard\",\"small\",\"standard\",\"standard\",\"small\",\"small\",\"standard\",\"standard\",\"small\",\"standard\",\"small\",\"standard\",\"small\",\"standard\",\"standard\",\"standard\",\"small\",\"standard\",\"large\",\"standard\",\"standard\",\"standard\",\"small\",\"standard\",\"standard\",\"standard\",\"standard\",\"standard\",\"standard\",\"small\",\"standard\",\"standard\",\"standard\",\"standard\",\"standard\",\"standard\",\"standard\",\"standard\",\"small\",\"standard\",\"standard\",\"standard\",\"standard\",\"standard\",\"standard\",\"standard\",\"standard\",\"standard\",\"small\",\"standard\",\"standard\",\"standard\",\"small\",\"standard\",\"standard\",\"small\",\"small\",\"small\",\"large\",\"small\",\"small\",\"standard\",\"standard\",\"standard\",\"small\",\"standard\",\"small\",\"standard\",\"standard\",\"standard\",\"small\",\"standard\",\"standard\",\"standard\",\"standard\",\"small\",\"standard\",\"standard\",\"standard\",\"small\",\"standard\",\"small\",\"small\",\"standard\"],\"x0\":\" \",\"xaxis\":\"x\",\"y\":[39.0,75.0,117.3,95.0,11.1,59.0,11.1,53.0,40.0,62.0,62.1,12.0,37.2,14.0,34.0,23.5,45.0,55.0,40.1,72.0,7.5,25.0,47.0,12.4,33.2,100.0,54.0,30.0,13.0,120.0,180.0,50.0,105.0,55.0,6.9,113.2,15.0,67.3,48.0,85.0,75.0,22.1,30.4,142.0,30.0,41.0,40.1,48.0,90.0,79.0,23.5,8.0,20.7,14.0,37.3,43.0,22.1,20.0,15.0,50.0,39.0,135.0,41.4,61.0,29.7,35.6,65.0,95.0,14.0,65.0,10.0,5.6,8.0,12.0,9.0,18.0,155.0,48.0,77.6,6.9,22.0,13.8,11.8,59.5,21.0,26.3,10.0,14.0,275.0,53.2,30.4,82.0,55.0,59.0,49.0,14.0,40.0,41.4,13.0,19.0,72.0,40.4,8.3,60.8,38.0,6.3,4.9,36.0,62.1,9.0,21.4,13.8,62.1,32.0,10.0,18.7,150.0,48.0,46.0,52.0,30.0,21.0,52.5,27.0,34.0,80.0,28.0,48.3,38.7,38.0,150.0,41.4,56.0,9.0,11.1,60.8,40.1,50.0,36.0,48.0,53.9,105.0,78.7,103.5,18.0,34.0,27.0,6.5,65.0,99.0,110.0,28.0,16.5,12.0,91.1,62.0,41.4,6.9,7.6,65.0,60.8,59.0,19.0,29.0,11.0,179.0,25.0,41.4,52.5,13.8,79.0,19.4,68.0,11.0,94.0,34.5,21.0,22.0,4.5,50.0,38.7,52.0,62.1,74.6,13.8,62.1,23.0,212.0,64.0,34.5,60.0,80.0,72.0,100.0,34.0,59.0,10.6,16.6,15.2,68.0,24.2,69.0,39.0,38.0,160.0,104.9,22.0,33.2,6.0,18.0,35.9,32.0,100.0,75.0,85.6,4.9,29.0,38.7,72.0,27.0,275.0,418.0,10.5,27.0,65.0,113.2,41.4,12.4,99.0,36.0,13.8,28.0,27.6,70.0,45.6,65.0,38.0,50.0,20.0,58.0,13.8,7.5,33.0,19.0,14.5,61.0,18.0,55.0,11.8,40.0,8.0,71.8,84.0,6.0,14.0,32.0,13.8,56.6,9.0,39.1,110.0,40.0,68.0,2.8,62.1,48.3,31.8,23.0,16.6,39.0,34.5,80.0,168.0,45.0,37.0,28.0,144.0,21.4,28.0,69.8,46.0,115.0,48.3,84.0,30.0,24.9,79.0,13.8,24.0,238.0,81.5,4.2,66.0,72.0,65.0,85.0,22.8,279.0,27.6,11.0,27.0,44.0,30.3,48.0,65.0,4.2,26.3,62.1,23.9,48.0,34.0,7.5,31.7,33.2,183.6,4.9,225.0,79.99,65.0,75.0,22.1,20.7,40.0,16.0,88.4,27.6,85.0,165.0,38.0,79.0,131.1,47.0,27.6,119.0,82.0,48.0,48.0,35.9,6.3,18.0,79.0,18.0,24.9,29.0,140.0,65.0,99.0,63.5,18.0,31.0,66.3,17.0,7.3,99.0,32.0,16.5,55.2,32.0,32.0,18.0,31.7,58.0,8.3,42.0,27.5,34.5,62.0,40.1,6.9,66.0,33.4,34.0,27.6,16.6,13.8,58.0,65.0,95.0,37.0,27.6,64.0,68.0,45.6,24.9,35.9,98.0,41.4,173.0,57.0,23.0,81.0,25.0,15.0,79.0,32.0,335.0,87.0,30.0,16.0,6.9,95.0,19.4,9.0,9.0,55.0,17.0,55.2,27.6,4.9,44.2,113.0,115.0,44.2,29.0,75.9,52.0,45.6,15.0,98.0,135.0,55.0,31.8,27.2,92.0,28.0,38.7,13.0,62.0,69.0,8.0,49.0,46.0,113.2,120.0,5.6,29.0,68.0,18.0,48.0,29.0,65.0,17.0,45.0,185.0,36.0,89.0,44.0,4.9,50.0,92.0,39.0,350.0,82.0,199.0,36.0,75.0,28.0,22.1,12.0,28.0,180.0,105.0,190.0,225.0,29.0,149.0,40.0,66.3,15.2,22.1,4.3,18.7,53.9,400.2,145.0,88.0,75.0,23.0,20.0,72.0,75.9,90.0,25.0,13.0,52.5,41.4,68.0,45.0,5.8,72.0,78.0,12.0,69.3,16.5,29.5,198.0,22.0,49.0,99.0,8.0,29.0,21.0,36.0,14.0,50.0,38.0,15.0,42.0,69.0,58.0,16.5,13.8,63.5,35.6,5.6,52.5,27.5,48.0,31.8,22.1,33.0,47.0,48.3,27.6,4.2,29.4,14.0,79.0,13.8,60.0,106.0,55.2,12.0,34.5,59.4,34.0,16.0,68.0,77.0,66.0,39.0,95.0,45.6,32.0,9.0,52.0,129.0,52.0,28.0,24.0,49.7,22.1,44.2,6.7,31.0,33.2,32.0,60.8,71.0,50.0,12.0,32.0,125.0,9.7,56.0,30.9,10.0,83.0,49.0,12.0,20.0,148.0,17.0,67.7,94.0,80.0,36.0,67.0,44.2,128.0,8.0,30.0,41.4,50.0,48.7,39.0,199.0,44.2,207.0,90.0,22.1,35.9,24.9,14.0,18.4,86.0,95.0,71.0,46.8,115.0,32.0,34.0,72.0,60.8,71.8,106.0,10.0,49.0,72.0,27.6,54.0,79.0,140.0,80.0,42.0,105.0,55.0,42.0,485.0,22.1,26.0,375.0,38.0,17.0,40.5,52.0,15.2,350.0,39.0,16.6,16.0,60.8,60.0,64.0,50.0,105.0,85.0,11.0,62.1,35.0,20.6,13.8,8.3,82.8,18.0,24.9,66.3,34.5,40.0,11.1,55.0,41.4,50.0,29.0,85.6,55.2,13.2,32.0,48.0,34.0,23.5,33.2,125.0,120.0,85.0,8.0,18.7,99.0,39.0,64.9,35.0,10.0,20.0,30.0,105.0,15.2,11.0,60.0,82.0,29.5,56.0,22.8,6.6,99.0,50.0,60.0,93.9,48.3,21.0,44.0,60.0,58.0,36.0,55.0,68.0,27.0,44.2,4.6,17.9,125.0,117.0,102.1,84.0,14.5,27.6,11.1,119.0,42.0,340.0,4.2,65.0,18.0,51.1,42.0,72.0,24.6,48.3,20.7,26.0,95.0,115.0,34.5,105.0,46.0,65.0,78.0,59.0,30.0,50.0,33.2,5.4,78.0,38.0,69.0,16.6,22.8,44.0,180.0,95.0,30.4,82.9,74.0,75.0,156.0,45.5,59.0,35.0,35.0,6.9,193.2,99.0,64.0,41.4,82.0,12.5,47.5,27.6,40.1,51.1,136.0,56.6,18.0,34.0,8.3,22.6,205.0,52.5,70.0,61.0,106.0,53.0,8.3,49.0,39.0,22.1,235.0,3.0,18.0,9.0,34.5,35.0,48.3,37.3,20.0,25.4,31.0,11.1,89.0,8.3,22.0,20.7,30.0,14.0,48.0,97.0,24.0,22.0,115.0,19.0,25.0,18.0,185.0,21.0,20.7,115.0,34.5,22.0,24.8,59.0,70.0,12.5,9.3,6.1,99.0,75.0,100.0,20.0,72.0,104.0,42.0,68.0,13.0,24.5,27.0,59.0,13.8,52.5,12.0,31.8,62.1,72.0,55.2,54.0,16.6,19.0,12.5,90.0,98.0,49.0,14.0,34.0,197.0,42.8,6.0,12.4,4.2,34.5,275.0,125.0,20.7,25.0,7.2,91.1,19.3,24.9,15.0,58.0,42.0,235.0,36.0,45.6,105.0,36.0,29.0,68.0,6.9,91.1,35.0,34.5,19.4,53.0,42.0,49.0,29.7,51.1,39.0,11.1,35.0,19.4,49.0,89.0,45.0,18.0,100.0,145.0,51.1,24.9,99.0,72.0,75.0,52.0,9.7,9.0,110.4,11.1,78.5,69.0,14.0,96.0,69.0,82.0,152.0,11.1,38.7,23.0,130.0,19.5,29.0,52.0,6.9,99.0,16.0,64.0,22.6,215.0,26.0,148.0,23.5,39.0,30.0,155.0,36.0,71.0,34.0,40.4,13.8,14.0,120.0,11.1,62.1,14.0,8.0,8.0,65.0,92.0,12.5,57.0,24.8,16.6,12.0,35.0,132.0,90.0,20.1,15.2,95.0,78.7,48.3,44.2,17.0,72.0,198.0,276.0,5.6,310.0,6.3,37.3,8.0,36.0,23.5,34.0,80.0,27.6,14.0,12.4,7.0,15.0,62.1,45.0,47.0,119.0,28.0,57.0,29.0,51.1,5.6,5.9,62.0,38.7,24.0,45.0,11.7,30.4,6.2,13.8,35.0,9.0,105.0,24.2,95.0,135.0,29.6,14.0,57.0,25.0,38.0,28.0,48.0,6.3,55.0,90.0,22.1,132.0,142.0,35.9,75.0,95.0,19.0,39.0,23.5,17.8,37.0,6.6,22.0,145.0,30.8,42.0,47.0,85.0,35.0,105.0,41.4,13.8,180.0,18.0,55.2,45.0,74.0,89.0,84.0,9.7,28.0,24.9,20.0,11.1,15.2,65.0,43.0,13.0,28.8,55.0,105.0,34.5,10.0,99.0,38.5,31.5,80.0,48.0,20.7,495.0,95.0,32.0,9.1,69.0,71.8,82.8,79.0,34.5,82.0,29.6,85.6,10.5,40.0,138.0,49.0,30.8,42.8,91.0,11.1,63.0,56.0,40.0,44.0,20.7,24.0,68.0,45.5,21.4,23.5,45.0,38.0,48.3,107.7,37.3,108.0,190.0,35.0,275.0,48.0,12.0,6.2,95.0,5.2,120.0,28.0,55.0,41.4,82.0,160.0,155.0,60.8,23.4,13.8,40.1,34.0,60.0,27.0,34.5,30.3,37.3,17.3,16.6,20.7,4.2,9.0,27.6,45.0,7.1,150.0,52.0,173.0,138.0,137.0,92.0,12.4,96.0,27.0,6.0,11.0,16.0,45.6,150.0,10.0,18.0,42.0,71.0,76.8,525.0,10.0,8.3,72.0,11.4,42.0,59.0,75.9,165.0,29.4,105.0,31.8,38.7,40.0,25.0,600.0,14.0,89.7,57.0,44.0,5.8,16.0,14.0,28.0,12.5,55.0,48.3,17.0,96.0,47.0,34.5,205.0,48.3,40.0,87.0,69.0,70.0,16.6,44.0,45.0,52.0,48.3,4.9,32.0,39.0,30.0,34.0,9.3,58.0,52.0,22.8,64.9,59.4,255.3,29.0,16.0,28.0,15.0,58.0,48.0,56.6,198.0,22.0,30.4,22.0,45.0,20.7,30.4,145.0,138.0,25.0,40.0,34.5,51.0,30.0,89.0,27.6,52.0,80.1,120.0,19.4,160.0,40.1,80.0,99.0,58.0,79.0,8.3,98.0,52.0,45.0,38.0,39.0,62.1,45.0,32.0,11.4,104.0,48.0,50.0,115.0,22.1,30.0,100.0,60.0,14.0,20.0,34.5,75.0,26.2,40.0,67.7,44.0,32.0,11.8,53.9,30.0,12.0,32.0,16.5,40.0,220.0,40.1,20.7,25.0,48.0,15.2,52.5,38.0,49.0,9.0,145.0,38.0,5.0,32.0,48.3,30.4,32.0,15.2,50.0,30.0,82.8,14.0,45.0,39.0,38.0,26.0,24.2,10.0,36.0,21.0,62.0,195.0,30.0,295.0,17.0,45.0,89.0,20.7,10.0,20.7,13.5,87.0,55.0,55.2,53.9,69.0,24.0,31.8,75.0,6.9,54.0,125.0,78.0,60.0,78.0,20.7,137.0,17.0,17.0,25.6,40.0,13.8,135.0,21.0,298.0,116.0,41.0,22.1,104.0,48.0,62.0,55.0,42.0,12.0,40.0,130.0,21.2,7.2,55.0,34.5,87.0,365.0,120.0,48.3,65.0,11.1,30.8,66.3,39.5,47.0,100.0,60.0,325.0,132.5,53.9,40.0,29.0,125.0,89.0,27.6,104.0,46.0,33.0,69.0,136.0,3.0,13.8,13.8,49.0,30.4,85.0,7.6,42.0,349.0,44.0,16.6,8.3,18.0,34.5,6.9,18.0,230.5,135.3,9.7,29.0,6.6,56.0,65.0,48.0,9.0,99.0,99.0,12.9,41.5,62.1,80.0,75.0,72.0,10.6,110.4,72.0,20.6,28.0,41.4,16.6,50.0,146.0,15.0,75.0,331.2,34.0,11.4,31.9,18.0,14.0,27.0,45.0,7.0,69.0,22.1,65.0,99.0,28.0,38.0,99.0,66.3,40.0,27.6,15.2,12.4,88.4,45.0,42.8,53.0,10.0,11.8,30.3,66.0,60.0,52.0,96.0,11.0,62.1,34.0,94.0,3.0,8.5,55.0,27.5,55.0,14.0,39.0,49.0,70.0,20.7,27.0,4.8,70.0,73.0,28.1,68.0,46.0,46.0,38.7,20.0,59.0,43.0,86.0,75.0,31.0,45.0,37.0,38.0,29.0,63.0,29.0,38.0,16.0,120.0,55.2,24.8,9.7,20.0,22.1,122.2,96.0,85.0,10.0,12.0,40.0,18.0,19.0,22.1,80.1,10.0,131.1,34.0,18.7,90.0,24.0,20.0,150.0,6.2,11.1,52.4,39.4,260.0,34.5,19.4,90.0,12.0,100.0,13.8,41.4,27.6,440.0,65.0,27.0,18.0,29.0,4.0,85.0,18.0,26.0,81.5,38.7,15.2,27.6,33.1,58.0,58.0,10.0,155.0,8.3,38.7,58.0,59.4,45.0,15.2,46.0,37.3,28.3,50.0,22.0,18.0,56.0,20.0,69.0,11.0,55.0,14.0,41.4,27.6,30.0,49.7,13.8,62.0,81.5,45.0,28.8,40.0,96.0,52.0,31.7,12.5,27.0,36.0,49.0,95.0,41.4,45.6,115.0,39.5,52.0,170.0,115.0,54.0,52.0,9.3,54.0,48.3,24.9,27.6,60.0,11.0,29.5,13.8,14.0,22.1,89.0,20.7,32.0,51.1,101.5,25.0,41.4,16.6,59.0,19.9,45.6,95.0,32.0,75.0,160.0,12.5,32.0,70.0,30.0,23.0,240.0,22.1,182.0,12.0,68.0,18.0,55.0,55.2,75.0,47.0,125.0,30.0,68.0,11.1,64.9,60.0,66.0,65.0,16.6,12.0,9.0,68.0,6.9,12.0,36.0,40.1,46.0,28.0,45.0,8.0,79.0,19.0,29.0,36.0,210.0,92.0,15.9,24.9,34.5,75.0,110.0,60.0,250.0,53.9,58.0,16.6,4.9,238.0,51.0,22.1,33.0,39.0,75.0,28.0,11.0,150.0,79.0,49.0,13.8,107.7,9.0,43.0,79.0,13.8,20.0,44.0,150.5,33.2,68.0,48.3,12.0,40.0,60.0,13.0,92.0,37.0,6.9,100.0,6.9,6.0,38.0,69.0,68.0,18.0,48.3,50.0,65.1,39.9,34.5,50.0,65.0,29.0,48.3,16.6,24.0,23.0,52.5,15.0,22.1,46.0,45.0,34.5,15.0,99.0,62.1,87.0,52.0,45.0,48.3,68.0,24.0,85.0,7.5,35.0,55.0,6.9,73.0,123.0,10.0,20.0,47.0,7.0,36.0,66.3,65.0,55.0,52.5,42.0,62.0,15.0,40.0,8.0,53.9,250.0,36.6,78.0,92.0,54.0,7.6,155.0,70.0,6.0,152.0,53.9,110.0,15.0,38.0,30.4,94.0,15.2,48.3,85.0,28.0,6.5,71.0,18.0,13.0,80.0,38.0,39.0,15.2,7.0,80.0,53.9,89.0,36.0,131.1,47.0,34.5,16.6,75.0,8.3,32.0,144.0,94.0,42.8,69.0,21.0,30.4,169.0,74.0,54.0,350.0,55.2,79.0,35.0,12.5,30.4,21.4,24.9,385.0,10.0,29.0,19.3,65.0,80.0,75.0,110.4,30.0,84.2,20.0,62.0,30.0,383.0,59.0,11.1,24.0,19.4,88.0,26.3,20.0,39.0,11.1,41.4,33.5,59.0,41.4,11.0,59.5,48.3,116.0,49.0,24.8,61.0,12.5,120.0,32.0,49.0,12.4,26.0,11.0,250.0,40.0,173.0,138.0,6.9,12.5,13.2,315.0,9.0,15.2,41.4,6.2,84.2,122.0,48.0,82.0,272.0,68.0,75.0,80.0,85.6,230.0,280.0,32.0,16.8,20.7,96.0,10.4,64.0,41.4,52.0,72.0,32.0,52.4,83.0,13.8,27.6,21.0,15.0,95.0,41.4,60.0,35.9,45.0,94.0,24.8,88.0,28.3,52.5,87.0,153.0,58.0,9.0,115.0,26.0,13.2,35.9,62.0,145.0,69.0,73.0,10.0,6.8,60.0,155.0,26.3,36.0,36.0,195.0,103.9,95.0,59.0,20.7,82.8,12.4,60.0,32.0,27.0,27.6,195.0,38.7,4.3,43.0,146.7,22.1,33.2,10.8,27.0,82.0,38.5,9.7,33.9,55.2,12.0,125.0,50.0,56.0,28.8,55.0,11.0,52.0,140.0,281.0,4.2,19.4,165.6,99.0,6.9,38.0,22.0,9.0,68.0,32.0,90.0,168.0,66.0,49.0,42.0,15.2,13.8,96.0,8.0,32.0,91.1,26.2,6.7,40.1,87.0,34.5,35.0,35.9,115.0,72.0,38.0,95.0,80.0,117.3,13.8,51.8,116.0,21.4,3.0,8.0,220.0,81.0,12.5,13.0,64.0,84.0,10.0,40.0,6.0,24.0,25.0,80.0,74.6,34.0,24.9,35.7,70.0,27.5,65.0,60.0,56.6,17.0,160.0,72.0,22.0,32.0,77.3,98.0,27.0,20.0,15.0,59.0,38.0,49.0,45.6,46.0,78.0,53.9,19.0,12.0,16.0,53.9,9.0,109.0,40.0,13.0,22.8,11.1,20.0,48.0,38.0,58.0,98.0,13.8,11.0,52.0,99.0,58.0,27.0,80.0,11.0,22.8,32.0,43.0,120.0,45.0,29.0,18.0,13.8,42.0,74.6,95.0,14.0,54.9,139.0,35.0,13.8,13.8,29.5,48.0,6.5,23.0,50.0,39.0,41.4,11.1,106.0,92.0,13.8,30.3,20.0,45.2,155.0,132.0,27.6,60.0,74.0,9.9,40.0,15.9,48.3,9.1,8.0,16.6,30.8,82.8,42.0,23.0,183.6,75.0,31.0,65.0,90.0,54.0,52.5,9.7,70.0,47.0,16.6,49.7,90.0,95.0,38.0,32.0,54.0,27.6,25.0,38.0,8.0,110.0,6.0,118.0,28.0,65.0,24.0,113.0,14.5,33.2,30.0,285.0,70.0,11.1,8.1,99.0,28.0,139.0,45.0,345.0,40.0,60.0,45.0,24.0,49.0,38.0,115.0,60.0,19.0,65.0,22.0,10.0,59.0,13.8,17.0,59.0,89.0,10.0,8.0,59.4,20.7,72.0,57.0,28.0,52.0,66.3,11.0,9.0,30.7,30.0,5.0,4.2,69.0,38.7,150.0,63.0,125.0,65.0,38.0,44.0,52.0,40.1,28.8,26.3,11.1,65.0,28.0,12.5,26.2,47.0,30.4,52.0,12.0,104.9,11.1,48.3,20.0,67.3,135.0,79.0,48.0,11.1,27.6,13.8,6.9,100.0,50.0,34.0,6.5,23.0,26.3,44.0,54.0,44.9,55.0,46.0,59.0,98.0,72.0,45.0,48.0,16.5,62.0,33.2,45.6,75.0,21.9,36.0,53.0,49.0,18.0,275.0,150.0,33.0,16.0,33.4,34.0,45.0,11.1,64.0,117.3,12.4,42.0,9.0,152.0,12.4,4.2,47.0,41.4,17.9,4.2,22.0,96.0,66.3,16.0,36.6,52.5,45.0,70.0,58.0,150.0,45.0,19.0,73.2,19.0,22.0,34.0,58.0,52.5,13.8,82.0,95.0,44.2,62.0,34.5,30.4,45.0,80.1,260.0,13.8,66.3,13.8,18.0,105.0,17.0,98.0,164.0,36.0,24.9,40.0,37.0,48.0,62.1,55.0,24.9,6.6,79.0,45.0,64.0,35.0,4.2,105.3,35.0,24.0,20.7,27.6,270.0,9.0,33.0,47.0,19.9,29.0,36.0,34.5,64.0,6.5,31.8,36.0,24.0,82.0,67.3,82.8,12.4,24.0,9.8,79.0,35.9,70.4,6.9,74.0,14.0,20.7,72.0,42.1,62.0,11.0,69.0,109.1,49.0,32.0,32.0,53.0,5.1,74.0,60.0,45.2,10.0,11.1,8.3,13.8,7.9,7.0,60.8,4.0,67.7,23.5,48.3,65.0,105.0,20.7,195.0,34.0,18.0,149.0,25.0,42.0,59.4,26.0,80.0,33.9,56.0,90.0,48.3,22.0,27.6,11.0,45.0,48.3,27.1,21.0,45.0,150.0,55.0,17.0,99.0,59.5,42.5,110.0,10.8,148.0,17.0,29.0,55.2,29.0,23.2,2.8,25.0,48.0,96.0,15.0,58.0,27.0,79.0,73.2,52.0,40.0,100.0,92.0,49.7,68.0,70.0,80.1,62.1,60.0,27.0,225.0,11.0,48.0,45.0,109.1,52.5,53.0,90.0,95.0,14.0,7.0,39.0,119.0,72.0,80.0,55.0,10.0,28.8,11.0,22.0,30.0,97.0,120.0,139.0,115.0,23.0,88.4,42.0,56.0,129.0,41.4,40.8,15.0,30.0,54.6,58.0,25.0,117.3,145.0,65.0,35.0,15.0,52.0,34.0,110.0,41.4,7.2,26.0,122.0,37.3,8.3,82.0,160.0,74.6,8.0,178.0,26.0,44.0,200.0,65.0,32.0,32.0,48.0,34.5,41.4,30.4,54.0,15.0,105.0,68.0,88.0,20.7,145.0,38.0,67.3,52.0,65.0,64.0,20.7,16.0,29.0,45.0,12.0,70.0,575.0,8.3,40.0,29.4,165.0,16.6,38.0,60.0,40.0,25.0,195.0,28.0,24.9,95.3,62.1,12.4,59.0,70.0,135.0,13.0,15.0,19.4,39.0,75.0,150.0,49.0,18.0,235.0,66.0,59.0,85.0,38.0,44.0,28.0,68.0,53.0,52.4,49.0,113.2,11.1,45.0,11.0,33.0,27.6,18.0,11.1,58.7,30.0,22.1,33.2,158.7,22.0,52.0,32.0,30.4,47.0,95.0,68.0,70.0,16.0,26.3,103.5,39.0,27.0,125.0,74.0,53.9,150.0,97.0,22.0,13.8,22.0,39.0,51.1,65.0,87.0,34.5,52.0,31.0,34.5,63.0,79.0,34.5,104.0,49.0,20.0,8.6,35.9,189.0,80.0,40.4,8.3,20.7,58.0,67.7,57.9,22.1,139.0,38.0,92.0,27.0,18.0,79.0,995.0,47.0,175.0,11.0,67.7,80.0,66.0,40.1,58.0,11.1,79.0,37.0,18.0,45.0,59.0,19.0,10.0,24.9,90.0,10.0,70.0,50.0,13.2,55.0,11.0,82.0,16.6,44.2,69.0,9.7,23.5,30.4,20.0,35.0,27.6,24.9,28.0,13.0,150.0,99.0,89.0,35.0,17.0,95.0,40.0,11.1,78.0,18.0,38.0,40.0,32.0,41.4,31.0,85.0,15.2,58.0,48.0,22.1,45.6,8.0,119.0,58.0,12.4,89.7,4.9,34.5,28.0,68.0,45.0,34.0,23.0,55.0,129.0,27.6,125.0,11.7,75.0,115.0,25.0,52.5,69.0,130.0,79.99,1500.0,69.0,15.0,86.0,53.0,3.0,20.0,103.5,130.0,20.7,150.0,44.7,32.0,62.0,49.0,35.0,13.8,10.0,22.1,38.5,99.0,15.2,74.0,81.5,34.5,5.8,109.0,166.0,17.0,72.0,39.0,3.4,74.6,8.3,65.0,8.3,39.0,150.0,14.9,29.7,105.0,7.7,28.3,34.0,95.0,8.0,22.1,34.0,386.4,68.0,38.7,27.6,38.7,12.5,52.5,70.0,55.0,158.7,58.0,19.0,130.0,18.0,10.0,56.6,32.0,8.3,125.0,31.7,20.0,120.0,68.0,9.7,157.4,6.0,8.3,51.1,28.0,225.0,102.2,53.9,40.0,4.9,98.0,20.0,10.0,99.0,15.0,16.6,165.0,50.0,22.1,130.0,24.9,58.0,40.0,135.0,45.6,16.0,30.0,46.0,38.7,20.0,16.5,25.8,72.0,96.0,59.0,65.0,44.0,12.5,35.9,4.9,14.0,22.4,49.0,11.1,27.0,160.0,8.3,32.0,39.0,59.0,31.7,74.0,31.8,36.6,56.0,100.0,14.0,45.6,75.0,81.5,299.0,28.0,108.0,120.0,6.0,9.7,16.6,70.0,34.0,12.0,34.0,120.0,25.0,42.0,18.0,41.4,39.0,35.0,40.1,11.8,11.0,74.6,103.5,37.0,8.3,11.0,62.1,26.3,74.0,7.6,38.0],\"y0\":\" \",\"yaxis\":\"y\",\"type\":\"box\"}],                        {\"template\":{\"data\":{\"barpolar\":[{\"marker\":{\"line\":{\"color\":\"rgb(234,234,242)\",\"width\":0.5},\"pattern\":{\"fillmode\":\"overlay\",\"size\":10,\"solidity\":0.2}},\"type\":\"barpolar\"}],\"bar\":[{\"error_x\":{\"color\":\"rgb(36,36,36)\"},\"error_y\":{\"color\":\"rgb(36,36,36)\"},\"marker\":{\"line\":{\"color\":\"rgb(234,234,242)\",\"width\":0.5},\"pattern\":{\"fillmode\":\"overlay\",\"size\":10,\"solidity\":0.2}},\"type\":\"bar\"}],\"carpet\":[{\"aaxis\":{\"endlinecolor\":\"rgb(36,36,36)\",\"gridcolor\":\"white\",\"linecolor\":\"white\",\"minorgridcolor\":\"white\",\"startlinecolor\":\"rgb(36,36,36)\"},\"baxis\":{\"endlinecolor\":\"rgb(36,36,36)\",\"gridcolor\":\"white\",\"linecolor\":\"white\",\"minorgridcolor\":\"white\",\"startlinecolor\":\"rgb(36,36,36)\"},\"type\":\"carpet\"}],\"choropleth\":[{\"colorbar\":{\"outlinewidth\":0,\"tickcolor\":\"rgb(36,36,36)\",\"ticklen\":8,\"ticks\":\"outside\",\"tickwidth\":2},\"type\":\"choropleth\"}],\"contourcarpet\":[{\"colorbar\":{\"outlinewidth\":0,\"tickcolor\":\"rgb(36,36,36)\",\"ticklen\":8,\"ticks\":\"outside\",\"tickwidth\":2},\"type\":\"contourcarpet\"}],\"contour\":[{\"colorbar\":{\"outlinewidth\":0,\"tickcolor\":\"rgb(36,36,36)\",\"ticklen\":8,\"ticks\":\"outside\",\"tickwidth\":2},\"colorscale\":[[0.0,\"rgb(2,4,25)\"],[0.06274509803921569,\"rgb(24,15,41)\"],[0.12549019607843137,\"rgb(47,23,57)\"],[0.18823529411764706,\"rgb(71,28,72)\"],[0.25098039215686274,\"rgb(97,30,82)\"],[0.3137254901960784,\"rgb(123,30,89)\"],[0.3764705882352941,\"rgb(150,27,91)\"],[0.4392156862745098,\"rgb(177,22,88)\"],[0.5019607843137255,\"rgb(203,26,79)\"],[0.5647058823529412,\"rgb(223,47,67)\"],[0.6274509803921569,\"rgb(236,76,61)\"],[0.6901960784313725,\"rgb(242,107,73)\"],[0.7529411764705882,\"rgb(244,135,95)\"],[0.8156862745098039,\"rgb(245,162,122)\"],[0.8784313725490196,\"rgb(246,188,153)\"],[0.9411764705882353,\"rgb(247,212,187)\"],[1.0,\"rgb(250,234,220)\"]],\"type\":\"contour\"}],\"heatmapgl\":[{\"colorbar\":{\"outlinewidth\":0,\"tickcolor\":\"rgb(36,36,36)\",\"ticklen\":8,\"ticks\":\"outside\",\"tickwidth\":2},\"colorscale\":[[0.0,\"rgb(2,4,25)\"],[0.06274509803921569,\"rgb(24,15,41)\"],[0.12549019607843137,\"rgb(47,23,57)\"],[0.18823529411764706,\"rgb(71,28,72)\"],[0.25098039215686274,\"rgb(97,30,82)\"],[0.3137254901960784,\"rgb(123,30,89)\"],[0.3764705882352941,\"rgb(150,27,91)\"],[0.4392156862745098,\"rgb(177,22,88)\"],[0.5019607843137255,\"rgb(203,26,79)\"],[0.5647058823529412,\"rgb(223,47,67)\"],[0.6274509803921569,\"rgb(236,76,61)\"],[0.6901960784313725,\"rgb(242,107,73)\"],[0.7529411764705882,\"rgb(244,135,95)\"],[0.8156862745098039,\"rgb(245,162,122)\"],[0.8784313725490196,\"rgb(246,188,153)\"],[0.9411764705882353,\"rgb(247,212,187)\"],[1.0,\"rgb(250,234,220)\"]],\"type\":\"heatmapgl\"}],\"heatmap\":[{\"colorbar\":{\"outlinewidth\":0,\"tickcolor\":\"rgb(36,36,36)\",\"ticklen\":8,\"ticks\":\"outside\",\"tickwidth\":2},\"colorscale\":[[0.0,\"rgb(2,4,25)\"],[0.06274509803921569,\"rgb(24,15,41)\"],[0.12549019607843137,\"rgb(47,23,57)\"],[0.18823529411764706,\"rgb(71,28,72)\"],[0.25098039215686274,\"rgb(97,30,82)\"],[0.3137254901960784,\"rgb(123,30,89)\"],[0.3764705882352941,\"rgb(150,27,91)\"],[0.4392156862745098,\"rgb(177,22,88)\"],[0.5019607843137255,\"rgb(203,26,79)\"],[0.5647058823529412,\"rgb(223,47,67)\"],[0.6274509803921569,\"rgb(236,76,61)\"],[0.6901960784313725,\"rgb(242,107,73)\"],[0.7529411764705882,\"rgb(244,135,95)\"],[0.8156862745098039,\"rgb(245,162,122)\"],[0.8784313725490196,\"rgb(246,188,153)\"],[0.9411764705882353,\"rgb(247,212,187)\"],[1.0,\"rgb(250,234,220)\"]],\"type\":\"heatmap\"}],\"histogram2dcontour\":[{\"colorbar\":{\"outlinewidth\":0,\"tickcolor\":\"rgb(36,36,36)\",\"ticklen\":8,\"ticks\":\"outside\",\"tickwidth\":2},\"colorscale\":[[0.0,\"rgb(2,4,25)\"],[0.06274509803921569,\"rgb(24,15,41)\"],[0.12549019607843137,\"rgb(47,23,57)\"],[0.18823529411764706,\"rgb(71,28,72)\"],[0.25098039215686274,\"rgb(97,30,82)\"],[0.3137254901960784,\"rgb(123,30,89)\"],[0.3764705882352941,\"rgb(150,27,91)\"],[0.4392156862745098,\"rgb(177,22,88)\"],[0.5019607843137255,\"rgb(203,26,79)\"],[0.5647058823529412,\"rgb(223,47,67)\"],[0.6274509803921569,\"rgb(236,76,61)\"],[0.6901960784313725,\"rgb(242,107,73)\"],[0.7529411764705882,\"rgb(244,135,95)\"],[0.8156862745098039,\"rgb(245,162,122)\"],[0.8784313725490196,\"rgb(246,188,153)\"],[0.9411764705882353,\"rgb(247,212,187)\"],[1.0,\"rgb(250,234,220)\"]],\"type\":\"histogram2dcontour\"}],\"histogram2d\":[{\"colorbar\":{\"outlinewidth\":0,\"tickcolor\":\"rgb(36,36,36)\",\"ticklen\":8,\"ticks\":\"outside\",\"tickwidth\":2},\"colorscale\":[[0.0,\"rgb(2,4,25)\"],[0.06274509803921569,\"rgb(24,15,41)\"],[0.12549019607843137,\"rgb(47,23,57)\"],[0.18823529411764706,\"rgb(71,28,72)\"],[0.25098039215686274,\"rgb(97,30,82)\"],[0.3137254901960784,\"rgb(123,30,89)\"],[0.3764705882352941,\"rgb(150,27,91)\"],[0.4392156862745098,\"rgb(177,22,88)\"],[0.5019607843137255,\"rgb(203,26,79)\"],[0.5647058823529412,\"rgb(223,47,67)\"],[0.6274509803921569,\"rgb(236,76,61)\"],[0.6901960784313725,\"rgb(242,107,73)\"],[0.7529411764705882,\"rgb(244,135,95)\"],[0.8156862745098039,\"rgb(245,162,122)\"],[0.8784313725490196,\"rgb(246,188,153)\"],[0.9411764705882353,\"rgb(247,212,187)\"],[1.0,\"rgb(250,234,220)\"]],\"type\":\"histogram2d\"}],\"histogram\":[{\"marker\":{\"pattern\":{\"fillmode\":\"overlay\",\"size\":10,\"solidity\":0.2}},\"type\":\"histogram\"}],\"mesh3d\":[{\"colorbar\":{\"outlinewidth\":0,\"tickcolor\":\"rgb(36,36,36)\",\"ticklen\":8,\"ticks\":\"outside\",\"tickwidth\":2},\"type\":\"mesh3d\"}],\"parcoords\":[{\"line\":{\"colorbar\":{\"outlinewidth\":0,\"tickcolor\":\"rgb(36,36,36)\",\"ticklen\":8,\"ticks\":\"outside\",\"tickwidth\":2}},\"type\":\"parcoords\"}],\"pie\":[{\"automargin\":true,\"type\":\"pie\"}],\"scatter3d\":[{\"line\":{\"colorbar\":{\"outlinewidth\":0,\"tickcolor\":\"rgb(36,36,36)\",\"ticklen\":8,\"ticks\":\"outside\",\"tickwidth\":2}},\"marker\":{\"colorbar\":{\"outlinewidth\":0,\"tickcolor\":\"rgb(36,36,36)\",\"ticklen\":8,\"ticks\":\"outside\",\"tickwidth\":2}},\"type\":\"scatter3d\"}],\"scattercarpet\":[{\"marker\":{\"colorbar\":{\"outlinewidth\":0,\"tickcolor\":\"rgb(36,36,36)\",\"ticklen\":8,\"ticks\":\"outside\",\"tickwidth\":2}},\"type\":\"scattercarpet\"}],\"scattergeo\":[{\"marker\":{\"colorbar\":{\"outlinewidth\":0,\"tickcolor\":\"rgb(36,36,36)\",\"ticklen\":8,\"ticks\":\"outside\",\"tickwidth\":2}},\"type\":\"scattergeo\"}],\"scattergl\":[{\"marker\":{\"colorbar\":{\"outlinewidth\":0,\"tickcolor\":\"rgb(36,36,36)\",\"ticklen\":8,\"ticks\":\"outside\",\"tickwidth\":2}},\"type\":\"scattergl\"}],\"scattermapbox\":[{\"marker\":{\"colorbar\":{\"outlinewidth\":0,\"tickcolor\":\"rgb(36,36,36)\",\"ticklen\":8,\"ticks\":\"outside\",\"tickwidth\":2}},\"type\":\"scattermapbox\"}],\"scatterpolargl\":[{\"marker\":{\"colorbar\":{\"outlinewidth\":0,\"tickcolor\":\"rgb(36,36,36)\",\"ticklen\":8,\"ticks\":\"outside\",\"tickwidth\":2}},\"type\":\"scatterpolargl\"}],\"scatterpolar\":[{\"marker\":{\"colorbar\":{\"outlinewidth\":0,\"tickcolor\":\"rgb(36,36,36)\",\"ticklen\":8,\"ticks\":\"outside\",\"tickwidth\":2}},\"type\":\"scatterpolar\"}],\"scatter\":[{\"marker\":{\"colorbar\":{\"outlinewidth\":0,\"tickcolor\":\"rgb(36,36,36)\",\"ticklen\":8,\"ticks\":\"outside\",\"tickwidth\":2}},\"type\":\"scatter\"}],\"scatterternary\":[{\"marker\":{\"colorbar\":{\"outlinewidth\":0,\"tickcolor\":\"rgb(36,36,36)\",\"ticklen\":8,\"ticks\":\"outside\",\"tickwidth\":2}},\"type\":\"scatterternary\"}],\"surface\":[{\"colorbar\":{\"outlinewidth\":0,\"tickcolor\":\"rgb(36,36,36)\",\"ticklen\":8,\"ticks\":\"outside\",\"tickwidth\":2},\"colorscale\":[[0.0,\"rgb(2,4,25)\"],[0.06274509803921569,\"rgb(24,15,41)\"],[0.12549019607843137,\"rgb(47,23,57)\"],[0.18823529411764706,\"rgb(71,28,72)\"],[0.25098039215686274,\"rgb(97,30,82)\"],[0.3137254901960784,\"rgb(123,30,89)\"],[0.3764705882352941,\"rgb(150,27,91)\"],[0.4392156862745098,\"rgb(177,22,88)\"],[0.5019607843137255,\"rgb(203,26,79)\"],[0.5647058823529412,\"rgb(223,47,67)\"],[0.6274509803921569,\"rgb(236,76,61)\"],[0.6901960784313725,\"rgb(242,107,73)\"],[0.7529411764705882,\"rgb(244,135,95)\"],[0.8156862745098039,\"rgb(245,162,122)\"],[0.8784313725490196,\"rgb(246,188,153)\"],[0.9411764705882353,\"rgb(247,212,187)\"],[1.0,\"rgb(250,234,220)\"]],\"type\":\"surface\"}],\"table\":[{\"cells\":{\"fill\":{\"color\":\"rgb(231,231,240)\"},\"line\":{\"color\":\"white\"}},\"header\":{\"fill\":{\"color\":\"rgb(183,183,191)\"},\"line\":{\"color\":\"white\"}},\"type\":\"table\"}]},\"layout\":{\"annotationdefaults\":{\"arrowcolor\":\"rgb(67,103,167)\"},\"autotypenumbers\":\"strict\",\"coloraxis\":{\"colorbar\":{\"outlinewidth\":0,\"tickcolor\":\"rgb(36,36,36)\",\"ticklen\":8,\"ticks\":\"outside\",\"tickwidth\":2}},\"colorscale\":{\"sequential\":[[0.0,\"rgb(2,4,25)\"],[0.06274509803921569,\"rgb(24,15,41)\"],[0.12549019607843137,\"rgb(47,23,57)\"],[0.18823529411764706,\"rgb(71,28,72)\"],[0.25098039215686274,\"rgb(97,30,82)\"],[0.3137254901960784,\"rgb(123,30,89)\"],[0.3764705882352941,\"rgb(150,27,91)\"],[0.4392156862745098,\"rgb(177,22,88)\"],[0.5019607843137255,\"rgb(203,26,79)\"],[0.5647058823529412,\"rgb(223,47,67)\"],[0.6274509803921569,\"rgb(236,76,61)\"],[0.6901960784313725,\"rgb(242,107,73)\"],[0.7529411764705882,\"rgb(244,135,95)\"],[0.8156862745098039,\"rgb(245,162,122)\"],[0.8784313725490196,\"rgb(246,188,153)\"],[0.9411764705882353,\"rgb(247,212,187)\"],[1.0,\"rgb(250,234,220)\"]],\"sequentialminus\":[[0.0,\"rgb(2,4,25)\"],[0.06274509803921569,\"rgb(24,15,41)\"],[0.12549019607843137,\"rgb(47,23,57)\"],[0.18823529411764706,\"rgb(71,28,72)\"],[0.25098039215686274,\"rgb(97,30,82)\"],[0.3137254901960784,\"rgb(123,30,89)\"],[0.3764705882352941,\"rgb(150,27,91)\"],[0.4392156862745098,\"rgb(177,22,88)\"],[0.5019607843137255,\"rgb(203,26,79)\"],[0.5647058823529412,\"rgb(223,47,67)\"],[0.6274509803921569,\"rgb(236,76,61)\"],[0.6901960784313725,\"rgb(242,107,73)\"],[0.7529411764705882,\"rgb(244,135,95)\"],[0.8156862745098039,\"rgb(245,162,122)\"],[0.8784313725490196,\"rgb(246,188,153)\"],[0.9411764705882353,\"rgb(247,212,187)\"],[1.0,\"rgb(250,234,220)\"]]},\"colorway\":[\"rgb(76,114,176)\",\"rgb(221,132,82)\",\"rgb(85,168,104)\",\"rgb(196,78,82)\",\"rgb(129,114,179)\",\"rgb(147,120,96)\",\"rgb(218,139,195)\",\"rgb(140,140,140)\",\"rgb(204,185,116)\",\"rgb(100,181,205)\"],\"font\":{\"color\":\"rgb(36,36,36)\"},\"geo\":{\"bgcolor\":\"white\",\"lakecolor\":\"white\",\"landcolor\":\"rgb(234,234,242)\",\"showlakes\":true,\"showland\":true,\"subunitcolor\":\"white\"},\"hoverlabel\":{\"align\":\"left\"},\"hovermode\":\"closest\",\"paper_bgcolor\":\"white\",\"plot_bgcolor\":\"rgb(234,234,242)\",\"polar\":{\"angularaxis\":{\"gridcolor\":\"white\",\"linecolor\":\"white\",\"showgrid\":true,\"ticks\":\"\"},\"bgcolor\":\"rgb(234,234,242)\",\"radialaxis\":{\"gridcolor\":\"white\",\"linecolor\":\"white\",\"showgrid\":true,\"ticks\":\"\"}},\"scene\":{\"xaxis\":{\"backgroundcolor\":\"rgb(234,234,242)\",\"gridcolor\":\"white\",\"gridwidth\":2,\"linecolor\":\"white\",\"showbackground\":true,\"showgrid\":true,\"ticks\":\"\",\"zerolinecolor\":\"white\"},\"yaxis\":{\"backgroundcolor\":\"rgb(234,234,242)\",\"gridcolor\":\"white\",\"gridwidth\":2,\"linecolor\":\"white\",\"showbackground\":true,\"showgrid\":true,\"ticks\":\"\",\"zerolinecolor\":\"white\"},\"zaxis\":{\"backgroundcolor\":\"rgb(234,234,242)\",\"gridcolor\":\"white\",\"gridwidth\":2,\"linecolor\":\"white\",\"showbackground\":true,\"showgrid\":true,\"ticks\":\"\",\"zerolinecolor\":\"white\"}},\"shapedefaults\":{\"fillcolor\":\"rgb(67,103,167)\",\"line\":{\"width\":0},\"opacity\":0.5},\"ternary\":{\"aaxis\":{\"gridcolor\":\"white\",\"linecolor\":\"white\",\"showgrid\":true,\"ticks\":\"\"},\"baxis\":{\"gridcolor\":\"white\",\"linecolor\":\"white\",\"showgrid\":true,\"ticks\":\"\"},\"bgcolor\":\"rgb(234,234,242)\",\"caxis\":{\"gridcolor\":\"white\",\"linecolor\":\"white\",\"showgrid\":true,\"ticks\":\"\"}},\"xaxis\":{\"automargin\":true,\"gridcolor\":\"white\",\"linecolor\":\"white\",\"showgrid\":true,\"ticks\":\"\",\"title\":{\"standoff\":15},\"zerolinecolor\":\"white\"},\"yaxis\":{\"automargin\":true,\"gridcolor\":\"white\",\"linecolor\":\"white\",\"showgrid\":true,\"ticks\":\"\",\"title\":{\"standoff\":15},\"zerolinecolor\":\"white\"}}},\"xaxis\":{\"anchor\":\"y\",\"domain\":[0.0,1.0],\"title\":{\"text\":\"product_size\"}},\"yaxis\":{\"anchor\":\"x\",\"domain\":[0.0,1.0],\"title\":{\"text\":\"price\"}},\"legend\":{\"tracegroupgap\":0},\"title\":{\"text\":\"abc \"},\"boxmode\":\"group\",\"autosize\":false,\"width\":500,\"height\":500},                        {\"responsive\": true}                    ).then(function(){\n",
              "                            \n",
              "var gd = document.getElementById('8183ff07-54c5-4608-b1b0-01e84d52f2b5');\n",
              "var x = new MutationObserver(function (mutations, observer) {{\n",
              "        var display = window.getComputedStyle(gd).display;\n",
              "        if (!display || display === 'none') {{\n",
              "            console.log([gd, 'removed!']);\n",
              "            Plotly.purge(gd);\n",
              "            observer.disconnect();\n",
              "        }}\n",
              "}});\n",
              "\n",
              "// Listen for the removal of the full notebook cells\n",
              "var notebookContainer = gd.closest('#notebook-container');\n",
              "if (notebookContainer) {{\n",
              "    x.observe(notebookContainer, {childList: true});\n",
              "}}\n",
              "\n",
              "// Listen for the clearing of the current output cell\n",
              "var outputEl = gd.closest('.output');\n",
              "if (outputEl) {{\n",
              "    x.observe(outputEl, {childList: true});\n",
              "}}\n",
              "\n",
              "                        })                };                            </script>        </div>\n",
              "</body>\n",
              "</html>"
            ]
          },
          "metadata": {}
        }
      ]
    },
    {
      "cell_type": "markdown",
      "source": [
        "- Product Type Analysis"
      ],
      "metadata": {
        "id": "YhYDsPjZSBKp"
      }
    },
    {
      "cell_type": "code",
      "source": [
        "df.groupby(['product_type'])['price'].describe()"
      ],
      "metadata": {
        "colab": {
          "base_uri": "https://localhost:8080/",
          "height": 394
        },
        "id": "XC5MpLuOVLjP",
        "outputId": "8274ec02-47a0-40e6-8dd6-c945d53a32d9"
      },
      "execution_count": 10,
      "outputs": [
        {
          "output_type": "execute_result",
          "data": {
            "text/plain": [
              "                          count       mean         std  min     25%    50%  \\\n",
              "product_type                                                                 \n",
              "cleanser                  457.0  32.676783   24.884921  3.4  15.000  28.00   \n",
              "cream/lotion/moisturizer  831.0  63.333815   67.034994  4.2  26.000  48.30   \n",
              "exfoliant                  44.0  28.813409   21.769997  6.2  11.025  24.90   \n",
              "eye                       250.0  59.288000   43.380296  4.0  27.600  52.00   \n",
              "lip                       109.0  31.896330   36.802287  2.8  11.700  18.00   \n",
              "mask                      273.0  47.228205   53.559837  3.0  15.000  35.00   \n",
              "serum                     343.0  87.567347   83.519618  5.8  34.500  62.10   \n",
              "spf                        94.0  47.658511   29.869186  6.7  33.275  40.55   \n",
              "toner/essence/emulsion    278.0  46.938489   33.088802  4.9  23.925  37.00   \n",
              "treatment                 159.0  71.847170  124.270513  7.0  31.900  52.50   \n",
              "\n",
              "                             75%     max  \n",
              "product_type                              \n",
              "cleanser                   40.10   195.0  \n",
              "cream/lotion/moisturizer   79.00   995.0  \n",
              "exfoliant                  41.05    90.0  \n",
              "eye                        75.00   285.0  \n",
              "lip                        44.20   280.0  \n",
              "mask                       59.00   495.0  \n",
              "serum                     110.00   600.0  \n",
              "spf                        53.00   189.0  \n",
              "toner/essence/emulsion     61.70   180.0  \n",
              "treatment                  80.00  1500.0  "
            ],
            "text/html": [
              "\n",
              "  <div id=\"df-d409f87b-d89c-4da2-9272-76c7553a25bc\">\n",
              "    <div class=\"colab-df-container\">\n",
              "      <div>\n",
              "<style scoped>\n",
              "    .dataframe tbody tr th:only-of-type {\n",
              "        vertical-align: middle;\n",
              "    }\n",
              "\n",
              "    .dataframe tbody tr th {\n",
              "        vertical-align: top;\n",
              "    }\n",
              "\n",
              "    .dataframe thead th {\n",
              "        text-align: right;\n",
              "    }\n",
              "</style>\n",
              "<table border=\"1\" class=\"dataframe\">\n",
              "  <thead>\n",
              "    <tr style=\"text-align: right;\">\n",
              "      <th></th>\n",
              "      <th>count</th>\n",
              "      <th>mean</th>\n",
              "      <th>std</th>\n",
              "      <th>min</th>\n",
              "      <th>25%</th>\n",
              "      <th>50%</th>\n",
              "      <th>75%</th>\n",
              "      <th>max</th>\n",
              "    </tr>\n",
              "    <tr>\n",
              "      <th>product_type</th>\n",
              "      <th></th>\n",
              "      <th></th>\n",
              "      <th></th>\n",
              "      <th></th>\n",
              "      <th></th>\n",
              "      <th></th>\n",
              "      <th></th>\n",
              "      <th></th>\n",
              "    </tr>\n",
              "  </thead>\n",
              "  <tbody>\n",
              "    <tr>\n",
              "      <th>cleanser</th>\n",
              "      <td>457.0</td>\n",
              "      <td>32.676783</td>\n",
              "      <td>24.884921</td>\n",
              "      <td>3.4</td>\n",
              "      <td>15.000</td>\n",
              "      <td>28.00</td>\n",
              "      <td>40.10</td>\n",
              "      <td>195.0</td>\n",
              "    </tr>\n",
              "    <tr>\n",
              "      <th>cream/lotion/moisturizer</th>\n",
              "      <td>831.0</td>\n",
              "      <td>63.333815</td>\n",
              "      <td>67.034994</td>\n",
              "      <td>4.2</td>\n",
              "      <td>26.000</td>\n",
              "      <td>48.30</td>\n",
              "      <td>79.00</td>\n",
              "      <td>995.0</td>\n",
              "    </tr>\n",
              "    <tr>\n",
              "      <th>exfoliant</th>\n",
              "      <td>44.0</td>\n",
              "      <td>28.813409</td>\n",
              "      <td>21.769997</td>\n",
              "      <td>6.2</td>\n",
              "      <td>11.025</td>\n",
              "      <td>24.90</td>\n",
              "      <td>41.05</td>\n",
              "      <td>90.0</td>\n",
              "    </tr>\n",
              "    <tr>\n",
              "      <th>eye</th>\n",
              "      <td>250.0</td>\n",
              "      <td>59.288000</td>\n",
              "      <td>43.380296</td>\n",
              "      <td>4.0</td>\n",
              "      <td>27.600</td>\n",
              "      <td>52.00</td>\n",
              "      <td>75.00</td>\n",
              "      <td>285.0</td>\n",
              "    </tr>\n",
              "    <tr>\n",
              "      <th>lip</th>\n",
              "      <td>109.0</td>\n",
              "      <td>31.896330</td>\n",
              "      <td>36.802287</td>\n",
              "      <td>2.8</td>\n",
              "      <td>11.700</td>\n",
              "      <td>18.00</td>\n",
              "      <td>44.20</td>\n",
              "      <td>280.0</td>\n",
              "    </tr>\n",
              "    <tr>\n",
              "      <th>mask</th>\n",
              "      <td>273.0</td>\n",
              "      <td>47.228205</td>\n",
              "      <td>53.559837</td>\n",
              "      <td>3.0</td>\n",
              "      <td>15.000</td>\n",
              "      <td>35.00</td>\n",
              "      <td>59.00</td>\n",
              "      <td>495.0</td>\n",
              "    </tr>\n",
              "    <tr>\n",
              "      <th>serum</th>\n",
              "      <td>343.0</td>\n",
              "      <td>87.567347</td>\n",
              "      <td>83.519618</td>\n",
              "      <td>5.8</td>\n",
              "      <td>34.500</td>\n",
              "      <td>62.10</td>\n",
              "      <td>110.00</td>\n",
              "      <td>600.0</td>\n",
              "    </tr>\n",
              "    <tr>\n",
              "      <th>spf</th>\n",
              "      <td>94.0</td>\n",
              "      <td>47.658511</td>\n",
              "      <td>29.869186</td>\n",
              "      <td>6.7</td>\n",
              "      <td>33.275</td>\n",
              "      <td>40.55</td>\n",
              "      <td>53.00</td>\n",
              "      <td>189.0</td>\n",
              "    </tr>\n",
              "    <tr>\n",
              "      <th>toner/essence/emulsion</th>\n",
              "      <td>278.0</td>\n",
              "      <td>46.938489</td>\n",
              "      <td>33.088802</td>\n",
              "      <td>4.9</td>\n",
              "      <td>23.925</td>\n",
              "      <td>37.00</td>\n",
              "      <td>61.70</td>\n",
              "      <td>180.0</td>\n",
              "    </tr>\n",
              "    <tr>\n",
              "      <th>treatment</th>\n",
              "      <td>159.0</td>\n",
              "      <td>71.847170</td>\n",
              "      <td>124.270513</td>\n",
              "      <td>7.0</td>\n",
              "      <td>31.900</td>\n",
              "      <td>52.50</td>\n",
              "      <td>80.00</td>\n",
              "      <td>1500.0</td>\n",
              "    </tr>\n",
              "  </tbody>\n",
              "</table>\n",
              "</div>\n",
              "      <button class=\"colab-df-convert\" onclick=\"convertToInteractive('df-d409f87b-d89c-4da2-9272-76c7553a25bc')\"\n",
              "              title=\"Convert this dataframe to an interactive table.\"\n",
              "              style=\"display:none;\">\n",
              "        \n",
              "  <svg xmlns=\"http://www.w3.org/2000/svg\" height=\"24px\"viewBox=\"0 0 24 24\"\n",
              "       width=\"24px\">\n",
              "    <path d=\"M0 0h24v24H0V0z\" fill=\"none\"/>\n",
              "    <path d=\"M18.56 5.44l.94 2.06.94-2.06 2.06-.94-2.06-.94-.94-2.06-.94 2.06-2.06.94zm-11 1L8.5 8.5l.94-2.06 2.06-.94-2.06-.94L8.5 2.5l-.94 2.06-2.06.94zm10 10l.94 2.06.94-2.06 2.06-.94-2.06-.94-.94-2.06-.94 2.06-2.06.94z\"/><path d=\"M17.41 7.96l-1.37-1.37c-.4-.4-.92-.59-1.43-.59-.52 0-1.04.2-1.43.59L10.3 9.45l-7.72 7.72c-.78.78-.78 2.05 0 2.83L4 21.41c.39.39.9.59 1.41.59.51 0 1.02-.2 1.41-.59l7.78-7.78 2.81-2.81c.8-.78.8-2.07 0-2.86zM5.41 20L4 18.59l7.72-7.72 1.47 1.35L5.41 20z\"/>\n",
              "  </svg>\n",
              "      </button>\n",
              "      \n",
              "  <style>\n",
              "    .colab-df-container {\n",
              "      display:flex;\n",
              "      flex-wrap:wrap;\n",
              "      gap: 12px;\n",
              "    }\n",
              "\n",
              "    .colab-df-convert {\n",
              "      background-color: #E8F0FE;\n",
              "      border: none;\n",
              "      border-radius: 50%;\n",
              "      cursor: pointer;\n",
              "      display: none;\n",
              "      fill: #1967D2;\n",
              "      height: 32px;\n",
              "      padding: 0 0 0 0;\n",
              "      width: 32px;\n",
              "    }\n",
              "\n",
              "    .colab-df-convert:hover {\n",
              "      background-color: #E2EBFA;\n",
              "      box-shadow: 0px 1px 2px rgba(60, 64, 67, 0.3), 0px 1px 3px 1px rgba(60, 64, 67, 0.15);\n",
              "      fill: #174EA6;\n",
              "    }\n",
              "\n",
              "    [theme=dark] .colab-df-convert {\n",
              "      background-color: #3B4455;\n",
              "      fill: #D2E3FC;\n",
              "    }\n",
              "\n",
              "    [theme=dark] .colab-df-convert:hover {\n",
              "      background-color: #434B5C;\n",
              "      box-shadow: 0px 1px 3px 1px rgba(0, 0, 0, 0.15);\n",
              "      filter: drop-shadow(0px 1px 2px rgba(0, 0, 0, 0.3));\n",
              "      fill: #FFFFFF;\n",
              "    }\n",
              "  </style>\n",
              "\n",
              "      <script>\n",
              "        const buttonEl =\n",
              "          document.querySelector('#df-d409f87b-d89c-4da2-9272-76c7553a25bc button.colab-df-convert');\n",
              "        buttonEl.style.display =\n",
              "          google.colab.kernel.accessAllowed ? 'block' : 'none';\n",
              "\n",
              "        async function convertToInteractive(key) {\n",
              "          const element = document.querySelector('#df-d409f87b-d89c-4da2-9272-76c7553a25bc');\n",
              "          const dataTable =\n",
              "            await google.colab.kernel.invokeFunction('convertToInteractive',\n",
              "                                                     [key], {});\n",
              "          if (!dataTable) return;\n",
              "\n",
              "          const docLinkHtml = 'Like what you see? Visit the ' +\n",
              "            '<a target=\"_blank\" href=https://colab.research.google.com/notebooks/data_table.ipynb>data table notebook</a>'\n",
              "            + ' to learn more about interactive tables.';\n",
              "          element.innerHTML = '';\n",
              "          dataTable['output_type'] = 'display_data';\n",
              "          await google.colab.output.renderOutput(dataTable, element);\n",
              "          const docLink = document.createElement('div');\n",
              "          docLink.innerHTML = docLinkHtml;\n",
              "          element.appendChild(docLink);\n",
              "        }\n",
              "      </script>\n",
              "    </div>\n",
              "  </div>\n",
              "  "
            ]
          },
          "metadata": {},
          "execution_count": 10
        }
      ]
    },
    {
      "cell_type": "code",
      "source": [
        "abc=df.groupby(['product_type'])['price'].mean().sort_values(ascending= False)\n",
        "abc\n"
      ],
      "metadata": {
        "colab": {
          "base_uri": "https://localhost:8080/"
        },
        "id": "fDjgb3c6kExg",
        "outputId": "994f387c-085a-4e00-b46c-9113f5e7db48"
      },
      "execution_count": 11,
      "outputs": [
        {
          "output_type": "execute_result",
          "data": {
            "text/plain": [
              "product_type\n",
              "serum                       87.567347\n",
              "treatment                   71.847170\n",
              "cream/lotion/moisturizer    63.333815\n",
              "eye                         59.288000\n",
              "spf                         47.658511\n",
              "mask                        47.228205\n",
              "toner/essence/emulsion      46.938489\n",
              "cleanser                    32.676783\n",
              "lip                         31.896330\n",
              "exfoliant                   28.813409\n",
              "Name: price, dtype: float64"
            ]
          },
          "metadata": {},
          "execution_count": 11
        }
      ]
    },
    {
      "cell_type": "code",
      "source": [
        "\n",
        "fig = px.bar(abc, title=\"Average Price of Each Category\",template=\"plotly\")\n",
        "           \n",
        "fig.show()"
      ],
      "metadata": {
        "colab": {
          "base_uri": "https://localhost:8080/",
          "height": 542
        },
        "id": "P9qA6BtPlR1q",
        "outputId": "00f43b6c-1ae6-43cc-f45a-e220bd5760ba"
      },
      "execution_count": 12,
      "outputs": [
        {
          "output_type": "display_data",
          "data": {
            "text/html": [
              "<html>\n",
              "<head><meta charset=\"utf-8\" /></head>\n",
              "<body>\n",
              "    <div>            <script src=\"https://cdnjs.cloudflare.com/ajax/libs/mathjax/2.7.5/MathJax.js?config=TeX-AMS-MML_SVG\"></script><script type=\"text/javascript\">if (window.MathJax) {MathJax.Hub.Config({SVG: {font: \"STIX-Web\"}});}</script>                <script type=\"text/javascript\">window.PlotlyConfig = {MathJaxConfig: 'local'};</script>\n",
              "        <script src=\"https://cdn.plot.ly/plotly-2.8.3.min.js\"></script>                <div id=\"e364227c-019d-4280-a528-2e8b6a819d4d\" class=\"plotly-graph-div\" style=\"height:525px; width:100%;\"></div>            <script type=\"text/javascript\">                                    window.PLOTLYENV=window.PLOTLYENV || {};                                    if (document.getElementById(\"e364227c-019d-4280-a528-2e8b6a819d4d\")) {                    Plotly.newPlot(                        \"e364227c-019d-4280-a528-2e8b6a819d4d\",                        [{\"alignmentgroup\":\"True\",\"hovertemplate\":\"variable=price<br>product_type=%{x}<br>value=%{y}<extra></extra>\",\"legendgroup\":\"price\",\"marker\":{\"color\":\"#636efa\",\"pattern\":{\"shape\":\"\"}},\"name\":\"price\",\"offsetgroup\":\"price\",\"orientation\":\"v\",\"showlegend\":true,\"textposition\":\"auto\",\"x\":[\"serum\",\"treatment\",\"cream/lotion/moisturizer\",\"eye\",\"spf\",\"mask\",\"toner/essence/emulsion\",\"cleanser\",\"lip\",\"exfoliant\"],\"xaxis\":\"x\",\"y\":[87.5673469387755,71.84716981132075,63.3338146811071,59.288,47.65851063829787,47.228205128205126,46.938489208633094,32.67678336980307,31.896330275229356,28.81340909090909],\"yaxis\":\"y\",\"type\":\"bar\"}],                        {\"template\":{\"data\":{\"bar\":[{\"error_x\":{\"color\":\"#2a3f5f\"},\"error_y\":{\"color\":\"#2a3f5f\"},\"marker\":{\"line\":{\"color\":\"#E5ECF6\",\"width\":0.5},\"pattern\":{\"fillmode\":\"overlay\",\"size\":10,\"solidity\":0.2}},\"type\":\"bar\"}],\"barpolar\":[{\"marker\":{\"line\":{\"color\":\"#E5ECF6\",\"width\":0.5},\"pattern\":{\"fillmode\":\"overlay\",\"size\":10,\"solidity\":0.2}},\"type\":\"barpolar\"}],\"carpet\":[{\"aaxis\":{\"endlinecolor\":\"#2a3f5f\",\"gridcolor\":\"white\",\"linecolor\":\"white\",\"minorgridcolor\":\"white\",\"startlinecolor\":\"#2a3f5f\"},\"baxis\":{\"endlinecolor\":\"#2a3f5f\",\"gridcolor\":\"white\",\"linecolor\":\"white\",\"minorgridcolor\":\"white\",\"startlinecolor\":\"#2a3f5f\"},\"type\":\"carpet\"}],\"choropleth\":[{\"colorbar\":{\"outlinewidth\":0,\"ticks\":\"\"},\"type\":\"choropleth\"}],\"contour\":[{\"colorbar\":{\"outlinewidth\":0,\"ticks\":\"\"},\"colorscale\":[[0.0,\"#0d0887\"],[0.1111111111111111,\"#46039f\"],[0.2222222222222222,\"#7201a8\"],[0.3333333333333333,\"#9c179e\"],[0.4444444444444444,\"#bd3786\"],[0.5555555555555556,\"#d8576b\"],[0.6666666666666666,\"#ed7953\"],[0.7777777777777778,\"#fb9f3a\"],[0.8888888888888888,\"#fdca26\"],[1.0,\"#f0f921\"]],\"type\":\"contour\"}],\"contourcarpet\":[{\"colorbar\":{\"outlinewidth\":0,\"ticks\":\"\"},\"type\":\"contourcarpet\"}],\"heatmap\":[{\"colorbar\":{\"outlinewidth\":0,\"ticks\":\"\"},\"colorscale\":[[0.0,\"#0d0887\"],[0.1111111111111111,\"#46039f\"],[0.2222222222222222,\"#7201a8\"],[0.3333333333333333,\"#9c179e\"],[0.4444444444444444,\"#bd3786\"],[0.5555555555555556,\"#d8576b\"],[0.6666666666666666,\"#ed7953\"],[0.7777777777777778,\"#fb9f3a\"],[0.8888888888888888,\"#fdca26\"],[1.0,\"#f0f921\"]],\"type\":\"heatmap\"}],\"heatmapgl\":[{\"colorbar\":{\"outlinewidth\":0,\"ticks\":\"\"},\"colorscale\":[[0.0,\"#0d0887\"],[0.1111111111111111,\"#46039f\"],[0.2222222222222222,\"#7201a8\"],[0.3333333333333333,\"#9c179e\"],[0.4444444444444444,\"#bd3786\"],[0.5555555555555556,\"#d8576b\"],[0.6666666666666666,\"#ed7953\"],[0.7777777777777778,\"#fb9f3a\"],[0.8888888888888888,\"#fdca26\"],[1.0,\"#f0f921\"]],\"type\":\"heatmapgl\"}],\"histogram\":[{\"marker\":{\"pattern\":{\"fillmode\":\"overlay\",\"size\":10,\"solidity\":0.2}},\"type\":\"histogram\"}],\"histogram2d\":[{\"colorbar\":{\"outlinewidth\":0,\"ticks\":\"\"},\"colorscale\":[[0.0,\"#0d0887\"],[0.1111111111111111,\"#46039f\"],[0.2222222222222222,\"#7201a8\"],[0.3333333333333333,\"#9c179e\"],[0.4444444444444444,\"#bd3786\"],[0.5555555555555556,\"#d8576b\"],[0.6666666666666666,\"#ed7953\"],[0.7777777777777778,\"#fb9f3a\"],[0.8888888888888888,\"#fdca26\"],[1.0,\"#f0f921\"]],\"type\":\"histogram2d\"}],\"histogram2dcontour\":[{\"colorbar\":{\"outlinewidth\":0,\"ticks\":\"\"},\"colorscale\":[[0.0,\"#0d0887\"],[0.1111111111111111,\"#46039f\"],[0.2222222222222222,\"#7201a8\"],[0.3333333333333333,\"#9c179e\"],[0.4444444444444444,\"#bd3786\"],[0.5555555555555556,\"#d8576b\"],[0.6666666666666666,\"#ed7953\"],[0.7777777777777778,\"#fb9f3a\"],[0.8888888888888888,\"#fdca26\"],[1.0,\"#f0f921\"]],\"type\":\"histogram2dcontour\"}],\"mesh3d\":[{\"colorbar\":{\"outlinewidth\":0,\"ticks\":\"\"},\"type\":\"mesh3d\"}],\"parcoords\":[{\"line\":{\"colorbar\":{\"outlinewidth\":0,\"ticks\":\"\"}},\"type\":\"parcoords\"}],\"pie\":[{\"automargin\":true,\"type\":\"pie\"}],\"scatter\":[{\"marker\":{\"colorbar\":{\"outlinewidth\":0,\"ticks\":\"\"}},\"type\":\"scatter\"}],\"scatter3d\":[{\"line\":{\"colorbar\":{\"outlinewidth\":0,\"ticks\":\"\"}},\"marker\":{\"colorbar\":{\"outlinewidth\":0,\"ticks\":\"\"}},\"type\":\"scatter3d\"}],\"scattercarpet\":[{\"marker\":{\"colorbar\":{\"outlinewidth\":0,\"ticks\":\"\"}},\"type\":\"scattercarpet\"}],\"scattergeo\":[{\"marker\":{\"colorbar\":{\"outlinewidth\":0,\"ticks\":\"\"}},\"type\":\"scattergeo\"}],\"scattergl\":[{\"marker\":{\"colorbar\":{\"outlinewidth\":0,\"ticks\":\"\"}},\"type\":\"scattergl\"}],\"scattermapbox\":[{\"marker\":{\"colorbar\":{\"outlinewidth\":0,\"ticks\":\"\"}},\"type\":\"scattermapbox\"}],\"scatterpolar\":[{\"marker\":{\"colorbar\":{\"outlinewidth\":0,\"ticks\":\"\"}},\"type\":\"scatterpolar\"}],\"scatterpolargl\":[{\"marker\":{\"colorbar\":{\"outlinewidth\":0,\"ticks\":\"\"}},\"type\":\"scatterpolargl\"}],\"scatterternary\":[{\"marker\":{\"colorbar\":{\"outlinewidth\":0,\"ticks\":\"\"}},\"type\":\"scatterternary\"}],\"surface\":[{\"colorbar\":{\"outlinewidth\":0,\"ticks\":\"\"},\"colorscale\":[[0.0,\"#0d0887\"],[0.1111111111111111,\"#46039f\"],[0.2222222222222222,\"#7201a8\"],[0.3333333333333333,\"#9c179e\"],[0.4444444444444444,\"#bd3786\"],[0.5555555555555556,\"#d8576b\"],[0.6666666666666666,\"#ed7953\"],[0.7777777777777778,\"#fb9f3a\"],[0.8888888888888888,\"#fdca26\"],[1.0,\"#f0f921\"]],\"type\":\"surface\"}],\"table\":[{\"cells\":{\"fill\":{\"color\":\"#EBF0F8\"},\"line\":{\"color\":\"white\"}},\"header\":{\"fill\":{\"color\":\"#C8D4E3\"},\"line\":{\"color\":\"white\"}},\"type\":\"table\"}]},\"layout\":{\"annotationdefaults\":{\"arrowcolor\":\"#2a3f5f\",\"arrowhead\":0,\"arrowwidth\":1},\"autotypenumbers\":\"strict\",\"coloraxis\":{\"colorbar\":{\"outlinewidth\":0,\"ticks\":\"\"}},\"colorscale\":{\"diverging\":[[0,\"#8e0152\"],[0.1,\"#c51b7d\"],[0.2,\"#de77ae\"],[0.3,\"#f1b6da\"],[0.4,\"#fde0ef\"],[0.5,\"#f7f7f7\"],[0.6,\"#e6f5d0\"],[0.7,\"#b8e186\"],[0.8,\"#7fbc41\"],[0.9,\"#4d9221\"],[1,\"#276419\"]],\"sequential\":[[0.0,\"#0d0887\"],[0.1111111111111111,\"#46039f\"],[0.2222222222222222,\"#7201a8\"],[0.3333333333333333,\"#9c179e\"],[0.4444444444444444,\"#bd3786\"],[0.5555555555555556,\"#d8576b\"],[0.6666666666666666,\"#ed7953\"],[0.7777777777777778,\"#fb9f3a\"],[0.8888888888888888,\"#fdca26\"],[1.0,\"#f0f921\"]],\"sequentialminus\":[[0.0,\"#0d0887\"],[0.1111111111111111,\"#46039f\"],[0.2222222222222222,\"#7201a8\"],[0.3333333333333333,\"#9c179e\"],[0.4444444444444444,\"#bd3786\"],[0.5555555555555556,\"#d8576b\"],[0.6666666666666666,\"#ed7953\"],[0.7777777777777778,\"#fb9f3a\"],[0.8888888888888888,\"#fdca26\"],[1.0,\"#f0f921\"]]},\"colorway\":[\"#636efa\",\"#EF553B\",\"#00cc96\",\"#ab63fa\",\"#FFA15A\",\"#19d3f3\",\"#FF6692\",\"#B6E880\",\"#FF97FF\",\"#FECB52\"],\"font\":{\"color\":\"#2a3f5f\"},\"geo\":{\"bgcolor\":\"white\",\"lakecolor\":\"white\",\"landcolor\":\"#E5ECF6\",\"showlakes\":true,\"showland\":true,\"subunitcolor\":\"white\"},\"hoverlabel\":{\"align\":\"left\"},\"hovermode\":\"closest\",\"mapbox\":{\"style\":\"light\"},\"paper_bgcolor\":\"white\",\"plot_bgcolor\":\"#E5ECF6\",\"polar\":{\"angularaxis\":{\"gridcolor\":\"white\",\"linecolor\":\"white\",\"ticks\":\"\"},\"bgcolor\":\"#E5ECF6\",\"radialaxis\":{\"gridcolor\":\"white\",\"linecolor\":\"white\",\"ticks\":\"\"}},\"scene\":{\"xaxis\":{\"backgroundcolor\":\"#E5ECF6\",\"gridcolor\":\"white\",\"gridwidth\":2,\"linecolor\":\"white\",\"showbackground\":true,\"ticks\":\"\",\"zerolinecolor\":\"white\"},\"yaxis\":{\"backgroundcolor\":\"#E5ECF6\",\"gridcolor\":\"white\",\"gridwidth\":2,\"linecolor\":\"white\",\"showbackground\":true,\"ticks\":\"\",\"zerolinecolor\":\"white\"},\"zaxis\":{\"backgroundcolor\":\"#E5ECF6\",\"gridcolor\":\"white\",\"gridwidth\":2,\"linecolor\":\"white\",\"showbackground\":true,\"ticks\":\"\",\"zerolinecolor\":\"white\"}},\"shapedefaults\":{\"line\":{\"color\":\"#2a3f5f\"}},\"ternary\":{\"aaxis\":{\"gridcolor\":\"white\",\"linecolor\":\"white\",\"ticks\":\"\"},\"baxis\":{\"gridcolor\":\"white\",\"linecolor\":\"white\",\"ticks\":\"\"},\"bgcolor\":\"#E5ECF6\",\"caxis\":{\"gridcolor\":\"white\",\"linecolor\":\"white\",\"ticks\":\"\"}},\"title\":{\"x\":0.05},\"xaxis\":{\"automargin\":true,\"gridcolor\":\"white\",\"linecolor\":\"white\",\"ticks\":\"\",\"title\":{\"standoff\":15},\"zerolinecolor\":\"white\",\"zerolinewidth\":2},\"yaxis\":{\"automargin\":true,\"gridcolor\":\"white\",\"linecolor\":\"white\",\"ticks\":\"\",\"title\":{\"standoff\":15},\"zerolinecolor\":\"white\",\"zerolinewidth\":2}}},\"xaxis\":{\"anchor\":\"y\",\"domain\":[0.0,1.0],\"title\":{\"text\":\"product_type\"}},\"yaxis\":{\"anchor\":\"x\",\"domain\":[0.0,1.0],\"title\":{\"text\":\"value\"}},\"legend\":{\"title\":{\"text\":\"variable\"},\"tracegroupgap\":0},\"title\":{\"text\":\"Average Price of Each Category\"},\"barmode\":\"relative\"},                        {\"responsive\": true}                    ).then(function(){\n",
              "                            \n",
              "var gd = document.getElementById('e364227c-019d-4280-a528-2e8b6a819d4d');\n",
              "var x = new MutationObserver(function (mutations, observer) {{\n",
              "        var display = window.getComputedStyle(gd).display;\n",
              "        if (!display || display === 'none') {{\n",
              "            console.log([gd, 'removed!']);\n",
              "            Plotly.purge(gd);\n",
              "            observer.disconnect();\n",
              "        }}\n",
              "}});\n",
              "\n",
              "// Listen for the removal of the full notebook cells\n",
              "var notebookContainer = gd.closest('#notebook-container');\n",
              "if (notebookContainer) {{\n",
              "    x.observe(notebookContainer, {childList: true});\n",
              "}}\n",
              "\n",
              "// Listen for the clearing of the current output cell\n",
              "var outputEl = gd.closest('.output');\n",
              "if (outputEl) {{\n",
              "    x.observe(outputEl, {childList: true});\n",
              "}}\n",
              "\n",
              "                        })                };                            </script>        </div>\n",
              "</body>\n",
              "</html>"
            ]
          },
          "metadata": {}
        }
      ]
    },
    {
      "cell_type": "markdown",
      "source": [
        "- Price Analysis "
      ],
      "metadata": {
        "id": "dMOTnK1hVi6-"
      }
    },
    {
      "cell_type": "code",
      "source": [
        "fig = px.violin(df, y=\"price\")\n",
        "fig.show()"
      ],
      "metadata": {
        "colab": {
          "base_uri": "https://localhost:8080/",
          "height": 542
        },
        "id": "SM2urTLynx9-",
        "outputId": "18efa377-100e-4bde-bd38-610ff275eecb"
      },
      "execution_count": 13,
      "outputs": [
        {
          "output_type": "display_data",
          "data": {
            "text/html": [
              "<html>\n",
              "<head><meta charset=\"utf-8\" /></head>\n",
              "<body>\n",
              "    <div>            <script src=\"https://cdnjs.cloudflare.com/ajax/libs/mathjax/2.7.5/MathJax.js?config=TeX-AMS-MML_SVG\"></script><script type=\"text/javascript\">if (window.MathJax) {MathJax.Hub.Config({SVG: {font: \"STIX-Web\"}});}</script>                <script type=\"text/javascript\">window.PlotlyConfig = {MathJaxConfig: 'local'};</script>\n",
              "        <script src=\"https://cdn.plot.ly/plotly-2.8.3.min.js\"></script>                <div id=\"b535571f-a7ef-47b6-8c8e-e550d73ebd61\" class=\"plotly-graph-div\" style=\"height:525px; width:100%;\"></div>            <script type=\"text/javascript\">                                    window.PLOTLYENV=window.PLOTLYENV || {};                                    if (document.getElementById(\"b535571f-a7ef-47b6-8c8e-e550d73ebd61\")) {                    Plotly.newPlot(                        \"b535571f-a7ef-47b6-8c8e-e550d73ebd61\",                        [{\"alignmentgroup\":\"True\",\"box\":{\"visible\":false},\"hovertemplate\":\"price=%{y}<extra></extra>\",\"legendgroup\":\"\",\"marker\":{\"color\":\"#636efa\"},\"name\":\"\",\"offsetgroup\":\"\",\"orientation\":\"v\",\"scalegroup\":\"True\",\"showlegend\":false,\"x0\":\" \",\"xaxis\":\"x\",\"y\":[39.0,75.0,117.3,95.0,11.1,59.0,11.1,53.0,40.0,62.0,62.1,12.0,37.2,14.0,34.0,23.5,45.0,55.0,40.1,72.0,7.5,25.0,47.0,12.4,33.2,100.0,54.0,30.0,13.0,120.0,180.0,50.0,105.0,55.0,6.9,113.2,15.0,67.3,48.0,85.0,75.0,22.1,30.4,142.0,30.0,41.0,40.1,48.0,90.0,79.0,23.5,8.0,20.7,14.0,37.3,43.0,22.1,20.0,15.0,50.0,39.0,135.0,41.4,61.0,29.7,35.6,65.0,95.0,14.0,65.0,10.0,5.6,8.0,12.0,9.0,18.0,155.0,48.0,77.6,6.9,22.0,13.8,11.8,59.5,21.0,26.3,10.0,14.0,275.0,53.2,30.4,82.0,55.0,59.0,49.0,14.0,40.0,41.4,13.0,19.0,72.0,40.4,8.3,60.8,38.0,6.3,4.9,36.0,62.1,9.0,21.4,13.8,62.1,32.0,10.0,18.7,150.0,48.0,46.0,52.0,30.0,21.0,52.5,27.0,34.0,80.0,28.0,48.3,38.7,38.0,150.0,41.4,56.0,9.0,11.1,60.8,40.1,50.0,36.0,48.0,53.9,105.0,78.7,103.5,18.0,34.0,27.0,6.5,65.0,99.0,110.0,28.0,16.5,12.0,91.1,62.0,41.4,6.9,7.6,65.0,60.8,59.0,19.0,29.0,11.0,179.0,25.0,41.4,52.5,13.8,79.0,19.4,68.0,11.0,94.0,34.5,21.0,22.0,4.5,50.0,38.7,52.0,62.1,74.6,13.8,62.1,23.0,212.0,64.0,34.5,60.0,80.0,72.0,100.0,34.0,59.0,10.6,16.6,15.2,68.0,24.2,69.0,39.0,38.0,160.0,104.9,22.0,33.2,6.0,18.0,35.9,32.0,100.0,75.0,85.6,4.9,29.0,38.7,72.0,27.0,275.0,418.0,10.5,27.0,65.0,113.2,41.4,12.4,99.0,36.0,13.8,28.0,27.6,70.0,45.6,65.0,38.0,50.0,20.0,58.0,13.8,7.5,33.0,19.0,14.5,61.0,18.0,55.0,11.8,40.0,8.0,71.8,84.0,6.0,14.0,32.0,13.8,56.6,9.0,39.1,110.0,40.0,68.0,2.8,62.1,48.3,31.8,23.0,16.6,39.0,34.5,80.0,168.0,45.0,37.0,28.0,144.0,21.4,28.0,69.8,46.0,115.0,48.3,84.0,30.0,24.9,79.0,13.8,24.0,238.0,81.5,4.2,66.0,72.0,65.0,85.0,22.8,279.0,27.6,11.0,27.0,44.0,30.3,48.0,65.0,4.2,26.3,62.1,23.9,48.0,34.0,7.5,31.7,33.2,183.6,4.9,225.0,79.99,65.0,75.0,22.1,20.7,40.0,16.0,88.4,27.6,85.0,165.0,38.0,79.0,131.1,47.0,27.6,119.0,82.0,48.0,48.0,35.9,6.3,18.0,79.0,18.0,24.9,29.0,140.0,65.0,99.0,63.5,18.0,31.0,66.3,17.0,7.3,99.0,32.0,16.5,55.2,32.0,32.0,18.0,31.7,58.0,8.3,42.0,27.5,34.5,62.0,40.1,6.9,66.0,33.4,34.0,27.6,16.6,13.8,58.0,65.0,95.0,37.0,27.6,64.0,68.0,45.6,24.9,35.9,98.0,41.4,173.0,57.0,23.0,81.0,25.0,15.0,79.0,32.0,335.0,87.0,30.0,16.0,6.9,95.0,19.4,9.0,9.0,55.0,17.0,55.2,27.6,4.9,44.2,113.0,115.0,44.2,29.0,75.9,52.0,45.6,15.0,98.0,135.0,55.0,31.8,27.2,92.0,28.0,38.7,13.0,62.0,69.0,8.0,49.0,46.0,113.2,120.0,5.6,29.0,68.0,18.0,48.0,29.0,65.0,17.0,45.0,185.0,36.0,89.0,44.0,4.9,50.0,92.0,39.0,350.0,82.0,199.0,36.0,75.0,28.0,22.1,12.0,28.0,180.0,105.0,190.0,225.0,29.0,149.0,40.0,66.3,15.2,22.1,4.3,18.7,53.9,400.2,145.0,88.0,75.0,23.0,20.0,72.0,75.9,90.0,25.0,13.0,52.5,41.4,68.0,45.0,5.8,72.0,78.0,12.0,69.3,16.5,29.5,198.0,22.0,49.0,99.0,8.0,29.0,21.0,36.0,14.0,50.0,38.0,15.0,42.0,69.0,58.0,16.5,13.8,63.5,35.6,5.6,52.5,27.5,48.0,31.8,22.1,33.0,47.0,48.3,27.6,4.2,29.4,14.0,79.0,13.8,60.0,106.0,55.2,12.0,34.5,59.4,34.0,16.0,68.0,77.0,66.0,39.0,95.0,45.6,32.0,9.0,52.0,129.0,52.0,28.0,24.0,49.7,22.1,44.2,6.7,31.0,33.2,32.0,60.8,71.0,50.0,12.0,32.0,125.0,9.7,56.0,30.9,10.0,83.0,49.0,12.0,20.0,148.0,17.0,67.7,94.0,80.0,36.0,67.0,44.2,128.0,8.0,30.0,41.4,50.0,48.7,39.0,199.0,44.2,207.0,90.0,22.1,35.9,24.9,14.0,18.4,86.0,95.0,71.0,46.8,115.0,32.0,34.0,72.0,60.8,71.8,106.0,10.0,49.0,72.0,27.6,54.0,79.0,140.0,80.0,42.0,105.0,55.0,42.0,485.0,22.1,26.0,375.0,38.0,17.0,40.5,52.0,15.2,350.0,39.0,16.6,16.0,60.8,60.0,64.0,50.0,105.0,85.0,11.0,62.1,35.0,20.6,13.8,8.3,82.8,18.0,24.9,66.3,34.5,40.0,11.1,55.0,41.4,50.0,29.0,85.6,55.2,13.2,32.0,48.0,34.0,23.5,33.2,125.0,120.0,85.0,8.0,18.7,99.0,39.0,64.9,35.0,10.0,20.0,30.0,105.0,15.2,11.0,60.0,82.0,29.5,56.0,22.8,6.6,99.0,50.0,60.0,93.9,48.3,21.0,44.0,60.0,58.0,36.0,55.0,68.0,27.0,44.2,4.6,17.9,125.0,117.0,102.1,84.0,14.5,27.6,11.1,119.0,42.0,340.0,4.2,65.0,18.0,51.1,42.0,72.0,24.6,48.3,20.7,26.0,95.0,115.0,34.5,105.0,46.0,65.0,78.0,59.0,30.0,50.0,33.2,5.4,78.0,38.0,69.0,16.6,22.8,44.0,180.0,95.0,30.4,82.9,74.0,75.0,156.0,45.5,59.0,35.0,35.0,6.9,193.2,99.0,64.0,41.4,82.0,12.5,47.5,27.6,40.1,51.1,136.0,56.6,18.0,34.0,8.3,22.6,205.0,52.5,70.0,61.0,106.0,53.0,8.3,49.0,39.0,22.1,235.0,3.0,18.0,9.0,34.5,35.0,48.3,37.3,20.0,25.4,31.0,11.1,89.0,8.3,22.0,20.7,30.0,14.0,48.0,97.0,24.0,22.0,115.0,19.0,25.0,18.0,185.0,21.0,20.7,115.0,34.5,22.0,24.8,59.0,70.0,12.5,9.3,6.1,99.0,75.0,100.0,20.0,72.0,104.0,42.0,68.0,13.0,24.5,27.0,59.0,13.8,52.5,12.0,31.8,62.1,72.0,55.2,54.0,16.6,19.0,12.5,90.0,98.0,49.0,14.0,34.0,197.0,42.8,6.0,12.4,4.2,34.5,275.0,125.0,20.7,25.0,7.2,91.1,19.3,24.9,15.0,58.0,42.0,235.0,36.0,45.6,105.0,36.0,29.0,68.0,6.9,91.1,35.0,34.5,19.4,53.0,42.0,49.0,29.7,51.1,39.0,11.1,35.0,19.4,49.0,89.0,45.0,18.0,100.0,145.0,51.1,24.9,99.0,72.0,75.0,52.0,9.7,9.0,110.4,11.1,78.5,69.0,14.0,96.0,69.0,82.0,152.0,11.1,38.7,23.0,130.0,19.5,29.0,52.0,6.9,99.0,16.0,64.0,22.6,215.0,26.0,148.0,23.5,39.0,30.0,155.0,36.0,71.0,34.0,40.4,13.8,14.0,120.0,11.1,62.1,14.0,8.0,8.0,65.0,92.0,12.5,57.0,24.8,16.6,12.0,35.0,132.0,90.0,20.1,15.2,95.0,78.7,48.3,44.2,17.0,72.0,198.0,276.0,5.6,310.0,6.3,37.3,8.0,36.0,23.5,34.0,80.0,27.6,14.0,12.4,7.0,15.0,62.1,45.0,47.0,119.0,28.0,57.0,29.0,51.1,5.6,5.9,62.0,38.7,24.0,45.0,11.7,30.4,6.2,13.8,35.0,9.0,105.0,24.2,95.0,135.0,29.6,14.0,57.0,25.0,38.0,28.0,48.0,6.3,55.0,90.0,22.1,132.0,142.0,35.9,75.0,95.0,19.0,39.0,23.5,17.8,37.0,6.6,22.0,145.0,30.8,42.0,47.0,85.0,35.0,105.0,41.4,13.8,180.0,18.0,55.2,45.0,74.0,89.0,84.0,9.7,28.0,24.9,20.0,11.1,15.2,65.0,43.0,13.0,28.8,55.0,105.0,34.5,10.0,99.0,38.5,31.5,80.0,48.0,20.7,495.0,95.0,32.0,9.1,69.0,71.8,82.8,79.0,34.5,82.0,29.6,85.6,10.5,40.0,138.0,49.0,30.8,42.8,91.0,11.1,63.0,56.0,40.0,44.0,20.7,24.0,68.0,45.5,21.4,23.5,45.0,38.0,48.3,107.7,37.3,108.0,190.0,35.0,275.0,48.0,12.0,6.2,95.0,5.2,120.0,28.0,55.0,41.4,82.0,160.0,155.0,60.8,23.4,13.8,40.1,34.0,60.0,27.0,34.5,30.3,37.3,17.3,16.6,20.7,4.2,9.0,27.6,45.0,7.1,150.0,52.0,173.0,138.0,137.0,92.0,12.4,96.0,27.0,6.0,11.0,16.0,45.6,150.0,10.0,18.0,42.0,71.0,76.8,525.0,10.0,8.3,72.0,11.4,42.0,59.0,75.9,165.0,29.4,105.0,31.8,38.7,40.0,25.0,600.0,14.0,89.7,57.0,44.0,5.8,16.0,14.0,28.0,12.5,55.0,48.3,17.0,96.0,47.0,34.5,205.0,48.3,40.0,87.0,69.0,70.0,16.6,44.0,45.0,52.0,48.3,4.9,32.0,39.0,30.0,34.0,9.3,58.0,52.0,22.8,64.9,59.4,255.3,29.0,16.0,28.0,15.0,58.0,48.0,56.6,198.0,22.0,30.4,22.0,45.0,20.7,30.4,145.0,138.0,25.0,40.0,34.5,51.0,30.0,89.0,27.6,52.0,80.1,120.0,19.4,160.0,40.1,80.0,99.0,58.0,79.0,8.3,98.0,52.0,45.0,38.0,39.0,62.1,45.0,32.0,11.4,104.0,48.0,50.0,115.0,22.1,30.0,100.0,60.0,14.0,20.0,34.5,75.0,26.2,40.0,67.7,44.0,32.0,11.8,53.9,30.0,12.0,32.0,16.5,40.0,220.0,40.1,20.7,25.0,48.0,15.2,52.5,38.0,49.0,9.0,145.0,38.0,5.0,32.0,48.3,30.4,32.0,15.2,50.0,30.0,82.8,14.0,45.0,39.0,38.0,26.0,24.2,10.0,36.0,21.0,62.0,195.0,30.0,295.0,17.0,45.0,89.0,20.7,10.0,20.7,13.5,87.0,55.0,55.2,53.9,69.0,24.0,31.8,75.0,6.9,54.0,125.0,78.0,60.0,78.0,20.7,137.0,17.0,17.0,25.6,40.0,13.8,135.0,21.0,298.0,116.0,41.0,22.1,104.0,48.0,62.0,55.0,42.0,12.0,40.0,130.0,21.2,7.2,55.0,34.5,87.0,365.0,120.0,48.3,65.0,11.1,30.8,66.3,39.5,47.0,100.0,60.0,325.0,132.5,53.9,40.0,29.0,125.0,89.0,27.6,104.0,46.0,33.0,69.0,136.0,3.0,13.8,13.8,49.0,30.4,85.0,7.6,42.0,349.0,44.0,16.6,8.3,18.0,34.5,6.9,18.0,230.5,135.3,9.7,29.0,6.6,56.0,65.0,48.0,9.0,99.0,99.0,12.9,41.5,62.1,80.0,75.0,72.0,10.6,110.4,72.0,20.6,28.0,41.4,16.6,50.0,146.0,15.0,75.0,331.2,34.0,11.4,31.9,18.0,14.0,27.0,45.0,7.0,69.0,22.1,65.0,99.0,28.0,38.0,99.0,66.3,40.0,27.6,15.2,12.4,88.4,45.0,42.8,53.0,10.0,11.8,30.3,66.0,60.0,52.0,96.0,11.0,62.1,34.0,94.0,3.0,8.5,55.0,27.5,55.0,14.0,39.0,49.0,70.0,20.7,27.0,4.8,70.0,73.0,28.1,68.0,46.0,46.0,38.7,20.0,59.0,43.0,86.0,75.0,31.0,45.0,37.0,38.0,29.0,63.0,29.0,38.0,16.0,120.0,55.2,24.8,9.7,20.0,22.1,122.2,96.0,85.0,10.0,12.0,40.0,18.0,19.0,22.1,80.1,10.0,131.1,34.0,18.7,90.0,24.0,20.0,150.0,6.2,11.1,52.4,39.4,260.0,34.5,19.4,90.0,12.0,100.0,13.8,41.4,27.6,440.0,65.0,27.0,18.0,29.0,4.0,85.0,18.0,26.0,81.5,38.7,15.2,27.6,33.1,58.0,58.0,10.0,155.0,8.3,38.7,58.0,59.4,45.0,15.2,46.0,37.3,28.3,50.0,22.0,18.0,56.0,20.0,69.0,11.0,55.0,14.0,41.4,27.6,30.0,49.7,13.8,62.0,81.5,45.0,28.8,40.0,96.0,52.0,31.7,12.5,27.0,36.0,49.0,95.0,41.4,45.6,115.0,39.5,52.0,170.0,115.0,54.0,52.0,9.3,54.0,48.3,24.9,27.6,60.0,11.0,29.5,13.8,14.0,22.1,89.0,20.7,32.0,51.1,101.5,25.0,41.4,16.6,59.0,19.9,45.6,95.0,32.0,75.0,160.0,12.5,32.0,70.0,30.0,23.0,240.0,22.1,182.0,12.0,68.0,18.0,55.0,55.2,75.0,47.0,125.0,30.0,68.0,11.1,64.9,60.0,66.0,65.0,16.6,12.0,9.0,68.0,6.9,12.0,36.0,40.1,46.0,28.0,45.0,8.0,79.0,19.0,29.0,36.0,210.0,92.0,15.9,24.9,34.5,75.0,110.0,60.0,250.0,53.9,58.0,16.6,4.9,238.0,51.0,22.1,33.0,39.0,75.0,28.0,11.0,150.0,79.0,49.0,13.8,107.7,9.0,43.0,79.0,13.8,20.0,44.0,150.5,33.2,68.0,48.3,12.0,40.0,60.0,13.0,92.0,37.0,6.9,100.0,6.9,6.0,38.0,69.0,68.0,18.0,48.3,50.0,65.1,39.9,34.5,50.0,65.0,29.0,48.3,16.6,24.0,23.0,52.5,15.0,22.1,46.0,45.0,34.5,15.0,99.0,62.1,87.0,52.0,45.0,48.3,68.0,24.0,85.0,7.5,35.0,55.0,6.9,73.0,123.0,10.0,20.0,47.0,7.0,36.0,66.3,65.0,55.0,52.5,42.0,62.0,15.0,40.0,8.0,53.9,250.0,36.6,78.0,92.0,54.0,7.6,155.0,70.0,6.0,152.0,53.9,110.0,15.0,38.0,30.4,94.0,15.2,48.3,85.0,28.0,6.5,71.0,18.0,13.0,80.0,38.0,39.0,15.2,7.0,80.0,53.9,89.0,36.0,131.1,47.0,34.5,16.6,75.0,8.3,32.0,144.0,94.0,42.8,69.0,21.0,30.4,169.0,74.0,54.0,350.0,55.2,79.0,35.0,12.5,30.4,21.4,24.9,385.0,10.0,29.0,19.3,65.0,80.0,75.0,110.4,30.0,84.2,20.0,62.0,30.0,383.0,59.0,11.1,24.0,19.4,88.0,26.3,20.0,39.0,11.1,41.4,33.5,59.0,41.4,11.0,59.5,48.3,116.0,49.0,24.8,61.0,12.5,120.0,32.0,49.0,12.4,26.0,11.0,250.0,40.0,173.0,138.0,6.9,12.5,13.2,315.0,9.0,15.2,41.4,6.2,84.2,122.0,48.0,82.0,272.0,68.0,75.0,80.0,85.6,230.0,280.0,32.0,16.8,20.7,96.0,10.4,64.0,41.4,52.0,72.0,32.0,52.4,83.0,13.8,27.6,21.0,15.0,95.0,41.4,60.0,35.9,45.0,94.0,24.8,88.0,28.3,52.5,87.0,153.0,58.0,9.0,115.0,26.0,13.2,35.9,62.0,145.0,69.0,73.0,10.0,6.8,60.0,155.0,26.3,36.0,36.0,195.0,103.9,95.0,59.0,20.7,82.8,12.4,60.0,32.0,27.0,27.6,195.0,38.7,4.3,43.0,146.7,22.1,33.2,10.8,27.0,82.0,38.5,9.7,33.9,55.2,12.0,125.0,50.0,56.0,28.8,55.0,11.0,52.0,140.0,281.0,4.2,19.4,165.6,99.0,6.9,38.0,22.0,9.0,68.0,32.0,90.0,168.0,66.0,49.0,42.0,15.2,13.8,96.0,8.0,32.0,91.1,26.2,6.7,40.1,87.0,34.5,35.0,35.9,115.0,72.0,38.0,95.0,80.0,117.3,13.8,51.8,116.0,21.4,3.0,8.0,220.0,81.0,12.5,13.0,64.0,84.0,10.0,40.0,6.0,24.0,25.0,80.0,74.6,34.0,24.9,35.7,70.0,27.5,65.0,60.0,56.6,17.0,160.0,72.0,22.0,32.0,77.3,98.0,27.0,20.0,15.0,59.0,38.0,49.0,45.6,46.0,78.0,53.9,19.0,12.0,16.0,53.9,9.0,109.0,40.0,13.0,22.8,11.1,20.0,48.0,38.0,58.0,98.0,13.8,11.0,52.0,99.0,58.0,27.0,80.0,11.0,22.8,32.0,43.0,120.0,45.0,29.0,18.0,13.8,42.0,74.6,95.0,14.0,54.9,139.0,35.0,13.8,13.8,29.5,48.0,6.5,23.0,50.0,39.0,41.4,11.1,106.0,92.0,13.8,30.3,20.0,45.2,155.0,132.0,27.6,60.0,74.0,9.9,40.0,15.9,48.3,9.1,8.0,16.6,30.8,82.8,42.0,23.0,183.6,75.0,31.0,65.0,90.0,54.0,52.5,9.7,70.0,47.0,16.6,49.7,90.0,95.0,38.0,32.0,54.0,27.6,25.0,38.0,8.0,110.0,6.0,118.0,28.0,65.0,24.0,113.0,14.5,33.2,30.0,285.0,70.0,11.1,8.1,99.0,28.0,139.0,45.0,345.0,40.0,60.0,45.0,24.0,49.0,38.0,115.0,60.0,19.0,65.0,22.0,10.0,59.0,13.8,17.0,59.0,89.0,10.0,8.0,59.4,20.7,72.0,57.0,28.0,52.0,66.3,11.0,9.0,30.7,30.0,5.0,4.2,69.0,38.7,150.0,63.0,125.0,65.0,38.0,44.0,52.0,40.1,28.8,26.3,11.1,65.0,28.0,12.5,26.2,47.0,30.4,52.0,12.0,104.9,11.1,48.3,20.0,67.3,135.0,79.0,48.0,11.1,27.6,13.8,6.9,100.0,50.0,34.0,6.5,23.0,26.3,44.0,54.0,44.9,55.0,46.0,59.0,98.0,72.0,45.0,48.0,16.5,62.0,33.2,45.6,75.0,21.9,36.0,53.0,49.0,18.0,275.0,150.0,33.0,16.0,33.4,34.0,45.0,11.1,64.0,117.3,12.4,42.0,9.0,152.0,12.4,4.2,47.0,41.4,17.9,4.2,22.0,96.0,66.3,16.0,36.6,52.5,45.0,70.0,58.0,150.0,45.0,19.0,73.2,19.0,22.0,34.0,58.0,52.5,13.8,82.0,95.0,44.2,62.0,34.5,30.4,45.0,80.1,260.0,13.8,66.3,13.8,18.0,105.0,17.0,98.0,164.0,36.0,24.9,40.0,37.0,48.0,62.1,55.0,24.9,6.6,79.0,45.0,64.0,35.0,4.2,105.3,35.0,24.0,20.7,27.6,270.0,9.0,33.0,47.0,19.9,29.0,36.0,34.5,64.0,6.5,31.8,36.0,24.0,82.0,67.3,82.8,12.4,24.0,9.8,79.0,35.9,70.4,6.9,74.0,14.0,20.7,72.0,42.1,62.0,11.0,69.0,109.1,49.0,32.0,32.0,53.0,5.1,74.0,60.0,45.2,10.0,11.1,8.3,13.8,7.9,7.0,60.8,4.0,67.7,23.5,48.3,65.0,105.0,20.7,195.0,34.0,18.0,149.0,25.0,42.0,59.4,26.0,80.0,33.9,56.0,90.0,48.3,22.0,27.6,11.0,45.0,48.3,27.1,21.0,45.0,150.0,55.0,17.0,99.0,59.5,42.5,110.0,10.8,148.0,17.0,29.0,55.2,29.0,23.2,2.8,25.0,48.0,96.0,15.0,58.0,27.0,79.0,73.2,52.0,40.0,100.0,92.0,49.7,68.0,70.0,80.1,62.1,60.0,27.0,225.0,11.0,48.0,45.0,109.1,52.5,53.0,90.0,95.0,14.0,7.0,39.0,119.0,72.0,80.0,55.0,10.0,28.8,11.0,22.0,30.0,97.0,120.0,139.0,115.0,23.0,88.4,42.0,56.0,129.0,41.4,40.8,15.0,30.0,54.6,58.0,25.0,117.3,145.0,65.0,35.0,15.0,52.0,34.0,110.0,41.4,7.2,26.0,122.0,37.3,8.3,82.0,160.0,74.6,8.0,178.0,26.0,44.0,200.0,65.0,32.0,32.0,48.0,34.5,41.4,30.4,54.0,15.0,105.0,68.0,88.0,20.7,145.0,38.0,67.3,52.0,65.0,64.0,20.7,16.0,29.0,45.0,12.0,70.0,575.0,8.3,40.0,29.4,165.0,16.6,38.0,60.0,40.0,25.0,195.0,28.0,24.9,95.3,62.1,12.4,59.0,70.0,135.0,13.0,15.0,19.4,39.0,75.0,150.0,49.0,18.0,235.0,66.0,59.0,85.0,38.0,44.0,28.0,68.0,53.0,52.4,49.0,113.2,11.1,45.0,11.0,33.0,27.6,18.0,11.1,58.7,30.0,22.1,33.2,158.7,22.0,52.0,32.0,30.4,47.0,95.0,68.0,70.0,16.0,26.3,103.5,39.0,27.0,125.0,74.0,53.9,150.0,97.0,22.0,13.8,22.0,39.0,51.1,65.0,87.0,34.5,52.0,31.0,34.5,63.0,79.0,34.5,104.0,49.0,20.0,8.6,35.9,189.0,80.0,40.4,8.3,20.7,58.0,67.7,57.9,22.1,139.0,38.0,92.0,27.0,18.0,79.0,995.0,47.0,175.0,11.0,67.7,80.0,66.0,40.1,58.0,11.1,79.0,37.0,18.0,45.0,59.0,19.0,10.0,24.9,90.0,10.0,70.0,50.0,13.2,55.0,11.0,82.0,16.6,44.2,69.0,9.7,23.5,30.4,20.0,35.0,27.6,24.9,28.0,13.0,150.0,99.0,89.0,35.0,17.0,95.0,40.0,11.1,78.0,18.0,38.0,40.0,32.0,41.4,31.0,85.0,15.2,58.0,48.0,22.1,45.6,8.0,119.0,58.0,12.4,89.7,4.9,34.5,28.0,68.0,45.0,34.0,23.0,55.0,129.0,27.6,125.0,11.7,75.0,115.0,25.0,52.5,69.0,130.0,79.99,1500.0,69.0,15.0,86.0,53.0,3.0,20.0,103.5,130.0,20.7,150.0,44.7,32.0,62.0,49.0,35.0,13.8,10.0,22.1,38.5,99.0,15.2,74.0,81.5,34.5,5.8,109.0,166.0,17.0,72.0,39.0,3.4,74.6,8.3,65.0,8.3,39.0,150.0,14.9,29.7,105.0,7.7,28.3,34.0,95.0,8.0,22.1,34.0,386.4,68.0,38.7,27.6,38.7,12.5,52.5,70.0,55.0,158.7,58.0,19.0,130.0,18.0,10.0,56.6,32.0,8.3,125.0,31.7,20.0,120.0,68.0,9.7,157.4,6.0,8.3,51.1,28.0,225.0,102.2,53.9,40.0,4.9,98.0,20.0,10.0,99.0,15.0,16.6,165.0,50.0,22.1,130.0,24.9,58.0,40.0,135.0,45.6,16.0,30.0,46.0,38.7,20.0,16.5,25.8,72.0,96.0,59.0,65.0,44.0,12.5,35.9,4.9,14.0,22.4,49.0,11.1,27.0,160.0,8.3,32.0,39.0,59.0,31.7,74.0,31.8,36.6,56.0,100.0,14.0,45.6,75.0,81.5,299.0,28.0,108.0,120.0,6.0,9.7,16.6,70.0,34.0,12.0,34.0,120.0,25.0,42.0,18.0,41.4,39.0,35.0,40.1,11.8,11.0,74.6,103.5,37.0,8.3,11.0,62.1,26.3,74.0,7.6,38.0],\"y0\":\" \",\"yaxis\":\"y\",\"type\":\"violin\"}],                        {\"template\":{\"data\":{\"bar\":[{\"error_x\":{\"color\":\"#2a3f5f\"},\"error_y\":{\"color\":\"#2a3f5f\"},\"marker\":{\"line\":{\"color\":\"#E5ECF6\",\"width\":0.5},\"pattern\":{\"fillmode\":\"overlay\",\"size\":10,\"solidity\":0.2}},\"type\":\"bar\"}],\"barpolar\":[{\"marker\":{\"line\":{\"color\":\"#E5ECF6\",\"width\":0.5},\"pattern\":{\"fillmode\":\"overlay\",\"size\":10,\"solidity\":0.2}},\"type\":\"barpolar\"}],\"carpet\":[{\"aaxis\":{\"endlinecolor\":\"#2a3f5f\",\"gridcolor\":\"white\",\"linecolor\":\"white\",\"minorgridcolor\":\"white\",\"startlinecolor\":\"#2a3f5f\"},\"baxis\":{\"endlinecolor\":\"#2a3f5f\",\"gridcolor\":\"white\",\"linecolor\":\"white\",\"minorgridcolor\":\"white\",\"startlinecolor\":\"#2a3f5f\"},\"type\":\"carpet\"}],\"choropleth\":[{\"colorbar\":{\"outlinewidth\":0,\"ticks\":\"\"},\"type\":\"choropleth\"}],\"contour\":[{\"colorbar\":{\"outlinewidth\":0,\"ticks\":\"\"},\"colorscale\":[[0.0,\"#0d0887\"],[0.1111111111111111,\"#46039f\"],[0.2222222222222222,\"#7201a8\"],[0.3333333333333333,\"#9c179e\"],[0.4444444444444444,\"#bd3786\"],[0.5555555555555556,\"#d8576b\"],[0.6666666666666666,\"#ed7953\"],[0.7777777777777778,\"#fb9f3a\"],[0.8888888888888888,\"#fdca26\"],[1.0,\"#f0f921\"]],\"type\":\"contour\"}],\"contourcarpet\":[{\"colorbar\":{\"outlinewidth\":0,\"ticks\":\"\"},\"type\":\"contourcarpet\"}],\"heatmap\":[{\"colorbar\":{\"outlinewidth\":0,\"ticks\":\"\"},\"colorscale\":[[0.0,\"#0d0887\"],[0.1111111111111111,\"#46039f\"],[0.2222222222222222,\"#7201a8\"],[0.3333333333333333,\"#9c179e\"],[0.4444444444444444,\"#bd3786\"],[0.5555555555555556,\"#d8576b\"],[0.6666666666666666,\"#ed7953\"],[0.7777777777777778,\"#fb9f3a\"],[0.8888888888888888,\"#fdca26\"],[1.0,\"#f0f921\"]],\"type\":\"heatmap\"}],\"heatmapgl\":[{\"colorbar\":{\"outlinewidth\":0,\"ticks\":\"\"},\"colorscale\":[[0.0,\"#0d0887\"],[0.1111111111111111,\"#46039f\"],[0.2222222222222222,\"#7201a8\"],[0.3333333333333333,\"#9c179e\"],[0.4444444444444444,\"#bd3786\"],[0.5555555555555556,\"#d8576b\"],[0.6666666666666666,\"#ed7953\"],[0.7777777777777778,\"#fb9f3a\"],[0.8888888888888888,\"#fdca26\"],[1.0,\"#f0f921\"]],\"type\":\"heatmapgl\"}],\"histogram\":[{\"marker\":{\"pattern\":{\"fillmode\":\"overlay\",\"size\":10,\"solidity\":0.2}},\"type\":\"histogram\"}],\"histogram2d\":[{\"colorbar\":{\"outlinewidth\":0,\"ticks\":\"\"},\"colorscale\":[[0.0,\"#0d0887\"],[0.1111111111111111,\"#46039f\"],[0.2222222222222222,\"#7201a8\"],[0.3333333333333333,\"#9c179e\"],[0.4444444444444444,\"#bd3786\"],[0.5555555555555556,\"#d8576b\"],[0.6666666666666666,\"#ed7953\"],[0.7777777777777778,\"#fb9f3a\"],[0.8888888888888888,\"#fdca26\"],[1.0,\"#f0f921\"]],\"type\":\"histogram2d\"}],\"histogram2dcontour\":[{\"colorbar\":{\"outlinewidth\":0,\"ticks\":\"\"},\"colorscale\":[[0.0,\"#0d0887\"],[0.1111111111111111,\"#46039f\"],[0.2222222222222222,\"#7201a8\"],[0.3333333333333333,\"#9c179e\"],[0.4444444444444444,\"#bd3786\"],[0.5555555555555556,\"#d8576b\"],[0.6666666666666666,\"#ed7953\"],[0.7777777777777778,\"#fb9f3a\"],[0.8888888888888888,\"#fdca26\"],[1.0,\"#f0f921\"]],\"type\":\"histogram2dcontour\"}],\"mesh3d\":[{\"colorbar\":{\"outlinewidth\":0,\"ticks\":\"\"},\"type\":\"mesh3d\"}],\"parcoords\":[{\"line\":{\"colorbar\":{\"outlinewidth\":0,\"ticks\":\"\"}},\"type\":\"parcoords\"}],\"pie\":[{\"automargin\":true,\"type\":\"pie\"}],\"scatter\":[{\"marker\":{\"colorbar\":{\"outlinewidth\":0,\"ticks\":\"\"}},\"type\":\"scatter\"}],\"scatter3d\":[{\"line\":{\"colorbar\":{\"outlinewidth\":0,\"ticks\":\"\"}},\"marker\":{\"colorbar\":{\"outlinewidth\":0,\"ticks\":\"\"}},\"type\":\"scatter3d\"}],\"scattercarpet\":[{\"marker\":{\"colorbar\":{\"outlinewidth\":0,\"ticks\":\"\"}},\"type\":\"scattercarpet\"}],\"scattergeo\":[{\"marker\":{\"colorbar\":{\"outlinewidth\":0,\"ticks\":\"\"}},\"type\":\"scattergeo\"}],\"scattergl\":[{\"marker\":{\"colorbar\":{\"outlinewidth\":0,\"ticks\":\"\"}},\"type\":\"scattergl\"}],\"scattermapbox\":[{\"marker\":{\"colorbar\":{\"outlinewidth\":0,\"ticks\":\"\"}},\"type\":\"scattermapbox\"}],\"scatterpolar\":[{\"marker\":{\"colorbar\":{\"outlinewidth\":0,\"ticks\":\"\"}},\"type\":\"scatterpolar\"}],\"scatterpolargl\":[{\"marker\":{\"colorbar\":{\"outlinewidth\":0,\"ticks\":\"\"}},\"type\":\"scatterpolargl\"}],\"scatterternary\":[{\"marker\":{\"colorbar\":{\"outlinewidth\":0,\"ticks\":\"\"}},\"type\":\"scatterternary\"}],\"surface\":[{\"colorbar\":{\"outlinewidth\":0,\"ticks\":\"\"},\"colorscale\":[[0.0,\"#0d0887\"],[0.1111111111111111,\"#46039f\"],[0.2222222222222222,\"#7201a8\"],[0.3333333333333333,\"#9c179e\"],[0.4444444444444444,\"#bd3786\"],[0.5555555555555556,\"#d8576b\"],[0.6666666666666666,\"#ed7953\"],[0.7777777777777778,\"#fb9f3a\"],[0.8888888888888888,\"#fdca26\"],[1.0,\"#f0f921\"]],\"type\":\"surface\"}],\"table\":[{\"cells\":{\"fill\":{\"color\":\"#EBF0F8\"},\"line\":{\"color\":\"white\"}},\"header\":{\"fill\":{\"color\":\"#C8D4E3\"},\"line\":{\"color\":\"white\"}},\"type\":\"table\"}]},\"layout\":{\"annotationdefaults\":{\"arrowcolor\":\"#2a3f5f\",\"arrowhead\":0,\"arrowwidth\":1},\"autotypenumbers\":\"strict\",\"coloraxis\":{\"colorbar\":{\"outlinewidth\":0,\"ticks\":\"\"}},\"colorscale\":{\"diverging\":[[0,\"#8e0152\"],[0.1,\"#c51b7d\"],[0.2,\"#de77ae\"],[0.3,\"#f1b6da\"],[0.4,\"#fde0ef\"],[0.5,\"#f7f7f7\"],[0.6,\"#e6f5d0\"],[0.7,\"#b8e186\"],[0.8,\"#7fbc41\"],[0.9,\"#4d9221\"],[1,\"#276419\"]],\"sequential\":[[0.0,\"#0d0887\"],[0.1111111111111111,\"#46039f\"],[0.2222222222222222,\"#7201a8\"],[0.3333333333333333,\"#9c179e\"],[0.4444444444444444,\"#bd3786\"],[0.5555555555555556,\"#d8576b\"],[0.6666666666666666,\"#ed7953\"],[0.7777777777777778,\"#fb9f3a\"],[0.8888888888888888,\"#fdca26\"],[1.0,\"#f0f921\"]],\"sequentialminus\":[[0.0,\"#0d0887\"],[0.1111111111111111,\"#46039f\"],[0.2222222222222222,\"#7201a8\"],[0.3333333333333333,\"#9c179e\"],[0.4444444444444444,\"#bd3786\"],[0.5555555555555556,\"#d8576b\"],[0.6666666666666666,\"#ed7953\"],[0.7777777777777778,\"#fb9f3a\"],[0.8888888888888888,\"#fdca26\"],[1.0,\"#f0f921\"]]},\"colorway\":[\"#636efa\",\"#EF553B\",\"#00cc96\",\"#ab63fa\",\"#FFA15A\",\"#19d3f3\",\"#FF6692\",\"#B6E880\",\"#FF97FF\",\"#FECB52\"],\"font\":{\"color\":\"#2a3f5f\"},\"geo\":{\"bgcolor\":\"white\",\"lakecolor\":\"white\",\"landcolor\":\"#E5ECF6\",\"showlakes\":true,\"showland\":true,\"subunitcolor\":\"white\"},\"hoverlabel\":{\"align\":\"left\"},\"hovermode\":\"closest\",\"mapbox\":{\"style\":\"light\"},\"paper_bgcolor\":\"white\",\"plot_bgcolor\":\"#E5ECF6\",\"polar\":{\"angularaxis\":{\"gridcolor\":\"white\",\"linecolor\":\"white\",\"ticks\":\"\"},\"bgcolor\":\"#E5ECF6\",\"radialaxis\":{\"gridcolor\":\"white\",\"linecolor\":\"white\",\"ticks\":\"\"}},\"scene\":{\"xaxis\":{\"backgroundcolor\":\"#E5ECF6\",\"gridcolor\":\"white\",\"gridwidth\":2,\"linecolor\":\"white\",\"showbackground\":true,\"ticks\":\"\",\"zerolinecolor\":\"white\"},\"yaxis\":{\"backgroundcolor\":\"#E5ECF6\",\"gridcolor\":\"white\",\"gridwidth\":2,\"linecolor\":\"white\",\"showbackground\":true,\"ticks\":\"\",\"zerolinecolor\":\"white\"},\"zaxis\":{\"backgroundcolor\":\"#E5ECF6\",\"gridcolor\":\"white\",\"gridwidth\":2,\"linecolor\":\"white\",\"showbackground\":true,\"ticks\":\"\",\"zerolinecolor\":\"white\"}},\"shapedefaults\":{\"line\":{\"color\":\"#2a3f5f\"}},\"ternary\":{\"aaxis\":{\"gridcolor\":\"white\",\"linecolor\":\"white\",\"ticks\":\"\"},\"baxis\":{\"gridcolor\":\"white\",\"linecolor\":\"white\",\"ticks\":\"\"},\"bgcolor\":\"#E5ECF6\",\"caxis\":{\"gridcolor\":\"white\",\"linecolor\":\"white\",\"ticks\":\"\"}},\"title\":{\"x\":0.05},\"xaxis\":{\"automargin\":true,\"gridcolor\":\"white\",\"linecolor\":\"white\",\"ticks\":\"\",\"title\":{\"standoff\":15},\"zerolinecolor\":\"white\",\"zerolinewidth\":2},\"yaxis\":{\"automargin\":true,\"gridcolor\":\"white\",\"linecolor\":\"white\",\"ticks\":\"\",\"title\":{\"standoff\":15},\"zerolinecolor\":\"white\",\"zerolinewidth\":2}}},\"xaxis\":{\"anchor\":\"y\",\"domain\":[0.0,1.0]},\"yaxis\":{\"anchor\":\"x\",\"domain\":[0.0,1.0],\"title\":{\"text\":\"price\"}},\"legend\":{\"tracegroupgap\":0},\"margin\":{\"t\":60},\"violinmode\":\"group\"},                        {\"responsive\": true}                    ).then(function(){\n",
              "                            \n",
              "var gd = document.getElementById('b535571f-a7ef-47b6-8c8e-e550d73ebd61');\n",
              "var x = new MutationObserver(function (mutations, observer) {{\n",
              "        var display = window.getComputedStyle(gd).display;\n",
              "        if (!display || display === 'none') {{\n",
              "            console.log([gd, 'removed!']);\n",
              "            Plotly.purge(gd);\n",
              "            observer.disconnect();\n",
              "        }}\n",
              "}});\n",
              "\n",
              "// Listen for the removal of the full notebook cells\n",
              "var notebookContainer = gd.closest('#notebook-container');\n",
              "if (notebookContainer) {{\n",
              "    x.observe(notebookContainer, {childList: true});\n",
              "}}\n",
              "\n",
              "// Listen for the clearing of the current output cell\n",
              "var outputEl = gd.closest('.output');\n",
              "if (outputEl) {{\n",
              "    x.observe(outputEl, {childList: true});\n",
              "}}\n",
              "\n",
              "                        })                };                            </script>        </div>\n",
              "</body>\n",
              "</html>"
            ]
          },
          "metadata": {}
        }
      ]
    },
    {
      "cell_type": "markdown",
      "source": [
        "- Product Amount Analysis"
      ],
      "metadata": {
        "id": "yevvqmHOV-y8"
      }
    },
    {
      "cell_type": "code",
      "source": [
        "fig = px.violin(df, y=\"product_amount\",template = \"plotly_dark\")\n",
        "fig.show()"
      ],
      "metadata": {
        "colab": {
          "base_uri": "https://localhost:8080/",
          "height": 542
        },
        "id": "xw4jgA2tnRP4",
        "outputId": "0d259674-9601-475b-a4c3-fac42c220958"
      },
      "execution_count": 14,
      "outputs": [
        {
          "output_type": "display_data",
          "data": {
            "text/html": [
              "<html>\n",
              "<head><meta charset=\"utf-8\" /></head>\n",
              "<body>\n",
              "    <div>            <script src=\"https://cdnjs.cloudflare.com/ajax/libs/mathjax/2.7.5/MathJax.js?config=TeX-AMS-MML_SVG\"></script><script type=\"text/javascript\">if (window.MathJax) {MathJax.Hub.Config({SVG: {font: \"STIX-Web\"}});}</script>                <script type=\"text/javascript\">window.PlotlyConfig = {MathJaxConfig: 'local'};</script>\n",
              "        <script src=\"https://cdn.plot.ly/plotly-2.8.3.min.js\"></script>                <div id=\"325cfeed-7e29-4243-b544-fd8221709c77\" class=\"plotly-graph-div\" style=\"height:525px; width:100%;\"></div>            <script type=\"text/javascript\">                                    window.PLOTLYENV=window.PLOTLYENV || {};                                    if (document.getElementById(\"325cfeed-7e29-4243-b544-fd8221709c77\")) {                    Plotly.newPlot(                        \"325cfeed-7e29-4243-b544-fd8221709c77\",                        [{\"alignmentgroup\":\"True\",\"box\":{\"visible\":false},\"hovertemplate\":\"product_amount=%{y}<extra></extra>\",\"legendgroup\":\"\",\"marker\":{\"color\":\"#636efa\"},\"name\":\"\",\"offsetgroup\":\"\",\"orientation\":\"v\",\"scalegroup\":\"True\",\"showlegend\":false,\"x0\":\" \",\"xaxis\":\"x\",\"y\":[59.15,50.0,30.0,198.14,50.0,70.87,75.0,40.0,50.0,30.0,50.0,8.5,60.0,189.94,48.19,30.0,150.0,15.0,30.0,50.27,30.0,50.0,90.0,30.0,60.0,125.0,50.0,48.19,130.0,28.35,100.0,15.0,15.0,28.35,25.0,59.15,6.5,30.0,44.36,30.0,30.0,100.0,237.0,50.0,100.0,15.0,15.0,150.0,100.0,200.0,30.0,1.98,50.0,0.05,180.0,15.0,30.0,150.0,113.4,180.0,75.0,30.0,75.0,15.0,50.0,150.0,18.99,50.0,75.0,50.0,100.55,200.0,30.0,30.0,99.96,53.0,50.0,14.79,15.0,125.0,11.83,60.0,50.0,29.57,100.0,50.0,30.0,49.98,28.35,56.7,150.0,200.0,28.35,30.0,56.7,237.0,50.0,150.0,130.0,493.88,40.0,40.0,128.0,30.0,30.0,150.0,100.0,200.0,120.0,10.0,60.0,200.0,30.0,50.0,125.0,50.0,50.0,30.0,48.19,119.07,159.7,198.14,30.0,15.0,200.0,30.0,141.75,50.0,50.0,30.0,5.0,15.08,36.85,150.0,30.0,100.0,15.0,50.0,100.0,118.29,50.0,30.0,50.0,50.0,10.0,75.0,50.0,30.0,47.91,73.0,30.0,150.0,14.17,39.33,50.0,48.0,75.0,11.3,49.98,80.0,15.0,50.27,200.0,100.0,125.0,50.0,15.08,75.0,50.0,15.0,30.0,10.0,30.0,225.0,50.0,50.0,45.36,300.0,4.25,50.0,50.0,109.42,20.0,50.0,50.0,30.0,30.0,15.0,150.0,100.0,10.0,120.0,30.0,50.0,200.0,141.75,10.0,100.0,50.0,14.79,50.0,50.0,90.0,50.0,28.35,50.0,50.0,20.0,25.0,50.0,30.0,60.0,30.0,50.27,50.0,16.0,13.0,50.0,15.0,49.98,30.0,50.0,100.0,47.91,30.0,59.0,70.0,30.0,149.0,75.0,125.0,50.0,75.0,115.1,130.0,50.0,32.0,200.0,49.9,30.0,30.0,30.0,200.0,74.0,49.98,29.57,50.0,68.04,23.0,177.44,28.35,15.0,15.0,400.0,57.0,9.0,120.0,15.0,10.0,50.0,50.0,20.0,120.0,20.0,15.0,50.0,10.0,20.0,75.0,8.5,75.0,149.94,50.0,48.19,100.0,236.0,30.0,40.0,10.0,200.0,15.0,82.21,30.0,48.19,90.0,60.0,60.0,15.0,17.01,30.0,50.0,10.0,100.0,30.0,49.98,29.57,120.0,30.0,50.0,100.0,10.0,15.0,200.0,28.35,50.0,5.0,200.0,50.0,150.0,30.0,73.71,30.0,60.0,35.0,15.0,200.0,30.0,94.0,28.35,50.0,50.0,120.0,118.29,14.0,30.0,60.0,28.0,50.0,118.29,28.35,30.0,50.0,150.0,30.0,30.0,39.92,52.0,50.0,150.0,88.0,30.0,15.0,400.0,200.0,14.46,50.0,50.0,75.0,50.0,147.87,30.0,201.1,50.0,50.0,50.0,60.0,30.0,9.0,49.98,15.0,60.0,50.0,95.0,100.0,60.0,100.0,30.0,85.05,22.0,380.0,40.0,30.0,30.0,30.0,125.0,200.0,300.0,150.0,150.0,30.0,82.81,198.45,177.0,30.0,250.0,30.0,200.0,30.0,28.35,60.0,30.0,200.0,354.88,56.7,190.0,49.98,300.0,15.0,4.44,22.0,50.27,75.0,98.48,30.0,192.78,493.88,40.0,125.0,25.0,200.0,30.0,50.0,150.0,39.33,30.0,41.4,200.0,100.0,30.0,19.28,500.0,35.0,50.0,49.98,40.0,150.0,19.84,14.17,59.15,28.35,60.0,48.0,59.0,28.35,200.0,130.0,59.15,100.0,28.0,200.0,100.0,4.0,48.0,29.57,105.0,48.19,12.5,20.0,60.0,141.75,56.7,28.63,150.0,503.0,9.92,100.0,3.2,100.0,28.35,50.0,50.0,48.19,24.95,30.0,200.0,15.0,189.94,50.0,25.0,100.0,175.0,10.0,10.0,50.0,30.0,50.0,125.0,50.0,647.99,34.9,30.0,100.0,80.0,30.0,30.0,30.0,28.35,40.0,30.0,34.9,50.0,50.0,200.0,100.0,200.0,30.0,40.0,177.44,50.0,400.0,148.0,100.0,200.0,15.0,50.0,199.62,30.0,73.93,30.0,15.0,15.0,14.0,30.0,40.0,10.0,45.36,60.0,192.78,150.0,30.0,198.14,100.0,30.0,180.0,100.0,50.0,100.0,56.7,125.0,100.55,30.0,100.0,4.5,100.0,28.0,150.0,15.0,50.27,30.0,50.0,100.0,6.0,30.0,28.35,10.0,120.0,48.19,30.0,50.0,180.0,100.0,75.0,30.0,4.25,147.87,50.0,100.0,100.0,50.0,200.0,9.0,30.0,30.0,400.0,1.7,30.0,30.0,15.0,75.0,30.0,42.52,29.57,197.26,30.0,59.15,49.98,47.32,50.0,50.0,30.0,28.0,50.0,50.0,50.0,50.0,200.0,647.99,26.0,59.0,28.0,200.0,125.0,100.0,30.0,30.0,15.0,30.0,28.35,15.0,50.0,48.19,163.0,50.0,15.0,29.57,30.0,104.39,65.0,20.0,15.0,75.0,453.59,40.0,100.0,141.75,50.0,15.0,48.0,30.0,50.0,170.0,30.0,60.0,88.72,56.7,40.0,50.0,28.63,240.97,50.0,15.0,15.0,100.0,35.0,97.59,28.35,59.15,125.0,30.0,50.0,15.0,15.0,200.0,50.0,15.0,120.0,120.0,50.0,55.01,120.0,192.78,50.0,1.77,50.0,30.0,50.0,50.0,50.0,100.0,133.08,50.0,30.0,29.57,50.0,50.0,30.0,60.0,50.27,44.36,15.0,177.44,14.79,140.0,70.87,14.46,50.0,75.0,50.0,55.0,200.0,15.0,150.0,200.0,40.0,40.0,50.0,30.0,60.0,30.0,50.0,50.0,251.0,40.0,55.0,15.0,28.35,30.0,150.0,3.3,40.0,30.0,50.0,55.0,30.0,11.0,8.0,25.0,15.0,50.0,10.0,48.19,15.0,15.0,48.0,50.0,30.0,30.0,25.0,7.0,30.0,15.0,150.0,50.0,60.0,14.17,30.0,50.0,50.0,311.84,150.0,22.77,15.0,125.0,50.27,75.0,30.0,48.19,20.0,40.0,130.0,48.19,30.0,15.0,50.0,100.0,30.0,20.0,100.0,125.0,30.0,50.0,30.0,50.0,29.57,170.0,50.0,43.0,30.0,50.0,30.0,15.0,150.0,100.55,30.0,30.0,50.0,75.0,200.0,14.79,15.0,15.0,150.0,100.0,59.0,59.0,47.32,19.84,125.0,103.0,30.0,499.79,15.0,75.0,236.59,400.0,50.0,300.0,50.27,28.0,50.0,15.0,5.0,189.94,56.7,8.0,120.0,14.79,25.0,74.0,100.0,14.79,75.0,85.05,400.0,50.0,50.0,150.0,120.0,109.42,115.1,60.03,30.0,200.0,50.0,30.0,28.35,141.75,30.0,29.87,15.88,49.98,34.0,20.0,15.0,100.0,15.0,30.0,300.0,20.0,30.0,40.0,50.0,130.0,125.0,200.0,50.0,100.55,125.0,50.27,100.0,15.0,49.98,60.0,26.02,30.0,28.0,125.0,30.0,30.0,100.0,2.35,200.0,16.0,25.0,15.0,8.87,51.03,15.0,48.19,199.62,177.44,31.0,150.0,150.0,15.0,5.0,500.0,100.0,30.0,25.0,48.0,73.93,59.15,35.0,50.0,250.0,40.0,170.1,40.0,195.0,55.0,100.0,25.0,28.35,38.45,15.0,100.0,100.0,30.0,180.0,50.0,150.0,15.0,30.0,200.0,50.0,29.57,100.0,30.0,100.0,20.0,30.0,15.0,150.0,99.22,28.0,10.05,100.0,100.0,125.0,30.0,88.72,49.98,200.0,30.33,148.0,28.35,30.0,15.0,572.89,50.0,50.0,50.27,100.0,20.0,50.0,189.94,50.0,50.0,30.0,50.0,28.35,29.57,55.0,28.35,50.0,15.0,25.0,15.0,150.0,75.0,50.0,50.0,250.0,25.0,198.14,40.0,30.0,200.0,25.0,50.0,30.0,50.0,125.0,30.0,15.0,30.0,1.1,177.44,30.0,39.33,30.0,15.0,2.0,30.0,30.0,14.79,150.0,100.0,15.0,50.0,30.0,30.0,170.0,30.0,19.0,15.0,30.0,50.0,113.4,49.98,4.25,200.0,150.0,50.0,10.05,100.0,50.0,50.0,30.0,75.0,50.0,189.94,28.35,59.15,14.17,15.0,120.0,150.0,49.98,99.22,50.0,50.0,30.0,125.0,29.57,198.14,50.0,144.58,15.0,30.0,28.35,200.0,15.0,50.0,60.0,28.35,31.0,40.0,40.0,75.0,50.0,50.0,70.87,200.0,60.0,14.0,6.52,29.57,59.15,25.0,200.0,100.0,198.45,700.0,100.0,15.0,200.0,15.0,30.0,15.0,125.0,0.6,17.01,50.0,40.0,40.0,50.0,68.04,75.0,453.0,49.98,28.63,100.0,30.0,30.0,50.0,55.0,50.0,60.0,50.0,60.0,30.0,75.0,95.0,200.0,200.0,100.0,50.0,9.0,68.04,29.57,15.0,85.05,40.0,120.0,30.0,14.0,200.0,30.0,50.0,139.0,50.0,30.0,15.0,15.0,25.0,40.0,30.0,12.76,100.0,200.0,200.0,30.0,50.0,150.0,30.0,15.0,50.27,56.7,30.0,250.0,60.0,50.0,40.0,100.0,50.0,100.0,50.0,130.0,75.0,100.0,30.0,14.0,30.0,150.0,120.0,60.0,30.0,30.0,33.17,100.0,50.0,50.0,30.0,125.0,80.0,100.0,23.36,125.0,499.79,177.0,15.0,30.0,30.0,22.0,150.0,29.57,113.4,75.0,28.0,30.0,200.0,23.81,28.3,40.0,7.98,100.0,113.4,180.0,50.0,120.0,50.0,28.63,45.0,100.0,33.17,15.0,20.0,29.87,0.15,150.0,50.0,295.0,50.0,50.0,50.0,120.0,200.0,50.0,300.0,75.0,56.7,56.7,29.57,75.0,200.0,50.0,100.0,30.0,200.0,400.0,50.0,453.59,200.0,15.0,47.32,15.0,15.0,40.0,50.0,30.0,150.0,15.0,38.45,39.92,50.0,198.45,50.0,50.0,180.0,30.0,500.0,42.52,236.0,30.0,20.11,75.0,50.0,30.0,15.0,40.0,75.0,14.17,16.0,8.87,30.0,30.0,40.0,50.0,100.0,15.0,272.16,50.0,10.0,200.0,59.15,49.98,113.4,14.17,25.0,30.0,120.0,209.97,400.0,50.0,113.4,60.0,30.0,59.0,80.0,14.79,120.0,2.96,100.0,30.0,28.35,120.0,56.7,30.0,30.0,150.0,15.0,50.0,35.0,5.0,90.0,100.0,125.0,100.0,40.0,30.0,199.62,30.0,3.3,70.0,150.0,2.0,100.0,38.45,48.19,6.0,100.0,50.0,7.5,49.98,50.0,94.64,48.19,30.0,180.0,125.0,34.02,150.0,40.0,50.0,4.25,9.92,987.75,48.0,50.0,15.0,28.35,15.0,30.0,29.57,180.0,93.55,50.0,8.0,56.7,75.0,50.0,200.0,200.0,29.57,150.0,30.0,35.0,40.0,48.19,30.0,33.17,15.0,25.0,29.57,15.0,30.0,50.0,30.0,100.0,19.28,14.79,50.0,50.0,56.7,59.0,30.0,200.0,29.87,200.0,45.36,100.0,30.0,15.0,150.0,50.0,30.0,50.0,15.0,29.57,50.0,50.0,96.39,100.0,200.0,50.0,8.4,40.0,100.0,120.0,30.0,75.0,50.0,75.0,15.0,50.0,28.35,30.0,30.0,10.0,34.6,15.0,30.0,19.84,125.0,150.0,8.5,240.0,50.0,150.0,236.59,647.99,30.0,30.0,100.0,50.0,15.0,25.0,246.35,35.0,30.0,118.0,75.12,150.0,15.0,14.79,48.19,30.0,50.0,30.0,30.0,48.19,50.0,30.0,57.0,30.0,30.0,30.0,15.0,150.0,25.0,50.0,120.0,59.15,48.19,5.67,15.0,30.0,5.0,200.0,150.0,200.0,0.15,49.98,15.0,30.0,60.0,40.0,79.85,100.0,155.0,139.0,50.0,75.0,48.19,50.0,8.0,30.0,15.0,6.0,50.0,85.0,17.01,150.0,200.0,105.0,60.0,50.0,28.35,125.0,30.0,73.71,100.0,19.84,30.0,139.0,60.0,10.05,30.0,114.82,48.19,28.35,9.3,4.3,4.25,33.17,100.0,100.0,50.0,120.0,20.0,15.0,50.0,30.0,50.0,198.14,200.0,198.14,300.0,113.4,30.0,300.0,4.0,30.0,200.0,50.0,75.0,10.0,150.0,400.0,40.0,100.0,75.0,200.0,150.0,6.8,30.0,50.27,120.0,11.34,30.0,50.0,30.0,30.0,28.0,50.0,29.57,150.0,99.22,28.35,150.0,50.0,30.0,200.0,60.0,45.0,30.0,50.27,14.79,50.0,50.0,30.0,30.0,29.57,14.17,15.0,125.0,180.0,7.0,50.0,10.0,199.62,30.0,15.0,30.0,100.0,15.0,50.0,75.0,31.05,88.0,28.0,100.0,50.0,50.0,60.0,100.0,41.4,2.0,50.0,50.0,50.0,15.0,33.17,198.45,15.0,113.4,124.74,29.87,50.0,49.98,4.14,29.87,15.0,38.45,100.0,50.0,30.0,14.79,40.0,45.0,60.0,236.0,15.0,150.0,48.19,50.27,120.0,50.0,50.0,238.14,48.19,14.79,28.35,28.35,40.0,12.0,15.0,14.0,50.0,150.0,150.0,20.0,107.73,50.0,0.15,120.0,30.0,50.0,201.1,3.0,50.0,201.1,50.0,15.0,50.0,85.0,8.87,100.0,100.0,15.0,200.0,236.0,59.15,50.0,118.29,12.0,73.93,50.0,48.0,30.0,30.0,8.0,100.0,30.0,141.75,50.27,50.0,75.12,29.57,100.0,94.0,30.0,30.0,50.0,30.0,125.0,16.0,105.0,195.0,14.8,50.0,147.0,50.0,200.0,30.0,29.57,50.27,500.0,100.0,15.0,47.91,50.0,99.96,60.0,90.0,90.0,29.87,120.0,28.35,15.0,50.0,100.0,15.0,50.0,15.0,200.0,147.87,30.0,14.79,200.0,125.0,15.0,28.35,75.0,100.0,75.0,30.0,30.0,50.0,198.14,14.79,48.19,100.0,250.0,14.79,60.0,30.0,120.0,116.23,19.84,35.0,150.0,35.0,15.0,22.0,25.0,150.0,50.0,49.98,250.0,30.0,250.0,125.0,30.0,50.0,30.0,30.0,18.0,15.0,150.0,18.0,100.0,30.0,25.0,30.0,50.0,120.0,30.0,249.9,100.0,50.0,56.7,192.78,200.0,39.92,30.0,14.79,30.0,30.0,56.7,50.0,25.0,30.0,15.0,177.44,150.0,6.8,30.0,85.05,50.0,30.0,48.19,31.0,73.93,48.0,200.0,80.0,28.0,50.0,96.39,50.0,14.79,30.0,150.0,125.0,30.0,15.0,100.0,40.0,30.0,30.0,100.0,30.0,15.0,50.27,236.0,50.0,50.0,28.35,30.0,50.0,50.0,17.01,29.57,59.15,141.75,89.0,99.96,29.57,30.0,55.0,200.0,30.0,15.0,15.0,150.0,14.0,150.0,30.0,50.0,29.57,30.0,56.7,48.19,260.0,28.35,70.87,50.27,56.7,50.0,453.59,50.27,25.0,15.0,200.0,100.0,50.0,29.87,28.0,86.0,272.16,15.0,62.5,50.0,15.0,29.57,59.15,30.0,15.0,30.0,75.0,100.0,100.0,300.0,17.01,180.0,100.0,75.0,50.0,45.0,113.4,14.79,50.0,75.0,29.57,60.0,50.0,150.0,50.0,55.0,30.0,28.0,150.0,40.0,3.0,97.59,75.0,50.0,30.0,30.0,15.0,200.0,200.0,50.0,28.35,200.0,30.0,150.0,150.0,30.0,50.0,200.0,15.0,48.0,30.0,60.0,93.55,30.0,50.0,15.0,59.15,30.0,50.0,28.35,100.0,50.0,50.0,30.0,15.0,96.39,30.0,80.0,150.0,8.0,50.0,25.51,48.19,75.0,30.0,30.0,237.0,55.0,26.0,25.51,50.0,30.0,30.0,55.0,75.0,10.0,30.0,226.8,200.0,50.0,15.0,50.0,59.15,48.0,30.0,30.0,150.0,50.0,30.0,15.0,200.0,50.0,30.0,36.85,14.17,50.0,50.0,30.0,28.35,50.0,150.0,10.0,48.19,75.0,175.0,198.0,75.0,15.0,150.0,30.0,100.0,50.0,40.0,400.0,15.0,4.0,15.0,14.17,30.0,30.0,150.0,14.79,39.69,56.7,50.0,28.4,32.0,50.0,135.0,59.15,75.0,15.0,6.0,50.0,30.0,40.52,100.0,30.0,80.0,50.0,14.17,100.0,150.0,59.15,400.0,50.0,50.0,120.0,4.25,90.0,48.19,26.0,75.12,60.0,25.0,100.0,51.03,15.0,115.1,30.0,50.0,50.0,40.0,30.0,19.81,65.77,48.19,15.0,30.0,10.0,50.0,52.05,3.0,100.0,9.0,150.0,150.0,325.0,50.0,72.01,75.0,60.0,30.0,60.0,60.0,50.0,13.0,201.1,48.19,125.0,125.0,14.17,100.0,29.57,73.64,40.0,50.0,39.92,160.0,200.0,480.0,15.0,28.35,100.0,80.0,9.0,15.0,30.0,10.0,30.0,141.75,19.84,200.0,200.0,4.25,15.0,140.0,15.0,18.0,50.0,20.0,30.0,50.0,49.98,50.27,30.0,25.0,50.0,50.0,50.0,7.09,30.0,30.0,10.0,30.0,50.27,40.0,50.0,0.15,50.0,34.02,100.0,50.0,30.0,125.0,90.0,15.0,15.0,50.0,80.0,50.0,15.0,14.17,45.0,15.0,40.0,20.0,50.0,50.0,50.0,30.0,50.27,29.57,30.0,29.0,60.0,50.0,150.0,65.77,50.0,60.0,50.0,15.0,50.0,30.0,30.0,100.55,50.0,48.19,50.0,49.98,400.0,200.0,75.0,150.0,20.0,48.19,90.72,147.87,150.0,120.0,400.0,3.7,30.0,28.35,29.57,34.9,30.0,150.0,180.0,29.57,25.0,15.0,50.0,29.57,15.0,50.27,30.0,75.0,48.19,49.39,56.7,300.0,50.0,141.75,40.0,59.15,200.0,60.0,120.0,25.0,56.7,5.0,59.0,39.33,5.1,28.35,90.0,4.0,14.17,35.0,50.0,1.98,10.0,30.0,50.0,55.0,149.94,50.0,50.0,20.0,30.0,200.0,39.92,98.48,28.0,150.0,10.0,75.0,17.74,50.0,150.0,29.57,48.19,15.0,125.0,30.0,5.0,125.0,30.0,15.0,30.0,40.0,50.0,100.0,30.0,30.0,125.0,100.0,30.0,647.99,50.0,198.45,30.0,30.0,50.0,200.0,5.0,150.0,50.0,50.0,125.0,150.0,30.0,100.0,15.0,15.0,100.0,89.9,177.0,30.0,40.0,15.0,50.27,30.0,100.0,49.98,30.0,50.0,30.0,200.0,177.44,56.6,30.0,50.0,28.35,30.0,75.0,75.0,180.0,2.3,115.34,15.0,59.53,30.0,30.0,28.3,25.0,40.0,30.0,6.0,29.57,3.1,100.0,100.0,50.0,50.0,50.0,4.0,60.0,100.0,55.0,30.0,100.0,14.17,59.15,147.87,15.0,110.0,180.0,50.0,30.0,15.0,15.0,30.0,50.0,7.09,50.0,50.0,100.0,50.0,0.5,60.0,155.0,50.0,125.0,59.15,50.0,150.0,50.0,50.0,195.0,150.0,50.0,200.0,198.14,60.0,29.57,60.0,200.0,14.79,113.4,50.0,40.0,25.0,75.0,10.0,198.14,30.0,150.0,47.91,150.0,30.0,15.0,30.0,56.7,150.0,5.0,50.0,15.0,110.0,59.15,113.4,30.0,30.0,75.0,40.0,100.0,30.0,28.35,500.0,177.0,75.0,30.0,237.0,15.0,14.79,9.36,150.0,246.35,51.03,59.0,135.0,250.0,14.17,30.0,200.0,28.5,56.7,50.0,28.35,700.0,30.0,50.0,48.19,30.0,30.0,7.0,50.0,75.0,30.0,96.39,50.0,400.0,50.0,118.29,199.92,50.0,150.0,124.21,60.0,50.0,15.0,150.0,15.0,48.19,15.0,80.0,30.0,125.0,236.59,40.0,100.0,30.0,100.0,30.0,48.19,60.0,15.0,50.27,35.0,41.4,99.96,887.2,5.0,15.0,30.0,145.0,100.0,20.0,97.59,90.72,30.0,75.0,39.92,10.0,169.53,30.0,30.0,15.0,14.79,50.0,10.0,49.98,30.0,50.0,15.0,50.0,200.0,100.0,246.35,68.04,15.0,50.0,30.0,125.0,75.0,15.0,83.0,8.0,79.38,50.0,55.0,28.35,50.0,30.0,30.0,39.69,17.01,80.0,500.0,198.45,30.0,212.62,50.0,30.0,28.35,60.0,48.19,30.0,15.0,30.0,453.59,45.0,30.0,145.0,50.0,100.0,30.0,90.0,147.87,30.0,20.0,15.0,50.0,150.0,73.64,15.0,150.0,114.0,50.0,30.0,200.0,25.0,49.98,59.0,6.0,15.0,25.0,30.0,201.28,100.0,150.0,10.0,50.0,0.5,15.0,30.0,15.0,80.0,30.0,31.94,118.29,30.0,150.0,50.0,74.0,30.0,50.0,130.0,30.0,15.0,50.0,96.39,100.0,50.0,200.0,30.0,15.0,14.17,100.0,50.0,60.03,48.19,10.0,120.0,60.0,15.0,30.0,50.0,50.27,120.0,15.0,10.0,75.0,50.0,14.79,45.0,40.0,246.35,30.0,14.79,207.0,30.0,50.0,28.35,57.27,50.0,85.05,60.0,100.0,50.0,200.0,14.79,125.0,29.87,100.0,15.0,100.0,50.0,60.03,50.0,100.0,47.91,400.0,207.01,15.0,10.0,31.0,11.34,60.0,50.27,50.0,19.0,50.0,44.36,50.0,50.0,50.27,100.0,15.0,14.8,493.88,236.0,10.0,101.0,50.0,50.0,300.0,30.0,10.0,130.0,120.0,113.4,59.15,30.0,50.0,15.0,10.0,150.0,75.0,49.61,30.0,60.0,100.0,400.0,50.0,50.0,50.0,150.0,96.39,50.27,75.0,10.0,50.0,60.0,50.0,22.0,25.0,100.0,15.0,50.0,75.0,100.0,15.0,8.0,14.79,200.0,150.0,119.07,96.39,160.0,25.0,1000.0,50.0,3.4,14.79,50.0,200.0,85.05,125.0,15.0,150.0,50.0,30.0,50.0,50.0,80.0,30.0,40.0,200.0,150.0,49.98,17.01,30.0,50.0,60.0,175.0,100.0,59.15,15.0,65.0,30.0,200.0,28.35,118.29,100.0,30.0,15.0,30.0,125.0,94.64,7.0,15.0,25.0,30.0,55.0,29.57,15.0,50.0,25.0,75.0,73.93,82.81,60.0,0.02,50.0,100.0,60.0,120.0,30.0,4.25,99.22,50.0,28.35,30.0,55.0,29.57,98.0,20.0,45.36,42.52,50.0,100.0,19.81,150.0,30.0,50.0,50.0,29.57,60.0,22.11,283.5,133.24,120.07,50.0,39.69,185.0,48.19,48.19,30.0,50.0,100.0,50.0,30.0,30.0,50.0,12.0,29.57,100.0,10.0,15.0,15.0,100.0,150.0,7.0,75.0,29.57,50.0,15.0,29.57,50.0,57.27,100.0,28.35,20.0,15.0,30.0,14.79,50.0,200.0,200.0,12.0,30.0,100.0,15.0,30.0,75.0,5.0,50.0,15.0,25.51,50.0,29.87,150.0,30.0,14.0,100.0,227.0,15.0,400.0,30.0,25.0,10.0,200.0,199.92,50.0,50.0,50.0,14.79,150.0,226.8,6.5,14.79,48.19,56.7,15.0,50.0,14.17,40.0,30.0,110.0,50.0,73.93,19.28,50.0,499.79,100.0,75.0,100.0,10.0,88.72,160.0,50.0,50.0,96.39,100.0,12.5,236.0,177.0,200.0,50.0,60.0,150.0,150.0,200.0,29.57,150.0,147.87,75.0,50.0,60.0,40.0,110.0,50.0,55.0,30.0,189.94,50.0,59.15,28.35,85.05,133.08,30.0,20.0,25.0,399.83,4.0,28.0,141.75,40.0,206.95,29.57,150.0,30.0,50.0,50.0,250.0,30.0,284.0,50.0,75.0,50.0,15.0,200.0,100.0,125.0,30.0,80.0,14.79,30.0,95.82],\"y0\":\" \",\"yaxis\":\"y\",\"type\":\"violin\"}],                        {\"template\":{\"data\":{\"barpolar\":[{\"marker\":{\"line\":{\"color\":\"rgb(17,17,17)\",\"width\":0.5},\"pattern\":{\"fillmode\":\"overlay\",\"size\":10,\"solidity\":0.2}},\"type\":\"barpolar\"}],\"bar\":[{\"error_x\":{\"color\":\"#f2f5fa\"},\"error_y\":{\"color\":\"#f2f5fa\"},\"marker\":{\"line\":{\"color\":\"rgb(17,17,17)\",\"width\":0.5},\"pattern\":{\"fillmode\":\"overlay\",\"size\":10,\"solidity\":0.2}},\"type\":\"bar\"}],\"carpet\":[{\"aaxis\":{\"endlinecolor\":\"#A2B1C6\",\"gridcolor\":\"#506784\",\"linecolor\":\"#506784\",\"minorgridcolor\":\"#506784\",\"startlinecolor\":\"#A2B1C6\"},\"baxis\":{\"endlinecolor\":\"#A2B1C6\",\"gridcolor\":\"#506784\",\"linecolor\":\"#506784\",\"minorgridcolor\":\"#506784\",\"startlinecolor\":\"#A2B1C6\"},\"type\":\"carpet\"}],\"choropleth\":[{\"colorbar\":{\"outlinewidth\":0,\"ticks\":\"\"},\"type\":\"choropleth\"}],\"contourcarpet\":[{\"colorbar\":{\"outlinewidth\":0,\"ticks\":\"\"},\"type\":\"contourcarpet\"}],\"contour\":[{\"colorbar\":{\"outlinewidth\":0,\"ticks\":\"\"},\"colorscale\":[[0.0,\"#0d0887\"],[0.1111111111111111,\"#46039f\"],[0.2222222222222222,\"#7201a8\"],[0.3333333333333333,\"#9c179e\"],[0.4444444444444444,\"#bd3786\"],[0.5555555555555556,\"#d8576b\"],[0.6666666666666666,\"#ed7953\"],[0.7777777777777778,\"#fb9f3a\"],[0.8888888888888888,\"#fdca26\"],[1.0,\"#f0f921\"]],\"type\":\"contour\"}],\"heatmapgl\":[{\"colorbar\":{\"outlinewidth\":0,\"ticks\":\"\"},\"colorscale\":[[0.0,\"#0d0887\"],[0.1111111111111111,\"#46039f\"],[0.2222222222222222,\"#7201a8\"],[0.3333333333333333,\"#9c179e\"],[0.4444444444444444,\"#bd3786\"],[0.5555555555555556,\"#d8576b\"],[0.6666666666666666,\"#ed7953\"],[0.7777777777777778,\"#fb9f3a\"],[0.8888888888888888,\"#fdca26\"],[1.0,\"#f0f921\"]],\"type\":\"heatmapgl\"}],\"heatmap\":[{\"colorbar\":{\"outlinewidth\":0,\"ticks\":\"\"},\"colorscale\":[[0.0,\"#0d0887\"],[0.1111111111111111,\"#46039f\"],[0.2222222222222222,\"#7201a8\"],[0.3333333333333333,\"#9c179e\"],[0.4444444444444444,\"#bd3786\"],[0.5555555555555556,\"#d8576b\"],[0.6666666666666666,\"#ed7953\"],[0.7777777777777778,\"#fb9f3a\"],[0.8888888888888888,\"#fdca26\"],[1.0,\"#f0f921\"]],\"type\":\"heatmap\"}],\"histogram2dcontour\":[{\"colorbar\":{\"outlinewidth\":0,\"ticks\":\"\"},\"colorscale\":[[0.0,\"#0d0887\"],[0.1111111111111111,\"#46039f\"],[0.2222222222222222,\"#7201a8\"],[0.3333333333333333,\"#9c179e\"],[0.4444444444444444,\"#bd3786\"],[0.5555555555555556,\"#d8576b\"],[0.6666666666666666,\"#ed7953\"],[0.7777777777777778,\"#fb9f3a\"],[0.8888888888888888,\"#fdca26\"],[1.0,\"#f0f921\"]],\"type\":\"histogram2dcontour\"}],\"histogram2d\":[{\"colorbar\":{\"outlinewidth\":0,\"ticks\":\"\"},\"colorscale\":[[0.0,\"#0d0887\"],[0.1111111111111111,\"#46039f\"],[0.2222222222222222,\"#7201a8\"],[0.3333333333333333,\"#9c179e\"],[0.4444444444444444,\"#bd3786\"],[0.5555555555555556,\"#d8576b\"],[0.6666666666666666,\"#ed7953\"],[0.7777777777777778,\"#fb9f3a\"],[0.8888888888888888,\"#fdca26\"],[1.0,\"#f0f921\"]],\"type\":\"histogram2d\"}],\"histogram\":[{\"marker\":{\"pattern\":{\"fillmode\":\"overlay\",\"size\":10,\"solidity\":0.2}},\"type\":\"histogram\"}],\"mesh3d\":[{\"colorbar\":{\"outlinewidth\":0,\"ticks\":\"\"},\"type\":\"mesh3d\"}],\"parcoords\":[{\"line\":{\"colorbar\":{\"outlinewidth\":0,\"ticks\":\"\"}},\"type\":\"parcoords\"}],\"pie\":[{\"automargin\":true,\"type\":\"pie\"}],\"scatter3d\":[{\"line\":{\"colorbar\":{\"outlinewidth\":0,\"ticks\":\"\"}},\"marker\":{\"colorbar\":{\"outlinewidth\":0,\"ticks\":\"\"}},\"type\":\"scatter3d\"}],\"scattercarpet\":[{\"marker\":{\"colorbar\":{\"outlinewidth\":0,\"ticks\":\"\"}},\"type\":\"scattercarpet\"}],\"scattergeo\":[{\"marker\":{\"colorbar\":{\"outlinewidth\":0,\"ticks\":\"\"}},\"type\":\"scattergeo\"}],\"scattergl\":[{\"marker\":{\"line\":{\"color\":\"#283442\"}},\"type\":\"scattergl\"}],\"scattermapbox\":[{\"marker\":{\"colorbar\":{\"outlinewidth\":0,\"ticks\":\"\"}},\"type\":\"scattermapbox\"}],\"scatterpolargl\":[{\"marker\":{\"colorbar\":{\"outlinewidth\":0,\"ticks\":\"\"}},\"type\":\"scatterpolargl\"}],\"scatterpolar\":[{\"marker\":{\"colorbar\":{\"outlinewidth\":0,\"ticks\":\"\"}},\"type\":\"scatterpolar\"}],\"scatter\":[{\"marker\":{\"line\":{\"color\":\"#283442\"}},\"type\":\"scatter\"}],\"scatterternary\":[{\"marker\":{\"colorbar\":{\"outlinewidth\":0,\"ticks\":\"\"}},\"type\":\"scatterternary\"}],\"surface\":[{\"colorbar\":{\"outlinewidth\":0,\"ticks\":\"\"},\"colorscale\":[[0.0,\"#0d0887\"],[0.1111111111111111,\"#46039f\"],[0.2222222222222222,\"#7201a8\"],[0.3333333333333333,\"#9c179e\"],[0.4444444444444444,\"#bd3786\"],[0.5555555555555556,\"#d8576b\"],[0.6666666666666666,\"#ed7953\"],[0.7777777777777778,\"#fb9f3a\"],[0.8888888888888888,\"#fdca26\"],[1.0,\"#f0f921\"]],\"type\":\"surface\"}],\"table\":[{\"cells\":{\"fill\":{\"color\":\"#506784\"},\"line\":{\"color\":\"rgb(17,17,17)\"}},\"header\":{\"fill\":{\"color\":\"#2a3f5f\"},\"line\":{\"color\":\"rgb(17,17,17)\"}},\"type\":\"table\"}]},\"layout\":{\"annotationdefaults\":{\"arrowcolor\":\"#f2f5fa\",\"arrowhead\":0,\"arrowwidth\":1},\"autotypenumbers\":\"strict\",\"coloraxis\":{\"colorbar\":{\"outlinewidth\":0,\"ticks\":\"\"}},\"colorscale\":{\"diverging\":[[0,\"#8e0152\"],[0.1,\"#c51b7d\"],[0.2,\"#de77ae\"],[0.3,\"#f1b6da\"],[0.4,\"#fde0ef\"],[0.5,\"#f7f7f7\"],[0.6,\"#e6f5d0\"],[0.7,\"#b8e186\"],[0.8,\"#7fbc41\"],[0.9,\"#4d9221\"],[1,\"#276419\"]],\"sequential\":[[0.0,\"#0d0887\"],[0.1111111111111111,\"#46039f\"],[0.2222222222222222,\"#7201a8\"],[0.3333333333333333,\"#9c179e\"],[0.4444444444444444,\"#bd3786\"],[0.5555555555555556,\"#d8576b\"],[0.6666666666666666,\"#ed7953\"],[0.7777777777777778,\"#fb9f3a\"],[0.8888888888888888,\"#fdca26\"],[1.0,\"#f0f921\"]],\"sequentialminus\":[[0.0,\"#0d0887\"],[0.1111111111111111,\"#46039f\"],[0.2222222222222222,\"#7201a8\"],[0.3333333333333333,\"#9c179e\"],[0.4444444444444444,\"#bd3786\"],[0.5555555555555556,\"#d8576b\"],[0.6666666666666666,\"#ed7953\"],[0.7777777777777778,\"#fb9f3a\"],[0.8888888888888888,\"#fdca26\"],[1.0,\"#f0f921\"]]},\"colorway\":[\"#636efa\",\"#EF553B\",\"#00cc96\",\"#ab63fa\",\"#FFA15A\",\"#19d3f3\",\"#FF6692\",\"#B6E880\",\"#FF97FF\",\"#FECB52\"],\"font\":{\"color\":\"#f2f5fa\"},\"geo\":{\"bgcolor\":\"rgb(17,17,17)\",\"lakecolor\":\"rgb(17,17,17)\",\"landcolor\":\"rgb(17,17,17)\",\"showlakes\":true,\"showland\":true,\"subunitcolor\":\"#506784\"},\"hoverlabel\":{\"align\":\"left\"},\"hovermode\":\"closest\",\"mapbox\":{\"style\":\"dark\"},\"paper_bgcolor\":\"rgb(17,17,17)\",\"plot_bgcolor\":\"rgb(17,17,17)\",\"polar\":{\"angularaxis\":{\"gridcolor\":\"#506784\",\"linecolor\":\"#506784\",\"ticks\":\"\"},\"bgcolor\":\"rgb(17,17,17)\",\"radialaxis\":{\"gridcolor\":\"#506784\",\"linecolor\":\"#506784\",\"ticks\":\"\"}},\"scene\":{\"xaxis\":{\"backgroundcolor\":\"rgb(17,17,17)\",\"gridcolor\":\"#506784\",\"gridwidth\":2,\"linecolor\":\"#506784\",\"showbackground\":true,\"ticks\":\"\",\"zerolinecolor\":\"#C8D4E3\"},\"yaxis\":{\"backgroundcolor\":\"rgb(17,17,17)\",\"gridcolor\":\"#506784\",\"gridwidth\":2,\"linecolor\":\"#506784\",\"showbackground\":true,\"ticks\":\"\",\"zerolinecolor\":\"#C8D4E3\"},\"zaxis\":{\"backgroundcolor\":\"rgb(17,17,17)\",\"gridcolor\":\"#506784\",\"gridwidth\":2,\"linecolor\":\"#506784\",\"showbackground\":true,\"ticks\":\"\",\"zerolinecolor\":\"#C8D4E3\"}},\"shapedefaults\":{\"line\":{\"color\":\"#f2f5fa\"}},\"sliderdefaults\":{\"bgcolor\":\"#C8D4E3\",\"bordercolor\":\"rgb(17,17,17)\",\"borderwidth\":1,\"tickwidth\":0},\"ternary\":{\"aaxis\":{\"gridcolor\":\"#506784\",\"linecolor\":\"#506784\",\"ticks\":\"\"},\"baxis\":{\"gridcolor\":\"#506784\",\"linecolor\":\"#506784\",\"ticks\":\"\"},\"bgcolor\":\"rgb(17,17,17)\",\"caxis\":{\"gridcolor\":\"#506784\",\"linecolor\":\"#506784\",\"ticks\":\"\"}},\"title\":{\"x\":0.05},\"updatemenudefaults\":{\"bgcolor\":\"#506784\",\"borderwidth\":0},\"xaxis\":{\"automargin\":true,\"gridcolor\":\"#283442\",\"linecolor\":\"#506784\",\"ticks\":\"\",\"title\":{\"standoff\":15},\"zerolinecolor\":\"#283442\",\"zerolinewidth\":2},\"yaxis\":{\"automargin\":true,\"gridcolor\":\"#283442\",\"linecolor\":\"#506784\",\"ticks\":\"\",\"title\":{\"standoff\":15},\"zerolinecolor\":\"#283442\",\"zerolinewidth\":2}}},\"xaxis\":{\"anchor\":\"y\",\"domain\":[0.0,1.0]},\"yaxis\":{\"anchor\":\"x\",\"domain\":[0.0,1.0],\"title\":{\"text\":\"product_amount\"}},\"legend\":{\"tracegroupgap\":0},\"margin\":{\"t\":60},\"violinmode\":\"group\"},                        {\"responsive\": true}                    ).then(function(){\n",
              "                            \n",
              "var gd = document.getElementById('325cfeed-7e29-4243-b544-fd8221709c77');\n",
              "var x = new MutationObserver(function (mutations, observer) {{\n",
              "        var display = window.getComputedStyle(gd).display;\n",
              "        if (!display || display === 'none') {{\n",
              "            console.log([gd, 'removed!']);\n",
              "            Plotly.purge(gd);\n",
              "            observer.disconnect();\n",
              "        }}\n",
              "}});\n",
              "\n",
              "// Listen for the removal of the full notebook cells\n",
              "var notebookContainer = gd.closest('#notebook-container');\n",
              "if (notebookContainer) {{\n",
              "    x.observe(notebookContainer, {childList: true});\n",
              "}}\n",
              "\n",
              "// Listen for the clearing of the current output cell\n",
              "var outputEl = gd.closest('.output');\n",
              "if (outputEl) {{\n",
              "    x.observe(outputEl, {childList: true});\n",
              "}}\n",
              "\n",
              "                        })                };                            </script>        </div>\n",
              "</body>\n",
              "</html>"
            ]
          },
          "metadata": {}
        }
      ]
    },
    {
      "cell_type": "markdown",
      "source": [
        "- Brand Wise Price Analysis"
      ],
      "metadata": {
        "id": "ViYYZH2lWHHC"
      }
    },
    {
      "cell_type": "code",
      "source": [
        "abc1=df.groupby(['brand'])['price'].mean().sort_values(ascending= False)\n",
        "abc1\n"
      ],
      "metadata": {
        "colab": {
          "base_uri": "https://localhost:8080/"
        },
        "id": "L5VxFsrTo9QA",
        "outputId": "06fdad3d-f170-4ca0-f46a-c75455591cd5"
      },
      "execution_count": 15,
      "outputs": [
        {
          "output_type": "execute_result",
          "data": {
            "text/plain": [
              "brand\n",
              "skinpointeight            358.800000\n",
              "révive                    279.736842\n",
              "mz skin                   240.200000\n",
              "angela caglia skincare    238.333333\n",
              "111skin                   211.863636\n",
              "                             ...    \n",
              "k-glo                       6.000000\n",
              "clean&clear                 5.800000\n",
              "grow gorgeous               5.200000\n",
              "freeman beauty              4.866667\n",
              "vaseline                    2.800000\n",
              "Name: price, Length: 328, dtype: float64"
            ]
          },
          "metadata": {},
          "execution_count": 15
        }
      ]
    },
    {
      "cell_type": "code",
      "source": [
        "fig = px.bar(abc1)\n",
        "fig.update_layout(\n",
        "    autosize=False,\n",
        "    width=2000,\n",
        "    height=900,\n",
        "    template= \"ggplot2\"\n",
        ")\n",
        "fig.show()"
      ],
      "metadata": {
        "colab": {
          "base_uri": "https://localhost:8080/",
          "height": 937
        },
        "id": "_C0ySb6opJ6L",
        "outputId": "a3f70e2a-95aa-44f3-a195-33b42a974d9f"
      },
      "execution_count": 16,
      "outputs": [
        {
          "output_type": "display_data",
          "data": {
            "text/html": [
              "<html>\n",
              "<head><meta charset=\"utf-8\" /></head>\n",
              "<body>\n",
              "    <div>            <script src=\"https://cdnjs.cloudflare.com/ajax/libs/mathjax/2.7.5/MathJax.js?config=TeX-AMS-MML_SVG\"></script><script type=\"text/javascript\">if (window.MathJax) {MathJax.Hub.Config({SVG: {font: \"STIX-Web\"}});}</script>                <script type=\"text/javascript\">window.PlotlyConfig = {MathJaxConfig: 'local'};</script>\n",
              "        <script src=\"https://cdn.plot.ly/plotly-2.8.3.min.js\"></script>                <div id=\"7c429b57-4ed8-40a3-ad0e-932cee93459b\" class=\"plotly-graph-div\" style=\"height:900px; width:2000px;\"></div>            <script type=\"text/javascript\">                                    window.PLOTLYENV=window.PLOTLYENV || {};                                    if (document.getElementById(\"7c429b57-4ed8-40a3-ad0e-932cee93459b\")) {                    Plotly.newPlot(                        \"7c429b57-4ed8-40a3-ad0e-932cee93459b\",                        [{\"alignmentgroup\":\"True\",\"hovertemplate\":\"variable=price<br>brand=%{x}<br>value=%{y}<extra></extra>\",\"legendgroup\":\"price\",\"marker\":{\"color\":\"#636efa\",\"pattern\":{\"shape\":\"\"}},\"name\":\"price\",\"offsetgroup\":\"price\",\"orientation\":\"v\",\"showlegend\":true,\"textposition\":\"auto\",\"x\":[\"skinpointeight\",\"r\\u00e9vive\",\"mz skin\",\"angela caglia skincare\",\"111skin\",\"mila moursi\",\"natura biss\\u00e9\",\"3lab\",\"bynacht\",\"neocutis\",\"fillerina\",\"joanna vargas\",\"ila-spa\",\"chantecaille\",\"trophy skin\",\"skinmedica\",\"erno laszlo\",\"omorovicza\",\"sent\\u00e9\",\"sulwhasoo\",\"priori skincare\",\"doctors formula\",\"lancer skincare\",\"allies of skin\",\"sepai\",\"babor\",\"michael todd beauty\",\"u beauty\",\"decort\\u00e9\",\"colorescience\",\"biopelle\",\"refa\",\"skinceuticals\",\"skin regimen\",\"elemental herbology\",\"erasa\",\"the organic pharmacy\",\"rodial\",\"gentlemen's tonic\",\"bioeffect\",\"sarah chapman skinesis\",\"obagi clinical\",\"darphin\",\"kerstin florian\",\"mgc derma\",\"alo\",\"perricone md\",\"zelens\",\"obagi medical\",\"glowbiotics md\",\"clark's botanicals\",\"patricks\",\"alpha-h\",\"clarityrx\",\"koh gen do\",\"bioelements\",\"circ-cell skincare\",\"pca skin\",\"yon-ka paris skincare\",\"filorga\",\"dr. loretta\",\"skin gym\",\"elemis\",\"eve lom\",\"hydropeptide\",\"argentum\",\"beautystat\",\"est\\u00e9e lauder\",\"oskia\",\"kate somerville\",\"pestle & mortar\",\"strivectin\",\"espa\",\"the beauty chef\",\"jan marini\",\"is clinical\",\"dr. brandt\",\"algenist\",\"sensori+\",\"nurse jamie\",\"dr dennis gross\",\"dcl dermatologic cosmetic laboratories\",\"murad\",\"aurelia london\",\"emma hardie\",\"goldfaden md\",\"sundari\",\"oto\",\"jurlique\",\"fit\",\"verso\",\"elizabeth arden\",\"shiseido\",\"dr dennis gross skincare\",\"clinique\",\"neostrata\",\"niod\",\"osmosis +beauty\",\"ecooking\",\"little butterfly london\",\"gatineau\",\"sio beauty\",\"naturopathica\",\"ahava\",\"medik8\",\"comfort zone\",\"bloomeffects\",\"kloris\",\"daimon barber\",\"freezeframe\",\"peter thomas roth\",\"skinchemists\",\"triumph & disaster\",\"apivita\",\"institut esthederm\",\"nourella\",\"cult51\",\"emerginc\",\"revitalash\",\"american crew\",\"voya\",\"nassifmd dermaceuticals\",\"by terry\",\"grown alchemist\",\"inika\",\"image skincare\",\"alchimie forever\",\"jack black\",\"philosophy\",\"ark skincare\",\"aromaworks\",\"intraceuticals\",\"bolt beauty\",\"dr kerklaan therapeutics\",\"beauty ora\",\"herbivore botanicals\",\"this works\",\"dermalogica\",\"arcona\",\"glytone\",\"pai\",\"rapidlash\",\"dr. jackson's\",\"ren clean skincare\",\"crystal clear\",\"cannuka\",\"dr. hauschka\",\"polaar\",\"gryph & ivyrose\",\"menaji\",\"healgel\",\"glo skin beauty\",\"decleor\",\"volition beauty\",\"the jojoba company\",\"korres\",\"lierac\",\"dermadoctor\",\"knesko skin\",\"lululun\",\"l\\u00f6wengrip\",\"natura\",\"antipodes\",\"olay\",\"dr roebuck's\",\"caudalie\",\"thalgo\",\"prai\",\"bella aurora\",\"juice beauty\",\"trilogy\",\"foreo\",\"biossance\",\"m\\u00e1dara\",\"dr. russo\",\"l'occitane\",\"instant effects\",\"aromatica\",\"erborian\",\"grande cosmetics\",\"lancaster\",\"high beauty\",\"vichy\",\"skin&co roma\",\"nip+fab\",\"eltamd\",\"skin authority\",\"wander beauty\",\"menscience\",\"anthony\",\"ultrasun\",\"glamglow\",\"payot\",\"sekkisei\",\"fresh\",\"gallin\\u00e9e\",\"bobbi brown\",\"mavala\",\"recipe for men\",\"hear me raw\",\"dear dahlia\",\"first aid beauty\",\"stoer skincare\",\"west barn co\",\"dhc\",\"monu\",\"mdsolarsciences\",\"balance me\",\"sys\",\"dear, klairs\",\"james read\",\"dime beauty co\",\"riemann\",\"p\\u00fcr\",\"l'or\\u00e9al paris\",\"zirh\",\"skin doctors\",\"hanz de fuko\",\"liz earle\",\"skyn iceland\",\"cowshed\",\"st. tropez\",\"nuface\",\"eucerin\",\"murdock london\",\"bareminerals\",\"soon skincare\",\"avene\",\"indeed labs\",\"ameliorate\",\"zoeva\",\"kora organics\",\"no7\",\"3ina makeup\",\"neogen\",\"inc.redible\",\"svr laboratoires\",\"embryolisse\",\"dr botanicals\",\"bbb london\",\"ahc\",\"radiant glow botanical\",\"bybi beauty\",\"egyptian magic\",\"holika holika\",\"purito\",\"biotherm\",\"benton\",\"molton brown\",\"too cool for school\",\"sea magik\",\"aveda\",\"skinny tan\",\"skin in motion ltd\",\"soji\",\"australian bodycare\",\"taylor of old bond street\",\"lumene\",\"neom\",\"talika\",\"florence by mills\",\"versed\",\"spa sciences\",\"the perfect v\",\"natio\",\"aroma active\",\"skimono\",\"covergirl\",\"bioderma\",\"seoulista\",\"cetaphil\",\"balmonds\",\"lime crime\",\"starskin\",\"physicians formula\",\"sanctuary spa\",\"salcura natural skin therapy\",\"klorane\",\"pipette\",\"weleda\",\"tonymoly\",\"uriage\",\"ncla beauty\",\"bondi sands\",\"sukin\",\"merci handy\",\"lille kanin\",\"adam revolution\",\"eve rebirth\",\"hero cosmetics\",\"fade out\",\"men-u\",\"frank body\",\"gr\\u00fcum\",\"babo botanicals\",\"magnitone london\",\"jason\",\"mancave\",\"revolution beauty\",\"nion beauty\",\"aveeno\",\"lanolips\",\"barber pro\",\"the ordinary\",\"revolution skincare\",\"q+a\",\"skin republic\",\"dr. lipp\",\"solinotes\",\"neutrogena\\u00ae\",\"beautypro\",\"patchology\",\"yes to\",\"dr.jart+\",\"bulldog skincare for men\",\"dr. pawpaw\",\"garnier\",\"hello\",\"daily concepts\",\"oh k!\",\"burt\\u2019s bees\",\"sun bum\",\"simple\",\"k-glo\",\"clean&clear\",\"grow gorgeous\",\"freeman beauty\",\"vaseline\"],\"xaxis\":\"x\",\"y\":[358.79999999999995,279.7368421052632,240.2,238.33333333333334,211.86363636363637,184.0,160.68823529411765,160.0,159.28571428571428,155.22222222222223,153.75,150.0,148.5,148.16842105263157,147.0,132.5,129.8,124.13103448275862,116.77777777777777,116.5,115.0,113.2,111.48181818181818,110.4,110.26666666666667,110.175,109.0,108.0,104.64516129032258,101.5,101.5,100.0,98.0,97.5,96.88,95.0,92.572,92.3047619047619,92.2,92.01,91.14166666666667,90.0,89.73333333333333,89.14285714285714,88.4,88.0,87.18055555555556,86.96000000000001,85.9090909090909,85.4,85.0,85.0,83.0,82.9,82.25,82.0,81.75,81.175,80.76923076923077,80.07142857142857,80.0,79.8725,79.72413793103448,79.3578947368421,79.35333333333332,79.35,79.0,78.94,78.8111111111111,78.15,78.0,77.94242424242424,77.4375,77.3,76.81818181818181,75.0909090909091,74.9,73.63157894736842,72.0,72.0,71.5,71.22307692307692,70.66666666666667,68.6,68.12222222222222,68.0,68.0,67.7,66.88888888888889,66.0,65.41176470588235,65.36129032258064,65.1,65.0,64.95,64.42105263157895,62.666666666666664,62.333333333333336,62.1,62.1,61.65,61.5,61.25,60.94736842105263,60.72727272727273,60.54666666666667,58.111111111111114,58.0,58.0,57.9,57.791666666666664,57.13125,56.975,55.714285714285715,55.23333333333333,55.2,55.2,55.0,55.0,54.9,54.815384615384616,54.625,54.375,54.0,53.9,53.875,53.166666666666664,52.949999999999996,52.92941176470588,52.9,52.725,52.666666666666664,52.5,52.5,52.5,52.489999999999995,52.42857142857143,51.95454545454545,51.93333333333333,51.55555555555556,51.34782608695652,51.1,50.38333333333333,50.266666666666666,50.114285714285714,50.0,49.5,49.228571428571435,49.0,48.5,48.3,47.333333333333336,47.0,46.5,46.5,46.4735294117647,46.385714285714286,45.84615384615385,45.57142857142857,45.0,44.41538461538461,44.2,44.05833333333334,43.699999999999996,43.61538461538461,43.605714285714285,43.46,43.10454545454545,42.892857142857146,42.1,41.981818181818184,41.96666666666667,41.7,41.53333333333333,40.0,39.75,39.675,39.25833333333333,39.0,39.0,38.988888888888894,38.8,38.7,38.2,37.95,37.45,37.0,36.57142857142857,36.55,36.05,35.93333333333334,35.9,35.55,35.5,35.5,34.714285714285715,34.5,34.5,34.142857142857146,33.8,33.6,33.3,33.2,33.2,32.964285714285715,32.666666666666664,32.375,32.3,32.22222222222222,32.21764705882353,32.1,32.0,31.6,31.5,30.65833333333333,30.5,30.4,30.4,30.05,30.0,30.0,30.0,29.5,29.16190476190476,29.05,29.03333333333333,28.75,28.55833333333333,28.533333333333335,28.333333333333332,28.3,28.3,28.09090909090909,27.860000000000003,27.833333333333332,27.6,27.34,27.31578947368421,27.144444444444446,26.7,26.660000000000004,26.275,26.060000000000002,26.0,25.56279069767442,25.486363636363638,25.4,25.27,25.0,24.9,24.8,24.666666666666668,23.933333333333334,23.5,23.5,23.5,23.5,22.75,22.32,22.22222222222222,22.1,21.433333333333334,21.2,21.0,21.0,20.7,20.7,20.0,19.506666666666668,19.35,18.883333333333333,18.716666666666665,18.7,18.6,18.4,18.25714285714286,18.2,18.0,18.0,17.142857142857142,17.108695652173914,16.09090909090909,16.0,15.9,15.842857142857143,15.666666666666666,15.2,15.0,15.0,14.75,14.463636363636363,14.120000000000001,14.016666666666666,14.012500000000001,13.857142857142858,13.850000000000001,13.825000000000001,13.36,13.0,13.0,12.649999999999999,12.5,12.4,12.279591836734696,11.9640625,11.5,11.5,11.1,11.0,10.461111111111112,10.341666666666667,10.333333333333334,9.91875,9.7,9.56,9.0,8.844827586206897,8.175,8.0,7.340000000000001,6.9,6.7,6.116666666666666,6.0,5.800000000000001,5.2,4.866666666666666,2.8],\"yaxis\":\"y\",\"type\":\"bar\"}],                        {\"template\":{\"data\":{\"barpolar\":[{\"marker\":{\"line\":{\"color\":\"rgb(237,237,237)\",\"width\":0.5},\"pattern\":{\"fillmode\":\"overlay\",\"size\":10,\"solidity\":0.2}},\"type\":\"barpolar\"}],\"bar\":[{\"error_x\":{\"color\":\"rgb(51,51,51)\"},\"error_y\":{\"color\":\"rgb(51,51,51)\"},\"marker\":{\"line\":{\"color\":\"rgb(237,237,237)\",\"width\":0.5},\"pattern\":{\"fillmode\":\"overlay\",\"size\":10,\"solidity\":0.2}},\"type\":\"bar\"}],\"carpet\":[{\"aaxis\":{\"endlinecolor\":\"rgb(51,51,51)\",\"gridcolor\":\"white\",\"linecolor\":\"white\",\"minorgridcolor\":\"white\",\"startlinecolor\":\"rgb(51,51,51)\"},\"baxis\":{\"endlinecolor\":\"rgb(51,51,51)\",\"gridcolor\":\"white\",\"linecolor\":\"white\",\"minorgridcolor\":\"white\",\"startlinecolor\":\"rgb(51,51,51)\"},\"type\":\"carpet\"}],\"choropleth\":[{\"colorbar\":{\"outlinewidth\":0,\"tickcolor\":\"rgb(237,237,237)\",\"ticklen\":6,\"ticks\":\"inside\"},\"type\":\"choropleth\"}],\"contourcarpet\":[{\"colorbar\":{\"outlinewidth\":0,\"tickcolor\":\"rgb(237,237,237)\",\"ticklen\":6,\"ticks\":\"inside\"},\"type\":\"contourcarpet\"}],\"contour\":[{\"colorbar\":{\"outlinewidth\":0,\"tickcolor\":\"rgb(237,237,237)\",\"ticklen\":6,\"ticks\":\"inside\"},\"colorscale\":[[0,\"rgb(20,44,66)\"],[1,\"rgb(90,179,244)\"]],\"type\":\"contour\"}],\"heatmapgl\":[{\"colorbar\":{\"outlinewidth\":0,\"tickcolor\":\"rgb(237,237,237)\",\"ticklen\":6,\"ticks\":\"inside\"},\"colorscale\":[[0,\"rgb(20,44,66)\"],[1,\"rgb(90,179,244)\"]],\"type\":\"heatmapgl\"}],\"heatmap\":[{\"colorbar\":{\"outlinewidth\":0,\"tickcolor\":\"rgb(237,237,237)\",\"ticklen\":6,\"ticks\":\"inside\"},\"colorscale\":[[0,\"rgb(20,44,66)\"],[1,\"rgb(90,179,244)\"]],\"type\":\"heatmap\"}],\"histogram2dcontour\":[{\"colorbar\":{\"outlinewidth\":0,\"tickcolor\":\"rgb(237,237,237)\",\"ticklen\":6,\"ticks\":\"inside\"},\"colorscale\":[[0,\"rgb(20,44,66)\"],[1,\"rgb(90,179,244)\"]],\"type\":\"histogram2dcontour\"}],\"histogram2d\":[{\"colorbar\":{\"outlinewidth\":0,\"tickcolor\":\"rgb(237,237,237)\",\"ticklen\":6,\"ticks\":\"inside\"},\"colorscale\":[[0,\"rgb(20,44,66)\"],[1,\"rgb(90,179,244)\"]],\"type\":\"histogram2d\"}],\"histogram\":[{\"marker\":{\"pattern\":{\"fillmode\":\"overlay\",\"size\":10,\"solidity\":0.2}},\"type\":\"histogram\"}],\"mesh3d\":[{\"colorbar\":{\"outlinewidth\":0,\"tickcolor\":\"rgb(237,237,237)\",\"ticklen\":6,\"ticks\":\"inside\"},\"type\":\"mesh3d\"}],\"parcoords\":[{\"line\":{\"colorbar\":{\"outlinewidth\":0,\"tickcolor\":\"rgb(237,237,237)\",\"ticklen\":6,\"ticks\":\"inside\"}},\"type\":\"parcoords\"}],\"pie\":[{\"automargin\":true,\"type\":\"pie\"}],\"scatter3d\":[{\"line\":{\"colorbar\":{\"outlinewidth\":0,\"tickcolor\":\"rgb(237,237,237)\",\"ticklen\":6,\"ticks\":\"inside\"}},\"marker\":{\"colorbar\":{\"outlinewidth\":0,\"tickcolor\":\"rgb(237,237,237)\",\"ticklen\":6,\"ticks\":\"inside\"}},\"type\":\"scatter3d\"}],\"scattercarpet\":[{\"marker\":{\"colorbar\":{\"outlinewidth\":0,\"tickcolor\":\"rgb(237,237,237)\",\"ticklen\":6,\"ticks\":\"inside\"}},\"type\":\"scattercarpet\"}],\"scattergeo\":[{\"marker\":{\"colorbar\":{\"outlinewidth\":0,\"tickcolor\":\"rgb(237,237,237)\",\"ticklen\":6,\"ticks\":\"inside\"}},\"type\":\"scattergeo\"}],\"scattergl\":[{\"marker\":{\"colorbar\":{\"outlinewidth\":0,\"tickcolor\":\"rgb(237,237,237)\",\"ticklen\":6,\"ticks\":\"inside\"}},\"type\":\"scattergl\"}],\"scattermapbox\":[{\"marker\":{\"colorbar\":{\"outlinewidth\":0,\"tickcolor\":\"rgb(237,237,237)\",\"ticklen\":6,\"ticks\":\"inside\"}},\"type\":\"scattermapbox\"}],\"scatterpolargl\":[{\"marker\":{\"colorbar\":{\"outlinewidth\":0,\"tickcolor\":\"rgb(237,237,237)\",\"ticklen\":6,\"ticks\":\"inside\"}},\"type\":\"scatterpolargl\"}],\"scatterpolar\":[{\"marker\":{\"colorbar\":{\"outlinewidth\":0,\"tickcolor\":\"rgb(237,237,237)\",\"ticklen\":6,\"ticks\":\"inside\"}},\"type\":\"scatterpolar\"}],\"scatter\":[{\"marker\":{\"colorbar\":{\"outlinewidth\":0,\"tickcolor\":\"rgb(237,237,237)\",\"ticklen\":6,\"ticks\":\"inside\"}},\"type\":\"scatter\"}],\"scatterternary\":[{\"marker\":{\"colorbar\":{\"outlinewidth\":0,\"tickcolor\":\"rgb(237,237,237)\",\"ticklen\":6,\"ticks\":\"inside\"}},\"type\":\"scatterternary\"}],\"surface\":[{\"colorbar\":{\"outlinewidth\":0,\"tickcolor\":\"rgb(237,237,237)\",\"ticklen\":6,\"ticks\":\"inside\"},\"colorscale\":[[0,\"rgb(20,44,66)\"],[1,\"rgb(90,179,244)\"]],\"type\":\"surface\"}],\"table\":[{\"cells\":{\"fill\":{\"color\":\"rgb(237,237,237)\"},\"line\":{\"color\":\"white\"}},\"header\":{\"fill\":{\"color\":\"rgb(217,217,217)\"},\"line\":{\"color\":\"white\"}},\"type\":\"table\"}]},\"layout\":{\"annotationdefaults\":{\"arrowhead\":0,\"arrowwidth\":1},\"autotypenumbers\":\"strict\",\"coloraxis\":{\"colorbar\":{\"outlinewidth\":0,\"tickcolor\":\"rgb(237,237,237)\",\"ticklen\":6,\"ticks\":\"inside\"}},\"colorscale\":{\"sequential\":[[0,\"rgb(20,44,66)\"],[1,\"rgb(90,179,244)\"]],\"sequentialminus\":[[0,\"rgb(20,44,66)\"],[1,\"rgb(90,179,244)\"]]},\"colorway\":[\"#F8766D\",\"#A3A500\",\"#00BF7D\",\"#00B0F6\",\"#E76BF3\"],\"font\":{\"color\":\"rgb(51,51,51)\"},\"geo\":{\"bgcolor\":\"white\",\"lakecolor\":\"white\",\"landcolor\":\"rgb(237,237,237)\",\"showlakes\":true,\"showland\":true,\"subunitcolor\":\"white\"},\"hoverlabel\":{\"align\":\"left\"},\"hovermode\":\"closest\",\"paper_bgcolor\":\"white\",\"plot_bgcolor\":\"rgb(237,237,237)\",\"polar\":{\"angularaxis\":{\"gridcolor\":\"white\",\"linecolor\":\"white\",\"showgrid\":true,\"tickcolor\":\"rgb(51,51,51)\",\"ticks\":\"outside\"},\"bgcolor\":\"rgb(237,237,237)\",\"radialaxis\":{\"gridcolor\":\"white\",\"linecolor\":\"white\",\"showgrid\":true,\"tickcolor\":\"rgb(51,51,51)\",\"ticks\":\"outside\"}},\"scene\":{\"xaxis\":{\"backgroundcolor\":\"rgb(237,237,237)\",\"gridcolor\":\"white\",\"gridwidth\":2,\"linecolor\":\"white\",\"showbackground\":true,\"showgrid\":true,\"tickcolor\":\"rgb(51,51,51)\",\"ticks\":\"outside\",\"zerolinecolor\":\"white\"},\"yaxis\":{\"backgroundcolor\":\"rgb(237,237,237)\",\"gridcolor\":\"white\",\"gridwidth\":2,\"linecolor\":\"white\",\"showbackground\":true,\"showgrid\":true,\"tickcolor\":\"rgb(51,51,51)\",\"ticks\":\"outside\",\"zerolinecolor\":\"white\"},\"zaxis\":{\"backgroundcolor\":\"rgb(237,237,237)\",\"gridcolor\":\"white\",\"gridwidth\":2,\"linecolor\":\"white\",\"showbackground\":true,\"showgrid\":true,\"tickcolor\":\"rgb(51,51,51)\",\"ticks\":\"outside\",\"zerolinecolor\":\"white\"}},\"shapedefaults\":{\"fillcolor\":\"black\",\"line\":{\"width\":0},\"opacity\":0.3},\"ternary\":{\"aaxis\":{\"gridcolor\":\"white\",\"linecolor\":\"white\",\"showgrid\":true,\"tickcolor\":\"rgb(51,51,51)\",\"ticks\":\"outside\"},\"baxis\":{\"gridcolor\":\"white\",\"linecolor\":\"white\",\"showgrid\":true,\"tickcolor\":\"rgb(51,51,51)\",\"ticks\":\"outside\"},\"bgcolor\":\"rgb(237,237,237)\",\"caxis\":{\"gridcolor\":\"white\",\"linecolor\":\"white\",\"showgrid\":true,\"tickcolor\":\"rgb(51,51,51)\",\"ticks\":\"outside\"}},\"xaxis\":{\"automargin\":true,\"gridcolor\":\"white\",\"linecolor\":\"white\",\"showgrid\":true,\"tickcolor\":\"rgb(51,51,51)\",\"ticks\":\"outside\",\"title\":{\"standoff\":15},\"zerolinecolor\":\"white\"},\"yaxis\":{\"automargin\":true,\"gridcolor\":\"white\",\"linecolor\":\"white\",\"showgrid\":true,\"tickcolor\":\"rgb(51,51,51)\",\"ticks\":\"outside\",\"title\":{\"standoff\":15},\"zerolinecolor\":\"white\"}}},\"xaxis\":{\"anchor\":\"y\",\"domain\":[0.0,1.0],\"title\":{\"text\":\"brand\"}},\"yaxis\":{\"anchor\":\"x\",\"domain\":[0.0,1.0],\"title\":{\"text\":\"value\"}},\"legend\":{\"title\":{\"text\":\"variable\"},\"tracegroupgap\":0},\"margin\":{\"t\":60},\"barmode\":\"relative\",\"autosize\":false,\"width\":2000,\"height\":900},                        {\"responsive\": true}                    ).then(function(){\n",
              "                            \n",
              "var gd = document.getElementById('7c429b57-4ed8-40a3-ad0e-932cee93459b');\n",
              "var x = new MutationObserver(function (mutations, observer) {{\n",
              "        var display = window.getComputedStyle(gd).display;\n",
              "        if (!display || display === 'none') {{\n",
              "            console.log([gd, 'removed!']);\n",
              "            Plotly.purge(gd);\n",
              "            observer.disconnect();\n",
              "        }}\n",
              "}});\n",
              "\n",
              "// Listen for the removal of the full notebook cells\n",
              "var notebookContainer = gd.closest('#notebook-container');\n",
              "if (notebookContainer) {{\n",
              "    x.observe(notebookContainer, {childList: true});\n",
              "}}\n",
              "\n",
              "// Listen for the clearing of the current output cell\n",
              "var outputEl = gd.closest('.output');\n",
              "if (outputEl) {{\n",
              "    x.observe(outputEl, {childList: true});\n",
              "}}\n",
              "\n",
              "                        })                };                            </script>        </div>\n",
              "</body>\n",
              "</html>"
            ]
          },
          "metadata": {}
        }
      ]
    },
    {
      "cell_type": "markdown",
      "source": [
        "- Top 5 most expensive and least expensive product"
      ],
      "metadata": {
        "id": "ASPeUm-WWhql"
      }
    },
    {
      "cell_type": "code",
      "source": [
        "x1=df.sort_values(['price', 'name'], ascending=(False)).head(5)\n",
        "x2=df.sort_values(['price', 'name'], ascending=(True)).head(5)"
      ],
      "metadata": {
        "id": "yDA8DivSM52W"
      },
      "execution_count": 17,
      "outputs": []
    },
    {
      "cell_type": "code",
      "source": [
        "fig = px.bar(\n",
        "    x1.dropna(),\n",
        "    x= \"name\",\n",
        "    y=\t\"price\",\n",
        "    title =\"TOP 5 EXPENSIVE PRODUCT\",\n",
        "    template= \"none\"\n",
        ")\n",
        "fig.update_layout(\n",
        "    autosize=True,\n",
        "    width=500,\n",
        "    height=500\n",
        ")\n",
        "\n",
        "fig.update_traces(marker_color='red')\n",
        "\n",
        "fig.show()\n",
        "\n"
      ],
      "metadata": {
        "colab": {
          "base_uri": "https://localhost:8080/",
          "height": 917
        },
        "id": "hkZd9DkhMZZ7",
        "outputId": "fac383e0-c453-43e9-ddec-23c0241039fb"
      },
      "execution_count": 40,
      "outputs": [
        {
          "output_type": "display_data",
          "data": {
            "text/html": [
              "<html>\n",
              "<head><meta charset=\"utf-8\" /></head>\n",
              "<body>\n",
              "    <div>            <script src=\"https://cdnjs.cloudflare.com/ajax/libs/mathjax/2.7.5/MathJax.js?config=TeX-AMS-MML_SVG\"></script><script type=\"text/javascript\">if (window.MathJax) {MathJax.Hub.Config({SVG: {font: \"STIX-Web\"}});}</script>                <script type=\"text/javascript\">window.PlotlyConfig = {MathJaxConfig: 'local'};</script>\n",
              "        <script src=\"https://cdn.plot.ly/plotly-2.8.3.min.js\"></script>                <div id=\"99b3184a-9111-4891-a63f-e5462c6d7a50\" class=\"plotly-graph-div\" style=\"height:900px; width:500px;\"></div>            <script type=\"text/javascript\">                                    window.PLOTLYENV=window.PLOTLYENV || {};                                    if (document.getElementById(\"99b3184a-9111-4891-a63f-e5462c6d7a50\")) {                    Plotly.newPlot(                        \"99b3184a-9111-4891-a63f-e5462c6d7a50\",                        [{\"alignmentgroup\":\"True\",\"hovertemplate\":\"name=%{x}<br>price=%{y}<extra></extra>\",\"legendgroup\":\"\",\"marker\":{\"color\":\"red\",\"pattern\":{\"shape\":\"\"}},\"name\":\"\",\"offsetgroup\":\"\",\"orientation\":\"v\",\"showlegend\":false,\"textposition\":\"auto\",\"x\":[\"revive peau magnifique (face)\",\"111skin celestial black diamond cream 50ml\",\"111skin celestial black diamond serum 1.01 oz\",\"babor seacreation the rich cream 3.4oz\",\"babor seacreation the cream 4oz\"],\"xaxis\":\"x\",\"y\":[1500.0,995.0,600.0,575.0,525.0],\"yaxis\":\"y\",\"type\":\"bar\"}],                        {\"template\":{\"data\":{\"scatter\":[{\"type\":\"scatter\"}]}},\"xaxis\":{\"anchor\":\"y\",\"domain\":[0.0,1.0],\"title\":{\"text\":\"name\"}},\"yaxis\":{\"anchor\":\"x\",\"domain\":[0.0,1.0],\"title\":{\"text\":\"price\"}},\"legend\":{\"tracegroupgap\":0},\"title\":{\"text\":\"TOP 5 EXPENSIVE PRODUCT\"},\"barmode\":\"relative\",\"autosize\":true,\"width\":500,\"height\":900},                        {\"responsive\": true}                    ).then(function(){\n",
              "                            \n",
              "var gd = document.getElementById('99b3184a-9111-4891-a63f-e5462c6d7a50');\n",
              "var x = new MutationObserver(function (mutations, observer) {{\n",
              "        var display = window.getComputedStyle(gd).display;\n",
              "        if (!display || display === 'none') {{\n",
              "            console.log([gd, 'removed!']);\n",
              "            Plotly.purge(gd);\n",
              "            observer.disconnect();\n",
              "        }}\n",
              "}});\n",
              "\n",
              "// Listen for the removal of the full notebook cells\n",
              "var notebookContainer = gd.closest('#notebook-container');\n",
              "if (notebookContainer) {{\n",
              "    x.observe(notebookContainer, {childList: true});\n",
              "}}\n",
              "\n",
              "// Listen for the clearing of the current output cell\n",
              "var outputEl = gd.closest('.output');\n",
              "if (outputEl) {{\n",
              "    x.observe(outputEl, {childList: true});\n",
              "}}\n",
              "\n",
              "                        })                };                            </script>        </div>\n",
              "</body>\n",
              "</html>"
            ]
          },
          "metadata": {}
        }
      ]
    },
    {
      "cell_type": "code",
      "source": [
        "fig = px.bar(\n",
        "    x2.dropna(),\n",
        "    x= \"name\",\n",
        "    y=\t\"price\",\n",
        "    title =\"TOP 5 LEAST EXPENSIVE PRODUCT \",\n",
        "    template= \"simple_white\"\n",
        ")\n",
        "fig.update_layout(\n",
        "    autosize=False,\n",
        "    width=500,\n",
        "    height=500\n",
        ")\n",
        "fig.update_traces(marker_color='green')\n",
        "fig.show()\n"
      ],
      "metadata": {
        "colab": {
          "base_uri": "https://localhost:8080/",
          "height": 517
        },
        "id": "CyDodC1Vq2vx",
        "outputId": "bd04a14a-d9da-45e6-d7a3-984a2f5c9b24"
      },
      "execution_count": 19,
      "outputs": [
        {
          "output_type": "display_data",
          "data": {
            "text/html": [
              "<html>\n",
              "<head><meta charset=\"utf-8\" /></head>\n",
              "<body>\n",
              "    <div>            <script src=\"https://cdnjs.cloudflare.com/ajax/libs/mathjax/2.7.5/MathJax.js?config=TeX-AMS-MML_SVG\"></script><script type=\"text/javascript\">if (window.MathJax) {MathJax.Hub.Config({SVG: {font: \"STIX-Web\"}});}</script>                <script type=\"text/javascript\">window.PlotlyConfig = {MathJaxConfig: 'local'};</script>\n",
              "        <script src=\"https://cdn.plot.ly/plotly-2.8.3.min.js\"></script>                <div id=\"a6a90db1-d1fd-4cd4-a3ef-a4e5f743eac1\" class=\"plotly-graph-div\" style=\"height:500px; width:500px;\"></div>            <script type=\"text/javascript\">                                    window.PLOTLYENV=window.PLOTLYENV || {};                                    if (document.getElementById(\"a6a90db1-d1fd-4cd4-a3ef-a4e5f743eac1\")) {                    Plotly.newPlot(                        \"a6a90db1-d1fd-4cd4-a3ef-a4e5f743eac1\",                        [{\"alignmentgroup\":\"True\",\"hovertemplate\":\"name=%{x}<br>price=%{y}<extra></extra>\",\"legendgroup\":\"\",\"marker\":{\"color\":\"green\",\"pattern\":{\"shape\":\"\"}},\"name\":\"\",\"offsetgroup\":\"\",\"orientation\":\"v\",\"showlegend\":false,\"textposition\":\"auto\",\"x\":[\"vaseline lip therapy tin aloe vera 20g\",\"vaseline lip therapy tin original 20g\",\"oh k! cucumber sheet mask 23ml\",\"oh k! sheet mask - bubble 23ml\",\"tonymoly i'm real sheet mask - cactus\"],\"xaxis\":\"x\",\"y\":[2.8,2.8,3.0,3.0,3.0],\"yaxis\":\"y\",\"type\":\"bar\"}],                        {\"template\":{\"data\":{\"barpolar\":[{\"marker\":{\"line\":{\"color\":\"white\",\"width\":0.5},\"pattern\":{\"fillmode\":\"overlay\",\"size\":10,\"solidity\":0.2}},\"type\":\"barpolar\"}],\"bar\":[{\"error_x\":{\"color\":\"rgb(36,36,36)\"},\"error_y\":{\"color\":\"rgb(36,36,36)\"},\"marker\":{\"line\":{\"color\":\"white\",\"width\":0.5},\"pattern\":{\"fillmode\":\"overlay\",\"size\":10,\"solidity\":0.2}},\"type\":\"bar\"}],\"carpet\":[{\"aaxis\":{\"endlinecolor\":\"rgb(36,36,36)\",\"gridcolor\":\"white\",\"linecolor\":\"white\",\"minorgridcolor\":\"white\",\"startlinecolor\":\"rgb(36,36,36)\"},\"baxis\":{\"endlinecolor\":\"rgb(36,36,36)\",\"gridcolor\":\"white\",\"linecolor\":\"white\",\"minorgridcolor\":\"white\",\"startlinecolor\":\"rgb(36,36,36)\"},\"type\":\"carpet\"}],\"choropleth\":[{\"colorbar\":{\"outlinewidth\":1,\"tickcolor\":\"rgb(36,36,36)\",\"ticks\":\"outside\"},\"type\":\"choropleth\"}],\"contourcarpet\":[{\"colorbar\":{\"outlinewidth\":1,\"tickcolor\":\"rgb(36,36,36)\",\"ticks\":\"outside\"},\"type\":\"contourcarpet\"}],\"contour\":[{\"colorbar\":{\"outlinewidth\":1,\"tickcolor\":\"rgb(36,36,36)\",\"ticks\":\"outside\"},\"colorscale\":[[0.0,\"#440154\"],[0.1111111111111111,\"#482878\"],[0.2222222222222222,\"#3e4989\"],[0.3333333333333333,\"#31688e\"],[0.4444444444444444,\"#26828e\"],[0.5555555555555556,\"#1f9e89\"],[0.6666666666666666,\"#35b779\"],[0.7777777777777778,\"#6ece58\"],[0.8888888888888888,\"#b5de2b\"],[1.0,\"#fde725\"]],\"type\":\"contour\"}],\"heatmapgl\":[{\"colorbar\":{\"outlinewidth\":1,\"tickcolor\":\"rgb(36,36,36)\",\"ticks\":\"outside\"},\"colorscale\":[[0.0,\"#440154\"],[0.1111111111111111,\"#482878\"],[0.2222222222222222,\"#3e4989\"],[0.3333333333333333,\"#31688e\"],[0.4444444444444444,\"#26828e\"],[0.5555555555555556,\"#1f9e89\"],[0.6666666666666666,\"#35b779\"],[0.7777777777777778,\"#6ece58\"],[0.8888888888888888,\"#b5de2b\"],[1.0,\"#fde725\"]],\"type\":\"heatmapgl\"}],\"heatmap\":[{\"colorbar\":{\"outlinewidth\":1,\"tickcolor\":\"rgb(36,36,36)\",\"ticks\":\"outside\"},\"colorscale\":[[0.0,\"#440154\"],[0.1111111111111111,\"#482878\"],[0.2222222222222222,\"#3e4989\"],[0.3333333333333333,\"#31688e\"],[0.4444444444444444,\"#26828e\"],[0.5555555555555556,\"#1f9e89\"],[0.6666666666666666,\"#35b779\"],[0.7777777777777778,\"#6ece58\"],[0.8888888888888888,\"#b5de2b\"],[1.0,\"#fde725\"]],\"type\":\"heatmap\"}],\"histogram2dcontour\":[{\"colorbar\":{\"outlinewidth\":1,\"tickcolor\":\"rgb(36,36,36)\",\"ticks\":\"outside\"},\"colorscale\":[[0.0,\"#440154\"],[0.1111111111111111,\"#482878\"],[0.2222222222222222,\"#3e4989\"],[0.3333333333333333,\"#31688e\"],[0.4444444444444444,\"#26828e\"],[0.5555555555555556,\"#1f9e89\"],[0.6666666666666666,\"#35b779\"],[0.7777777777777778,\"#6ece58\"],[0.8888888888888888,\"#b5de2b\"],[1.0,\"#fde725\"]],\"type\":\"histogram2dcontour\"}],\"histogram2d\":[{\"colorbar\":{\"outlinewidth\":1,\"tickcolor\":\"rgb(36,36,36)\",\"ticks\":\"outside\"},\"colorscale\":[[0.0,\"#440154\"],[0.1111111111111111,\"#482878\"],[0.2222222222222222,\"#3e4989\"],[0.3333333333333333,\"#31688e\"],[0.4444444444444444,\"#26828e\"],[0.5555555555555556,\"#1f9e89\"],[0.6666666666666666,\"#35b779\"],[0.7777777777777778,\"#6ece58\"],[0.8888888888888888,\"#b5de2b\"],[1.0,\"#fde725\"]],\"type\":\"histogram2d\"}],\"histogram\":[{\"marker\":{\"line\":{\"color\":\"white\",\"width\":0.6}},\"type\":\"histogram\"}],\"mesh3d\":[{\"colorbar\":{\"outlinewidth\":1,\"tickcolor\":\"rgb(36,36,36)\",\"ticks\":\"outside\"},\"type\":\"mesh3d\"}],\"parcoords\":[{\"line\":{\"colorbar\":{\"outlinewidth\":1,\"tickcolor\":\"rgb(36,36,36)\",\"ticks\":\"outside\"}},\"type\":\"parcoords\"}],\"pie\":[{\"automargin\":true,\"type\":\"pie\"}],\"scatter3d\":[{\"line\":{\"colorbar\":{\"outlinewidth\":1,\"tickcolor\":\"rgb(36,36,36)\",\"ticks\":\"outside\"}},\"marker\":{\"colorbar\":{\"outlinewidth\":1,\"tickcolor\":\"rgb(36,36,36)\",\"ticks\":\"outside\"}},\"type\":\"scatter3d\"}],\"scattercarpet\":[{\"marker\":{\"colorbar\":{\"outlinewidth\":1,\"tickcolor\":\"rgb(36,36,36)\",\"ticks\":\"outside\"}},\"type\":\"scattercarpet\"}],\"scattergeo\":[{\"marker\":{\"colorbar\":{\"outlinewidth\":1,\"tickcolor\":\"rgb(36,36,36)\",\"ticks\":\"outside\"}},\"type\":\"scattergeo\"}],\"scattergl\":[{\"marker\":{\"colorbar\":{\"outlinewidth\":1,\"tickcolor\":\"rgb(36,36,36)\",\"ticks\":\"outside\"}},\"type\":\"scattergl\"}],\"scattermapbox\":[{\"marker\":{\"colorbar\":{\"outlinewidth\":1,\"tickcolor\":\"rgb(36,36,36)\",\"ticks\":\"outside\"}},\"type\":\"scattermapbox\"}],\"scatterpolargl\":[{\"marker\":{\"colorbar\":{\"outlinewidth\":1,\"tickcolor\":\"rgb(36,36,36)\",\"ticks\":\"outside\"}},\"type\":\"scatterpolargl\"}],\"scatterpolar\":[{\"marker\":{\"colorbar\":{\"outlinewidth\":1,\"tickcolor\":\"rgb(36,36,36)\",\"ticks\":\"outside\"}},\"type\":\"scatterpolar\"}],\"scatter\":[{\"marker\":{\"colorbar\":{\"outlinewidth\":1,\"tickcolor\":\"rgb(36,36,36)\",\"ticks\":\"outside\"}},\"type\":\"scatter\"}],\"scatterternary\":[{\"marker\":{\"colorbar\":{\"outlinewidth\":1,\"tickcolor\":\"rgb(36,36,36)\",\"ticks\":\"outside\"}},\"type\":\"scatterternary\"}],\"surface\":[{\"colorbar\":{\"outlinewidth\":1,\"tickcolor\":\"rgb(36,36,36)\",\"ticks\":\"outside\"},\"colorscale\":[[0.0,\"#440154\"],[0.1111111111111111,\"#482878\"],[0.2222222222222222,\"#3e4989\"],[0.3333333333333333,\"#31688e\"],[0.4444444444444444,\"#26828e\"],[0.5555555555555556,\"#1f9e89\"],[0.6666666666666666,\"#35b779\"],[0.7777777777777778,\"#6ece58\"],[0.8888888888888888,\"#b5de2b\"],[1.0,\"#fde725\"]],\"type\":\"surface\"}],\"table\":[{\"cells\":{\"fill\":{\"color\":\"rgb(237,237,237)\"},\"line\":{\"color\":\"white\"}},\"header\":{\"fill\":{\"color\":\"rgb(217,217,217)\"},\"line\":{\"color\":\"white\"}},\"type\":\"table\"}]},\"layout\":{\"annotationdefaults\":{\"arrowhead\":0,\"arrowwidth\":1},\"autotypenumbers\":\"strict\",\"coloraxis\":{\"colorbar\":{\"outlinewidth\":1,\"tickcolor\":\"rgb(36,36,36)\",\"ticks\":\"outside\"}},\"colorscale\":{\"diverging\":[[0.0,\"rgb(103,0,31)\"],[0.1,\"rgb(178,24,43)\"],[0.2,\"rgb(214,96,77)\"],[0.3,\"rgb(244,165,130)\"],[0.4,\"rgb(253,219,199)\"],[0.5,\"rgb(247,247,247)\"],[0.6,\"rgb(209,229,240)\"],[0.7,\"rgb(146,197,222)\"],[0.8,\"rgb(67,147,195)\"],[0.9,\"rgb(33,102,172)\"],[1.0,\"rgb(5,48,97)\"]],\"sequential\":[[0.0,\"#440154\"],[0.1111111111111111,\"#482878\"],[0.2222222222222222,\"#3e4989\"],[0.3333333333333333,\"#31688e\"],[0.4444444444444444,\"#26828e\"],[0.5555555555555556,\"#1f9e89\"],[0.6666666666666666,\"#35b779\"],[0.7777777777777778,\"#6ece58\"],[0.8888888888888888,\"#b5de2b\"],[1.0,\"#fde725\"]],\"sequentialminus\":[[0.0,\"#440154\"],[0.1111111111111111,\"#482878\"],[0.2222222222222222,\"#3e4989\"],[0.3333333333333333,\"#31688e\"],[0.4444444444444444,\"#26828e\"],[0.5555555555555556,\"#1f9e89\"],[0.6666666666666666,\"#35b779\"],[0.7777777777777778,\"#6ece58\"],[0.8888888888888888,\"#b5de2b\"],[1.0,\"#fde725\"]]},\"colorway\":[\"#1F77B4\",\"#FF7F0E\",\"#2CA02C\",\"#D62728\",\"#9467BD\",\"#8C564B\",\"#E377C2\",\"#7F7F7F\",\"#BCBD22\",\"#17BECF\"],\"font\":{\"color\":\"rgb(36,36,36)\"},\"geo\":{\"bgcolor\":\"white\",\"lakecolor\":\"white\",\"landcolor\":\"white\",\"showlakes\":true,\"showland\":true,\"subunitcolor\":\"white\"},\"hoverlabel\":{\"align\":\"left\"},\"hovermode\":\"closest\",\"mapbox\":{\"style\":\"light\"},\"paper_bgcolor\":\"white\",\"plot_bgcolor\":\"white\",\"polar\":{\"angularaxis\":{\"gridcolor\":\"rgb(232,232,232)\",\"linecolor\":\"rgb(36,36,36)\",\"showgrid\":false,\"showline\":true,\"ticks\":\"outside\"},\"bgcolor\":\"white\",\"radialaxis\":{\"gridcolor\":\"rgb(232,232,232)\",\"linecolor\":\"rgb(36,36,36)\",\"showgrid\":false,\"showline\":true,\"ticks\":\"outside\"}},\"scene\":{\"xaxis\":{\"backgroundcolor\":\"white\",\"gridcolor\":\"rgb(232,232,232)\",\"gridwidth\":2,\"linecolor\":\"rgb(36,36,36)\",\"showbackground\":true,\"showgrid\":false,\"showline\":true,\"ticks\":\"outside\",\"zeroline\":false,\"zerolinecolor\":\"rgb(36,36,36)\"},\"yaxis\":{\"backgroundcolor\":\"white\",\"gridcolor\":\"rgb(232,232,232)\",\"gridwidth\":2,\"linecolor\":\"rgb(36,36,36)\",\"showbackground\":true,\"showgrid\":false,\"showline\":true,\"ticks\":\"outside\",\"zeroline\":false,\"zerolinecolor\":\"rgb(36,36,36)\"},\"zaxis\":{\"backgroundcolor\":\"white\",\"gridcolor\":\"rgb(232,232,232)\",\"gridwidth\":2,\"linecolor\":\"rgb(36,36,36)\",\"showbackground\":true,\"showgrid\":false,\"showline\":true,\"ticks\":\"outside\",\"zeroline\":false,\"zerolinecolor\":\"rgb(36,36,36)\"}},\"shapedefaults\":{\"fillcolor\":\"black\",\"line\":{\"width\":0},\"opacity\":0.3},\"ternary\":{\"aaxis\":{\"gridcolor\":\"rgb(232,232,232)\",\"linecolor\":\"rgb(36,36,36)\",\"showgrid\":false,\"showline\":true,\"ticks\":\"outside\"},\"baxis\":{\"gridcolor\":\"rgb(232,232,232)\",\"linecolor\":\"rgb(36,36,36)\",\"showgrid\":false,\"showline\":true,\"ticks\":\"outside\"},\"bgcolor\":\"white\",\"caxis\":{\"gridcolor\":\"rgb(232,232,232)\",\"linecolor\":\"rgb(36,36,36)\",\"showgrid\":false,\"showline\":true,\"ticks\":\"outside\"}},\"title\":{\"x\":0.05},\"xaxis\":{\"automargin\":true,\"gridcolor\":\"rgb(232,232,232)\",\"linecolor\":\"rgb(36,36,36)\",\"showgrid\":false,\"showline\":true,\"ticks\":\"outside\",\"title\":{\"standoff\":15},\"zeroline\":false,\"zerolinecolor\":\"rgb(36,36,36)\"},\"yaxis\":{\"automargin\":true,\"gridcolor\":\"rgb(232,232,232)\",\"linecolor\":\"rgb(36,36,36)\",\"showgrid\":false,\"showline\":true,\"ticks\":\"outside\",\"title\":{\"standoff\":15},\"zeroline\":false,\"zerolinecolor\":\"rgb(36,36,36)\"}}},\"xaxis\":{\"anchor\":\"y\",\"domain\":[0.0,1.0],\"title\":{\"text\":\"name\"}},\"yaxis\":{\"anchor\":\"x\",\"domain\":[0.0,1.0],\"title\":{\"text\":\"price\"}},\"legend\":{\"tracegroupgap\":0},\"title\":{\"text\":\"TOP 5 LEAST EXPENSIVE PRODUCT \"},\"barmode\":\"relative\",\"autosize\":false,\"width\":500,\"height\":500},                        {\"responsive\": true}                    ).then(function(){\n",
              "                            \n",
              "var gd = document.getElementById('a6a90db1-d1fd-4cd4-a3ef-a4e5f743eac1');\n",
              "var x = new MutationObserver(function (mutations, observer) {{\n",
              "        var display = window.getComputedStyle(gd).display;\n",
              "        if (!display || display === 'none') {{\n",
              "            console.log([gd, 'removed!']);\n",
              "            Plotly.purge(gd);\n",
              "            observer.disconnect();\n",
              "        }}\n",
              "}});\n",
              "\n",
              "// Listen for the removal of the full notebook cells\n",
              "var notebookContainer = gd.closest('#notebook-container');\n",
              "if (notebookContainer) {{\n",
              "    x.observe(notebookContainer, {childList: true});\n",
              "}}\n",
              "\n",
              "// Listen for the clearing of the current output cell\n",
              "var outputEl = gd.closest('.output');\n",
              "if (outputEl) {{\n",
              "    x.observe(outputEl, {childList: true});\n",
              "}}\n",
              "\n",
              "                        })                };                            </script>        </div>\n",
              "</body>\n",
              "</html>"
            ]
          },
          "metadata": {}
        }
      ]
    },
    {
      "cell_type": "markdown",
      "source": [
        "\n",
        "###Create new data frame for product categories which has more than 200 values and analyze them individually"
      ],
      "metadata": {
        "id": "oaWb990lc6Jb"
      }
    },
    {
      "cell_type": "code",
      "source": [
        "df[\"product_type\"].value_counts()"
      ],
      "metadata": {
        "colab": {
          "base_uri": "https://localhost:8080/"
        },
        "id": "sajWNF4HZ4OR",
        "outputId": "606dfc72-c524-43cc-f166-0f62158ac2d1"
      },
      "execution_count": 20,
      "outputs": [
        {
          "output_type": "execute_result",
          "data": {
            "text/plain": [
              "cream/lotion/moisturizer    831\n",
              "cleanser                    457\n",
              "serum                       343\n",
              "toner/essence/emulsion      278\n",
              "mask                        273\n",
              "eye                         250\n",
              "treatment                   159\n",
              "lip                         109\n",
              "spf                          94\n",
              "exfoliant                    44\n",
              "Name: product_type, dtype: int64"
            ]
          },
          "metadata": {},
          "execution_count": 20
        }
      ]
    },
    {
      "cell_type": "markdown",
      "source": [
        "We have found 6 categories which has more than 200 values."
      ],
      "metadata": {
        "id": "YS8_3W-8axVR"
      }
    },
    {
      "cell_type": "code",
      "source": [
        "df_cream= df.loc[df[\"product_type\"]==\"cream/lotion/moisturizer\"]"
      ],
      "metadata": {
        "id": "tPDC7eJHOI-u"
      },
      "execution_count": 21,
      "outputs": []
    },
    {
      "cell_type": "code",
      "source": [
        "df_cleanser= df.loc[df[\"product_type\"]==\"cleanser\"]"
      ],
      "metadata": {
        "id": "bg9y5fnicZu8"
      },
      "execution_count": 22,
      "outputs": []
    },
    {
      "cell_type": "code",
      "source": [
        "df_serum= df.loc[df[\"product_type\"]==\"serum\"]"
      ],
      "metadata": {
        "id": "URHhPvP2cdua"
      },
      "execution_count": 23,
      "outputs": []
    },
    {
      "cell_type": "code",
      "source": [
        "df_toner= df.loc[df[\"product_type\"]==\"toner/essence/emulsion\"]"
      ],
      "metadata": {
        "id": "QPWWH-7QcoIE"
      },
      "execution_count": 24,
      "outputs": []
    },
    {
      "cell_type": "code",
      "source": [
        "df_mask= df.loc[df[\"product_type\"]==\"mask\"]"
      ],
      "metadata": {
        "id": "7I2VeH2TcAOq"
      },
      "execution_count": 25,
      "outputs": []
    },
    {
      "cell_type": "code",
      "source": [
        "df_eye= df.loc[df[\"product_type\"]==\"eye\"]"
      ],
      "metadata": {
        "id": "MttG7roOOJEf"
      },
      "execution_count": 26,
      "outputs": []
    },
    {
      "cell_type": "markdown",
      "source": [
        "**Moisturizer category**"
      ],
      "metadata": {
        "id": "KFSLKJgKBVS2"
      }
    },
    {
      "cell_type": "code",
      "source": [
        "a=df_cream.nlargest(5, columns=['price'])\n",
        "b=df_cream.nsmallest(5, columns=['price'])"
      ],
      "metadata": {
        "id": "euVWjellBbzR"
      },
      "execution_count": 27,
      "outputs": []
    },
    {
      "cell_type": "code",
      "source": [
        "fig = px.bar(\n",
        "    a.dropna(),\n",
        "    x= \"price\",\n",
        "    y=\t\"name\",\n",
        "    text='price'\n",
        ")\n",
        "fig.update_layout(title_text='top 5 expensive cream', title_x=0.5)\n",
        "fig.update_traces(marker_color='orange')\n",
        "fig.update_layout(font_color=\"orange\",title_font_color=\"orange\")\n",
        "fig.show()\n",
        "\n",
        "fig = px.bar(\n",
        "    b.dropna(),\n",
        "    x= \"price\",\n",
        "    y=\t\"name\",\n",
        "    text='price'\n",
        ")\n",
        "fig.update_layout(title_text='top 5 cheap cream', title_x=0.5)\n",
        "fig.update_layout(font_color=\"green\",title_font_color=\"green\")\n",
        "fig.update_traces(marker_color='green')\n",
        "fig.show()"
      ],
      "metadata": {
        "colab": {
          "base_uri": "https://localhost:8080/",
          "height": 1000
        },
        "outputId": "771a9568-272f-40c2-aa2d-d77ec8ed44fd",
        "id": "EXMl8K_HBbzS"
      },
      "execution_count": 28,
      "outputs": [
        {
          "output_type": "display_data",
          "data": {
            "text/html": [
              "<html>\n",
              "<head><meta charset=\"utf-8\" /></head>\n",
              "<body>\n",
              "    <div>            <script src=\"https://cdnjs.cloudflare.com/ajax/libs/mathjax/2.7.5/MathJax.js?config=TeX-AMS-MML_SVG\"></script><script type=\"text/javascript\">if (window.MathJax) {MathJax.Hub.Config({SVG: {font: \"STIX-Web\"}});}</script>                <script type=\"text/javascript\">window.PlotlyConfig = {MathJaxConfig: 'local'};</script>\n",
              "        <script src=\"https://cdn.plot.ly/plotly-2.8.3.min.js\"></script>                <div id=\"23dd697b-333b-49df-8f1c-3e8f534d7879\" class=\"plotly-graph-div\" style=\"height:525px; width:100%;\"></div>            <script type=\"text/javascript\">                                    window.PLOTLYENV=window.PLOTLYENV || {};                                    if (document.getElementById(\"23dd697b-333b-49df-8f1c-3e8f534d7879\")) {                    Plotly.newPlot(                        \"23dd697b-333b-49df-8f1c-3e8f534d7879\",                        [{\"alignmentgroup\":\"True\",\"hovertemplate\":\"price=%{text}<br>name=%{y}<extra></extra>\",\"legendgroup\":\"\",\"marker\":{\"color\":\"orange\",\"pattern\":{\"shape\":\"\"}},\"name\":\"\",\"offsetgroup\":\"\",\"orientation\":\"h\",\"showlegend\":false,\"text\":[995.0,575.0,525.0,418.0,400.2],\"textposition\":\"auto\",\"x\":[995.0,575.0,525.0,418.0,400.2],\"xaxis\":\"x\",\"y\":[\"111skin celestial black diamond cream 50ml\",\"babor seacreation the rich cream 3.4oz\",\"babor seacreation the cream 4oz\",\"the organic pharmacy rose diamond face cream 50ml\",\"the organic pharmacy rose diamond face cream 50ml\"],\"yaxis\":\"y\",\"type\":\"bar\"}],                        {\"template\":{\"data\":{\"bar\":[{\"error_x\":{\"color\":\"#2a3f5f\"},\"error_y\":{\"color\":\"#2a3f5f\"},\"marker\":{\"line\":{\"color\":\"#E5ECF6\",\"width\":0.5},\"pattern\":{\"fillmode\":\"overlay\",\"size\":10,\"solidity\":0.2}},\"type\":\"bar\"}],\"barpolar\":[{\"marker\":{\"line\":{\"color\":\"#E5ECF6\",\"width\":0.5},\"pattern\":{\"fillmode\":\"overlay\",\"size\":10,\"solidity\":0.2}},\"type\":\"barpolar\"}],\"carpet\":[{\"aaxis\":{\"endlinecolor\":\"#2a3f5f\",\"gridcolor\":\"white\",\"linecolor\":\"white\",\"minorgridcolor\":\"white\",\"startlinecolor\":\"#2a3f5f\"},\"baxis\":{\"endlinecolor\":\"#2a3f5f\",\"gridcolor\":\"white\",\"linecolor\":\"white\",\"minorgridcolor\":\"white\",\"startlinecolor\":\"#2a3f5f\"},\"type\":\"carpet\"}],\"choropleth\":[{\"colorbar\":{\"outlinewidth\":0,\"ticks\":\"\"},\"type\":\"choropleth\"}],\"contour\":[{\"colorbar\":{\"outlinewidth\":0,\"ticks\":\"\"},\"colorscale\":[[0.0,\"#0d0887\"],[0.1111111111111111,\"#46039f\"],[0.2222222222222222,\"#7201a8\"],[0.3333333333333333,\"#9c179e\"],[0.4444444444444444,\"#bd3786\"],[0.5555555555555556,\"#d8576b\"],[0.6666666666666666,\"#ed7953\"],[0.7777777777777778,\"#fb9f3a\"],[0.8888888888888888,\"#fdca26\"],[1.0,\"#f0f921\"]],\"type\":\"contour\"}],\"contourcarpet\":[{\"colorbar\":{\"outlinewidth\":0,\"ticks\":\"\"},\"type\":\"contourcarpet\"}],\"heatmap\":[{\"colorbar\":{\"outlinewidth\":0,\"ticks\":\"\"},\"colorscale\":[[0.0,\"#0d0887\"],[0.1111111111111111,\"#46039f\"],[0.2222222222222222,\"#7201a8\"],[0.3333333333333333,\"#9c179e\"],[0.4444444444444444,\"#bd3786\"],[0.5555555555555556,\"#d8576b\"],[0.6666666666666666,\"#ed7953\"],[0.7777777777777778,\"#fb9f3a\"],[0.8888888888888888,\"#fdca26\"],[1.0,\"#f0f921\"]],\"type\":\"heatmap\"}],\"heatmapgl\":[{\"colorbar\":{\"outlinewidth\":0,\"ticks\":\"\"},\"colorscale\":[[0.0,\"#0d0887\"],[0.1111111111111111,\"#46039f\"],[0.2222222222222222,\"#7201a8\"],[0.3333333333333333,\"#9c179e\"],[0.4444444444444444,\"#bd3786\"],[0.5555555555555556,\"#d8576b\"],[0.6666666666666666,\"#ed7953\"],[0.7777777777777778,\"#fb9f3a\"],[0.8888888888888888,\"#fdca26\"],[1.0,\"#f0f921\"]],\"type\":\"heatmapgl\"}],\"histogram\":[{\"marker\":{\"pattern\":{\"fillmode\":\"overlay\",\"size\":10,\"solidity\":0.2}},\"type\":\"histogram\"}],\"histogram2d\":[{\"colorbar\":{\"outlinewidth\":0,\"ticks\":\"\"},\"colorscale\":[[0.0,\"#0d0887\"],[0.1111111111111111,\"#46039f\"],[0.2222222222222222,\"#7201a8\"],[0.3333333333333333,\"#9c179e\"],[0.4444444444444444,\"#bd3786\"],[0.5555555555555556,\"#d8576b\"],[0.6666666666666666,\"#ed7953\"],[0.7777777777777778,\"#fb9f3a\"],[0.8888888888888888,\"#fdca26\"],[1.0,\"#f0f921\"]],\"type\":\"histogram2d\"}],\"histogram2dcontour\":[{\"colorbar\":{\"outlinewidth\":0,\"ticks\":\"\"},\"colorscale\":[[0.0,\"#0d0887\"],[0.1111111111111111,\"#46039f\"],[0.2222222222222222,\"#7201a8\"],[0.3333333333333333,\"#9c179e\"],[0.4444444444444444,\"#bd3786\"],[0.5555555555555556,\"#d8576b\"],[0.6666666666666666,\"#ed7953\"],[0.7777777777777778,\"#fb9f3a\"],[0.8888888888888888,\"#fdca26\"],[1.0,\"#f0f921\"]],\"type\":\"histogram2dcontour\"}],\"mesh3d\":[{\"colorbar\":{\"outlinewidth\":0,\"ticks\":\"\"},\"type\":\"mesh3d\"}],\"parcoords\":[{\"line\":{\"colorbar\":{\"outlinewidth\":0,\"ticks\":\"\"}},\"type\":\"parcoords\"}],\"pie\":[{\"automargin\":true,\"type\":\"pie\"}],\"scatter\":[{\"marker\":{\"colorbar\":{\"outlinewidth\":0,\"ticks\":\"\"}},\"type\":\"scatter\"}],\"scatter3d\":[{\"line\":{\"colorbar\":{\"outlinewidth\":0,\"ticks\":\"\"}},\"marker\":{\"colorbar\":{\"outlinewidth\":0,\"ticks\":\"\"}},\"type\":\"scatter3d\"}],\"scattercarpet\":[{\"marker\":{\"colorbar\":{\"outlinewidth\":0,\"ticks\":\"\"}},\"type\":\"scattercarpet\"}],\"scattergeo\":[{\"marker\":{\"colorbar\":{\"outlinewidth\":0,\"ticks\":\"\"}},\"type\":\"scattergeo\"}],\"scattergl\":[{\"marker\":{\"colorbar\":{\"outlinewidth\":0,\"ticks\":\"\"}},\"type\":\"scattergl\"}],\"scattermapbox\":[{\"marker\":{\"colorbar\":{\"outlinewidth\":0,\"ticks\":\"\"}},\"type\":\"scattermapbox\"}],\"scatterpolar\":[{\"marker\":{\"colorbar\":{\"outlinewidth\":0,\"ticks\":\"\"}},\"type\":\"scatterpolar\"}],\"scatterpolargl\":[{\"marker\":{\"colorbar\":{\"outlinewidth\":0,\"ticks\":\"\"}},\"type\":\"scatterpolargl\"}],\"scatterternary\":[{\"marker\":{\"colorbar\":{\"outlinewidth\":0,\"ticks\":\"\"}},\"type\":\"scatterternary\"}],\"surface\":[{\"colorbar\":{\"outlinewidth\":0,\"ticks\":\"\"},\"colorscale\":[[0.0,\"#0d0887\"],[0.1111111111111111,\"#46039f\"],[0.2222222222222222,\"#7201a8\"],[0.3333333333333333,\"#9c179e\"],[0.4444444444444444,\"#bd3786\"],[0.5555555555555556,\"#d8576b\"],[0.6666666666666666,\"#ed7953\"],[0.7777777777777778,\"#fb9f3a\"],[0.8888888888888888,\"#fdca26\"],[1.0,\"#f0f921\"]],\"type\":\"surface\"}],\"table\":[{\"cells\":{\"fill\":{\"color\":\"#EBF0F8\"},\"line\":{\"color\":\"white\"}},\"header\":{\"fill\":{\"color\":\"#C8D4E3\"},\"line\":{\"color\":\"white\"}},\"type\":\"table\"}]},\"layout\":{\"annotationdefaults\":{\"arrowcolor\":\"#2a3f5f\",\"arrowhead\":0,\"arrowwidth\":1},\"autotypenumbers\":\"strict\",\"coloraxis\":{\"colorbar\":{\"outlinewidth\":0,\"ticks\":\"\"}},\"colorscale\":{\"diverging\":[[0,\"#8e0152\"],[0.1,\"#c51b7d\"],[0.2,\"#de77ae\"],[0.3,\"#f1b6da\"],[0.4,\"#fde0ef\"],[0.5,\"#f7f7f7\"],[0.6,\"#e6f5d0\"],[0.7,\"#b8e186\"],[0.8,\"#7fbc41\"],[0.9,\"#4d9221\"],[1,\"#276419\"]],\"sequential\":[[0.0,\"#0d0887\"],[0.1111111111111111,\"#46039f\"],[0.2222222222222222,\"#7201a8\"],[0.3333333333333333,\"#9c179e\"],[0.4444444444444444,\"#bd3786\"],[0.5555555555555556,\"#d8576b\"],[0.6666666666666666,\"#ed7953\"],[0.7777777777777778,\"#fb9f3a\"],[0.8888888888888888,\"#fdca26\"],[1.0,\"#f0f921\"]],\"sequentialminus\":[[0.0,\"#0d0887\"],[0.1111111111111111,\"#46039f\"],[0.2222222222222222,\"#7201a8\"],[0.3333333333333333,\"#9c179e\"],[0.4444444444444444,\"#bd3786\"],[0.5555555555555556,\"#d8576b\"],[0.6666666666666666,\"#ed7953\"],[0.7777777777777778,\"#fb9f3a\"],[0.8888888888888888,\"#fdca26\"],[1.0,\"#f0f921\"]]},\"colorway\":[\"#636efa\",\"#EF553B\",\"#00cc96\",\"#ab63fa\",\"#FFA15A\",\"#19d3f3\",\"#FF6692\",\"#B6E880\",\"#FF97FF\",\"#FECB52\"],\"font\":{\"color\":\"#2a3f5f\"},\"geo\":{\"bgcolor\":\"white\",\"lakecolor\":\"white\",\"landcolor\":\"#E5ECF6\",\"showlakes\":true,\"showland\":true,\"subunitcolor\":\"white\"},\"hoverlabel\":{\"align\":\"left\"},\"hovermode\":\"closest\",\"mapbox\":{\"style\":\"light\"},\"paper_bgcolor\":\"white\",\"plot_bgcolor\":\"#E5ECF6\",\"polar\":{\"angularaxis\":{\"gridcolor\":\"white\",\"linecolor\":\"white\",\"ticks\":\"\"},\"bgcolor\":\"#E5ECF6\",\"radialaxis\":{\"gridcolor\":\"white\",\"linecolor\":\"white\",\"ticks\":\"\"}},\"scene\":{\"xaxis\":{\"backgroundcolor\":\"#E5ECF6\",\"gridcolor\":\"white\",\"gridwidth\":2,\"linecolor\":\"white\",\"showbackground\":true,\"ticks\":\"\",\"zerolinecolor\":\"white\"},\"yaxis\":{\"backgroundcolor\":\"#E5ECF6\",\"gridcolor\":\"white\",\"gridwidth\":2,\"linecolor\":\"white\",\"showbackground\":true,\"ticks\":\"\",\"zerolinecolor\":\"white\"},\"zaxis\":{\"backgroundcolor\":\"#E5ECF6\",\"gridcolor\":\"white\",\"gridwidth\":2,\"linecolor\":\"white\",\"showbackground\":true,\"ticks\":\"\",\"zerolinecolor\":\"white\"}},\"shapedefaults\":{\"line\":{\"color\":\"#2a3f5f\"}},\"ternary\":{\"aaxis\":{\"gridcolor\":\"white\",\"linecolor\":\"white\",\"ticks\":\"\"},\"baxis\":{\"gridcolor\":\"white\",\"linecolor\":\"white\",\"ticks\":\"\"},\"bgcolor\":\"#E5ECF6\",\"caxis\":{\"gridcolor\":\"white\",\"linecolor\":\"white\",\"ticks\":\"\"}},\"title\":{\"x\":0.05},\"xaxis\":{\"automargin\":true,\"gridcolor\":\"white\",\"linecolor\":\"white\",\"ticks\":\"\",\"title\":{\"standoff\":15},\"zerolinecolor\":\"white\",\"zerolinewidth\":2},\"yaxis\":{\"automargin\":true,\"gridcolor\":\"white\",\"linecolor\":\"white\",\"ticks\":\"\",\"title\":{\"standoff\":15},\"zerolinecolor\":\"white\",\"zerolinewidth\":2}}},\"xaxis\":{\"anchor\":\"y\",\"domain\":[0.0,1.0],\"title\":{\"text\":\"price\"}},\"yaxis\":{\"anchor\":\"x\",\"domain\":[0.0,1.0],\"title\":{\"text\":\"name\"}},\"legend\":{\"tracegroupgap\":0},\"margin\":{\"t\":60},\"barmode\":\"relative\",\"title\":{\"text\":\"top 5 expensive cream\",\"x\":0.5,\"font\":{\"color\":\"orange\"}},\"font\":{\"color\":\"orange\"}},                        {\"responsive\": true}                    ).then(function(){\n",
              "                            \n",
              "var gd = document.getElementById('23dd697b-333b-49df-8f1c-3e8f534d7879');\n",
              "var x = new MutationObserver(function (mutations, observer) {{\n",
              "        var display = window.getComputedStyle(gd).display;\n",
              "        if (!display || display === 'none') {{\n",
              "            console.log([gd, 'removed!']);\n",
              "            Plotly.purge(gd);\n",
              "            observer.disconnect();\n",
              "        }}\n",
              "}});\n",
              "\n",
              "// Listen for the removal of the full notebook cells\n",
              "var notebookContainer = gd.closest('#notebook-container');\n",
              "if (notebookContainer) {{\n",
              "    x.observe(notebookContainer, {childList: true});\n",
              "}}\n",
              "\n",
              "// Listen for the clearing of the current output cell\n",
              "var outputEl = gd.closest('.output');\n",
              "if (outputEl) {{\n",
              "    x.observe(outputEl, {childList: true});\n",
              "}}\n",
              "\n",
              "                        })                };                            </script>        </div>\n",
              "</body>\n",
              "</html>"
            ]
          },
          "metadata": {}
        },
        {
          "output_type": "display_data",
          "data": {
            "text/html": [
              "<html>\n",
              "<head><meta charset=\"utf-8\" /></head>\n",
              "<body>\n",
              "    <div>            <script src=\"https://cdnjs.cloudflare.com/ajax/libs/mathjax/2.7.5/MathJax.js?config=TeX-AMS-MML_SVG\"></script><script type=\"text/javascript\">if (window.MathJax) {MathJax.Hub.Config({SVG: {font: \"STIX-Web\"}});}</script>                <script type=\"text/javascript\">window.PlotlyConfig = {MathJaxConfig: 'local'};</script>\n",
              "        <script src=\"https://cdn.plot.ly/plotly-2.8.3.min.js\"></script>                <div id=\"f4d9aa4b-466b-4495-9dff-ad47326d634d\" class=\"plotly-graph-div\" style=\"height:525px; width:100%;\"></div>            <script type=\"text/javascript\">                                    window.PLOTLYENV=window.PLOTLYENV || {};                                    if (document.getElementById(\"f4d9aa4b-466b-4495-9dff-ad47326d634d\")) {                    Plotly.newPlot(                        \"f4d9aa4b-466b-4495-9dff-ad47326d634d\",                        [{\"alignmentgroup\":\"True\",\"hovertemplate\":\"price=%{text}<br>name=%{y}<extra></extra>\",\"legendgroup\":\"\",\"marker\":{\"color\":\"green\",\"pattern\":{\"shape\":\"\"}},\"name\":\"\",\"offsetgroup\":\"\",\"orientation\":\"h\",\"showlegend\":false,\"text\":[4.2,4.2,4.2,4.6,4.9],\"textposition\":\"auto\",\"x\":[4.2,4.2,4.2,4.6,4.9],\"xaxis\":\"x\",\"y\":[\"garnier intensive 7 days mango hand cream for dry/sensitive skin 100ml\",\"the ordinary 100% organic cold-pressed borage seed oil\",\"garnier intensive 7 days shea butter hand cream for sensitive skin 100ml\",\"simple kind to skin moisturising facial wash 150ml\",\"clean & clear dual action moisturiser 100ml\"],\"yaxis\":\"y\",\"type\":\"bar\"}],                        {\"template\":{\"data\":{\"bar\":[{\"error_x\":{\"color\":\"#2a3f5f\"},\"error_y\":{\"color\":\"#2a3f5f\"},\"marker\":{\"line\":{\"color\":\"#E5ECF6\",\"width\":0.5},\"pattern\":{\"fillmode\":\"overlay\",\"size\":10,\"solidity\":0.2}},\"type\":\"bar\"}],\"barpolar\":[{\"marker\":{\"line\":{\"color\":\"#E5ECF6\",\"width\":0.5},\"pattern\":{\"fillmode\":\"overlay\",\"size\":10,\"solidity\":0.2}},\"type\":\"barpolar\"}],\"carpet\":[{\"aaxis\":{\"endlinecolor\":\"#2a3f5f\",\"gridcolor\":\"white\",\"linecolor\":\"white\",\"minorgridcolor\":\"white\",\"startlinecolor\":\"#2a3f5f\"},\"baxis\":{\"endlinecolor\":\"#2a3f5f\",\"gridcolor\":\"white\",\"linecolor\":\"white\",\"minorgridcolor\":\"white\",\"startlinecolor\":\"#2a3f5f\"},\"type\":\"carpet\"}],\"choropleth\":[{\"colorbar\":{\"outlinewidth\":0,\"ticks\":\"\"},\"type\":\"choropleth\"}],\"contour\":[{\"colorbar\":{\"outlinewidth\":0,\"ticks\":\"\"},\"colorscale\":[[0.0,\"#0d0887\"],[0.1111111111111111,\"#46039f\"],[0.2222222222222222,\"#7201a8\"],[0.3333333333333333,\"#9c179e\"],[0.4444444444444444,\"#bd3786\"],[0.5555555555555556,\"#d8576b\"],[0.6666666666666666,\"#ed7953\"],[0.7777777777777778,\"#fb9f3a\"],[0.8888888888888888,\"#fdca26\"],[1.0,\"#f0f921\"]],\"type\":\"contour\"}],\"contourcarpet\":[{\"colorbar\":{\"outlinewidth\":0,\"ticks\":\"\"},\"type\":\"contourcarpet\"}],\"heatmap\":[{\"colorbar\":{\"outlinewidth\":0,\"ticks\":\"\"},\"colorscale\":[[0.0,\"#0d0887\"],[0.1111111111111111,\"#46039f\"],[0.2222222222222222,\"#7201a8\"],[0.3333333333333333,\"#9c179e\"],[0.4444444444444444,\"#bd3786\"],[0.5555555555555556,\"#d8576b\"],[0.6666666666666666,\"#ed7953\"],[0.7777777777777778,\"#fb9f3a\"],[0.8888888888888888,\"#fdca26\"],[1.0,\"#f0f921\"]],\"type\":\"heatmap\"}],\"heatmapgl\":[{\"colorbar\":{\"outlinewidth\":0,\"ticks\":\"\"},\"colorscale\":[[0.0,\"#0d0887\"],[0.1111111111111111,\"#46039f\"],[0.2222222222222222,\"#7201a8\"],[0.3333333333333333,\"#9c179e\"],[0.4444444444444444,\"#bd3786\"],[0.5555555555555556,\"#d8576b\"],[0.6666666666666666,\"#ed7953\"],[0.7777777777777778,\"#fb9f3a\"],[0.8888888888888888,\"#fdca26\"],[1.0,\"#f0f921\"]],\"type\":\"heatmapgl\"}],\"histogram\":[{\"marker\":{\"pattern\":{\"fillmode\":\"overlay\",\"size\":10,\"solidity\":0.2}},\"type\":\"histogram\"}],\"histogram2d\":[{\"colorbar\":{\"outlinewidth\":0,\"ticks\":\"\"},\"colorscale\":[[0.0,\"#0d0887\"],[0.1111111111111111,\"#46039f\"],[0.2222222222222222,\"#7201a8\"],[0.3333333333333333,\"#9c179e\"],[0.4444444444444444,\"#bd3786\"],[0.5555555555555556,\"#d8576b\"],[0.6666666666666666,\"#ed7953\"],[0.7777777777777778,\"#fb9f3a\"],[0.8888888888888888,\"#fdca26\"],[1.0,\"#f0f921\"]],\"type\":\"histogram2d\"}],\"histogram2dcontour\":[{\"colorbar\":{\"outlinewidth\":0,\"ticks\":\"\"},\"colorscale\":[[0.0,\"#0d0887\"],[0.1111111111111111,\"#46039f\"],[0.2222222222222222,\"#7201a8\"],[0.3333333333333333,\"#9c179e\"],[0.4444444444444444,\"#bd3786\"],[0.5555555555555556,\"#d8576b\"],[0.6666666666666666,\"#ed7953\"],[0.7777777777777778,\"#fb9f3a\"],[0.8888888888888888,\"#fdca26\"],[1.0,\"#f0f921\"]],\"type\":\"histogram2dcontour\"}],\"mesh3d\":[{\"colorbar\":{\"outlinewidth\":0,\"ticks\":\"\"},\"type\":\"mesh3d\"}],\"parcoords\":[{\"line\":{\"colorbar\":{\"outlinewidth\":0,\"ticks\":\"\"}},\"type\":\"parcoords\"}],\"pie\":[{\"automargin\":true,\"type\":\"pie\"}],\"scatter\":[{\"marker\":{\"colorbar\":{\"outlinewidth\":0,\"ticks\":\"\"}},\"type\":\"scatter\"}],\"scatter3d\":[{\"line\":{\"colorbar\":{\"outlinewidth\":0,\"ticks\":\"\"}},\"marker\":{\"colorbar\":{\"outlinewidth\":0,\"ticks\":\"\"}},\"type\":\"scatter3d\"}],\"scattercarpet\":[{\"marker\":{\"colorbar\":{\"outlinewidth\":0,\"ticks\":\"\"}},\"type\":\"scattercarpet\"}],\"scattergeo\":[{\"marker\":{\"colorbar\":{\"outlinewidth\":0,\"ticks\":\"\"}},\"type\":\"scattergeo\"}],\"scattergl\":[{\"marker\":{\"colorbar\":{\"outlinewidth\":0,\"ticks\":\"\"}},\"type\":\"scattergl\"}],\"scattermapbox\":[{\"marker\":{\"colorbar\":{\"outlinewidth\":0,\"ticks\":\"\"}},\"type\":\"scattermapbox\"}],\"scatterpolar\":[{\"marker\":{\"colorbar\":{\"outlinewidth\":0,\"ticks\":\"\"}},\"type\":\"scatterpolar\"}],\"scatterpolargl\":[{\"marker\":{\"colorbar\":{\"outlinewidth\":0,\"ticks\":\"\"}},\"type\":\"scatterpolargl\"}],\"scatterternary\":[{\"marker\":{\"colorbar\":{\"outlinewidth\":0,\"ticks\":\"\"}},\"type\":\"scatterternary\"}],\"surface\":[{\"colorbar\":{\"outlinewidth\":0,\"ticks\":\"\"},\"colorscale\":[[0.0,\"#0d0887\"],[0.1111111111111111,\"#46039f\"],[0.2222222222222222,\"#7201a8\"],[0.3333333333333333,\"#9c179e\"],[0.4444444444444444,\"#bd3786\"],[0.5555555555555556,\"#d8576b\"],[0.6666666666666666,\"#ed7953\"],[0.7777777777777778,\"#fb9f3a\"],[0.8888888888888888,\"#fdca26\"],[1.0,\"#f0f921\"]],\"type\":\"surface\"}],\"table\":[{\"cells\":{\"fill\":{\"color\":\"#EBF0F8\"},\"line\":{\"color\":\"white\"}},\"header\":{\"fill\":{\"color\":\"#C8D4E3\"},\"line\":{\"color\":\"white\"}},\"type\":\"table\"}]},\"layout\":{\"annotationdefaults\":{\"arrowcolor\":\"#2a3f5f\",\"arrowhead\":0,\"arrowwidth\":1},\"autotypenumbers\":\"strict\",\"coloraxis\":{\"colorbar\":{\"outlinewidth\":0,\"ticks\":\"\"}},\"colorscale\":{\"diverging\":[[0,\"#8e0152\"],[0.1,\"#c51b7d\"],[0.2,\"#de77ae\"],[0.3,\"#f1b6da\"],[0.4,\"#fde0ef\"],[0.5,\"#f7f7f7\"],[0.6,\"#e6f5d0\"],[0.7,\"#b8e186\"],[0.8,\"#7fbc41\"],[0.9,\"#4d9221\"],[1,\"#276419\"]],\"sequential\":[[0.0,\"#0d0887\"],[0.1111111111111111,\"#46039f\"],[0.2222222222222222,\"#7201a8\"],[0.3333333333333333,\"#9c179e\"],[0.4444444444444444,\"#bd3786\"],[0.5555555555555556,\"#d8576b\"],[0.6666666666666666,\"#ed7953\"],[0.7777777777777778,\"#fb9f3a\"],[0.8888888888888888,\"#fdca26\"],[1.0,\"#f0f921\"]],\"sequentialminus\":[[0.0,\"#0d0887\"],[0.1111111111111111,\"#46039f\"],[0.2222222222222222,\"#7201a8\"],[0.3333333333333333,\"#9c179e\"],[0.4444444444444444,\"#bd3786\"],[0.5555555555555556,\"#d8576b\"],[0.6666666666666666,\"#ed7953\"],[0.7777777777777778,\"#fb9f3a\"],[0.8888888888888888,\"#fdca26\"],[1.0,\"#f0f921\"]]},\"colorway\":[\"#636efa\",\"#EF553B\",\"#00cc96\",\"#ab63fa\",\"#FFA15A\",\"#19d3f3\",\"#FF6692\",\"#B6E880\",\"#FF97FF\",\"#FECB52\"],\"font\":{\"color\":\"#2a3f5f\"},\"geo\":{\"bgcolor\":\"white\",\"lakecolor\":\"white\",\"landcolor\":\"#E5ECF6\",\"showlakes\":true,\"showland\":true,\"subunitcolor\":\"white\"},\"hoverlabel\":{\"align\":\"left\"},\"hovermode\":\"closest\",\"mapbox\":{\"style\":\"light\"},\"paper_bgcolor\":\"white\",\"plot_bgcolor\":\"#E5ECF6\",\"polar\":{\"angularaxis\":{\"gridcolor\":\"white\",\"linecolor\":\"white\",\"ticks\":\"\"},\"bgcolor\":\"#E5ECF6\",\"radialaxis\":{\"gridcolor\":\"white\",\"linecolor\":\"white\",\"ticks\":\"\"}},\"scene\":{\"xaxis\":{\"backgroundcolor\":\"#E5ECF6\",\"gridcolor\":\"white\",\"gridwidth\":2,\"linecolor\":\"white\",\"showbackground\":true,\"ticks\":\"\",\"zerolinecolor\":\"white\"},\"yaxis\":{\"backgroundcolor\":\"#E5ECF6\",\"gridcolor\":\"white\",\"gridwidth\":2,\"linecolor\":\"white\",\"showbackground\":true,\"ticks\":\"\",\"zerolinecolor\":\"white\"},\"zaxis\":{\"backgroundcolor\":\"#E5ECF6\",\"gridcolor\":\"white\",\"gridwidth\":2,\"linecolor\":\"white\",\"showbackground\":true,\"ticks\":\"\",\"zerolinecolor\":\"white\"}},\"shapedefaults\":{\"line\":{\"color\":\"#2a3f5f\"}},\"ternary\":{\"aaxis\":{\"gridcolor\":\"white\",\"linecolor\":\"white\",\"ticks\":\"\"},\"baxis\":{\"gridcolor\":\"white\",\"linecolor\":\"white\",\"ticks\":\"\"},\"bgcolor\":\"#E5ECF6\",\"caxis\":{\"gridcolor\":\"white\",\"linecolor\":\"white\",\"ticks\":\"\"}},\"title\":{\"x\":0.05},\"xaxis\":{\"automargin\":true,\"gridcolor\":\"white\",\"linecolor\":\"white\",\"ticks\":\"\",\"title\":{\"standoff\":15},\"zerolinecolor\":\"white\",\"zerolinewidth\":2},\"yaxis\":{\"automargin\":true,\"gridcolor\":\"white\",\"linecolor\":\"white\",\"ticks\":\"\",\"title\":{\"standoff\":15},\"zerolinecolor\":\"white\",\"zerolinewidth\":2}}},\"xaxis\":{\"anchor\":\"y\",\"domain\":[0.0,1.0],\"title\":{\"text\":\"price\"}},\"yaxis\":{\"anchor\":\"x\",\"domain\":[0.0,1.0],\"title\":{\"text\":\"name\"}},\"legend\":{\"tracegroupgap\":0},\"margin\":{\"t\":60},\"barmode\":\"relative\",\"title\":{\"text\":\"top 5 cheap cream\",\"x\":0.5,\"font\":{\"color\":\"green\"}},\"font\":{\"color\":\"green\"}},                        {\"responsive\": true}                    ).then(function(){\n",
              "                            \n",
              "var gd = document.getElementById('f4d9aa4b-466b-4495-9dff-ad47326d634d');\n",
              "var x = new MutationObserver(function (mutations, observer) {{\n",
              "        var display = window.getComputedStyle(gd).display;\n",
              "        if (!display || display === 'none') {{\n",
              "            console.log([gd, 'removed!']);\n",
              "            Plotly.purge(gd);\n",
              "            observer.disconnect();\n",
              "        }}\n",
              "}});\n",
              "\n",
              "// Listen for the removal of the full notebook cells\n",
              "var notebookContainer = gd.closest('#notebook-container');\n",
              "if (notebookContainer) {{\n",
              "    x.observe(notebookContainer, {childList: true});\n",
              "}}\n",
              "\n",
              "// Listen for the clearing of the current output cell\n",
              "var outputEl = gd.closest('.output');\n",
              "if (outputEl) {{\n",
              "    x.observe(outputEl, {childList: true});\n",
              "}}\n",
              "\n",
              "                        })                };                            </script>        </div>\n",
              "</body>\n",
              "</html>"
            ]
          },
          "metadata": {}
        }
      ]
    },
    {
      "cell_type": "markdown",
      "source": [
        "**Cleanser category** \n",
        "\n",
        "\n",
        "\n"
      ],
      "metadata": {
        "id": "VGx-G_T08X2E"
      }
    },
    {
      "cell_type": "code",
      "source": [
        "a=df_cleanser.nlargest(5, columns=['price'])\n",
        "b=df_cleanser.nsmallest(5, columns=['price'])"
      ],
      "metadata": {
        "id": "g3bSbrTC8bO8"
      },
      "execution_count": 29,
      "outputs": []
    },
    {
      "cell_type": "code",
      "source": [
        "fig = px.bar(\n",
        "    a.dropna(),\n",
        "    x= \"price\",\n",
        "    y=\t\"name\",\n",
        "    text='price',\n",
        "    template=\"plotly_dark\"\n",
        ")\n",
        "\n",
        "fig.update_layout(title_text='top 5 expensive cleanser', title_x=0.5)\n",
        "fig.update_traces(marker_color=\"yellow\")\n",
        "fig.update_layout(font_color=\"yellow\",title_font_color=\"yellow\",legend_title_font_color=\"yellow\")\n",
        "fig.show()\n",
        "\n",
        "fig = px.bar(\n",
        "    b.dropna(),\n",
        "    x= \"price\",\n",
        "    y=\t\"name\",\n",
        "    text='price',\n",
        "    template=\"plotly_dark\"\n",
        ")\n",
        "fig.update_layout(title_text='top 5 cheap cleanser', title_x=0.5)\n",
        "fig.update_traces(marker_color= \"white\")\n",
        "fig.update_layout(font_color=\"white\",title_font_color=\"white\",legend_title_font_color=\"white\")\n",
        "\n",
        "fig.show()"
      ],
      "metadata": {
        "colab": {
          "base_uri": "https://localhost:8080/",
          "height": 1000
        },
        "outputId": "ff7ccc78-1f48-48e6-bf85-e598c874b7dc",
        "id": "iUjyTvbL8bO9"
      },
      "execution_count": 30,
      "outputs": [
        {
          "output_type": "display_data",
          "data": {
            "text/html": [
              "<html>\n",
              "<head><meta charset=\"utf-8\" /></head>\n",
              "<body>\n",
              "    <div>            <script src=\"https://cdnjs.cloudflare.com/ajax/libs/mathjax/2.7.5/MathJax.js?config=TeX-AMS-MML_SVG\"></script><script type=\"text/javascript\">if (window.MathJax) {MathJax.Hub.Config({SVG: {font: \"STIX-Web\"}});}</script>                <script type=\"text/javascript\">window.PlotlyConfig = {MathJaxConfig: 'local'};</script>\n",
              "        <script src=\"https://cdn.plot.ly/plotly-2.8.3.min.js\"></script>                <div id=\"1e5ff282-e12d-41f1-b5e1-5596246415a1\" class=\"plotly-graph-div\" style=\"height:525px; width:100%;\"></div>            <script type=\"text/javascript\">                                    window.PLOTLYENV=window.PLOTLYENV || {};                                    if (document.getElementById(\"1e5ff282-e12d-41f1-b5e1-5596246415a1\")) {                    Plotly.newPlot(                        \"1e5ff282-e12d-41f1-b5e1-5596246415a1\",                        [{\"alignmentgroup\":\"True\",\"hovertemplate\":\"price=%{text}<br>name=%{y}<extra></extra>\",\"legendgroup\":\"\",\"marker\":{\"color\":\"yellow\",\"pattern\":{\"shape\":\"\"}},\"name\":\"\",\"offsetgroup\":\"\",\"orientation\":\"h\",\"showlegend\":false,\"text\":[195.0,180.0,150.5,135.0,130.0],\"textposition\":\"auto\",\"x\":[195.0,180.0,150.5,135.0,130.0],\"xaxis\":\"x\",\"y\":[\"neocutis micro night riche rejuvenating balm 50ml\",\"omorovicza thermal cleansing balm supersize -100ml (worth $220)\",\"omorovicza deep cleansing mask 100ml\",\"eve lom cleanser 7oz (worth $170)\",\"espa (retail) tri-active resilience rest & recovery overnight balm 30ml\"],\"yaxis\":\"y\",\"type\":\"bar\"}],                        {\"template\":{\"data\":{\"barpolar\":[{\"marker\":{\"line\":{\"color\":\"rgb(17,17,17)\",\"width\":0.5},\"pattern\":{\"fillmode\":\"overlay\",\"size\":10,\"solidity\":0.2}},\"type\":\"barpolar\"}],\"bar\":[{\"error_x\":{\"color\":\"#f2f5fa\"},\"error_y\":{\"color\":\"#f2f5fa\"},\"marker\":{\"line\":{\"color\":\"rgb(17,17,17)\",\"width\":0.5},\"pattern\":{\"fillmode\":\"overlay\",\"size\":10,\"solidity\":0.2}},\"type\":\"bar\"}],\"carpet\":[{\"aaxis\":{\"endlinecolor\":\"#A2B1C6\",\"gridcolor\":\"#506784\",\"linecolor\":\"#506784\",\"minorgridcolor\":\"#506784\",\"startlinecolor\":\"#A2B1C6\"},\"baxis\":{\"endlinecolor\":\"#A2B1C6\",\"gridcolor\":\"#506784\",\"linecolor\":\"#506784\",\"minorgridcolor\":\"#506784\",\"startlinecolor\":\"#A2B1C6\"},\"type\":\"carpet\"}],\"choropleth\":[{\"colorbar\":{\"outlinewidth\":0,\"ticks\":\"\"},\"type\":\"choropleth\"}],\"contourcarpet\":[{\"colorbar\":{\"outlinewidth\":0,\"ticks\":\"\"},\"type\":\"contourcarpet\"}],\"contour\":[{\"colorbar\":{\"outlinewidth\":0,\"ticks\":\"\"},\"colorscale\":[[0.0,\"#0d0887\"],[0.1111111111111111,\"#46039f\"],[0.2222222222222222,\"#7201a8\"],[0.3333333333333333,\"#9c179e\"],[0.4444444444444444,\"#bd3786\"],[0.5555555555555556,\"#d8576b\"],[0.6666666666666666,\"#ed7953\"],[0.7777777777777778,\"#fb9f3a\"],[0.8888888888888888,\"#fdca26\"],[1.0,\"#f0f921\"]],\"type\":\"contour\"}],\"heatmapgl\":[{\"colorbar\":{\"outlinewidth\":0,\"ticks\":\"\"},\"colorscale\":[[0.0,\"#0d0887\"],[0.1111111111111111,\"#46039f\"],[0.2222222222222222,\"#7201a8\"],[0.3333333333333333,\"#9c179e\"],[0.4444444444444444,\"#bd3786\"],[0.5555555555555556,\"#d8576b\"],[0.6666666666666666,\"#ed7953\"],[0.7777777777777778,\"#fb9f3a\"],[0.8888888888888888,\"#fdca26\"],[1.0,\"#f0f921\"]],\"type\":\"heatmapgl\"}],\"heatmap\":[{\"colorbar\":{\"outlinewidth\":0,\"ticks\":\"\"},\"colorscale\":[[0.0,\"#0d0887\"],[0.1111111111111111,\"#46039f\"],[0.2222222222222222,\"#7201a8\"],[0.3333333333333333,\"#9c179e\"],[0.4444444444444444,\"#bd3786\"],[0.5555555555555556,\"#d8576b\"],[0.6666666666666666,\"#ed7953\"],[0.7777777777777778,\"#fb9f3a\"],[0.8888888888888888,\"#fdca26\"],[1.0,\"#f0f921\"]],\"type\":\"heatmap\"}],\"histogram2dcontour\":[{\"colorbar\":{\"outlinewidth\":0,\"ticks\":\"\"},\"colorscale\":[[0.0,\"#0d0887\"],[0.1111111111111111,\"#46039f\"],[0.2222222222222222,\"#7201a8\"],[0.3333333333333333,\"#9c179e\"],[0.4444444444444444,\"#bd3786\"],[0.5555555555555556,\"#d8576b\"],[0.6666666666666666,\"#ed7953\"],[0.7777777777777778,\"#fb9f3a\"],[0.8888888888888888,\"#fdca26\"],[1.0,\"#f0f921\"]],\"type\":\"histogram2dcontour\"}],\"histogram2d\":[{\"colorbar\":{\"outlinewidth\":0,\"ticks\":\"\"},\"colorscale\":[[0.0,\"#0d0887\"],[0.1111111111111111,\"#46039f\"],[0.2222222222222222,\"#7201a8\"],[0.3333333333333333,\"#9c179e\"],[0.4444444444444444,\"#bd3786\"],[0.5555555555555556,\"#d8576b\"],[0.6666666666666666,\"#ed7953\"],[0.7777777777777778,\"#fb9f3a\"],[0.8888888888888888,\"#fdca26\"],[1.0,\"#f0f921\"]],\"type\":\"histogram2d\"}],\"histogram\":[{\"marker\":{\"pattern\":{\"fillmode\":\"overlay\",\"size\":10,\"solidity\":0.2}},\"type\":\"histogram\"}],\"mesh3d\":[{\"colorbar\":{\"outlinewidth\":0,\"ticks\":\"\"},\"type\":\"mesh3d\"}],\"parcoords\":[{\"line\":{\"colorbar\":{\"outlinewidth\":0,\"ticks\":\"\"}},\"type\":\"parcoords\"}],\"pie\":[{\"automargin\":true,\"type\":\"pie\"}],\"scatter3d\":[{\"line\":{\"colorbar\":{\"outlinewidth\":0,\"ticks\":\"\"}},\"marker\":{\"colorbar\":{\"outlinewidth\":0,\"ticks\":\"\"}},\"type\":\"scatter3d\"}],\"scattercarpet\":[{\"marker\":{\"colorbar\":{\"outlinewidth\":0,\"ticks\":\"\"}},\"type\":\"scattercarpet\"}],\"scattergeo\":[{\"marker\":{\"colorbar\":{\"outlinewidth\":0,\"ticks\":\"\"}},\"type\":\"scattergeo\"}],\"scattergl\":[{\"marker\":{\"line\":{\"color\":\"#283442\"}},\"type\":\"scattergl\"}],\"scattermapbox\":[{\"marker\":{\"colorbar\":{\"outlinewidth\":0,\"ticks\":\"\"}},\"type\":\"scattermapbox\"}],\"scatterpolargl\":[{\"marker\":{\"colorbar\":{\"outlinewidth\":0,\"ticks\":\"\"}},\"type\":\"scatterpolargl\"}],\"scatterpolar\":[{\"marker\":{\"colorbar\":{\"outlinewidth\":0,\"ticks\":\"\"}},\"type\":\"scatterpolar\"}],\"scatter\":[{\"marker\":{\"line\":{\"color\":\"#283442\"}},\"type\":\"scatter\"}],\"scatterternary\":[{\"marker\":{\"colorbar\":{\"outlinewidth\":0,\"ticks\":\"\"}},\"type\":\"scatterternary\"}],\"surface\":[{\"colorbar\":{\"outlinewidth\":0,\"ticks\":\"\"},\"colorscale\":[[0.0,\"#0d0887\"],[0.1111111111111111,\"#46039f\"],[0.2222222222222222,\"#7201a8\"],[0.3333333333333333,\"#9c179e\"],[0.4444444444444444,\"#bd3786\"],[0.5555555555555556,\"#d8576b\"],[0.6666666666666666,\"#ed7953\"],[0.7777777777777778,\"#fb9f3a\"],[0.8888888888888888,\"#fdca26\"],[1.0,\"#f0f921\"]],\"type\":\"surface\"}],\"table\":[{\"cells\":{\"fill\":{\"color\":\"#506784\"},\"line\":{\"color\":\"rgb(17,17,17)\"}},\"header\":{\"fill\":{\"color\":\"#2a3f5f\"},\"line\":{\"color\":\"rgb(17,17,17)\"}},\"type\":\"table\"}]},\"layout\":{\"annotationdefaults\":{\"arrowcolor\":\"#f2f5fa\",\"arrowhead\":0,\"arrowwidth\":1},\"autotypenumbers\":\"strict\",\"coloraxis\":{\"colorbar\":{\"outlinewidth\":0,\"ticks\":\"\"}},\"colorscale\":{\"diverging\":[[0,\"#8e0152\"],[0.1,\"#c51b7d\"],[0.2,\"#de77ae\"],[0.3,\"#f1b6da\"],[0.4,\"#fde0ef\"],[0.5,\"#f7f7f7\"],[0.6,\"#e6f5d0\"],[0.7,\"#b8e186\"],[0.8,\"#7fbc41\"],[0.9,\"#4d9221\"],[1,\"#276419\"]],\"sequential\":[[0.0,\"#0d0887\"],[0.1111111111111111,\"#46039f\"],[0.2222222222222222,\"#7201a8\"],[0.3333333333333333,\"#9c179e\"],[0.4444444444444444,\"#bd3786\"],[0.5555555555555556,\"#d8576b\"],[0.6666666666666666,\"#ed7953\"],[0.7777777777777778,\"#fb9f3a\"],[0.8888888888888888,\"#fdca26\"],[1.0,\"#f0f921\"]],\"sequentialminus\":[[0.0,\"#0d0887\"],[0.1111111111111111,\"#46039f\"],[0.2222222222222222,\"#7201a8\"],[0.3333333333333333,\"#9c179e\"],[0.4444444444444444,\"#bd3786\"],[0.5555555555555556,\"#d8576b\"],[0.6666666666666666,\"#ed7953\"],[0.7777777777777778,\"#fb9f3a\"],[0.8888888888888888,\"#fdca26\"],[1.0,\"#f0f921\"]]},\"colorway\":[\"#636efa\",\"#EF553B\",\"#00cc96\",\"#ab63fa\",\"#FFA15A\",\"#19d3f3\",\"#FF6692\",\"#B6E880\",\"#FF97FF\",\"#FECB52\"],\"font\":{\"color\":\"#f2f5fa\"},\"geo\":{\"bgcolor\":\"rgb(17,17,17)\",\"lakecolor\":\"rgb(17,17,17)\",\"landcolor\":\"rgb(17,17,17)\",\"showlakes\":true,\"showland\":true,\"subunitcolor\":\"#506784\"},\"hoverlabel\":{\"align\":\"left\"},\"hovermode\":\"closest\",\"mapbox\":{\"style\":\"dark\"},\"paper_bgcolor\":\"rgb(17,17,17)\",\"plot_bgcolor\":\"rgb(17,17,17)\",\"polar\":{\"angularaxis\":{\"gridcolor\":\"#506784\",\"linecolor\":\"#506784\",\"ticks\":\"\"},\"bgcolor\":\"rgb(17,17,17)\",\"radialaxis\":{\"gridcolor\":\"#506784\",\"linecolor\":\"#506784\",\"ticks\":\"\"}},\"scene\":{\"xaxis\":{\"backgroundcolor\":\"rgb(17,17,17)\",\"gridcolor\":\"#506784\",\"gridwidth\":2,\"linecolor\":\"#506784\",\"showbackground\":true,\"ticks\":\"\",\"zerolinecolor\":\"#C8D4E3\"},\"yaxis\":{\"backgroundcolor\":\"rgb(17,17,17)\",\"gridcolor\":\"#506784\",\"gridwidth\":2,\"linecolor\":\"#506784\",\"showbackground\":true,\"ticks\":\"\",\"zerolinecolor\":\"#C8D4E3\"},\"zaxis\":{\"backgroundcolor\":\"rgb(17,17,17)\",\"gridcolor\":\"#506784\",\"gridwidth\":2,\"linecolor\":\"#506784\",\"showbackground\":true,\"ticks\":\"\",\"zerolinecolor\":\"#C8D4E3\"}},\"shapedefaults\":{\"line\":{\"color\":\"#f2f5fa\"}},\"sliderdefaults\":{\"bgcolor\":\"#C8D4E3\",\"bordercolor\":\"rgb(17,17,17)\",\"borderwidth\":1,\"tickwidth\":0},\"ternary\":{\"aaxis\":{\"gridcolor\":\"#506784\",\"linecolor\":\"#506784\",\"ticks\":\"\"},\"baxis\":{\"gridcolor\":\"#506784\",\"linecolor\":\"#506784\",\"ticks\":\"\"},\"bgcolor\":\"rgb(17,17,17)\",\"caxis\":{\"gridcolor\":\"#506784\",\"linecolor\":\"#506784\",\"ticks\":\"\"}},\"title\":{\"x\":0.05},\"updatemenudefaults\":{\"bgcolor\":\"#506784\",\"borderwidth\":0},\"xaxis\":{\"automargin\":true,\"gridcolor\":\"#283442\",\"linecolor\":\"#506784\",\"ticks\":\"\",\"title\":{\"standoff\":15},\"zerolinecolor\":\"#283442\",\"zerolinewidth\":2},\"yaxis\":{\"automargin\":true,\"gridcolor\":\"#283442\",\"linecolor\":\"#506784\",\"ticks\":\"\",\"title\":{\"standoff\":15},\"zerolinecolor\":\"#283442\",\"zerolinewidth\":2}}},\"xaxis\":{\"anchor\":\"y\",\"domain\":[0.0,1.0],\"title\":{\"text\":\"price\"}},\"yaxis\":{\"anchor\":\"x\",\"domain\":[0.0,1.0],\"title\":{\"text\":\"name\"}},\"legend\":{\"tracegroupgap\":0,\"title\":{\"font\":{\"color\":\"yellow\"}}},\"margin\":{\"t\":60},\"barmode\":\"relative\",\"title\":{\"text\":\"top 5 expensive cleanser\",\"x\":0.5,\"font\":{\"color\":\"yellow\"}},\"font\":{\"color\":\"yellow\"}},                        {\"responsive\": true}                    ).then(function(){\n",
              "                            \n",
              "var gd = document.getElementById('1e5ff282-e12d-41f1-b5e1-5596246415a1');\n",
              "var x = new MutationObserver(function (mutations, observer) {{\n",
              "        var display = window.getComputedStyle(gd).display;\n",
              "        if (!display || display === 'none') {{\n",
              "            console.log([gd, 'removed!']);\n",
              "            Plotly.purge(gd);\n",
              "            observer.disconnect();\n",
              "        }}\n",
              "}});\n",
              "\n",
              "// Listen for the removal of the full notebook cells\n",
              "var notebookContainer = gd.closest('#notebook-container');\n",
              "if (notebookContainer) {{\n",
              "    x.observe(notebookContainer, {childList: true});\n",
              "}}\n",
              "\n",
              "// Listen for the clearing of the current output cell\n",
              "var outputEl = gd.closest('.output');\n",
              "if (outputEl) {{\n",
              "    x.observe(outputEl, {childList: true});\n",
              "}}\n",
              "\n",
              "                        })                };                            </script>        </div>\n",
              "</body>\n",
              "</html>"
            ]
          },
          "metadata": {}
        },
        {
          "output_type": "display_data",
          "data": {
            "text/html": [
              "<html>\n",
              "<head><meta charset=\"utf-8\" /></head>\n",
              "<body>\n",
              "    <div>            <script src=\"https://cdnjs.cloudflare.com/ajax/libs/mathjax/2.7.5/MathJax.js?config=TeX-AMS-MML_SVG\"></script><script type=\"text/javascript\">if (window.MathJax) {MathJax.Hub.Config({SVG: {font: \"STIX-Web\"}});}</script>                <script type=\"text/javascript\">window.PlotlyConfig = {MathJaxConfig: 'local'};</script>\n",
              "        <script src=\"https://cdn.plot.ly/plotly-2.8.3.min.js\"></script>                <div id=\"23afabae-c516-49b7-b3f6-d9782c540cf9\" class=\"plotly-graph-div\" style=\"height:525px; width:100%;\"></div>            <script type=\"text/javascript\">                                    window.PLOTLYENV=window.PLOTLYENV || {};                                    if (document.getElementById(\"23afabae-c516-49b7-b3f6-d9782c540cf9\")) {                    Plotly.newPlot(                        \"23afabae-c516-49b7-b3f6-d9782c540cf9\",                        [{\"alignmentgroup\":\"True\",\"hovertemplate\":\"price=%{text}<br>name=%{y}<extra></extra>\",\"legendgroup\":\"\",\"marker\":{\"color\":\"white\",\"pattern\":{\"shape\":\"\"}},\"name\":\"\",\"offsetgroup\":\"\",\"orientation\":\"h\",\"showlegend\":false,\"text\":[3.4,4.9,4.9,4.9,5.0],\"textposition\":\"auto\",\"x\":[3.4,4.9,4.9,4.9,5.0],\"xaxis\":\"x\",\"y\":[\"kora organics milky mushroom gentle cleansing oil 10ml\",\"garnier natural rose cleansing milk\\u00a0and makeup remover for sensitive skin 200ml\",\"clean & clear deep cleansing lotion 200ml\",\"men-u men-u buddy healthy facial wash tube 1 oz\",\"revolution skincare pore cleansing charcoal nose strips 6g\"],\"yaxis\":\"y\",\"type\":\"bar\"}],                        {\"template\":{\"data\":{\"barpolar\":[{\"marker\":{\"line\":{\"color\":\"rgb(17,17,17)\",\"width\":0.5},\"pattern\":{\"fillmode\":\"overlay\",\"size\":10,\"solidity\":0.2}},\"type\":\"barpolar\"}],\"bar\":[{\"error_x\":{\"color\":\"#f2f5fa\"},\"error_y\":{\"color\":\"#f2f5fa\"},\"marker\":{\"line\":{\"color\":\"rgb(17,17,17)\",\"width\":0.5},\"pattern\":{\"fillmode\":\"overlay\",\"size\":10,\"solidity\":0.2}},\"type\":\"bar\"}],\"carpet\":[{\"aaxis\":{\"endlinecolor\":\"#A2B1C6\",\"gridcolor\":\"#506784\",\"linecolor\":\"#506784\",\"minorgridcolor\":\"#506784\",\"startlinecolor\":\"#A2B1C6\"},\"baxis\":{\"endlinecolor\":\"#A2B1C6\",\"gridcolor\":\"#506784\",\"linecolor\":\"#506784\",\"minorgridcolor\":\"#506784\",\"startlinecolor\":\"#A2B1C6\"},\"type\":\"carpet\"}],\"choropleth\":[{\"colorbar\":{\"outlinewidth\":0,\"ticks\":\"\"},\"type\":\"choropleth\"}],\"contourcarpet\":[{\"colorbar\":{\"outlinewidth\":0,\"ticks\":\"\"},\"type\":\"contourcarpet\"}],\"contour\":[{\"colorbar\":{\"outlinewidth\":0,\"ticks\":\"\"},\"colorscale\":[[0.0,\"#0d0887\"],[0.1111111111111111,\"#46039f\"],[0.2222222222222222,\"#7201a8\"],[0.3333333333333333,\"#9c179e\"],[0.4444444444444444,\"#bd3786\"],[0.5555555555555556,\"#d8576b\"],[0.6666666666666666,\"#ed7953\"],[0.7777777777777778,\"#fb9f3a\"],[0.8888888888888888,\"#fdca26\"],[1.0,\"#f0f921\"]],\"type\":\"contour\"}],\"heatmapgl\":[{\"colorbar\":{\"outlinewidth\":0,\"ticks\":\"\"},\"colorscale\":[[0.0,\"#0d0887\"],[0.1111111111111111,\"#46039f\"],[0.2222222222222222,\"#7201a8\"],[0.3333333333333333,\"#9c179e\"],[0.4444444444444444,\"#bd3786\"],[0.5555555555555556,\"#d8576b\"],[0.6666666666666666,\"#ed7953\"],[0.7777777777777778,\"#fb9f3a\"],[0.8888888888888888,\"#fdca26\"],[1.0,\"#f0f921\"]],\"type\":\"heatmapgl\"}],\"heatmap\":[{\"colorbar\":{\"outlinewidth\":0,\"ticks\":\"\"},\"colorscale\":[[0.0,\"#0d0887\"],[0.1111111111111111,\"#46039f\"],[0.2222222222222222,\"#7201a8\"],[0.3333333333333333,\"#9c179e\"],[0.4444444444444444,\"#bd3786\"],[0.5555555555555556,\"#d8576b\"],[0.6666666666666666,\"#ed7953\"],[0.7777777777777778,\"#fb9f3a\"],[0.8888888888888888,\"#fdca26\"],[1.0,\"#f0f921\"]],\"type\":\"heatmap\"}],\"histogram2dcontour\":[{\"colorbar\":{\"outlinewidth\":0,\"ticks\":\"\"},\"colorscale\":[[0.0,\"#0d0887\"],[0.1111111111111111,\"#46039f\"],[0.2222222222222222,\"#7201a8\"],[0.3333333333333333,\"#9c179e\"],[0.4444444444444444,\"#bd3786\"],[0.5555555555555556,\"#d8576b\"],[0.6666666666666666,\"#ed7953\"],[0.7777777777777778,\"#fb9f3a\"],[0.8888888888888888,\"#fdca26\"],[1.0,\"#f0f921\"]],\"type\":\"histogram2dcontour\"}],\"histogram2d\":[{\"colorbar\":{\"outlinewidth\":0,\"ticks\":\"\"},\"colorscale\":[[0.0,\"#0d0887\"],[0.1111111111111111,\"#46039f\"],[0.2222222222222222,\"#7201a8\"],[0.3333333333333333,\"#9c179e\"],[0.4444444444444444,\"#bd3786\"],[0.5555555555555556,\"#d8576b\"],[0.6666666666666666,\"#ed7953\"],[0.7777777777777778,\"#fb9f3a\"],[0.8888888888888888,\"#fdca26\"],[1.0,\"#f0f921\"]],\"type\":\"histogram2d\"}],\"histogram\":[{\"marker\":{\"pattern\":{\"fillmode\":\"overlay\",\"size\":10,\"solidity\":0.2}},\"type\":\"histogram\"}],\"mesh3d\":[{\"colorbar\":{\"outlinewidth\":0,\"ticks\":\"\"},\"type\":\"mesh3d\"}],\"parcoords\":[{\"line\":{\"colorbar\":{\"outlinewidth\":0,\"ticks\":\"\"}},\"type\":\"parcoords\"}],\"pie\":[{\"automargin\":true,\"type\":\"pie\"}],\"scatter3d\":[{\"line\":{\"colorbar\":{\"outlinewidth\":0,\"ticks\":\"\"}},\"marker\":{\"colorbar\":{\"outlinewidth\":0,\"ticks\":\"\"}},\"type\":\"scatter3d\"}],\"scattercarpet\":[{\"marker\":{\"colorbar\":{\"outlinewidth\":0,\"ticks\":\"\"}},\"type\":\"scattercarpet\"}],\"scattergeo\":[{\"marker\":{\"colorbar\":{\"outlinewidth\":0,\"ticks\":\"\"}},\"type\":\"scattergeo\"}],\"scattergl\":[{\"marker\":{\"line\":{\"color\":\"#283442\"}},\"type\":\"scattergl\"}],\"scattermapbox\":[{\"marker\":{\"colorbar\":{\"outlinewidth\":0,\"ticks\":\"\"}},\"type\":\"scattermapbox\"}],\"scatterpolargl\":[{\"marker\":{\"colorbar\":{\"outlinewidth\":0,\"ticks\":\"\"}},\"type\":\"scatterpolargl\"}],\"scatterpolar\":[{\"marker\":{\"colorbar\":{\"outlinewidth\":0,\"ticks\":\"\"}},\"type\":\"scatterpolar\"}],\"scatter\":[{\"marker\":{\"line\":{\"color\":\"#283442\"}},\"type\":\"scatter\"}],\"scatterternary\":[{\"marker\":{\"colorbar\":{\"outlinewidth\":0,\"ticks\":\"\"}},\"type\":\"scatterternary\"}],\"surface\":[{\"colorbar\":{\"outlinewidth\":0,\"ticks\":\"\"},\"colorscale\":[[0.0,\"#0d0887\"],[0.1111111111111111,\"#46039f\"],[0.2222222222222222,\"#7201a8\"],[0.3333333333333333,\"#9c179e\"],[0.4444444444444444,\"#bd3786\"],[0.5555555555555556,\"#d8576b\"],[0.6666666666666666,\"#ed7953\"],[0.7777777777777778,\"#fb9f3a\"],[0.8888888888888888,\"#fdca26\"],[1.0,\"#f0f921\"]],\"type\":\"surface\"}],\"table\":[{\"cells\":{\"fill\":{\"color\":\"#506784\"},\"line\":{\"color\":\"rgb(17,17,17)\"}},\"header\":{\"fill\":{\"color\":\"#2a3f5f\"},\"line\":{\"color\":\"rgb(17,17,17)\"}},\"type\":\"table\"}]},\"layout\":{\"annotationdefaults\":{\"arrowcolor\":\"#f2f5fa\",\"arrowhead\":0,\"arrowwidth\":1},\"autotypenumbers\":\"strict\",\"coloraxis\":{\"colorbar\":{\"outlinewidth\":0,\"ticks\":\"\"}},\"colorscale\":{\"diverging\":[[0,\"#8e0152\"],[0.1,\"#c51b7d\"],[0.2,\"#de77ae\"],[0.3,\"#f1b6da\"],[0.4,\"#fde0ef\"],[0.5,\"#f7f7f7\"],[0.6,\"#e6f5d0\"],[0.7,\"#b8e186\"],[0.8,\"#7fbc41\"],[0.9,\"#4d9221\"],[1,\"#276419\"]],\"sequential\":[[0.0,\"#0d0887\"],[0.1111111111111111,\"#46039f\"],[0.2222222222222222,\"#7201a8\"],[0.3333333333333333,\"#9c179e\"],[0.4444444444444444,\"#bd3786\"],[0.5555555555555556,\"#d8576b\"],[0.6666666666666666,\"#ed7953\"],[0.7777777777777778,\"#fb9f3a\"],[0.8888888888888888,\"#fdca26\"],[1.0,\"#f0f921\"]],\"sequentialminus\":[[0.0,\"#0d0887\"],[0.1111111111111111,\"#46039f\"],[0.2222222222222222,\"#7201a8\"],[0.3333333333333333,\"#9c179e\"],[0.4444444444444444,\"#bd3786\"],[0.5555555555555556,\"#d8576b\"],[0.6666666666666666,\"#ed7953\"],[0.7777777777777778,\"#fb9f3a\"],[0.8888888888888888,\"#fdca26\"],[1.0,\"#f0f921\"]]},\"colorway\":[\"#636efa\",\"#EF553B\",\"#00cc96\",\"#ab63fa\",\"#FFA15A\",\"#19d3f3\",\"#FF6692\",\"#B6E880\",\"#FF97FF\",\"#FECB52\"],\"font\":{\"color\":\"#f2f5fa\"},\"geo\":{\"bgcolor\":\"rgb(17,17,17)\",\"lakecolor\":\"rgb(17,17,17)\",\"landcolor\":\"rgb(17,17,17)\",\"showlakes\":true,\"showland\":true,\"subunitcolor\":\"#506784\"},\"hoverlabel\":{\"align\":\"left\"},\"hovermode\":\"closest\",\"mapbox\":{\"style\":\"dark\"},\"paper_bgcolor\":\"rgb(17,17,17)\",\"plot_bgcolor\":\"rgb(17,17,17)\",\"polar\":{\"angularaxis\":{\"gridcolor\":\"#506784\",\"linecolor\":\"#506784\",\"ticks\":\"\"},\"bgcolor\":\"rgb(17,17,17)\",\"radialaxis\":{\"gridcolor\":\"#506784\",\"linecolor\":\"#506784\",\"ticks\":\"\"}},\"scene\":{\"xaxis\":{\"backgroundcolor\":\"rgb(17,17,17)\",\"gridcolor\":\"#506784\",\"gridwidth\":2,\"linecolor\":\"#506784\",\"showbackground\":true,\"ticks\":\"\",\"zerolinecolor\":\"#C8D4E3\"},\"yaxis\":{\"backgroundcolor\":\"rgb(17,17,17)\",\"gridcolor\":\"#506784\",\"gridwidth\":2,\"linecolor\":\"#506784\",\"showbackground\":true,\"ticks\":\"\",\"zerolinecolor\":\"#C8D4E3\"},\"zaxis\":{\"backgroundcolor\":\"rgb(17,17,17)\",\"gridcolor\":\"#506784\",\"gridwidth\":2,\"linecolor\":\"#506784\",\"showbackground\":true,\"ticks\":\"\",\"zerolinecolor\":\"#C8D4E3\"}},\"shapedefaults\":{\"line\":{\"color\":\"#f2f5fa\"}},\"sliderdefaults\":{\"bgcolor\":\"#C8D4E3\",\"bordercolor\":\"rgb(17,17,17)\",\"borderwidth\":1,\"tickwidth\":0},\"ternary\":{\"aaxis\":{\"gridcolor\":\"#506784\",\"linecolor\":\"#506784\",\"ticks\":\"\"},\"baxis\":{\"gridcolor\":\"#506784\",\"linecolor\":\"#506784\",\"ticks\":\"\"},\"bgcolor\":\"rgb(17,17,17)\",\"caxis\":{\"gridcolor\":\"#506784\",\"linecolor\":\"#506784\",\"ticks\":\"\"}},\"title\":{\"x\":0.05},\"updatemenudefaults\":{\"bgcolor\":\"#506784\",\"borderwidth\":0},\"xaxis\":{\"automargin\":true,\"gridcolor\":\"#283442\",\"linecolor\":\"#506784\",\"ticks\":\"\",\"title\":{\"standoff\":15},\"zerolinecolor\":\"#283442\",\"zerolinewidth\":2},\"yaxis\":{\"automargin\":true,\"gridcolor\":\"#283442\",\"linecolor\":\"#506784\",\"ticks\":\"\",\"title\":{\"standoff\":15},\"zerolinecolor\":\"#283442\",\"zerolinewidth\":2}}},\"xaxis\":{\"anchor\":\"y\",\"domain\":[0.0,1.0],\"title\":{\"text\":\"price\"}},\"yaxis\":{\"anchor\":\"x\",\"domain\":[0.0,1.0],\"title\":{\"text\":\"name\"}},\"legend\":{\"tracegroupgap\":0,\"title\":{\"font\":{\"color\":\"white\"}}},\"margin\":{\"t\":60},\"barmode\":\"relative\",\"title\":{\"text\":\"top 5 cheap cleanser\",\"x\":0.5,\"font\":{\"color\":\"white\"}},\"font\":{\"color\":\"white\"}},                        {\"responsive\": true}                    ).then(function(){\n",
              "                            \n",
              "var gd = document.getElementById('23afabae-c516-49b7-b3f6-d9782c540cf9');\n",
              "var x = new MutationObserver(function (mutations, observer) {{\n",
              "        var display = window.getComputedStyle(gd).display;\n",
              "        if (!display || display === 'none') {{\n",
              "            console.log([gd, 'removed!']);\n",
              "            Plotly.purge(gd);\n",
              "            observer.disconnect();\n",
              "        }}\n",
              "}});\n",
              "\n",
              "// Listen for the removal of the full notebook cells\n",
              "var notebookContainer = gd.closest('#notebook-container');\n",
              "if (notebookContainer) {{\n",
              "    x.observe(notebookContainer, {childList: true});\n",
              "}}\n",
              "\n",
              "// Listen for the clearing of the current output cell\n",
              "var outputEl = gd.closest('.output');\n",
              "if (outputEl) {{\n",
              "    x.observe(outputEl, {childList: true});\n",
              "}}\n",
              "\n",
              "                        })                };                            </script>        </div>\n",
              "</body>\n",
              "</html>"
            ]
          },
          "metadata": {}
        }
      ]
    },
    {
      "cell_type": "markdown",
      "source": [
        "**Toner Category**"
      ],
      "metadata": {
        "id": "J5-ugaSLUMDm"
      }
    },
    {
      "cell_type": "code",
      "source": [
        "a=df_toner.nlargest(5, columns=['price'])\n",
        "b=df_toner.nsmallest(5, columns=['price'])"
      ],
      "metadata": {
        "id": "qLzqAA5UUQUh"
      },
      "execution_count": 31,
      "outputs": []
    },
    {
      "cell_type": "code",
      "source": [
        "fig = px.bar(\n",
        "    a.dropna(),\n",
        "    x= \"price\",\n",
        "    y=\t\"name\",\n",
        "    text='price',\n",
        "    template=\"ggplot2\"\n",
        ")\n",
        "\n",
        "fig.update_layout(title_text='top 5 expensive toner', title_x=0.5)\n",
        "\n",
        "fig.show()\n",
        "\n",
        "fig = px.bar(\n",
        "    b.dropna(),\n",
        "    x= \"price\",\n",
        "    y=\t\"name\",\n",
        "    text='price',\n",
        "    template=\"ggplot2\"\n",
        ")\n",
        "fig.update_layout(title_text='top 5 cheap toner', title_x=0.5)\n",
        "fig.update_traces(marker_color= \"blue\")\n",
        "fig.update_layout(font_color=\"blue\",title_font_color=\"blue\",legend_title_font_color=\"blue\")\n",
        "\n",
        "fig.show()\n"
      ],
      "metadata": {
        "colab": {
          "base_uri": "https://localhost:8080/",
          "height": 1000
        },
        "id": "TFGjOF2WfV2G",
        "outputId": "f9f76e13-b743-478d-a892-2aabf6fa4fa2"
      },
      "execution_count": 32,
      "outputs": [
        {
          "output_type": "display_data",
          "data": {
            "text/html": [
              "<html>\n",
              "<head><meta charset=\"utf-8\" /></head>\n",
              "<body>\n",
              "    <div>            <script src=\"https://cdnjs.cloudflare.com/ajax/libs/mathjax/2.7.5/MathJax.js?config=TeX-AMS-MML_SVG\"></script><script type=\"text/javascript\">if (window.MathJax) {MathJax.Hub.Config({SVG: {font: \"STIX-Web\"}});}</script>                <script type=\"text/javascript\">window.PlotlyConfig = {MathJaxConfig: 'local'};</script>\n",
              "        <script src=\"https://cdn.plot.ly/plotly-2.8.3.min.js\"></script>                <div id=\"a5ec427a-c694-48a1-bffb-5cb09a58df34\" class=\"plotly-graph-div\" style=\"height:525px; width:100%;\"></div>            <script type=\"text/javascript\">                                    window.PLOTLYENV=window.PLOTLYENV || {};                                    if (document.getElementById(\"a5ec427a-c694-48a1-bffb-5cb09a58df34\")) {                    Plotly.newPlot(                        \"a5ec427a-c694-48a1-bffb-5cb09a58df34\",                        [{\"alignmentgroup\":\"True\",\"hovertemplate\":\"price=%{text}<br>name=%{y}<extra></extra>\",\"legendgroup\":\"\",\"marker\":{\"color\":\"#F8766D\",\"pattern\":{\"shape\":\"\"}},\"name\":\"\",\"offsetgroup\":\"\",\"orientation\":\"h\",\"showlegend\":false,\"text\":[180.0,160.0,156.0,155.0,150.0],\"textposition\":\"auto\",\"x\":[180.0,160.0,156.0,155.0,150.0],\"xaxis\":\"x\",\"y\":[\"decort\\u00e9 vi-fusion essence fluid serum 2.5oz\",\"elemis pro-collagen marine moisture essence supersize 200ml\",\"lancer instant brightening booster 50ml\",\"omorovicza elemental emulsion 50ml\",\"gentlemen's tonic advanced derma care time control solution 30ml\"],\"yaxis\":\"y\",\"type\":\"bar\"}],                        {\"template\":{\"data\":{\"barpolar\":[{\"marker\":{\"line\":{\"color\":\"rgb(237,237,237)\",\"width\":0.5},\"pattern\":{\"fillmode\":\"overlay\",\"size\":10,\"solidity\":0.2}},\"type\":\"barpolar\"}],\"bar\":[{\"error_x\":{\"color\":\"rgb(51,51,51)\"},\"error_y\":{\"color\":\"rgb(51,51,51)\"},\"marker\":{\"line\":{\"color\":\"rgb(237,237,237)\",\"width\":0.5},\"pattern\":{\"fillmode\":\"overlay\",\"size\":10,\"solidity\":0.2}},\"type\":\"bar\"}],\"carpet\":[{\"aaxis\":{\"endlinecolor\":\"rgb(51,51,51)\",\"gridcolor\":\"white\",\"linecolor\":\"white\",\"minorgridcolor\":\"white\",\"startlinecolor\":\"rgb(51,51,51)\"},\"baxis\":{\"endlinecolor\":\"rgb(51,51,51)\",\"gridcolor\":\"white\",\"linecolor\":\"white\",\"minorgridcolor\":\"white\",\"startlinecolor\":\"rgb(51,51,51)\"},\"type\":\"carpet\"}],\"choropleth\":[{\"colorbar\":{\"outlinewidth\":0,\"tickcolor\":\"rgb(237,237,237)\",\"ticklen\":6,\"ticks\":\"inside\"},\"type\":\"choropleth\"}],\"contourcarpet\":[{\"colorbar\":{\"outlinewidth\":0,\"tickcolor\":\"rgb(237,237,237)\",\"ticklen\":6,\"ticks\":\"inside\"},\"type\":\"contourcarpet\"}],\"contour\":[{\"colorbar\":{\"outlinewidth\":0,\"tickcolor\":\"rgb(237,237,237)\",\"ticklen\":6,\"ticks\":\"inside\"},\"colorscale\":[[0,\"rgb(20,44,66)\"],[1,\"rgb(90,179,244)\"]],\"type\":\"contour\"}],\"heatmapgl\":[{\"colorbar\":{\"outlinewidth\":0,\"tickcolor\":\"rgb(237,237,237)\",\"ticklen\":6,\"ticks\":\"inside\"},\"colorscale\":[[0,\"rgb(20,44,66)\"],[1,\"rgb(90,179,244)\"]],\"type\":\"heatmapgl\"}],\"heatmap\":[{\"colorbar\":{\"outlinewidth\":0,\"tickcolor\":\"rgb(237,237,237)\",\"ticklen\":6,\"ticks\":\"inside\"},\"colorscale\":[[0,\"rgb(20,44,66)\"],[1,\"rgb(90,179,244)\"]],\"type\":\"heatmap\"}],\"histogram2dcontour\":[{\"colorbar\":{\"outlinewidth\":0,\"tickcolor\":\"rgb(237,237,237)\",\"ticklen\":6,\"ticks\":\"inside\"},\"colorscale\":[[0,\"rgb(20,44,66)\"],[1,\"rgb(90,179,244)\"]],\"type\":\"histogram2dcontour\"}],\"histogram2d\":[{\"colorbar\":{\"outlinewidth\":0,\"tickcolor\":\"rgb(237,237,237)\",\"ticklen\":6,\"ticks\":\"inside\"},\"colorscale\":[[0,\"rgb(20,44,66)\"],[1,\"rgb(90,179,244)\"]],\"type\":\"histogram2d\"}],\"histogram\":[{\"marker\":{\"pattern\":{\"fillmode\":\"overlay\",\"size\":10,\"solidity\":0.2}},\"type\":\"histogram\"}],\"mesh3d\":[{\"colorbar\":{\"outlinewidth\":0,\"tickcolor\":\"rgb(237,237,237)\",\"ticklen\":6,\"ticks\":\"inside\"},\"type\":\"mesh3d\"}],\"parcoords\":[{\"line\":{\"colorbar\":{\"outlinewidth\":0,\"tickcolor\":\"rgb(237,237,237)\",\"ticklen\":6,\"ticks\":\"inside\"}},\"type\":\"parcoords\"}],\"pie\":[{\"automargin\":true,\"type\":\"pie\"}],\"scatter3d\":[{\"line\":{\"colorbar\":{\"outlinewidth\":0,\"tickcolor\":\"rgb(237,237,237)\",\"ticklen\":6,\"ticks\":\"inside\"}},\"marker\":{\"colorbar\":{\"outlinewidth\":0,\"tickcolor\":\"rgb(237,237,237)\",\"ticklen\":6,\"ticks\":\"inside\"}},\"type\":\"scatter3d\"}],\"scattercarpet\":[{\"marker\":{\"colorbar\":{\"outlinewidth\":0,\"tickcolor\":\"rgb(237,237,237)\",\"ticklen\":6,\"ticks\":\"inside\"}},\"type\":\"scattercarpet\"}],\"scattergeo\":[{\"marker\":{\"colorbar\":{\"outlinewidth\":0,\"tickcolor\":\"rgb(237,237,237)\",\"ticklen\":6,\"ticks\":\"inside\"}},\"type\":\"scattergeo\"}],\"scattergl\":[{\"marker\":{\"colorbar\":{\"outlinewidth\":0,\"tickcolor\":\"rgb(237,237,237)\",\"ticklen\":6,\"ticks\":\"inside\"}},\"type\":\"scattergl\"}],\"scattermapbox\":[{\"marker\":{\"colorbar\":{\"outlinewidth\":0,\"tickcolor\":\"rgb(237,237,237)\",\"ticklen\":6,\"ticks\":\"inside\"}},\"type\":\"scattermapbox\"}],\"scatterpolargl\":[{\"marker\":{\"colorbar\":{\"outlinewidth\":0,\"tickcolor\":\"rgb(237,237,237)\",\"ticklen\":6,\"ticks\":\"inside\"}},\"type\":\"scatterpolargl\"}],\"scatterpolar\":[{\"marker\":{\"colorbar\":{\"outlinewidth\":0,\"tickcolor\":\"rgb(237,237,237)\",\"ticklen\":6,\"ticks\":\"inside\"}},\"type\":\"scatterpolar\"}],\"scatter\":[{\"marker\":{\"colorbar\":{\"outlinewidth\":0,\"tickcolor\":\"rgb(237,237,237)\",\"ticklen\":6,\"ticks\":\"inside\"}},\"type\":\"scatter\"}],\"scatterternary\":[{\"marker\":{\"colorbar\":{\"outlinewidth\":0,\"tickcolor\":\"rgb(237,237,237)\",\"ticklen\":6,\"ticks\":\"inside\"}},\"type\":\"scatterternary\"}],\"surface\":[{\"colorbar\":{\"outlinewidth\":0,\"tickcolor\":\"rgb(237,237,237)\",\"ticklen\":6,\"ticks\":\"inside\"},\"colorscale\":[[0,\"rgb(20,44,66)\"],[1,\"rgb(90,179,244)\"]],\"type\":\"surface\"}],\"table\":[{\"cells\":{\"fill\":{\"color\":\"rgb(237,237,237)\"},\"line\":{\"color\":\"white\"}},\"header\":{\"fill\":{\"color\":\"rgb(217,217,217)\"},\"line\":{\"color\":\"white\"}},\"type\":\"table\"}]},\"layout\":{\"annotationdefaults\":{\"arrowhead\":0,\"arrowwidth\":1},\"autotypenumbers\":\"strict\",\"coloraxis\":{\"colorbar\":{\"outlinewidth\":0,\"tickcolor\":\"rgb(237,237,237)\",\"ticklen\":6,\"ticks\":\"inside\"}},\"colorscale\":{\"sequential\":[[0,\"rgb(20,44,66)\"],[1,\"rgb(90,179,244)\"]],\"sequentialminus\":[[0,\"rgb(20,44,66)\"],[1,\"rgb(90,179,244)\"]]},\"colorway\":[\"#F8766D\",\"#A3A500\",\"#00BF7D\",\"#00B0F6\",\"#E76BF3\"],\"font\":{\"color\":\"rgb(51,51,51)\"},\"geo\":{\"bgcolor\":\"white\",\"lakecolor\":\"white\",\"landcolor\":\"rgb(237,237,237)\",\"showlakes\":true,\"showland\":true,\"subunitcolor\":\"white\"},\"hoverlabel\":{\"align\":\"left\"},\"hovermode\":\"closest\",\"paper_bgcolor\":\"white\",\"plot_bgcolor\":\"rgb(237,237,237)\",\"polar\":{\"angularaxis\":{\"gridcolor\":\"white\",\"linecolor\":\"white\",\"showgrid\":true,\"tickcolor\":\"rgb(51,51,51)\",\"ticks\":\"outside\"},\"bgcolor\":\"rgb(237,237,237)\",\"radialaxis\":{\"gridcolor\":\"white\",\"linecolor\":\"white\",\"showgrid\":true,\"tickcolor\":\"rgb(51,51,51)\",\"ticks\":\"outside\"}},\"scene\":{\"xaxis\":{\"backgroundcolor\":\"rgb(237,237,237)\",\"gridcolor\":\"white\",\"gridwidth\":2,\"linecolor\":\"white\",\"showbackground\":true,\"showgrid\":true,\"tickcolor\":\"rgb(51,51,51)\",\"ticks\":\"outside\",\"zerolinecolor\":\"white\"},\"yaxis\":{\"backgroundcolor\":\"rgb(237,237,237)\",\"gridcolor\":\"white\",\"gridwidth\":2,\"linecolor\":\"white\",\"showbackground\":true,\"showgrid\":true,\"tickcolor\":\"rgb(51,51,51)\",\"ticks\":\"outside\",\"zerolinecolor\":\"white\"},\"zaxis\":{\"backgroundcolor\":\"rgb(237,237,237)\",\"gridcolor\":\"white\",\"gridwidth\":2,\"linecolor\":\"white\",\"showbackground\":true,\"showgrid\":true,\"tickcolor\":\"rgb(51,51,51)\",\"ticks\":\"outside\",\"zerolinecolor\":\"white\"}},\"shapedefaults\":{\"fillcolor\":\"black\",\"line\":{\"width\":0},\"opacity\":0.3},\"ternary\":{\"aaxis\":{\"gridcolor\":\"white\",\"linecolor\":\"white\",\"showgrid\":true,\"tickcolor\":\"rgb(51,51,51)\",\"ticks\":\"outside\"},\"baxis\":{\"gridcolor\":\"white\",\"linecolor\":\"white\",\"showgrid\":true,\"tickcolor\":\"rgb(51,51,51)\",\"ticks\":\"outside\"},\"bgcolor\":\"rgb(237,237,237)\",\"caxis\":{\"gridcolor\":\"white\",\"linecolor\":\"white\",\"showgrid\":true,\"tickcolor\":\"rgb(51,51,51)\",\"ticks\":\"outside\"}},\"xaxis\":{\"automargin\":true,\"gridcolor\":\"white\",\"linecolor\":\"white\",\"showgrid\":true,\"tickcolor\":\"rgb(51,51,51)\",\"ticks\":\"outside\",\"title\":{\"standoff\":15},\"zerolinecolor\":\"white\"},\"yaxis\":{\"automargin\":true,\"gridcolor\":\"white\",\"linecolor\":\"white\",\"showgrid\":true,\"tickcolor\":\"rgb(51,51,51)\",\"ticks\":\"outside\",\"title\":{\"standoff\":15},\"zerolinecolor\":\"white\"}}},\"xaxis\":{\"anchor\":\"y\",\"domain\":[0.0,1.0],\"title\":{\"text\":\"price\"}},\"yaxis\":{\"anchor\":\"x\",\"domain\":[0.0,1.0],\"title\":{\"text\":\"name\"}},\"legend\":{\"tracegroupgap\":0},\"margin\":{\"t\":60},\"barmode\":\"relative\",\"title\":{\"text\":\"top 5 expensive toner\",\"x\":0.5}},                        {\"responsive\": true}                    ).then(function(){\n",
              "                            \n",
              "var gd = document.getElementById('a5ec427a-c694-48a1-bffb-5cb09a58df34');\n",
              "var x = new MutationObserver(function (mutations, observer) {{\n",
              "        var display = window.getComputedStyle(gd).display;\n",
              "        if (!display || display === 'none') {{\n",
              "            console.log([gd, 'removed!']);\n",
              "            Plotly.purge(gd);\n",
              "            observer.disconnect();\n",
              "        }}\n",
              "}});\n",
              "\n",
              "// Listen for the removal of the full notebook cells\n",
              "var notebookContainer = gd.closest('#notebook-container');\n",
              "if (notebookContainer) {{\n",
              "    x.observe(notebookContainer, {childList: true});\n",
              "}}\n",
              "\n",
              "// Listen for the clearing of the current output cell\n",
              "var outputEl = gd.closest('.output');\n",
              "if (outputEl) {{\n",
              "    x.observe(outputEl, {childList: true});\n",
              "}}\n",
              "\n",
              "                        })                };                            </script>        </div>\n",
              "</body>\n",
              "</html>"
            ]
          },
          "metadata": {}
        },
        {
          "output_type": "display_data",
          "data": {
            "text/html": [
              "<html>\n",
              "<head><meta charset=\"utf-8\" /></head>\n",
              "<body>\n",
              "    <div>            <script src=\"https://cdnjs.cloudflare.com/ajax/libs/mathjax/2.7.5/MathJax.js?config=TeX-AMS-MML_SVG\"></script><script type=\"text/javascript\">if (window.MathJax) {MathJax.Hub.Config({SVG: {font: \"STIX-Web\"}});}</script>                <script type=\"text/javascript\">window.PlotlyConfig = {MathJaxConfig: 'local'};</script>\n",
              "        <script src=\"https://cdn.plot.ly/plotly-2.8.3.min.js\"></script>                <div id=\"6ec046ef-3b11-4aad-886b-528488621404\" class=\"plotly-graph-div\" style=\"height:525px; width:100%;\"></div>            <script type=\"text/javascript\">                                    window.PLOTLYENV=window.PLOTLYENV || {};                                    if (document.getElementById(\"6ec046ef-3b11-4aad-886b-528488621404\")) {                    Plotly.newPlot(                        \"6ec046ef-3b11-4aad-886b-528488621404\",                        [{\"alignmentgroup\":\"True\",\"hovertemplate\":\"price=%{text}<br>name=%{y}<extra></extra>\",\"legendgroup\":\"\",\"marker\":{\"color\":\"blue\",\"pattern\":{\"shape\":\"\"}},\"name\":\"\",\"offsetgroup\":\"\",\"orientation\":\"h\",\"showlegend\":false,\"text\":[4.9,5.1,6.9,7.0,8.3],\"textposition\":\"auto\",\"x\":[4.9,5.1,6.9,7.0,8.3],\"xaxis\":\"x\",\"y\":[\"garnier natural rose water toner for sensitive skin 200ml\",\"simple kind to skin facial toner soothing 200ml\",\"garnier pure active anti blemish clarifying tonic sensitive skin 200ml\",\"revolution skincare hyaluronic essence spray\",\"revolution skincare cbd essence spray 100ml\"],\"yaxis\":\"y\",\"type\":\"bar\"}],                        {\"template\":{\"data\":{\"barpolar\":[{\"marker\":{\"line\":{\"color\":\"rgb(237,237,237)\",\"width\":0.5},\"pattern\":{\"fillmode\":\"overlay\",\"size\":10,\"solidity\":0.2}},\"type\":\"barpolar\"}],\"bar\":[{\"error_x\":{\"color\":\"rgb(51,51,51)\"},\"error_y\":{\"color\":\"rgb(51,51,51)\"},\"marker\":{\"line\":{\"color\":\"rgb(237,237,237)\",\"width\":0.5},\"pattern\":{\"fillmode\":\"overlay\",\"size\":10,\"solidity\":0.2}},\"type\":\"bar\"}],\"carpet\":[{\"aaxis\":{\"endlinecolor\":\"rgb(51,51,51)\",\"gridcolor\":\"white\",\"linecolor\":\"white\",\"minorgridcolor\":\"white\",\"startlinecolor\":\"rgb(51,51,51)\"},\"baxis\":{\"endlinecolor\":\"rgb(51,51,51)\",\"gridcolor\":\"white\",\"linecolor\":\"white\",\"minorgridcolor\":\"white\",\"startlinecolor\":\"rgb(51,51,51)\"},\"type\":\"carpet\"}],\"choropleth\":[{\"colorbar\":{\"outlinewidth\":0,\"tickcolor\":\"rgb(237,237,237)\",\"ticklen\":6,\"ticks\":\"inside\"},\"type\":\"choropleth\"}],\"contourcarpet\":[{\"colorbar\":{\"outlinewidth\":0,\"tickcolor\":\"rgb(237,237,237)\",\"ticklen\":6,\"ticks\":\"inside\"},\"type\":\"contourcarpet\"}],\"contour\":[{\"colorbar\":{\"outlinewidth\":0,\"tickcolor\":\"rgb(237,237,237)\",\"ticklen\":6,\"ticks\":\"inside\"},\"colorscale\":[[0,\"rgb(20,44,66)\"],[1,\"rgb(90,179,244)\"]],\"type\":\"contour\"}],\"heatmapgl\":[{\"colorbar\":{\"outlinewidth\":0,\"tickcolor\":\"rgb(237,237,237)\",\"ticklen\":6,\"ticks\":\"inside\"},\"colorscale\":[[0,\"rgb(20,44,66)\"],[1,\"rgb(90,179,244)\"]],\"type\":\"heatmapgl\"}],\"heatmap\":[{\"colorbar\":{\"outlinewidth\":0,\"tickcolor\":\"rgb(237,237,237)\",\"ticklen\":6,\"ticks\":\"inside\"},\"colorscale\":[[0,\"rgb(20,44,66)\"],[1,\"rgb(90,179,244)\"]],\"type\":\"heatmap\"}],\"histogram2dcontour\":[{\"colorbar\":{\"outlinewidth\":0,\"tickcolor\":\"rgb(237,237,237)\",\"ticklen\":6,\"ticks\":\"inside\"},\"colorscale\":[[0,\"rgb(20,44,66)\"],[1,\"rgb(90,179,244)\"]],\"type\":\"histogram2dcontour\"}],\"histogram2d\":[{\"colorbar\":{\"outlinewidth\":0,\"tickcolor\":\"rgb(237,237,237)\",\"ticklen\":6,\"ticks\":\"inside\"},\"colorscale\":[[0,\"rgb(20,44,66)\"],[1,\"rgb(90,179,244)\"]],\"type\":\"histogram2d\"}],\"histogram\":[{\"marker\":{\"pattern\":{\"fillmode\":\"overlay\",\"size\":10,\"solidity\":0.2}},\"type\":\"histogram\"}],\"mesh3d\":[{\"colorbar\":{\"outlinewidth\":0,\"tickcolor\":\"rgb(237,237,237)\",\"ticklen\":6,\"ticks\":\"inside\"},\"type\":\"mesh3d\"}],\"parcoords\":[{\"line\":{\"colorbar\":{\"outlinewidth\":0,\"tickcolor\":\"rgb(237,237,237)\",\"ticklen\":6,\"ticks\":\"inside\"}},\"type\":\"parcoords\"}],\"pie\":[{\"automargin\":true,\"type\":\"pie\"}],\"scatter3d\":[{\"line\":{\"colorbar\":{\"outlinewidth\":0,\"tickcolor\":\"rgb(237,237,237)\",\"ticklen\":6,\"ticks\":\"inside\"}},\"marker\":{\"colorbar\":{\"outlinewidth\":0,\"tickcolor\":\"rgb(237,237,237)\",\"ticklen\":6,\"ticks\":\"inside\"}},\"type\":\"scatter3d\"}],\"scattercarpet\":[{\"marker\":{\"colorbar\":{\"outlinewidth\":0,\"tickcolor\":\"rgb(237,237,237)\",\"ticklen\":6,\"ticks\":\"inside\"}},\"type\":\"scattercarpet\"}],\"scattergeo\":[{\"marker\":{\"colorbar\":{\"outlinewidth\":0,\"tickcolor\":\"rgb(237,237,237)\",\"ticklen\":6,\"ticks\":\"inside\"}},\"type\":\"scattergeo\"}],\"scattergl\":[{\"marker\":{\"colorbar\":{\"outlinewidth\":0,\"tickcolor\":\"rgb(237,237,237)\",\"ticklen\":6,\"ticks\":\"inside\"}},\"type\":\"scattergl\"}],\"scattermapbox\":[{\"marker\":{\"colorbar\":{\"outlinewidth\":0,\"tickcolor\":\"rgb(237,237,237)\",\"ticklen\":6,\"ticks\":\"inside\"}},\"type\":\"scattermapbox\"}],\"scatterpolargl\":[{\"marker\":{\"colorbar\":{\"outlinewidth\":0,\"tickcolor\":\"rgb(237,237,237)\",\"ticklen\":6,\"ticks\":\"inside\"}},\"type\":\"scatterpolargl\"}],\"scatterpolar\":[{\"marker\":{\"colorbar\":{\"outlinewidth\":0,\"tickcolor\":\"rgb(237,237,237)\",\"ticklen\":6,\"ticks\":\"inside\"}},\"type\":\"scatterpolar\"}],\"scatter\":[{\"marker\":{\"colorbar\":{\"outlinewidth\":0,\"tickcolor\":\"rgb(237,237,237)\",\"ticklen\":6,\"ticks\":\"inside\"}},\"type\":\"scatter\"}],\"scatterternary\":[{\"marker\":{\"colorbar\":{\"outlinewidth\":0,\"tickcolor\":\"rgb(237,237,237)\",\"ticklen\":6,\"ticks\":\"inside\"}},\"type\":\"scatterternary\"}],\"surface\":[{\"colorbar\":{\"outlinewidth\":0,\"tickcolor\":\"rgb(237,237,237)\",\"ticklen\":6,\"ticks\":\"inside\"},\"colorscale\":[[0,\"rgb(20,44,66)\"],[1,\"rgb(90,179,244)\"]],\"type\":\"surface\"}],\"table\":[{\"cells\":{\"fill\":{\"color\":\"rgb(237,237,237)\"},\"line\":{\"color\":\"white\"}},\"header\":{\"fill\":{\"color\":\"rgb(217,217,217)\"},\"line\":{\"color\":\"white\"}},\"type\":\"table\"}]},\"layout\":{\"annotationdefaults\":{\"arrowhead\":0,\"arrowwidth\":1},\"autotypenumbers\":\"strict\",\"coloraxis\":{\"colorbar\":{\"outlinewidth\":0,\"tickcolor\":\"rgb(237,237,237)\",\"ticklen\":6,\"ticks\":\"inside\"}},\"colorscale\":{\"sequential\":[[0,\"rgb(20,44,66)\"],[1,\"rgb(90,179,244)\"]],\"sequentialminus\":[[0,\"rgb(20,44,66)\"],[1,\"rgb(90,179,244)\"]]},\"colorway\":[\"#F8766D\",\"#A3A500\",\"#00BF7D\",\"#00B0F6\",\"#E76BF3\"],\"font\":{\"color\":\"rgb(51,51,51)\"},\"geo\":{\"bgcolor\":\"white\",\"lakecolor\":\"white\",\"landcolor\":\"rgb(237,237,237)\",\"showlakes\":true,\"showland\":true,\"subunitcolor\":\"white\"},\"hoverlabel\":{\"align\":\"left\"},\"hovermode\":\"closest\",\"paper_bgcolor\":\"white\",\"plot_bgcolor\":\"rgb(237,237,237)\",\"polar\":{\"angularaxis\":{\"gridcolor\":\"white\",\"linecolor\":\"white\",\"showgrid\":true,\"tickcolor\":\"rgb(51,51,51)\",\"ticks\":\"outside\"},\"bgcolor\":\"rgb(237,237,237)\",\"radialaxis\":{\"gridcolor\":\"white\",\"linecolor\":\"white\",\"showgrid\":true,\"tickcolor\":\"rgb(51,51,51)\",\"ticks\":\"outside\"}},\"scene\":{\"xaxis\":{\"backgroundcolor\":\"rgb(237,237,237)\",\"gridcolor\":\"white\",\"gridwidth\":2,\"linecolor\":\"white\",\"showbackground\":true,\"showgrid\":true,\"tickcolor\":\"rgb(51,51,51)\",\"ticks\":\"outside\",\"zerolinecolor\":\"white\"},\"yaxis\":{\"backgroundcolor\":\"rgb(237,237,237)\",\"gridcolor\":\"white\",\"gridwidth\":2,\"linecolor\":\"white\",\"showbackground\":true,\"showgrid\":true,\"tickcolor\":\"rgb(51,51,51)\",\"ticks\":\"outside\",\"zerolinecolor\":\"white\"},\"zaxis\":{\"backgroundcolor\":\"rgb(237,237,237)\",\"gridcolor\":\"white\",\"gridwidth\":2,\"linecolor\":\"white\",\"showbackground\":true,\"showgrid\":true,\"tickcolor\":\"rgb(51,51,51)\",\"ticks\":\"outside\",\"zerolinecolor\":\"white\"}},\"shapedefaults\":{\"fillcolor\":\"black\",\"line\":{\"width\":0},\"opacity\":0.3},\"ternary\":{\"aaxis\":{\"gridcolor\":\"white\",\"linecolor\":\"white\",\"showgrid\":true,\"tickcolor\":\"rgb(51,51,51)\",\"ticks\":\"outside\"},\"baxis\":{\"gridcolor\":\"white\",\"linecolor\":\"white\",\"showgrid\":true,\"tickcolor\":\"rgb(51,51,51)\",\"ticks\":\"outside\"},\"bgcolor\":\"rgb(237,237,237)\",\"caxis\":{\"gridcolor\":\"white\",\"linecolor\":\"white\",\"showgrid\":true,\"tickcolor\":\"rgb(51,51,51)\",\"ticks\":\"outside\"}},\"xaxis\":{\"automargin\":true,\"gridcolor\":\"white\",\"linecolor\":\"white\",\"showgrid\":true,\"tickcolor\":\"rgb(51,51,51)\",\"ticks\":\"outside\",\"title\":{\"standoff\":15},\"zerolinecolor\":\"white\"},\"yaxis\":{\"automargin\":true,\"gridcolor\":\"white\",\"linecolor\":\"white\",\"showgrid\":true,\"tickcolor\":\"rgb(51,51,51)\",\"ticks\":\"outside\",\"title\":{\"standoff\":15},\"zerolinecolor\":\"white\"}}},\"xaxis\":{\"anchor\":\"y\",\"domain\":[0.0,1.0],\"title\":{\"text\":\"price\"}},\"yaxis\":{\"anchor\":\"x\",\"domain\":[0.0,1.0],\"title\":{\"text\":\"name\"}},\"legend\":{\"tracegroupgap\":0,\"title\":{\"font\":{\"color\":\"blue\"}}},\"margin\":{\"t\":60},\"barmode\":\"relative\",\"title\":{\"text\":\"top 5 cheap toner\",\"x\":0.5,\"font\":{\"color\":\"blue\"}},\"font\":{\"color\":\"blue\"}},                        {\"responsive\": true}                    ).then(function(){\n",
              "                            \n",
              "var gd = document.getElementById('6ec046ef-3b11-4aad-886b-528488621404');\n",
              "var x = new MutationObserver(function (mutations, observer) {{\n",
              "        var display = window.getComputedStyle(gd).display;\n",
              "        if (!display || display === 'none') {{\n",
              "            console.log([gd, 'removed!']);\n",
              "            Plotly.purge(gd);\n",
              "            observer.disconnect();\n",
              "        }}\n",
              "}});\n",
              "\n",
              "// Listen for the removal of the full notebook cells\n",
              "var notebookContainer = gd.closest('#notebook-container');\n",
              "if (notebookContainer) {{\n",
              "    x.observe(notebookContainer, {childList: true});\n",
              "}}\n",
              "\n",
              "// Listen for the clearing of the current output cell\n",
              "var outputEl = gd.closest('.output');\n",
              "if (outputEl) {{\n",
              "    x.observe(outputEl, {childList: true});\n",
              "}}\n",
              "\n",
              "                        })                };                            </script>        </div>\n",
              "</body>\n",
              "</html>"
            ]
          },
          "metadata": {}
        }
      ]
    },
    {
      "cell_type": "markdown",
      "source": [
        "**Serum category**"
      ],
      "metadata": {
        "id": "NmDxuUlKBOio"
      }
    },
    {
      "cell_type": "code",
      "source": [
        "a=df_serum.nlargest(5, columns=['price'])\n",
        "b=df_serum.nsmallest(5, columns=['price'])"
      ],
      "metadata": {
        "id": "XkJdhj-tBTcu"
      },
      "execution_count": 33,
      "outputs": []
    },
    {
      "cell_type": "code",
      "source": [
        "fig = px.bar(\n",
        "    a.dropna(),\n",
        "    x= \"name\",\n",
        "    y=\t\"price\",\n",
        "    text='price'\n",
        ")\n",
        "\n",
        "fig.update_layout(title_text='top 5 expensive serum', title_x=0.5)\n",
        "fig.update_layout(font_color=\"gray\",title_font_color=\"gray\",legend_title_font_color=\"gray\")\n",
        "fig.show()\n",
        "\n",
        "fig = px.bar(\n",
        "    b.dropna(),\n",
        "    x= \"name\",\n",
        "    y=\t\"price\",\n",
        "    text='price'\n",
        ")\n",
        "fig.update_layout(title_text='top 5 cheap serum', title_x=0.5)\n",
        "fig.update_layout(font_color=\"black\",title_font_color=\"black\",legend_title_font_color=\"black\")\n",
        "\n",
        "fig.show()"
      ],
      "metadata": {
        "colab": {
          "base_uri": "https://localhost:8080/",
          "height": 1000
        },
        "outputId": "9241493f-0503-48e7-95c2-ab79c58bd930",
        "id": "6M0AKhsKBTcv"
      },
      "execution_count": 34,
      "outputs": [
        {
          "output_type": "display_data",
          "data": {
            "text/html": [
              "<html>\n",
              "<head><meta charset=\"utf-8\" /></head>\n",
              "<body>\n",
              "    <div>            <script src=\"https://cdnjs.cloudflare.com/ajax/libs/mathjax/2.7.5/MathJax.js?config=TeX-AMS-MML_SVG\"></script><script type=\"text/javascript\">if (window.MathJax) {MathJax.Hub.Config({SVG: {font: \"STIX-Web\"}});}</script>                <script type=\"text/javascript\">window.PlotlyConfig = {MathJaxConfig: 'local'};</script>\n",
              "        <script src=\"https://cdn.plot.ly/plotly-2.8.3.min.js\"></script>                <div id=\"d7a9cc67-b643-4fee-a0aa-c2b2b1f48379\" class=\"plotly-graph-div\" style=\"height:525px; width:100%;\"></div>            <script type=\"text/javascript\">                                    window.PLOTLYENV=window.PLOTLYENV || {};                                    if (document.getElementById(\"d7a9cc67-b643-4fee-a0aa-c2b2b1f48379\")) {                    Plotly.newPlot(                        \"d7a9cc67-b643-4fee-a0aa-c2b2b1f48379\",                        [{\"alignmentgroup\":\"True\",\"hovertemplate\":\"name=%{x}<br>price=%{text}<extra></extra>\",\"legendgroup\":\"\",\"marker\":{\"color\":\"#636efa\",\"pattern\":{\"shape\":\"\"}},\"name\":\"\",\"offsetgroup\":\"\",\"orientation\":\"v\",\"showlegend\":false,\"text\":[600.0,485.0,440.0,386.4,375.0],\"textposition\":\"auto\",\"x\":[\"111skin celestial black diamond serum 1.01 oz\",\"r\\u00e9vive intensit\\u00e9 complete anti-aging serum 30ml\",\"mila moursi lifting serum 1 fl. oz\",\"skinpointeight age-adapt\\u00ae night concentrate 30ml\",\"mz skin brighten & perfect 10% vitamin c corrective serum 30ml\"],\"xaxis\":\"x\",\"y\":[600.0,485.0,440.0,386.4,375.0],\"yaxis\":\"y\",\"type\":\"bar\"}],                        {\"template\":{\"data\":{\"bar\":[{\"error_x\":{\"color\":\"#2a3f5f\"},\"error_y\":{\"color\":\"#2a3f5f\"},\"marker\":{\"line\":{\"color\":\"#E5ECF6\",\"width\":0.5},\"pattern\":{\"fillmode\":\"overlay\",\"size\":10,\"solidity\":0.2}},\"type\":\"bar\"}],\"barpolar\":[{\"marker\":{\"line\":{\"color\":\"#E5ECF6\",\"width\":0.5},\"pattern\":{\"fillmode\":\"overlay\",\"size\":10,\"solidity\":0.2}},\"type\":\"barpolar\"}],\"carpet\":[{\"aaxis\":{\"endlinecolor\":\"#2a3f5f\",\"gridcolor\":\"white\",\"linecolor\":\"white\",\"minorgridcolor\":\"white\",\"startlinecolor\":\"#2a3f5f\"},\"baxis\":{\"endlinecolor\":\"#2a3f5f\",\"gridcolor\":\"white\",\"linecolor\":\"white\",\"minorgridcolor\":\"white\",\"startlinecolor\":\"#2a3f5f\"},\"type\":\"carpet\"}],\"choropleth\":[{\"colorbar\":{\"outlinewidth\":0,\"ticks\":\"\"},\"type\":\"choropleth\"}],\"contour\":[{\"colorbar\":{\"outlinewidth\":0,\"ticks\":\"\"},\"colorscale\":[[0.0,\"#0d0887\"],[0.1111111111111111,\"#46039f\"],[0.2222222222222222,\"#7201a8\"],[0.3333333333333333,\"#9c179e\"],[0.4444444444444444,\"#bd3786\"],[0.5555555555555556,\"#d8576b\"],[0.6666666666666666,\"#ed7953\"],[0.7777777777777778,\"#fb9f3a\"],[0.8888888888888888,\"#fdca26\"],[1.0,\"#f0f921\"]],\"type\":\"contour\"}],\"contourcarpet\":[{\"colorbar\":{\"outlinewidth\":0,\"ticks\":\"\"},\"type\":\"contourcarpet\"}],\"heatmap\":[{\"colorbar\":{\"outlinewidth\":0,\"ticks\":\"\"},\"colorscale\":[[0.0,\"#0d0887\"],[0.1111111111111111,\"#46039f\"],[0.2222222222222222,\"#7201a8\"],[0.3333333333333333,\"#9c179e\"],[0.4444444444444444,\"#bd3786\"],[0.5555555555555556,\"#d8576b\"],[0.6666666666666666,\"#ed7953\"],[0.7777777777777778,\"#fb9f3a\"],[0.8888888888888888,\"#fdca26\"],[1.0,\"#f0f921\"]],\"type\":\"heatmap\"}],\"heatmapgl\":[{\"colorbar\":{\"outlinewidth\":0,\"ticks\":\"\"},\"colorscale\":[[0.0,\"#0d0887\"],[0.1111111111111111,\"#46039f\"],[0.2222222222222222,\"#7201a8\"],[0.3333333333333333,\"#9c179e\"],[0.4444444444444444,\"#bd3786\"],[0.5555555555555556,\"#d8576b\"],[0.6666666666666666,\"#ed7953\"],[0.7777777777777778,\"#fb9f3a\"],[0.8888888888888888,\"#fdca26\"],[1.0,\"#f0f921\"]],\"type\":\"heatmapgl\"}],\"histogram\":[{\"marker\":{\"pattern\":{\"fillmode\":\"overlay\",\"size\":10,\"solidity\":0.2}},\"type\":\"histogram\"}],\"histogram2d\":[{\"colorbar\":{\"outlinewidth\":0,\"ticks\":\"\"},\"colorscale\":[[0.0,\"#0d0887\"],[0.1111111111111111,\"#46039f\"],[0.2222222222222222,\"#7201a8\"],[0.3333333333333333,\"#9c179e\"],[0.4444444444444444,\"#bd3786\"],[0.5555555555555556,\"#d8576b\"],[0.6666666666666666,\"#ed7953\"],[0.7777777777777778,\"#fb9f3a\"],[0.8888888888888888,\"#fdca26\"],[1.0,\"#f0f921\"]],\"type\":\"histogram2d\"}],\"histogram2dcontour\":[{\"colorbar\":{\"outlinewidth\":0,\"ticks\":\"\"},\"colorscale\":[[0.0,\"#0d0887\"],[0.1111111111111111,\"#46039f\"],[0.2222222222222222,\"#7201a8\"],[0.3333333333333333,\"#9c179e\"],[0.4444444444444444,\"#bd3786\"],[0.5555555555555556,\"#d8576b\"],[0.6666666666666666,\"#ed7953\"],[0.7777777777777778,\"#fb9f3a\"],[0.8888888888888888,\"#fdca26\"],[1.0,\"#f0f921\"]],\"type\":\"histogram2dcontour\"}],\"mesh3d\":[{\"colorbar\":{\"outlinewidth\":0,\"ticks\":\"\"},\"type\":\"mesh3d\"}],\"parcoords\":[{\"line\":{\"colorbar\":{\"outlinewidth\":0,\"ticks\":\"\"}},\"type\":\"parcoords\"}],\"pie\":[{\"automargin\":true,\"type\":\"pie\"}],\"scatter\":[{\"marker\":{\"colorbar\":{\"outlinewidth\":0,\"ticks\":\"\"}},\"type\":\"scatter\"}],\"scatter3d\":[{\"line\":{\"colorbar\":{\"outlinewidth\":0,\"ticks\":\"\"}},\"marker\":{\"colorbar\":{\"outlinewidth\":0,\"ticks\":\"\"}},\"type\":\"scatter3d\"}],\"scattercarpet\":[{\"marker\":{\"colorbar\":{\"outlinewidth\":0,\"ticks\":\"\"}},\"type\":\"scattercarpet\"}],\"scattergeo\":[{\"marker\":{\"colorbar\":{\"outlinewidth\":0,\"ticks\":\"\"}},\"type\":\"scattergeo\"}],\"scattergl\":[{\"marker\":{\"colorbar\":{\"outlinewidth\":0,\"ticks\":\"\"}},\"type\":\"scattergl\"}],\"scattermapbox\":[{\"marker\":{\"colorbar\":{\"outlinewidth\":0,\"ticks\":\"\"}},\"type\":\"scattermapbox\"}],\"scatterpolar\":[{\"marker\":{\"colorbar\":{\"outlinewidth\":0,\"ticks\":\"\"}},\"type\":\"scatterpolar\"}],\"scatterpolargl\":[{\"marker\":{\"colorbar\":{\"outlinewidth\":0,\"ticks\":\"\"}},\"type\":\"scatterpolargl\"}],\"scatterternary\":[{\"marker\":{\"colorbar\":{\"outlinewidth\":0,\"ticks\":\"\"}},\"type\":\"scatterternary\"}],\"surface\":[{\"colorbar\":{\"outlinewidth\":0,\"ticks\":\"\"},\"colorscale\":[[0.0,\"#0d0887\"],[0.1111111111111111,\"#46039f\"],[0.2222222222222222,\"#7201a8\"],[0.3333333333333333,\"#9c179e\"],[0.4444444444444444,\"#bd3786\"],[0.5555555555555556,\"#d8576b\"],[0.6666666666666666,\"#ed7953\"],[0.7777777777777778,\"#fb9f3a\"],[0.8888888888888888,\"#fdca26\"],[1.0,\"#f0f921\"]],\"type\":\"surface\"}],\"table\":[{\"cells\":{\"fill\":{\"color\":\"#EBF0F8\"},\"line\":{\"color\":\"white\"}},\"header\":{\"fill\":{\"color\":\"#C8D4E3\"},\"line\":{\"color\":\"white\"}},\"type\":\"table\"}]},\"layout\":{\"annotationdefaults\":{\"arrowcolor\":\"#2a3f5f\",\"arrowhead\":0,\"arrowwidth\":1},\"autotypenumbers\":\"strict\",\"coloraxis\":{\"colorbar\":{\"outlinewidth\":0,\"ticks\":\"\"}},\"colorscale\":{\"diverging\":[[0,\"#8e0152\"],[0.1,\"#c51b7d\"],[0.2,\"#de77ae\"],[0.3,\"#f1b6da\"],[0.4,\"#fde0ef\"],[0.5,\"#f7f7f7\"],[0.6,\"#e6f5d0\"],[0.7,\"#b8e186\"],[0.8,\"#7fbc41\"],[0.9,\"#4d9221\"],[1,\"#276419\"]],\"sequential\":[[0.0,\"#0d0887\"],[0.1111111111111111,\"#46039f\"],[0.2222222222222222,\"#7201a8\"],[0.3333333333333333,\"#9c179e\"],[0.4444444444444444,\"#bd3786\"],[0.5555555555555556,\"#d8576b\"],[0.6666666666666666,\"#ed7953\"],[0.7777777777777778,\"#fb9f3a\"],[0.8888888888888888,\"#fdca26\"],[1.0,\"#f0f921\"]],\"sequentialminus\":[[0.0,\"#0d0887\"],[0.1111111111111111,\"#46039f\"],[0.2222222222222222,\"#7201a8\"],[0.3333333333333333,\"#9c179e\"],[0.4444444444444444,\"#bd3786\"],[0.5555555555555556,\"#d8576b\"],[0.6666666666666666,\"#ed7953\"],[0.7777777777777778,\"#fb9f3a\"],[0.8888888888888888,\"#fdca26\"],[1.0,\"#f0f921\"]]},\"colorway\":[\"#636efa\",\"#EF553B\",\"#00cc96\",\"#ab63fa\",\"#FFA15A\",\"#19d3f3\",\"#FF6692\",\"#B6E880\",\"#FF97FF\",\"#FECB52\"],\"font\":{\"color\":\"#2a3f5f\"},\"geo\":{\"bgcolor\":\"white\",\"lakecolor\":\"white\",\"landcolor\":\"#E5ECF6\",\"showlakes\":true,\"showland\":true,\"subunitcolor\":\"white\"},\"hoverlabel\":{\"align\":\"left\"},\"hovermode\":\"closest\",\"mapbox\":{\"style\":\"light\"},\"paper_bgcolor\":\"white\",\"plot_bgcolor\":\"#E5ECF6\",\"polar\":{\"angularaxis\":{\"gridcolor\":\"white\",\"linecolor\":\"white\",\"ticks\":\"\"},\"bgcolor\":\"#E5ECF6\",\"radialaxis\":{\"gridcolor\":\"white\",\"linecolor\":\"white\",\"ticks\":\"\"}},\"scene\":{\"xaxis\":{\"backgroundcolor\":\"#E5ECF6\",\"gridcolor\":\"white\",\"gridwidth\":2,\"linecolor\":\"white\",\"showbackground\":true,\"ticks\":\"\",\"zerolinecolor\":\"white\"},\"yaxis\":{\"backgroundcolor\":\"#E5ECF6\",\"gridcolor\":\"white\",\"gridwidth\":2,\"linecolor\":\"white\",\"showbackground\":true,\"ticks\":\"\",\"zerolinecolor\":\"white\"},\"zaxis\":{\"backgroundcolor\":\"#E5ECF6\",\"gridcolor\":\"white\",\"gridwidth\":2,\"linecolor\":\"white\",\"showbackground\":true,\"ticks\":\"\",\"zerolinecolor\":\"white\"}},\"shapedefaults\":{\"line\":{\"color\":\"#2a3f5f\"}},\"ternary\":{\"aaxis\":{\"gridcolor\":\"white\",\"linecolor\":\"white\",\"ticks\":\"\"},\"baxis\":{\"gridcolor\":\"white\",\"linecolor\":\"white\",\"ticks\":\"\"},\"bgcolor\":\"#E5ECF6\",\"caxis\":{\"gridcolor\":\"white\",\"linecolor\":\"white\",\"ticks\":\"\"}},\"title\":{\"x\":0.05},\"xaxis\":{\"automargin\":true,\"gridcolor\":\"white\",\"linecolor\":\"white\",\"ticks\":\"\",\"title\":{\"standoff\":15},\"zerolinecolor\":\"white\",\"zerolinewidth\":2},\"yaxis\":{\"automargin\":true,\"gridcolor\":\"white\",\"linecolor\":\"white\",\"ticks\":\"\",\"title\":{\"standoff\":15},\"zerolinecolor\":\"white\",\"zerolinewidth\":2}}},\"xaxis\":{\"anchor\":\"y\",\"domain\":[0.0,1.0],\"title\":{\"text\":\"name\"}},\"yaxis\":{\"anchor\":\"x\",\"domain\":[0.0,1.0],\"title\":{\"text\":\"price\"}},\"legend\":{\"tracegroupgap\":0,\"title\":{\"font\":{\"color\":\"gray\"}}},\"margin\":{\"t\":60},\"barmode\":\"relative\",\"title\":{\"text\":\"top 5 expensive serum\",\"x\":0.5,\"font\":{\"color\":\"gray\"}},\"font\":{\"color\":\"gray\"}},                        {\"responsive\": true}                    ).then(function(){\n",
              "                            \n",
              "var gd = document.getElementById('d7a9cc67-b643-4fee-a0aa-c2b2b1f48379');\n",
              "var x = new MutationObserver(function (mutations, observer) {{\n",
              "        var display = window.getComputedStyle(gd).display;\n",
              "        if (!display || display === 'none') {{\n",
              "            console.log([gd, 'removed!']);\n",
              "            Plotly.purge(gd);\n",
              "            observer.disconnect();\n",
              "        }}\n",
              "}});\n",
              "\n",
              "// Listen for the removal of the full notebook cells\n",
              "var notebookContainer = gd.closest('#notebook-container');\n",
              "if (notebookContainer) {{\n",
              "    x.observe(notebookContainer, {childList: true});\n",
              "}}\n",
              "\n",
              "// Listen for the clearing of the current output cell\n",
              "var outputEl = gd.closest('.output');\n",
              "if (outputEl) {{\n",
              "    x.observe(outputEl, {childList: true});\n",
              "}}\n",
              "\n",
              "                        })                };                            </script>        </div>\n",
              "</body>\n",
              "</html>"
            ]
          },
          "metadata": {}
        },
        {
          "output_type": "display_data",
          "data": {
            "text/html": [
              "<html>\n",
              "<head><meta charset=\"utf-8\" /></head>\n",
              "<body>\n",
              "    <div>            <script src=\"https://cdnjs.cloudflare.com/ajax/libs/mathjax/2.7.5/MathJax.js?config=TeX-AMS-MML_SVG\"></script><script type=\"text/javascript\">if (window.MathJax) {MathJax.Hub.Config({SVG: {font: \"STIX-Web\"}});}</script>                <script type=\"text/javascript\">window.PlotlyConfig = {MathJaxConfig: 'local'};</script>\n",
              "        <script src=\"https://cdn.plot.ly/plotly-2.8.3.min.js\"></script>                <div id=\"e9025320-3199-4f66-8e39-3f2cb00393ba\" class=\"plotly-graph-div\" style=\"height:525px; width:100%;\"></div>            <script type=\"text/javascript\">                                    window.PLOTLYENV=window.PLOTLYENV || {};                                    if (document.getElementById(\"e9025320-3199-4f66-8e39-3f2cb00393ba\")) {                    Plotly.newPlot(                        \"e9025320-3199-4f66-8e39-3f2cb00393ba\",                        [{\"alignmentgroup\":\"True\",\"hovertemplate\":\"name=%{x}<br>price=%{text}<extra></extra>\",\"legendgroup\":\"\",\"marker\":{\"color\":\"#636efa\",\"pattern\":{\"shape\":\"\"}},\"name\":\"\",\"offsetgroup\":\"\",\"orientation\":\"v\",\"showlegend\":false,\"text\":[5.8,6.5,6.5,7.0,7.1],\"textposition\":\"auto\",\"x\":[\"the ordinary 100% niacinamide powder 20g\",\"the ordinary niacinamide 10% + zinc 1% 30ml\",\"the ordinary niacinamide 10% + zinc 1% 30ml\",\"revolution skincare blemish and pore refining serum - 10% niacinamide + 1% zinc\",\"the ordinary salicylic acid 2% solution 30ml\"],\"xaxis\":\"x\",\"y\":[5.8,6.5,6.5,7.0,7.1],\"yaxis\":\"y\",\"type\":\"bar\"}],                        {\"template\":{\"data\":{\"bar\":[{\"error_x\":{\"color\":\"#2a3f5f\"},\"error_y\":{\"color\":\"#2a3f5f\"},\"marker\":{\"line\":{\"color\":\"#E5ECF6\",\"width\":0.5},\"pattern\":{\"fillmode\":\"overlay\",\"size\":10,\"solidity\":0.2}},\"type\":\"bar\"}],\"barpolar\":[{\"marker\":{\"line\":{\"color\":\"#E5ECF6\",\"width\":0.5},\"pattern\":{\"fillmode\":\"overlay\",\"size\":10,\"solidity\":0.2}},\"type\":\"barpolar\"}],\"carpet\":[{\"aaxis\":{\"endlinecolor\":\"#2a3f5f\",\"gridcolor\":\"white\",\"linecolor\":\"white\",\"minorgridcolor\":\"white\",\"startlinecolor\":\"#2a3f5f\"},\"baxis\":{\"endlinecolor\":\"#2a3f5f\",\"gridcolor\":\"white\",\"linecolor\":\"white\",\"minorgridcolor\":\"white\",\"startlinecolor\":\"#2a3f5f\"},\"type\":\"carpet\"}],\"choropleth\":[{\"colorbar\":{\"outlinewidth\":0,\"ticks\":\"\"},\"type\":\"choropleth\"}],\"contour\":[{\"colorbar\":{\"outlinewidth\":0,\"ticks\":\"\"},\"colorscale\":[[0.0,\"#0d0887\"],[0.1111111111111111,\"#46039f\"],[0.2222222222222222,\"#7201a8\"],[0.3333333333333333,\"#9c179e\"],[0.4444444444444444,\"#bd3786\"],[0.5555555555555556,\"#d8576b\"],[0.6666666666666666,\"#ed7953\"],[0.7777777777777778,\"#fb9f3a\"],[0.8888888888888888,\"#fdca26\"],[1.0,\"#f0f921\"]],\"type\":\"contour\"}],\"contourcarpet\":[{\"colorbar\":{\"outlinewidth\":0,\"ticks\":\"\"},\"type\":\"contourcarpet\"}],\"heatmap\":[{\"colorbar\":{\"outlinewidth\":0,\"ticks\":\"\"},\"colorscale\":[[0.0,\"#0d0887\"],[0.1111111111111111,\"#46039f\"],[0.2222222222222222,\"#7201a8\"],[0.3333333333333333,\"#9c179e\"],[0.4444444444444444,\"#bd3786\"],[0.5555555555555556,\"#d8576b\"],[0.6666666666666666,\"#ed7953\"],[0.7777777777777778,\"#fb9f3a\"],[0.8888888888888888,\"#fdca26\"],[1.0,\"#f0f921\"]],\"type\":\"heatmap\"}],\"heatmapgl\":[{\"colorbar\":{\"outlinewidth\":0,\"ticks\":\"\"},\"colorscale\":[[0.0,\"#0d0887\"],[0.1111111111111111,\"#46039f\"],[0.2222222222222222,\"#7201a8\"],[0.3333333333333333,\"#9c179e\"],[0.4444444444444444,\"#bd3786\"],[0.5555555555555556,\"#d8576b\"],[0.6666666666666666,\"#ed7953\"],[0.7777777777777778,\"#fb9f3a\"],[0.8888888888888888,\"#fdca26\"],[1.0,\"#f0f921\"]],\"type\":\"heatmapgl\"}],\"histogram\":[{\"marker\":{\"pattern\":{\"fillmode\":\"overlay\",\"size\":10,\"solidity\":0.2}},\"type\":\"histogram\"}],\"histogram2d\":[{\"colorbar\":{\"outlinewidth\":0,\"ticks\":\"\"},\"colorscale\":[[0.0,\"#0d0887\"],[0.1111111111111111,\"#46039f\"],[0.2222222222222222,\"#7201a8\"],[0.3333333333333333,\"#9c179e\"],[0.4444444444444444,\"#bd3786\"],[0.5555555555555556,\"#d8576b\"],[0.6666666666666666,\"#ed7953\"],[0.7777777777777778,\"#fb9f3a\"],[0.8888888888888888,\"#fdca26\"],[1.0,\"#f0f921\"]],\"type\":\"histogram2d\"}],\"histogram2dcontour\":[{\"colorbar\":{\"outlinewidth\":0,\"ticks\":\"\"},\"colorscale\":[[0.0,\"#0d0887\"],[0.1111111111111111,\"#46039f\"],[0.2222222222222222,\"#7201a8\"],[0.3333333333333333,\"#9c179e\"],[0.4444444444444444,\"#bd3786\"],[0.5555555555555556,\"#d8576b\"],[0.6666666666666666,\"#ed7953\"],[0.7777777777777778,\"#fb9f3a\"],[0.8888888888888888,\"#fdca26\"],[1.0,\"#f0f921\"]],\"type\":\"histogram2dcontour\"}],\"mesh3d\":[{\"colorbar\":{\"outlinewidth\":0,\"ticks\":\"\"},\"type\":\"mesh3d\"}],\"parcoords\":[{\"line\":{\"colorbar\":{\"outlinewidth\":0,\"ticks\":\"\"}},\"type\":\"parcoords\"}],\"pie\":[{\"automargin\":true,\"type\":\"pie\"}],\"scatter\":[{\"marker\":{\"colorbar\":{\"outlinewidth\":0,\"ticks\":\"\"}},\"type\":\"scatter\"}],\"scatter3d\":[{\"line\":{\"colorbar\":{\"outlinewidth\":0,\"ticks\":\"\"}},\"marker\":{\"colorbar\":{\"outlinewidth\":0,\"ticks\":\"\"}},\"type\":\"scatter3d\"}],\"scattercarpet\":[{\"marker\":{\"colorbar\":{\"outlinewidth\":0,\"ticks\":\"\"}},\"type\":\"scattercarpet\"}],\"scattergeo\":[{\"marker\":{\"colorbar\":{\"outlinewidth\":0,\"ticks\":\"\"}},\"type\":\"scattergeo\"}],\"scattergl\":[{\"marker\":{\"colorbar\":{\"outlinewidth\":0,\"ticks\":\"\"}},\"type\":\"scattergl\"}],\"scattermapbox\":[{\"marker\":{\"colorbar\":{\"outlinewidth\":0,\"ticks\":\"\"}},\"type\":\"scattermapbox\"}],\"scatterpolar\":[{\"marker\":{\"colorbar\":{\"outlinewidth\":0,\"ticks\":\"\"}},\"type\":\"scatterpolar\"}],\"scatterpolargl\":[{\"marker\":{\"colorbar\":{\"outlinewidth\":0,\"ticks\":\"\"}},\"type\":\"scatterpolargl\"}],\"scatterternary\":[{\"marker\":{\"colorbar\":{\"outlinewidth\":0,\"ticks\":\"\"}},\"type\":\"scatterternary\"}],\"surface\":[{\"colorbar\":{\"outlinewidth\":0,\"ticks\":\"\"},\"colorscale\":[[0.0,\"#0d0887\"],[0.1111111111111111,\"#46039f\"],[0.2222222222222222,\"#7201a8\"],[0.3333333333333333,\"#9c179e\"],[0.4444444444444444,\"#bd3786\"],[0.5555555555555556,\"#d8576b\"],[0.6666666666666666,\"#ed7953\"],[0.7777777777777778,\"#fb9f3a\"],[0.8888888888888888,\"#fdca26\"],[1.0,\"#f0f921\"]],\"type\":\"surface\"}],\"table\":[{\"cells\":{\"fill\":{\"color\":\"#EBF0F8\"},\"line\":{\"color\":\"white\"}},\"header\":{\"fill\":{\"color\":\"#C8D4E3\"},\"line\":{\"color\":\"white\"}},\"type\":\"table\"}]},\"layout\":{\"annotationdefaults\":{\"arrowcolor\":\"#2a3f5f\",\"arrowhead\":0,\"arrowwidth\":1},\"autotypenumbers\":\"strict\",\"coloraxis\":{\"colorbar\":{\"outlinewidth\":0,\"ticks\":\"\"}},\"colorscale\":{\"diverging\":[[0,\"#8e0152\"],[0.1,\"#c51b7d\"],[0.2,\"#de77ae\"],[0.3,\"#f1b6da\"],[0.4,\"#fde0ef\"],[0.5,\"#f7f7f7\"],[0.6,\"#e6f5d0\"],[0.7,\"#b8e186\"],[0.8,\"#7fbc41\"],[0.9,\"#4d9221\"],[1,\"#276419\"]],\"sequential\":[[0.0,\"#0d0887\"],[0.1111111111111111,\"#46039f\"],[0.2222222222222222,\"#7201a8\"],[0.3333333333333333,\"#9c179e\"],[0.4444444444444444,\"#bd3786\"],[0.5555555555555556,\"#d8576b\"],[0.6666666666666666,\"#ed7953\"],[0.7777777777777778,\"#fb9f3a\"],[0.8888888888888888,\"#fdca26\"],[1.0,\"#f0f921\"]],\"sequentialminus\":[[0.0,\"#0d0887\"],[0.1111111111111111,\"#46039f\"],[0.2222222222222222,\"#7201a8\"],[0.3333333333333333,\"#9c179e\"],[0.4444444444444444,\"#bd3786\"],[0.5555555555555556,\"#d8576b\"],[0.6666666666666666,\"#ed7953\"],[0.7777777777777778,\"#fb9f3a\"],[0.8888888888888888,\"#fdca26\"],[1.0,\"#f0f921\"]]},\"colorway\":[\"#636efa\",\"#EF553B\",\"#00cc96\",\"#ab63fa\",\"#FFA15A\",\"#19d3f3\",\"#FF6692\",\"#B6E880\",\"#FF97FF\",\"#FECB52\"],\"font\":{\"color\":\"#2a3f5f\"},\"geo\":{\"bgcolor\":\"white\",\"lakecolor\":\"white\",\"landcolor\":\"#E5ECF6\",\"showlakes\":true,\"showland\":true,\"subunitcolor\":\"white\"},\"hoverlabel\":{\"align\":\"left\"},\"hovermode\":\"closest\",\"mapbox\":{\"style\":\"light\"},\"paper_bgcolor\":\"white\",\"plot_bgcolor\":\"#E5ECF6\",\"polar\":{\"angularaxis\":{\"gridcolor\":\"white\",\"linecolor\":\"white\",\"ticks\":\"\"},\"bgcolor\":\"#E5ECF6\",\"radialaxis\":{\"gridcolor\":\"white\",\"linecolor\":\"white\",\"ticks\":\"\"}},\"scene\":{\"xaxis\":{\"backgroundcolor\":\"#E5ECF6\",\"gridcolor\":\"white\",\"gridwidth\":2,\"linecolor\":\"white\",\"showbackground\":true,\"ticks\":\"\",\"zerolinecolor\":\"white\"},\"yaxis\":{\"backgroundcolor\":\"#E5ECF6\",\"gridcolor\":\"white\",\"gridwidth\":2,\"linecolor\":\"white\",\"showbackground\":true,\"ticks\":\"\",\"zerolinecolor\":\"white\"},\"zaxis\":{\"backgroundcolor\":\"#E5ECF6\",\"gridcolor\":\"white\",\"gridwidth\":2,\"linecolor\":\"white\",\"showbackground\":true,\"ticks\":\"\",\"zerolinecolor\":\"white\"}},\"shapedefaults\":{\"line\":{\"color\":\"#2a3f5f\"}},\"ternary\":{\"aaxis\":{\"gridcolor\":\"white\",\"linecolor\":\"white\",\"ticks\":\"\"},\"baxis\":{\"gridcolor\":\"white\",\"linecolor\":\"white\",\"ticks\":\"\"},\"bgcolor\":\"#E5ECF6\",\"caxis\":{\"gridcolor\":\"white\",\"linecolor\":\"white\",\"ticks\":\"\"}},\"title\":{\"x\":0.05},\"xaxis\":{\"automargin\":true,\"gridcolor\":\"white\",\"linecolor\":\"white\",\"ticks\":\"\",\"title\":{\"standoff\":15},\"zerolinecolor\":\"white\",\"zerolinewidth\":2},\"yaxis\":{\"automargin\":true,\"gridcolor\":\"white\",\"linecolor\":\"white\",\"ticks\":\"\",\"title\":{\"standoff\":15},\"zerolinecolor\":\"white\",\"zerolinewidth\":2}}},\"xaxis\":{\"anchor\":\"y\",\"domain\":[0.0,1.0],\"title\":{\"text\":\"name\"}},\"yaxis\":{\"anchor\":\"x\",\"domain\":[0.0,1.0],\"title\":{\"text\":\"price\"}},\"legend\":{\"tracegroupgap\":0,\"title\":{\"font\":{\"color\":\"black\"}}},\"margin\":{\"t\":60},\"barmode\":\"relative\",\"title\":{\"text\":\"top 5 cheap serum\",\"x\":0.5,\"font\":{\"color\":\"black\"}},\"font\":{\"color\":\"black\"}},                        {\"responsive\": true}                    ).then(function(){\n",
              "                            \n",
              "var gd = document.getElementById('e9025320-3199-4f66-8e39-3f2cb00393ba');\n",
              "var x = new MutationObserver(function (mutations, observer) {{\n",
              "        var display = window.getComputedStyle(gd).display;\n",
              "        if (!display || display === 'none') {{\n",
              "            console.log([gd, 'removed!']);\n",
              "            Plotly.purge(gd);\n",
              "            observer.disconnect();\n",
              "        }}\n",
              "}});\n",
              "\n",
              "// Listen for the removal of the full notebook cells\n",
              "var notebookContainer = gd.closest('#notebook-container');\n",
              "if (notebookContainer) {{\n",
              "    x.observe(notebookContainer, {childList: true});\n",
              "}}\n",
              "\n",
              "// Listen for the clearing of the current output cell\n",
              "var outputEl = gd.closest('.output');\n",
              "if (outputEl) {{\n",
              "    x.observe(outputEl, {childList: true});\n",
              "}}\n",
              "\n",
              "                        })                };                            </script>        </div>\n",
              "</body>\n",
              "</html>"
            ]
          },
          "metadata": {}
        }
      ]
    },
    {
      "cell_type": "markdown",
      "source": [
        "**Eye category**"
      ],
      "metadata": {
        "id": "8zKbxUdEBnuJ"
      }
    },
    {
      "cell_type": "code",
      "source": [
        "a=df_eye.nlargest(5, columns=['price'])\n",
        "b=df_eye.nsmallest(5, columns=['price'])"
      ],
      "metadata": {
        "id": "jMlDP4f4BrTB"
      },
      "execution_count": 35,
      "outputs": []
    },
    {
      "cell_type": "code",
      "source": [
        "fig = px.bar(\n",
        "    a.dropna(),\n",
        "    x= \"name\",\n",
        "    y=\t\"price\",\n",
        "    text='price',\n",
        "    template=\"plotly\"\n",
        ")\n",
        "fig.update_layout(title_text='top 5 expensive eye product', title_x=0.5)\n",
        "fig.update_traces(marker_color=\"black\")\n",
        "fig.update_layout(font_color=\"red\",title_font_color=\"red\",legend_title_font_color=\"red\")\n",
        "fig.show()\n",
        "\n",
        "fig = px.bar(\n",
        "    b.dropna(),\n",
        "    x= \"name\",\n",
        "    y=\t\"price\",\n",
        "    text='price',\n",
        "    template=\"plotly\"\n",
        ")\n",
        "fig.update_layout(title_text='top 5 cheap eye product', title_x=0.5)\n",
        "fig.update_traces(marker_color=\"black\")\n",
        "fig.update_layout(font_color=\"green\",title_font_color=\"green\",legend_title_font_color=\"green\")\n",
        "\n",
        "fig.show()"
      ],
      "metadata": {
        "colab": {
          "base_uri": "https://localhost:8080/",
          "height": 1000
        },
        "outputId": "f8bea01f-83f2-40b1-bb6b-4a2bfd60d0b2",
        "id": "XSzJn_gZBrTC"
      },
      "execution_count": 36,
      "outputs": [
        {
          "output_type": "display_data",
          "data": {
            "text/html": [
              "<html>\n",
              "<head><meta charset=\"utf-8\" /></head>\n",
              "<body>\n",
              "    <div>            <script src=\"https://cdnjs.cloudflare.com/ajax/libs/mathjax/2.7.5/MathJax.js?config=TeX-AMS-MML_SVG\"></script><script type=\"text/javascript\">if (window.MathJax) {MathJax.Hub.Config({SVG: {font: \"STIX-Web\"}});}</script>                <script type=\"text/javascript\">window.PlotlyConfig = {MathJaxConfig: 'local'};</script>\n",
              "        <script src=\"https://cdn.plot.ly/plotly-2.8.3.min.js\"></script>                <div id=\"b0f68add-a41d-43ce-9db6-c57a7eb72386\" class=\"plotly-graph-div\" style=\"height:525px; width:100%;\"></div>            <script type=\"text/javascript\">                                    window.PLOTLYENV=window.PLOTLYENV || {};                                    if (document.getElementById(\"b0f68add-a41d-43ce-9db6-c57a7eb72386\")) {                    Plotly.newPlot(                        \"b0f68add-a41d-43ce-9db6-c57a7eb72386\",                        [{\"alignmentgroup\":\"True\",\"hovertemplate\":\"name=%{x}<br>price=%{text}<extra></extra>\",\"legendgroup\":\"\",\"marker\":{\"color\":\"black\",\"pattern\":{\"shape\":\"\"}},\"name\":\"\",\"offsetgroup\":\"\",\"orientation\":\"v\",\"showlegend\":false,\"text\":[285.0,250.0,212.0,200.0,183.6],\"textposition\":\"auto\",\"x\":[\"r\\u00e9vive intensit\\u00e9 complete anti-aging eye serum 15ml\",\"babor seacreation the eye cream 3.4oz\",\"chantecaille gold energizing eye serum 15ml\",\"chantecaille stress repair concentrate+ 15ml\",\"perricone md neuropeptide firming and illuminating under-eye cream 15ml\"],\"xaxis\":\"x\",\"y\":[285.0,250.0,212.0,200.0,183.6],\"yaxis\":\"y\",\"type\":\"bar\"}],                        {\"template\":{\"data\":{\"bar\":[{\"error_x\":{\"color\":\"#2a3f5f\"},\"error_y\":{\"color\":\"#2a3f5f\"},\"marker\":{\"line\":{\"color\":\"#E5ECF6\",\"width\":0.5},\"pattern\":{\"fillmode\":\"overlay\",\"size\":10,\"solidity\":0.2}},\"type\":\"bar\"}],\"barpolar\":[{\"marker\":{\"line\":{\"color\":\"#E5ECF6\",\"width\":0.5},\"pattern\":{\"fillmode\":\"overlay\",\"size\":10,\"solidity\":0.2}},\"type\":\"barpolar\"}],\"carpet\":[{\"aaxis\":{\"endlinecolor\":\"#2a3f5f\",\"gridcolor\":\"white\",\"linecolor\":\"white\",\"minorgridcolor\":\"white\",\"startlinecolor\":\"#2a3f5f\"},\"baxis\":{\"endlinecolor\":\"#2a3f5f\",\"gridcolor\":\"white\",\"linecolor\":\"white\",\"minorgridcolor\":\"white\",\"startlinecolor\":\"#2a3f5f\"},\"type\":\"carpet\"}],\"choropleth\":[{\"colorbar\":{\"outlinewidth\":0,\"ticks\":\"\"},\"type\":\"choropleth\"}],\"contour\":[{\"colorbar\":{\"outlinewidth\":0,\"ticks\":\"\"},\"colorscale\":[[0.0,\"#0d0887\"],[0.1111111111111111,\"#46039f\"],[0.2222222222222222,\"#7201a8\"],[0.3333333333333333,\"#9c179e\"],[0.4444444444444444,\"#bd3786\"],[0.5555555555555556,\"#d8576b\"],[0.6666666666666666,\"#ed7953\"],[0.7777777777777778,\"#fb9f3a\"],[0.8888888888888888,\"#fdca26\"],[1.0,\"#f0f921\"]],\"type\":\"contour\"}],\"contourcarpet\":[{\"colorbar\":{\"outlinewidth\":0,\"ticks\":\"\"},\"type\":\"contourcarpet\"}],\"heatmap\":[{\"colorbar\":{\"outlinewidth\":0,\"ticks\":\"\"},\"colorscale\":[[0.0,\"#0d0887\"],[0.1111111111111111,\"#46039f\"],[0.2222222222222222,\"#7201a8\"],[0.3333333333333333,\"#9c179e\"],[0.4444444444444444,\"#bd3786\"],[0.5555555555555556,\"#d8576b\"],[0.6666666666666666,\"#ed7953\"],[0.7777777777777778,\"#fb9f3a\"],[0.8888888888888888,\"#fdca26\"],[1.0,\"#f0f921\"]],\"type\":\"heatmap\"}],\"heatmapgl\":[{\"colorbar\":{\"outlinewidth\":0,\"ticks\":\"\"},\"colorscale\":[[0.0,\"#0d0887\"],[0.1111111111111111,\"#46039f\"],[0.2222222222222222,\"#7201a8\"],[0.3333333333333333,\"#9c179e\"],[0.4444444444444444,\"#bd3786\"],[0.5555555555555556,\"#d8576b\"],[0.6666666666666666,\"#ed7953\"],[0.7777777777777778,\"#fb9f3a\"],[0.8888888888888888,\"#fdca26\"],[1.0,\"#f0f921\"]],\"type\":\"heatmapgl\"}],\"histogram\":[{\"marker\":{\"pattern\":{\"fillmode\":\"overlay\",\"size\":10,\"solidity\":0.2}},\"type\":\"histogram\"}],\"histogram2d\":[{\"colorbar\":{\"outlinewidth\":0,\"ticks\":\"\"},\"colorscale\":[[0.0,\"#0d0887\"],[0.1111111111111111,\"#46039f\"],[0.2222222222222222,\"#7201a8\"],[0.3333333333333333,\"#9c179e\"],[0.4444444444444444,\"#bd3786\"],[0.5555555555555556,\"#d8576b\"],[0.6666666666666666,\"#ed7953\"],[0.7777777777777778,\"#fb9f3a\"],[0.8888888888888888,\"#fdca26\"],[1.0,\"#f0f921\"]],\"type\":\"histogram2d\"}],\"histogram2dcontour\":[{\"colorbar\":{\"outlinewidth\":0,\"ticks\":\"\"},\"colorscale\":[[0.0,\"#0d0887\"],[0.1111111111111111,\"#46039f\"],[0.2222222222222222,\"#7201a8\"],[0.3333333333333333,\"#9c179e\"],[0.4444444444444444,\"#bd3786\"],[0.5555555555555556,\"#d8576b\"],[0.6666666666666666,\"#ed7953\"],[0.7777777777777778,\"#fb9f3a\"],[0.8888888888888888,\"#fdca26\"],[1.0,\"#f0f921\"]],\"type\":\"histogram2dcontour\"}],\"mesh3d\":[{\"colorbar\":{\"outlinewidth\":0,\"ticks\":\"\"},\"type\":\"mesh3d\"}],\"parcoords\":[{\"line\":{\"colorbar\":{\"outlinewidth\":0,\"ticks\":\"\"}},\"type\":\"parcoords\"}],\"pie\":[{\"automargin\":true,\"type\":\"pie\"}],\"scatter\":[{\"marker\":{\"colorbar\":{\"outlinewidth\":0,\"ticks\":\"\"}},\"type\":\"scatter\"}],\"scatter3d\":[{\"line\":{\"colorbar\":{\"outlinewidth\":0,\"ticks\":\"\"}},\"marker\":{\"colorbar\":{\"outlinewidth\":0,\"ticks\":\"\"}},\"type\":\"scatter3d\"}],\"scattercarpet\":[{\"marker\":{\"colorbar\":{\"outlinewidth\":0,\"ticks\":\"\"}},\"type\":\"scattercarpet\"}],\"scattergeo\":[{\"marker\":{\"colorbar\":{\"outlinewidth\":0,\"ticks\":\"\"}},\"type\":\"scattergeo\"}],\"scattergl\":[{\"marker\":{\"colorbar\":{\"outlinewidth\":0,\"ticks\":\"\"}},\"type\":\"scattergl\"}],\"scattermapbox\":[{\"marker\":{\"colorbar\":{\"outlinewidth\":0,\"ticks\":\"\"}},\"type\":\"scattermapbox\"}],\"scatterpolar\":[{\"marker\":{\"colorbar\":{\"outlinewidth\":0,\"ticks\":\"\"}},\"type\":\"scatterpolar\"}],\"scatterpolargl\":[{\"marker\":{\"colorbar\":{\"outlinewidth\":0,\"ticks\":\"\"}},\"type\":\"scatterpolargl\"}],\"scatterternary\":[{\"marker\":{\"colorbar\":{\"outlinewidth\":0,\"ticks\":\"\"}},\"type\":\"scatterternary\"}],\"surface\":[{\"colorbar\":{\"outlinewidth\":0,\"ticks\":\"\"},\"colorscale\":[[0.0,\"#0d0887\"],[0.1111111111111111,\"#46039f\"],[0.2222222222222222,\"#7201a8\"],[0.3333333333333333,\"#9c179e\"],[0.4444444444444444,\"#bd3786\"],[0.5555555555555556,\"#d8576b\"],[0.6666666666666666,\"#ed7953\"],[0.7777777777777778,\"#fb9f3a\"],[0.8888888888888888,\"#fdca26\"],[1.0,\"#f0f921\"]],\"type\":\"surface\"}],\"table\":[{\"cells\":{\"fill\":{\"color\":\"#EBF0F8\"},\"line\":{\"color\":\"white\"}},\"header\":{\"fill\":{\"color\":\"#C8D4E3\"},\"line\":{\"color\":\"white\"}},\"type\":\"table\"}]},\"layout\":{\"annotationdefaults\":{\"arrowcolor\":\"#2a3f5f\",\"arrowhead\":0,\"arrowwidth\":1},\"autotypenumbers\":\"strict\",\"coloraxis\":{\"colorbar\":{\"outlinewidth\":0,\"ticks\":\"\"}},\"colorscale\":{\"diverging\":[[0,\"#8e0152\"],[0.1,\"#c51b7d\"],[0.2,\"#de77ae\"],[0.3,\"#f1b6da\"],[0.4,\"#fde0ef\"],[0.5,\"#f7f7f7\"],[0.6,\"#e6f5d0\"],[0.7,\"#b8e186\"],[0.8,\"#7fbc41\"],[0.9,\"#4d9221\"],[1,\"#276419\"]],\"sequential\":[[0.0,\"#0d0887\"],[0.1111111111111111,\"#46039f\"],[0.2222222222222222,\"#7201a8\"],[0.3333333333333333,\"#9c179e\"],[0.4444444444444444,\"#bd3786\"],[0.5555555555555556,\"#d8576b\"],[0.6666666666666666,\"#ed7953\"],[0.7777777777777778,\"#fb9f3a\"],[0.8888888888888888,\"#fdca26\"],[1.0,\"#f0f921\"]],\"sequentialminus\":[[0.0,\"#0d0887\"],[0.1111111111111111,\"#46039f\"],[0.2222222222222222,\"#7201a8\"],[0.3333333333333333,\"#9c179e\"],[0.4444444444444444,\"#bd3786\"],[0.5555555555555556,\"#d8576b\"],[0.6666666666666666,\"#ed7953\"],[0.7777777777777778,\"#fb9f3a\"],[0.8888888888888888,\"#fdca26\"],[1.0,\"#f0f921\"]]},\"colorway\":[\"#636efa\",\"#EF553B\",\"#00cc96\",\"#ab63fa\",\"#FFA15A\",\"#19d3f3\",\"#FF6692\",\"#B6E880\",\"#FF97FF\",\"#FECB52\"],\"font\":{\"color\":\"#2a3f5f\"},\"geo\":{\"bgcolor\":\"white\",\"lakecolor\":\"white\",\"landcolor\":\"#E5ECF6\",\"showlakes\":true,\"showland\":true,\"subunitcolor\":\"white\"},\"hoverlabel\":{\"align\":\"left\"},\"hovermode\":\"closest\",\"mapbox\":{\"style\":\"light\"},\"paper_bgcolor\":\"white\",\"plot_bgcolor\":\"#E5ECF6\",\"polar\":{\"angularaxis\":{\"gridcolor\":\"white\",\"linecolor\":\"white\",\"ticks\":\"\"},\"bgcolor\":\"#E5ECF6\",\"radialaxis\":{\"gridcolor\":\"white\",\"linecolor\":\"white\",\"ticks\":\"\"}},\"scene\":{\"xaxis\":{\"backgroundcolor\":\"#E5ECF6\",\"gridcolor\":\"white\",\"gridwidth\":2,\"linecolor\":\"white\",\"showbackground\":true,\"ticks\":\"\",\"zerolinecolor\":\"white\"},\"yaxis\":{\"backgroundcolor\":\"#E5ECF6\",\"gridcolor\":\"white\",\"gridwidth\":2,\"linecolor\":\"white\",\"showbackground\":true,\"ticks\":\"\",\"zerolinecolor\":\"white\"},\"zaxis\":{\"backgroundcolor\":\"#E5ECF6\",\"gridcolor\":\"white\",\"gridwidth\":2,\"linecolor\":\"white\",\"showbackground\":true,\"ticks\":\"\",\"zerolinecolor\":\"white\"}},\"shapedefaults\":{\"line\":{\"color\":\"#2a3f5f\"}},\"ternary\":{\"aaxis\":{\"gridcolor\":\"white\",\"linecolor\":\"white\",\"ticks\":\"\"},\"baxis\":{\"gridcolor\":\"white\",\"linecolor\":\"white\",\"ticks\":\"\"},\"bgcolor\":\"#E5ECF6\",\"caxis\":{\"gridcolor\":\"white\",\"linecolor\":\"white\",\"ticks\":\"\"}},\"title\":{\"x\":0.05},\"xaxis\":{\"automargin\":true,\"gridcolor\":\"white\",\"linecolor\":\"white\",\"ticks\":\"\",\"title\":{\"standoff\":15},\"zerolinecolor\":\"white\",\"zerolinewidth\":2},\"yaxis\":{\"automargin\":true,\"gridcolor\":\"white\",\"linecolor\":\"white\",\"ticks\":\"\",\"title\":{\"standoff\":15},\"zerolinecolor\":\"white\",\"zerolinewidth\":2}}},\"xaxis\":{\"anchor\":\"y\",\"domain\":[0.0,1.0],\"title\":{\"text\":\"name\"}},\"yaxis\":{\"anchor\":\"x\",\"domain\":[0.0,1.0],\"title\":{\"text\":\"price\"}},\"legend\":{\"tracegroupgap\":0,\"title\":{\"font\":{\"color\":\"red\"}}},\"margin\":{\"t\":60},\"barmode\":\"relative\",\"title\":{\"text\":\"top 5 expensive eye product\",\"x\":0.5,\"font\":{\"color\":\"red\"}},\"font\":{\"color\":\"red\"}},                        {\"responsive\": true}                    ).then(function(){\n",
              "                            \n",
              "var gd = document.getElementById('b0f68add-a41d-43ce-9db6-c57a7eb72386');\n",
              "var x = new MutationObserver(function (mutations, observer) {{\n",
              "        var display = window.getComputedStyle(gd).display;\n",
              "        if (!display || display === 'none') {{\n",
              "            console.log([gd, 'removed!']);\n",
              "            Plotly.purge(gd);\n",
              "            observer.disconnect();\n",
              "        }}\n",
              "}});\n",
              "\n",
              "// Listen for the removal of the full notebook cells\n",
              "var notebookContainer = gd.closest('#notebook-container');\n",
              "if (notebookContainer) {{\n",
              "    x.observe(notebookContainer, {childList: true});\n",
              "}}\n",
              "\n",
              "// Listen for the clearing of the current output cell\n",
              "var outputEl = gd.closest('.output');\n",
              "if (outputEl) {{\n",
              "    x.observe(outputEl, {childList: true});\n",
              "}}\n",
              "\n",
              "                        })                };                            </script>        </div>\n",
              "</body>\n",
              "</html>"
            ]
          },
          "metadata": {}
        },
        {
          "output_type": "display_data",
          "data": {
            "text/html": [
              "<html>\n",
              "<head><meta charset=\"utf-8\" /></head>\n",
              "<body>\n",
              "    <div>            <script src=\"https://cdnjs.cloudflare.com/ajax/libs/mathjax/2.7.5/MathJax.js?config=TeX-AMS-MML_SVG\"></script><script type=\"text/javascript\">if (window.MathJax) {MathJax.Hub.Config({SVG: {font: \"STIX-Web\"}});}</script>                <script type=\"text/javascript\">window.PlotlyConfig = {MathJaxConfig: 'local'};</script>\n",
              "        <script src=\"https://cdn.plot.ly/plotly-2.8.3.min.js\"></script>                <div id=\"d1041375-a146-4237-acb4-ba84e1364412\" class=\"plotly-graph-div\" style=\"height:525px; width:100%;\"></div>            <script type=\"text/javascript\">                                    window.PLOTLYENV=window.PLOTLYENV || {};                                    if (document.getElementById(\"d1041375-a146-4237-acb4-ba84e1364412\")) {                    Plotly.newPlot(                        \"d1041375-a146-4237-acb4-ba84e1364412\",                        [{\"alignmentgroup\":\"True\",\"hovertemplate\":\"name=%{x}<br>price=%{text}<extra></extra>\",\"legendgroup\":\"\",\"marker\":{\"color\":\"black\",\"pattern\":{\"shape\":\"\"}},\"name\":\"\",\"offsetgroup\":\"\",\"orientation\":\"v\",\"showlegend\":false,\"text\":[4.0,4.0,4.2,7.5,7.6],\"textposition\":\"auto\",\"x\":[\"tonymoly i'm green tea eye patch\",\"tonymoly i'm lemon eye patch\",\"garnier moisture bomb deep sea water & hyaluronic acid night-time eye tissue mask 6g\",\"the ordinary caffeine solution 5% + egcg 30ml\",\"l'oreal paris absolute eye and lip make-up remover 125ml\"],\"xaxis\":\"x\",\"y\":[4.0,4.0,4.2,7.5,7.6],\"yaxis\":\"y\",\"type\":\"bar\"}],                        {\"template\":{\"data\":{\"bar\":[{\"error_x\":{\"color\":\"#2a3f5f\"},\"error_y\":{\"color\":\"#2a3f5f\"},\"marker\":{\"line\":{\"color\":\"#E5ECF6\",\"width\":0.5},\"pattern\":{\"fillmode\":\"overlay\",\"size\":10,\"solidity\":0.2}},\"type\":\"bar\"}],\"barpolar\":[{\"marker\":{\"line\":{\"color\":\"#E5ECF6\",\"width\":0.5},\"pattern\":{\"fillmode\":\"overlay\",\"size\":10,\"solidity\":0.2}},\"type\":\"barpolar\"}],\"carpet\":[{\"aaxis\":{\"endlinecolor\":\"#2a3f5f\",\"gridcolor\":\"white\",\"linecolor\":\"white\",\"minorgridcolor\":\"white\",\"startlinecolor\":\"#2a3f5f\"},\"baxis\":{\"endlinecolor\":\"#2a3f5f\",\"gridcolor\":\"white\",\"linecolor\":\"white\",\"minorgridcolor\":\"white\",\"startlinecolor\":\"#2a3f5f\"},\"type\":\"carpet\"}],\"choropleth\":[{\"colorbar\":{\"outlinewidth\":0,\"ticks\":\"\"},\"type\":\"choropleth\"}],\"contour\":[{\"colorbar\":{\"outlinewidth\":0,\"ticks\":\"\"},\"colorscale\":[[0.0,\"#0d0887\"],[0.1111111111111111,\"#46039f\"],[0.2222222222222222,\"#7201a8\"],[0.3333333333333333,\"#9c179e\"],[0.4444444444444444,\"#bd3786\"],[0.5555555555555556,\"#d8576b\"],[0.6666666666666666,\"#ed7953\"],[0.7777777777777778,\"#fb9f3a\"],[0.8888888888888888,\"#fdca26\"],[1.0,\"#f0f921\"]],\"type\":\"contour\"}],\"contourcarpet\":[{\"colorbar\":{\"outlinewidth\":0,\"ticks\":\"\"},\"type\":\"contourcarpet\"}],\"heatmap\":[{\"colorbar\":{\"outlinewidth\":0,\"ticks\":\"\"},\"colorscale\":[[0.0,\"#0d0887\"],[0.1111111111111111,\"#46039f\"],[0.2222222222222222,\"#7201a8\"],[0.3333333333333333,\"#9c179e\"],[0.4444444444444444,\"#bd3786\"],[0.5555555555555556,\"#d8576b\"],[0.6666666666666666,\"#ed7953\"],[0.7777777777777778,\"#fb9f3a\"],[0.8888888888888888,\"#fdca26\"],[1.0,\"#f0f921\"]],\"type\":\"heatmap\"}],\"heatmapgl\":[{\"colorbar\":{\"outlinewidth\":0,\"ticks\":\"\"},\"colorscale\":[[0.0,\"#0d0887\"],[0.1111111111111111,\"#46039f\"],[0.2222222222222222,\"#7201a8\"],[0.3333333333333333,\"#9c179e\"],[0.4444444444444444,\"#bd3786\"],[0.5555555555555556,\"#d8576b\"],[0.6666666666666666,\"#ed7953\"],[0.7777777777777778,\"#fb9f3a\"],[0.8888888888888888,\"#fdca26\"],[1.0,\"#f0f921\"]],\"type\":\"heatmapgl\"}],\"histogram\":[{\"marker\":{\"pattern\":{\"fillmode\":\"overlay\",\"size\":10,\"solidity\":0.2}},\"type\":\"histogram\"}],\"histogram2d\":[{\"colorbar\":{\"outlinewidth\":0,\"ticks\":\"\"},\"colorscale\":[[0.0,\"#0d0887\"],[0.1111111111111111,\"#46039f\"],[0.2222222222222222,\"#7201a8\"],[0.3333333333333333,\"#9c179e\"],[0.4444444444444444,\"#bd3786\"],[0.5555555555555556,\"#d8576b\"],[0.6666666666666666,\"#ed7953\"],[0.7777777777777778,\"#fb9f3a\"],[0.8888888888888888,\"#fdca26\"],[1.0,\"#f0f921\"]],\"type\":\"histogram2d\"}],\"histogram2dcontour\":[{\"colorbar\":{\"outlinewidth\":0,\"ticks\":\"\"},\"colorscale\":[[0.0,\"#0d0887\"],[0.1111111111111111,\"#46039f\"],[0.2222222222222222,\"#7201a8\"],[0.3333333333333333,\"#9c179e\"],[0.4444444444444444,\"#bd3786\"],[0.5555555555555556,\"#d8576b\"],[0.6666666666666666,\"#ed7953\"],[0.7777777777777778,\"#fb9f3a\"],[0.8888888888888888,\"#fdca26\"],[1.0,\"#f0f921\"]],\"type\":\"histogram2dcontour\"}],\"mesh3d\":[{\"colorbar\":{\"outlinewidth\":0,\"ticks\":\"\"},\"type\":\"mesh3d\"}],\"parcoords\":[{\"line\":{\"colorbar\":{\"outlinewidth\":0,\"ticks\":\"\"}},\"type\":\"parcoords\"}],\"pie\":[{\"automargin\":true,\"type\":\"pie\"}],\"scatter\":[{\"marker\":{\"colorbar\":{\"outlinewidth\":0,\"ticks\":\"\"}},\"type\":\"scatter\"}],\"scatter3d\":[{\"line\":{\"colorbar\":{\"outlinewidth\":0,\"ticks\":\"\"}},\"marker\":{\"colorbar\":{\"outlinewidth\":0,\"ticks\":\"\"}},\"type\":\"scatter3d\"}],\"scattercarpet\":[{\"marker\":{\"colorbar\":{\"outlinewidth\":0,\"ticks\":\"\"}},\"type\":\"scattercarpet\"}],\"scattergeo\":[{\"marker\":{\"colorbar\":{\"outlinewidth\":0,\"ticks\":\"\"}},\"type\":\"scattergeo\"}],\"scattergl\":[{\"marker\":{\"colorbar\":{\"outlinewidth\":0,\"ticks\":\"\"}},\"type\":\"scattergl\"}],\"scattermapbox\":[{\"marker\":{\"colorbar\":{\"outlinewidth\":0,\"ticks\":\"\"}},\"type\":\"scattermapbox\"}],\"scatterpolar\":[{\"marker\":{\"colorbar\":{\"outlinewidth\":0,\"ticks\":\"\"}},\"type\":\"scatterpolar\"}],\"scatterpolargl\":[{\"marker\":{\"colorbar\":{\"outlinewidth\":0,\"ticks\":\"\"}},\"type\":\"scatterpolargl\"}],\"scatterternary\":[{\"marker\":{\"colorbar\":{\"outlinewidth\":0,\"ticks\":\"\"}},\"type\":\"scatterternary\"}],\"surface\":[{\"colorbar\":{\"outlinewidth\":0,\"ticks\":\"\"},\"colorscale\":[[0.0,\"#0d0887\"],[0.1111111111111111,\"#46039f\"],[0.2222222222222222,\"#7201a8\"],[0.3333333333333333,\"#9c179e\"],[0.4444444444444444,\"#bd3786\"],[0.5555555555555556,\"#d8576b\"],[0.6666666666666666,\"#ed7953\"],[0.7777777777777778,\"#fb9f3a\"],[0.8888888888888888,\"#fdca26\"],[1.0,\"#f0f921\"]],\"type\":\"surface\"}],\"table\":[{\"cells\":{\"fill\":{\"color\":\"#EBF0F8\"},\"line\":{\"color\":\"white\"}},\"header\":{\"fill\":{\"color\":\"#C8D4E3\"},\"line\":{\"color\":\"white\"}},\"type\":\"table\"}]},\"layout\":{\"annotationdefaults\":{\"arrowcolor\":\"#2a3f5f\",\"arrowhead\":0,\"arrowwidth\":1},\"autotypenumbers\":\"strict\",\"coloraxis\":{\"colorbar\":{\"outlinewidth\":0,\"ticks\":\"\"}},\"colorscale\":{\"diverging\":[[0,\"#8e0152\"],[0.1,\"#c51b7d\"],[0.2,\"#de77ae\"],[0.3,\"#f1b6da\"],[0.4,\"#fde0ef\"],[0.5,\"#f7f7f7\"],[0.6,\"#e6f5d0\"],[0.7,\"#b8e186\"],[0.8,\"#7fbc41\"],[0.9,\"#4d9221\"],[1,\"#276419\"]],\"sequential\":[[0.0,\"#0d0887\"],[0.1111111111111111,\"#46039f\"],[0.2222222222222222,\"#7201a8\"],[0.3333333333333333,\"#9c179e\"],[0.4444444444444444,\"#bd3786\"],[0.5555555555555556,\"#d8576b\"],[0.6666666666666666,\"#ed7953\"],[0.7777777777777778,\"#fb9f3a\"],[0.8888888888888888,\"#fdca26\"],[1.0,\"#f0f921\"]],\"sequentialminus\":[[0.0,\"#0d0887\"],[0.1111111111111111,\"#46039f\"],[0.2222222222222222,\"#7201a8\"],[0.3333333333333333,\"#9c179e\"],[0.4444444444444444,\"#bd3786\"],[0.5555555555555556,\"#d8576b\"],[0.6666666666666666,\"#ed7953\"],[0.7777777777777778,\"#fb9f3a\"],[0.8888888888888888,\"#fdca26\"],[1.0,\"#f0f921\"]]},\"colorway\":[\"#636efa\",\"#EF553B\",\"#00cc96\",\"#ab63fa\",\"#FFA15A\",\"#19d3f3\",\"#FF6692\",\"#B6E880\",\"#FF97FF\",\"#FECB52\"],\"font\":{\"color\":\"#2a3f5f\"},\"geo\":{\"bgcolor\":\"white\",\"lakecolor\":\"white\",\"landcolor\":\"#E5ECF6\",\"showlakes\":true,\"showland\":true,\"subunitcolor\":\"white\"},\"hoverlabel\":{\"align\":\"left\"},\"hovermode\":\"closest\",\"mapbox\":{\"style\":\"light\"},\"paper_bgcolor\":\"white\",\"plot_bgcolor\":\"#E5ECF6\",\"polar\":{\"angularaxis\":{\"gridcolor\":\"white\",\"linecolor\":\"white\",\"ticks\":\"\"},\"bgcolor\":\"#E5ECF6\",\"radialaxis\":{\"gridcolor\":\"white\",\"linecolor\":\"white\",\"ticks\":\"\"}},\"scene\":{\"xaxis\":{\"backgroundcolor\":\"#E5ECF6\",\"gridcolor\":\"white\",\"gridwidth\":2,\"linecolor\":\"white\",\"showbackground\":true,\"ticks\":\"\",\"zerolinecolor\":\"white\"},\"yaxis\":{\"backgroundcolor\":\"#E5ECF6\",\"gridcolor\":\"white\",\"gridwidth\":2,\"linecolor\":\"white\",\"showbackground\":true,\"ticks\":\"\",\"zerolinecolor\":\"white\"},\"zaxis\":{\"backgroundcolor\":\"#E5ECF6\",\"gridcolor\":\"white\",\"gridwidth\":2,\"linecolor\":\"white\",\"showbackground\":true,\"ticks\":\"\",\"zerolinecolor\":\"white\"}},\"shapedefaults\":{\"line\":{\"color\":\"#2a3f5f\"}},\"ternary\":{\"aaxis\":{\"gridcolor\":\"white\",\"linecolor\":\"white\",\"ticks\":\"\"},\"baxis\":{\"gridcolor\":\"white\",\"linecolor\":\"white\",\"ticks\":\"\"},\"bgcolor\":\"#E5ECF6\",\"caxis\":{\"gridcolor\":\"white\",\"linecolor\":\"white\",\"ticks\":\"\"}},\"title\":{\"x\":0.05},\"xaxis\":{\"automargin\":true,\"gridcolor\":\"white\",\"linecolor\":\"white\",\"ticks\":\"\",\"title\":{\"standoff\":15},\"zerolinecolor\":\"white\",\"zerolinewidth\":2},\"yaxis\":{\"automargin\":true,\"gridcolor\":\"white\",\"linecolor\":\"white\",\"ticks\":\"\",\"title\":{\"standoff\":15},\"zerolinecolor\":\"white\",\"zerolinewidth\":2}}},\"xaxis\":{\"anchor\":\"y\",\"domain\":[0.0,1.0],\"title\":{\"text\":\"name\"}},\"yaxis\":{\"anchor\":\"x\",\"domain\":[0.0,1.0],\"title\":{\"text\":\"price\"}},\"legend\":{\"tracegroupgap\":0,\"title\":{\"font\":{\"color\":\"green\"}}},\"margin\":{\"t\":60},\"barmode\":\"relative\",\"title\":{\"text\":\"top 5 cheap eye product\",\"x\":0.5,\"font\":{\"color\":\"green\"}},\"font\":{\"color\":\"green\"}},                        {\"responsive\": true}                    ).then(function(){\n",
              "                            \n",
              "var gd = document.getElementById('d1041375-a146-4237-acb4-ba84e1364412');\n",
              "var x = new MutationObserver(function (mutations, observer) {{\n",
              "        var display = window.getComputedStyle(gd).display;\n",
              "        if (!display || display === 'none') {{\n",
              "            console.log([gd, 'removed!']);\n",
              "            Plotly.purge(gd);\n",
              "            observer.disconnect();\n",
              "        }}\n",
              "}});\n",
              "\n",
              "// Listen for the removal of the full notebook cells\n",
              "var notebookContainer = gd.closest('#notebook-container');\n",
              "if (notebookContainer) {{\n",
              "    x.observe(notebookContainer, {childList: true});\n",
              "}}\n",
              "\n",
              "// Listen for the clearing of the current output cell\n",
              "var outputEl = gd.closest('.output');\n",
              "if (outputEl) {{\n",
              "    x.observe(outputEl, {childList: true});\n",
              "}}\n",
              "\n",
              "                        })                };                            </script>        </div>\n",
              "</body>\n",
              "</html>"
            ]
          },
          "metadata": {}
        }
      ]
    },
    {
      "cell_type": "markdown",
      "source": [
        "**Mask category**"
      ],
      "metadata": {
        "id": "IzcUrPTlhtZ4"
      }
    },
    {
      "cell_type": "code",
      "source": [
        "a=df_mask.nlargest(5, columns=['price'])\n",
        "b=df_mask.nsmallest(5, columns=['price'])"
      ],
      "metadata": {
        "id": "GFOKYFlqhtZ5"
      },
      "execution_count": 37,
      "outputs": []
    },
    {
      "cell_type": "code",
      "source": [
        "fig = px.bar(\n",
        "    a.dropna(),\n",
        "    x= \"name\",\n",
        "    y=\t\"price\",\n",
        "    text='price',\n",
        "    template=\"plotly_dark\"\n",
        ")\n",
        "\n",
        "fig.update_layout(title_text='top 5 expensive mask', title_x=0.5)\n",
        "fig.update_traces(marker_color=\"pink\")\n",
        "fig.update_layout(font_color=\"pink\",title_font_color=\"pink\",legend_title_font_color=\"pink\")\n",
        "fig.show()\n",
        "\n",
        "fig = px.bar(\n",
        "    b.dropna(),\n",
        "    x= \"name\",\n",
        "    y=\t\"price\",\n",
        "    text='price',\n",
        "    template=\"plotly_dark\"\n",
        ")\n",
        "fig.update_layout(title_text='top 5 cheap mask', title_x=0.5)\n",
        "fig.update_traces(marker_color= \"lightblue\")\n",
        "fig.update_layout(font_color=\"lightblue\",title_font_color=\"lightblue\",legend_title_font_color=\"lightblue\")\n",
        "\n",
        "fig.show()"
      ],
      "metadata": {
        "colab": {
          "base_uri": "https://localhost:8080/",
          "height": 1000
        },
        "outputId": "0d9f1335-73d6-44a6-c414-afa80ffd0e44",
        "id": "EB9qJjZRhtZ5"
      },
      "execution_count": 38,
      "outputs": [
        {
          "output_type": "display_data",
          "data": {
            "text/html": [
              "<html>\n",
              "<head><meta charset=\"utf-8\" /></head>\n",
              "<body>\n",
              "    <div>            <script src=\"https://cdnjs.cloudflare.com/ajax/libs/mathjax/2.7.5/MathJax.js?config=TeX-AMS-MML_SVG\"></script><script type=\"text/javascript\">if (window.MathJax) {MathJax.Hub.Config({SVG: {font: \"STIX-Web\"}});}</script>                <script type=\"text/javascript\">window.PlotlyConfig = {MathJaxConfig: 'local'};</script>\n",
              "        <script src=\"https://cdn.plot.ly/plotly-2.8.3.min.js\"></script>                <div id=\"51d2994c-c5ae-4943-95f5-6e907a990268\" class=\"plotly-graph-div\" style=\"height:525px; width:100%;\"></div>            <script type=\"text/javascript\">                                    window.PLOTLYENV=window.PLOTLYENV || {};                                    if (document.getElementById(\"51d2994c-c5ae-4943-95f5-6e907a990268\")) {                    Plotly.newPlot(                        \"51d2994c-c5ae-4943-95f5-6e907a990268\",                        [{\"alignmentgroup\":\"True\",\"hovertemplate\":\"name=%{x}<br>price=%{text}<extra></extra>\",\"legendgroup\":\"\",\"marker\":{\"color\":\"pink\",\"pattern\":{\"shape\":\"\"}},\"name\":\"\",\"offsetgroup\":\"\",\"orientation\":\"v\",\"showlegend\":false,\"text\":[495.0,383.0,276.0,275.0,199.0],\"textposition\":\"auto\",\"x\":[\"angela caglia skincare crystal led face mask 453g\",\"mz skin replenish & restore placenta & stem cell night recovery mask\",\"chantecaille gold recovery mask 50ml\",\"babor seacreation the mask 1oz\",\"skin gym rose quartz crystal face mask\"],\"xaxis\":\"x\",\"y\":[495.0,383.0,276.0,275.0,199.0],\"yaxis\":\"y\",\"type\":\"bar\"}],                        {\"template\":{\"data\":{\"barpolar\":[{\"marker\":{\"line\":{\"color\":\"rgb(17,17,17)\",\"width\":0.5},\"pattern\":{\"fillmode\":\"overlay\",\"size\":10,\"solidity\":0.2}},\"type\":\"barpolar\"}],\"bar\":[{\"error_x\":{\"color\":\"#f2f5fa\"},\"error_y\":{\"color\":\"#f2f5fa\"},\"marker\":{\"line\":{\"color\":\"rgb(17,17,17)\",\"width\":0.5},\"pattern\":{\"fillmode\":\"overlay\",\"size\":10,\"solidity\":0.2}},\"type\":\"bar\"}],\"carpet\":[{\"aaxis\":{\"endlinecolor\":\"#A2B1C6\",\"gridcolor\":\"#506784\",\"linecolor\":\"#506784\",\"minorgridcolor\":\"#506784\",\"startlinecolor\":\"#A2B1C6\"},\"baxis\":{\"endlinecolor\":\"#A2B1C6\",\"gridcolor\":\"#506784\",\"linecolor\":\"#506784\",\"minorgridcolor\":\"#506784\",\"startlinecolor\":\"#A2B1C6\"},\"type\":\"carpet\"}],\"choropleth\":[{\"colorbar\":{\"outlinewidth\":0,\"ticks\":\"\"},\"type\":\"choropleth\"}],\"contourcarpet\":[{\"colorbar\":{\"outlinewidth\":0,\"ticks\":\"\"},\"type\":\"contourcarpet\"}],\"contour\":[{\"colorbar\":{\"outlinewidth\":0,\"ticks\":\"\"},\"colorscale\":[[0.0,\"#0d0887\"],[0.1111111111111111,\"#46039f\"],[0.2222222222222222,\"#7201a8\"],[0.3333333333333333,\"#9c179e\"],[0.4444444444444444,\"#bd3786\"],[0.5555555555555556,\"#d8576b\"],[0.6666666666666666,\"#ed7953\"],[0.7777777777777778,\"#fb9f3a\"],[0.8888888888888888,\"#fdca26\"],[1.0,\"#f0f921\"]],\"type\":\"contour\"}],\"heatmapgl\":[{\"colorbar\":{\"outlinewidth\":0,\"ticks\":\"\"},\"colorscale\":[[0.0,\"#0d0887\"],[0.1111111111111111,\"#46039f\"],[0.2222222222222222,\"#7201a8\"],[0.3333333333333333,\"#9c179e\"],[0.4444444444444444,\"#bd3786\"],[0.5555555555555556,\"#d8576b\"],[0.6666666666666666,\"#ed7953\"],[0.7777777777777778,\"#fb9f3a\"],[0.8888888888888888,\"#fdca26\"],[1.0,\"#f0f921\"]],\"type\":\"heatmapgl\"}],\"heatmap\":[{\"colorbar\":{\"outlinewidth\":0,\"ticks\":\"\"},\"colorscale\":[[0.0,\"#0d0887\"],[0.1111111111111111,\"#46039f\"],[0.2222222222222222,\"#7201a8\"],[0.3333333333333333,\"#9c179e\"],[0.4444444444444444,\"#bd3786\"],[0.5555555555555556,\"#d8576b\"],[0.6666666666666666,\"#ed7953\"],[0.7777777777777778,\"#fb9f3a\"],[0.8888888888888888,\"#fdca26\"],[1.0,\"#f0f921\"]],\"type\":\"heatmap\"}],\"histogram2dcontour\":[{\"colorbar\":{\"outlinewidth\":0,\"ticks\":\"\"},\"colorscale\":[[0.0,\"#0d0887\"],[0.1111111111111111,\"#46039f\"],[0.2222222222222222,\"#7201a8\"],[0.3333333333333333,\"#9c179e\"],[0.4444444444444444,\"#bd3786\"],[0.5555555555555556,\"#d8576b\"],[0.6666666666666666,\"#ed7953\"],[0.7777777777777778,\"#fb9f3a\"],[0.8888888888888888,\"#fdca26\"],[1.0,\"#f0f921\"]],\"type\":\"histogram2dcontour\"}],\"histogram2d\":[{\"colorbar\":{\"outlinewidth\":0,\"ticks\":\"\"},\"colorscale\":[[0.0,\"#0d0887\"],[0.1111111111111111,\"#46039f\"],[0.2222222222222222,\"#7201a8\"],[0.3333333333333333,\"#9c179e\"],[0.4444444444444444,\"#bd3786\"],[0.5555555555555556,\"#d8576b\"],[0.6666666666666666,\"#ed7953\"],[0.7777777777777778,\"#fb9f3a\"],[0.8888888888888888,\"#fdca26\"],[1.0,\"#f0f921\"]],\"type\":\"histogram2d\"}],\"histogram\":[{\"marker\":{\"pattern\":{\"fillmode\":\"overlay\",\"size\":10,\"solidity\":0.2}},\"type\":\"histogram\"}],\"mesh3d\":[{\"colorbar\":{\"outlinewidth\":0,\"ticks\":\"\"},\"type\":\"mesh3d\"}],\"parcoords\":[{\"line\":{\"colorbar\":{\"outlinewidth\":0,\"ticks\":\"\"}},\"type\":\"parcoords\"}],\"pie\":[{\"automargin\":true,\"type\":\"pie\"}],\"scatter3d\":[{\"line\":{\"colorbar\":{\"outlinewidth\":0,\"ticks\":\"\"}},\"marker\":{\"colorbar\":{\"outlinewidth\":0,\"ticks\":\"\"}},\"type\":\"scatter3d\"}],\"scattercarpet\":[{\"marker\":{\"colorbar\":{\"outlinewidth\":0,\"ticks\":\"\"}},\"type\":\"scattercarpet\"}],\"scattergeo\":[{\"marker\":{\"colorbar\":{\"outlinewidth\":0,\"ticks\":\"\"}},\"type\":\"scattergeo\"}],\"scattergl\":[{\"marker\":{\"line\":{\"color\":\"#283442\"}},\"type\":\"scattergl\"}],\"scattermapbox\":[{\"marker\":{\"colorbar\":{\"outlinewidth\":0,\"ticks\":\"\"}},\"type\":\"scattermapbox\"}],\"scatterpolargl\":[{\"marker\":{\"colorbar\":{\"outlinewidth\":0,\"ticks\":\"\"}},\"type\":\"scatterpolargl\"}],\"scatterpolar\":[{\"marker\":{\"colorbar\":{\"outlinewidth\":0,\"ticks\":\"\"}},\"type\":\"scatterpolar\"}],\"scatter\":[{\"marker\":{\"line\":{\"color\":\"#283442\"}},\"type\":\"scatter\"}],\"scatterternary\":[{\"marker\":{\"colorbar\":{\"outlinewidth\":0,\"ticks\":\"\"}},\"type\":\"scatterternary\"}],\"surface\":[{\"colorbar\":{\"outlinewidth\":0,\"ticks\":\"\"},\"colorscale\":[[0.0,\"#0d0887\"],[0.1111111111111111,\"#46039f\"],[0.2222222222222222,\"#7201a8\"],[0.3333333333333333,\"#9c179e\"],[0.4444444444444444,\"#bd3786\"],[0.5555555555555556,\"#d8576b\"],[0.6666666666666666,\"#ed7953\"],[0.7777777777777778,\"#fb9f3a\"],[0.8888888888888888,\"#fdca26\"],[1.0,\"#f0f921\"]],\"type\":\"surface\"}],\"table\":[{\"cells\":{\"fill\":{\"color\":\"#506784\"},\"line\":{\"color\":\"rgb(17,17,17)\"}},\"header\":{\"fill\":{\"color\":\"#2a3f5f\"},\"line\":{\"color\":\"rgb(17,17,17)\"}},\"type\":\"table\"}]},\"layout\":{\"annotationdefaults\":{\"arrowcolor\":\"#f2f5fa\",\"arrowhead\":0,\"arrowwidth\":1},\"autotypenumbers\":\"strict\",\"coloraxis\":{\"colorbar\":{\"outlinewidth\":0,\"ticks\":\"\"}},\"colorscale\":{\"diverging\":[[0,\"#8e0152\"],[0.1,\"#c51b7d\"],[0.2,\"#de77ae\"],[0.3,\"#f1b6da\"],[0.4,\"#fde0ef\"],[0.5,\"#f7f7f7\"],[0.6,\"#e6f5d0\"],[0.7,\"#b8e186\"],[0.8,\"#7fbc41\"],[0.9,\"#4d9221\"],[1,\"#276419\"]],\"sequential\":[[0.0,\"#0d0887\"],[0.1111111111111111,\"#46039f\"],[0.2222222222222222,\"#7201a8\"],[0.3333333333333333,\"#9c179e\"],[0.4444444444444444,\"#bd3786\"],[0.5555555555555556,\"#d8576b\"],[0.6666666666666666,\"#ed7953\"],[0.7777777777777778,\"#fb9f3a\"],[0.8888888888888888,\"#fdca26\"],[1.0,\"#f0f921\"]],\"sequentialminus\":[[0.0,\"#0d0887\"],[0.1111111111111111,\"#46039f\"],[0.2222222222222222,\"#7201a8\"],[0.3333333333333333,\"#9c179e\"],[0.4444444444444444,\"#bd3786\"],[0.5555555555555556,\"#d8576b\"],[0.6666666666666666,\"#ed7953\"],[0.7777777777777778,\"#fb9f3a\"],[0.8888888888888888,\"#fdca26\"],[1.0,\"#f0f921\"]]},\"colorway\":[\"#636efa\",\"#EF553B\",\"#00cc96\",\"#ab63fa\",\"#FFA15A\",\"#19d3f3\",\"#FF6692\",\"#B6E880\",\"#FF97FF\",\"#FECB52\"],\"font\":{\"color\":\"#f2f5fa\"},\"geo\":{\"bgcolor\":\"rgb(17,17,17)\",\"lakecolor\":\"rgb(17,17,17)\",\"landcolor\":\"rgb(17,17,17)\",\"showlakes\":true,\"showland\":true,\"subunitcolor\":\"#506784\"},\"hoverlabel\":{\"align\":\"left\"},\"hovermode\":\"closest\",\"mapbox\":{\"style\":\"dark\"},\"paper_bgcolor\":\"rgb(17,17,17)\",\"plot_bgcolor\":\"rgb(17,17,17)\",\"polar\":{\"angularaxis\":{\"gridcolor\":\"#506784\",\"linecolor\":\"#506784\",\"ticks\":\"\"},\"bgcolor\":\"rgb(17,17,17)\",\"radialaxis\":{\"gridcolor\":\"#506784\",\"linecolor\":\"#506784\",\"ticks\":\"\"}},\"scene\":{\"xaxis\":{\"backgroundcolor\":\"rgb(17,17,17)\",\"gridcolor\":\"#506784\",\"gridwidth\":2,\"linecolor\":\"#506784\",\"showbackground\":true,\"ticks\":\"\",\"zerolinecolor\":\"#C8D4E3\"},\"yaxis\":{\"backgroundcolor\":\"rgb(17,17,17)\",\"gridcolor\":\"#506784\",\"gridwidth\":2,\"linecolor\":\"#506784\",\"showbackground\":true,\"ticks\":\"\",\"zerolinecolor\":\"#C8D4E3\"},\"zaxis\":{\"backgroundcolor\":\"rgb(17,17,17)\",\"gridcolor\":\"#506784\",\"gridwidth\":2,\"linecolor\":\"#506784\",\"showbackground\":true,\"ticks\":\"\",\"zerolinecolor\":\"#C8D4E3\"}},\"shapedefaults\":{\"line\":{\"color\":\"#f2f5fa\"}},\"sliderdefaults\":{\"bgcolor\":\"#C8D4E3\",\"bordercolor\":\"rgb(17,17,17)\",\"borderwidth\":1,\"tickwidth\":0},\"ternary\":{\"aaxis\":{\"gridcolor\":\"#506784\",\"linecolor\":\"#506784\",\"ticks\":\"\"},\"baxis\":{\"gridcolor\":\"#506784\",\"linecolor\":\"#506784\",\"ticks\":\"\"},\"bgcolor\":\"rgb(17,17,17)\",\"caxis\":{\"gridcolor\":\"#506784\",\"linecolor\":\"#506784\",\"ticks\":\"\"}},\"title\":{\"x\":0.05},\"updatemenudefaults\":{\"bgcolor\":\"#506784\",\"borderwidth\":0},\"xaxis\":{\"automargin\":true,\"gridcolor\":\"#283442\",\"linecolor\":\"#506784\",\"ticks\":\"\",\"title\":{\"standoff\":15},\"zerolinecolor\":\"#283442\",\"zerolinewidth\":2},\"yaxis\":{\"automargin\":true,\"gridcolor\":\"#283442\",\"linecolor\":\"#506784\",\"ticks\":\"\",\"title\":{\"standoff\":15},\"zerolinecolor\":\"#283442\",\"zerolinewidth\":2}}},\"xaxis\":{\"anchor\":\"y\",\"domain\":[0.0,1.0],\"title\":{\"text\":\"name\"}},\"yaxis\":{\"anchor\":\"x\",\"domain\":[0.0,1.0],\"title\":{\"text\":\"price\"}},\"legend\":{\"tracegroupgap\":0,\"title\":{\"font\":{\"color\":\"pink\"}}},\"margin\":{\"t\":60},\"barmode\":\"relative\",\"title\":{\"text\":\"top 5 expensive mask\",\"x\":0.5,\"font\":{\"color\":\"pink\"}},\"font\":{\"color\":\"pink\"}},                        {\"responsive\": true}                    ).then(function(){\n",
              "                            \n",
              "var gd = document.getElementById('51d2994c-c5ae-4943-95f5-6e907a990268');\n",
              "var x = new MutationObserver(function (mutations, observer) {{\n",
              "        var display = window.getComputedStyle(gd).display;\n",
              "        if (!display || display === 'none') {{\n",
              "            console.log([gd, 'removed!']);\n",
              "            Plotly.purge(gd);\n",
              "            observer.disconnect();\n",
              "        }}\n",
              "}});\n",
              "\n",
              "// Listen for the removal of the full notebook cells\n",
              "var notebookContainer = gd.closest('#notebook-container');\n",
              "if (notebookContainer) {{\n",
              "    x.observe(notebookContainer, {childList: true});\n",
              "}}\n",
              "\n",
              "// Listen for the clearing of the current output cell\n",
              "var outputEl = gd.closest('.output');\n",
              "if (outputEl) {{\n",
              "    x.observe(outputEl, {childList: true});\n",
              "}}\n",
              "\n",
              "                        })                };                            </script>        </div>\n",
              "</body>\n",
              "</html>"
            ]
          },
          "metadata": {}
        },
        {
          "output_type": "display_data",
          "data": {
            "text/html": [
              "<html>\n",
              "<head><meta charset=\"utf-8\" /></head>\n",
              "<body>\n",
              "    <div>            <script src=\"https://cdnjs.cloudflare.com/ajax/libs/mathjax/2.7.5/MathJax.js?config=TeX-AMS-MML_SVG\"></script><script type=\"text/javascript\">if (window.MathJax) {MathJax.Hub.Config({SVG: {font: \"STIX-Web\"}});}</script>                <script type=\"text/javascript\">window.PlotlyConfig = {MathJaxConfig: 'local'};</script>\n",
              "        <script src=\"https://cdn.plot.ly/plotly-2.8.3.min.js\"></script>                <div id=\"ecca2ee7-bc0b-4b7d-b813-7116af5a0114\" class=\"plotly-graph-div\" style=\"height:525px; width:100%;\"></div>            <script type=\"text/javascript\">                                    window.PLOTLYENV=window.PLOTLYENV || {};                                    if (document.getElementById(\"ecca2ee7-bc0b-4b7d-b813-7116af5a0114\")) {                    Plotly.newPlot(                        \"ecca2ee7-bc0b-4b7d-b813-7116af5a0114\",                        [{\"alignmentgroup\":\"True\",\"hovertemplate\":\"name=%{x}<br>price=%{text}<extra></extra>\",\"legendgroup\":\"\",\"marker\":{\"color\":\"lightblue\",\"pattern\":{\"shape\":\"\"}},\"name\":\"\",\"offsetgroup\":\"\",\"orientation\":\"v\",\"showlegend\":false,\"text\":[3.0,3.0,3.0,3.0,3.0],\"textposition\":\"auto\",\"x\":[\"tonymoly i'm real sheet mask - cactus\",\"tonymoly i'm real sheet mask - red wine\",\"tonymoly i'm real sheet mask - charcoal\",\"oh k! sheet mask - bubble 23ml\",\"oh k! cucumber sheet mask 23ml\"],\"xaxis\":\"x\",\"y\":[3.0,3.0,3.0,3.0,3.0],\"yaxis\":\"y\",\"type\":\"bar\"}],                        {\"template\":{\"data\":{\"barpolar\":[{\"marker\":{\"line\":{\"color\":\"rgb(17,17,17)\",\"width\":0.5},\"pattern\":{\"fillmode\":\"overlay\",\"size\":10,\"solidity\":0.2}},\"type\":\"barpolar\"}],\"bar\":[{\"error_x\":{\"color\":\"#f2f5fa\"},\"error_y\":{\"color\":\"#f2f5fa\"},\"marker\":{\"line\":{\"color\":\"rgb(17,17,17)\",\"width\":0.5},\"pattern\":{\"fillmode\":\"overlay\",\"size\":10,\"solidity\":0.2}},\"type\":\"bar\"}],\"carpet\":[{\"aaxis\":{\"endlinecolor\":\"#A2B1C6\",\"gridcolor\":\"#506784\",\"linecolor\":\"#506784\",\"minorgridcolor\":\"#506784\",\"startlinecolor\":\"#A2B1C6\"},\"baxis\":{\"endlinecolor\":\"#A2B1C6\",\"gridcolor\":\"#506784\",\"linecolor\":\"#506784\",\"minorgridcolor\":\"#506784\",\"startlinecolor\":\"#A2B1C6\"},\"type\":\"carpet\"}],\"choropleth\":[{\"colorbar\":{\"outlinewidth\":0,\"ticks\":\"\"},\"type\":\"choropleth\"}],\"contourcarpet\":[{\"colorbar\":{\"outlinewidth\":0,\"ticks\":\"\"},\"type\":\"contourcarpet\"}],\"contour\":[{\"colorbar\":{\"outlinewidth\":0,\"ticks\":\"\"},\"colorscale\":[[0.0,\"#0d0887\"],[0.1111111111111111,\"#46039f\"],[0.2222222222222222,\"#7201a8\"],[0.3333333333333333,\"#9c179e\"],[0.4444444444444444,\"#bd3786\"],[0.5555555555555556,\"#d8576b\"],[0.6666666666666666,\"#ed7953\"],[0.7777777777777778,\"#fb9f3a\"],[0.8888888888888888,\"#fdca26\"],[1.0,\"#f0f921\"]],\"type\":\"contour\"}],\"heatmapgl\":[{\"colorbar\":{\"outlinewidth\":0,\"ticks\":\"\"},\"colorscale\":[[0.0,\"#0d0887\"],[0.1111111111111111,\"#46039f\"],[0.2222222222222222,\"#7201a8\"],[0.3333333333333333,\"#9c179e\"],[0.4444444444444444,\"#bd3786\"],[0.5555555555555556,\"#d8576b\"],[0.6666666666666666,\"#ed7953\"],[0.7777777777777778,\"#fb9f3a\"],[0.8888888888888888,\"#fdca26\"],[1.0,\"#f0f921\"]],\"type\":\"heatmapgl\"}],\"heatmap\":[{\"colorbar\":{\"outlinewidth\":0,\"ticks\":\"\"},\"colorscale\":[[0.0,\"#0d0887\"],[0.1111111111111111,\"#46039f\"],[0.2222222222222222,\"#7201a8\"],[0.3333333333333333,\"#9c179e\"],[0.4444444444444444,\"#bd3786\"],[0.5555555555555556,\"#d8576b\"],[0.6666666666666666,\"#ed7953\"],[0.7777777777777778,\"#fb9f3a\"],[0.8888888888888888,\"#fdca26\"],[1.0,\"#f0f921\"]],\"type\":\"heatmap\"}],\"histogram2dcontour\":[{\"colorbar\":{\"outlinewidth\":0,\"ticks\":\"\"},\"colorscale\":[[0.0,\"#0d0887\"],[0.1111111111111111,\"#46039f\"],[0.2222222222222222,\"#7201a8\"],[0.3333333333333333,\"#9c179e\"],[0.4444444444444444,\"#bd3786\"],[0.5555555555555556,\"#d8576b\"],[0.6666666666666666,\"#ed7953\"],[0.7777777777777778,\"#fb9f3a\"],[0.8888888888888888,\"#fdca26\"],[1.0,\"#f0f921\"]],\"type\":\"histogram2dcontour\"}],\"histogram2d\":[{\"colorbar\":{\"outlinewidth\":0,\"ticks\":\"\"},\"colorscale\":[[0.0,\"#0d0887\"],[0.1111111111111111,\"#46039f\"],[0.2222222222222222,\"#7201a8\"],[0.3333333333333333,\"#9c179e\"],[0.4444444444444444,\"#bd3786\"],[0.5555555555555556,\"#d8576b\"],[0.6666666666666666,\"#ed7953\"],[0.7777777777777778,\"#fb9f3a\"],[0.8888888888888888,\"#fdca26\"],[1.0,\"#f0f921\"]],\"type\":\"histogram2d\"}],\"histogram\":[{\"marker\":{\"pattern\":{\"fillmode\":\"overlay\",\"size\":10,\"solidity\":0.2}},\"type\":\"histogram\"}],\"mesh3d\":[{\"colorbar\":{\"outlinewidth\":0,\"ticks\":\"\"},\"type\":\"mesh3d\"}],\"parcoords\":[{\"line\":{\"colorbar\":{\"outlinewidth\":0,\"ticks\":\"\"}},\"type\":\"parcoords\"}],\"pie\":[{\"automargin\":true,\"type\":\"pie\"}],\"scatter3d\":[{\"line\":{\"colorbar\":{\"outlinewidth\":0,\"ticks\":\"\"}},\"marker\":{\"colorbar\":{\"outlinewidth\":0,\"ticks\":\"\"}},\"type\":\"scatter3d\"}],\"scattercarpet\":[{\"marker\":{\"colorbar\":{\"outlinewidth\":0,\"ticks\":\"\"}},\"type\":\"scattercarpet\"}],\"scattergeo\":[{\"marker\":{\"colorbar\":{\"outlinewidth\":0,\"ticks\":\"\"}},\"type\":\"scattergeo\"}],\"scattergl\":[{\"marker\":{\"line\":{\"color\":\"#283442\"}},\"type\":\"scattergl\"}],\"scattermapbox\":[{\"marker\":{\"colorbar\":{\"outlinewidth\":0,\"ticks\":\"\"}},\"type\":\"scattermapbox\"}],\"scatterpolargl\":[{\"marker\":{\"colorbar\":{\"outlinewidth\":0,\"ticks\":\"\"}},\"type\":\"scatterpolargl\"}],\"scatterpolar\":[{\"marker\":{\"colorbar\":{\"outlinewidth\":0,\"ticks\":\"\"}},\"type\":\"scatterpolar\"}],\"scatter\":[{\"marker\":{\"line\":{\"color\":\"#283442\"}},\"type\":\"scatter\"}],\"scatterternary\":[{\"marker\":{\"colorbar\":{\"outlinewidth\":0,\"ticks\":\"\"}},\"type\":\"scatterternary\"}],\"surface\":[{\"colorbar\":{\"outlinewidth\":0,\"ticks\":\"\"},\"colorscale\":[[0.0,\"#0d0887\"],[0.1111111111111111,\"#46039f\"],[0.2222222222222222,\"#7201a8\"],[0.3333333333333333,\"#9c179e\"],[0.4444444444444444,\"#bd3786\"],[0.5555555555555556,\"#d8576b\"],[0.6666666666666666,\"#ed7953\"],[0.7777777777777778,\"#fb9f3a\"],[0.8888888888888888,\"#fdca26\"],[1.0,\"#f0f921\"]],\"type\":\"surface\"}],\"table\":[{\"cells\":{\"fill\":{\"color\":\"#506784\"},\"line\":{\"color\":\"rgb(17,17,17)\"}},\"header\":{\"fill\":{\"color\":\"#2a3f5f\"},\"line\":{\"color\":\"rgb(17,17,17)\"}},\"type\":\"table\"}]},\"layout\":{\"annotationdefaults\":{\"arrowcolor\":\"#f2f5fa\",\"arrowhead\":0,\"arrowwidth\":1},\"autotypenumbers\":\"strict\",\"coloraxis\":{\"colorbar\":{\"outlinewidth\":0,\"ticks\":\"\"}},\"colorscale\":{\"diverging\":[[0,\"#8e0152\"],[0.1,\"#c51b7d\"],[0.2,\"#de77ae\"],[0.3,\"#f1b6da\"],[0.4,\"#fde0ef\"],[0.5,\"#f7f7f7\"],[0.6,\"#e6f5d0\"],[0.7,\"#b8e186\"],[0.8,\"#7fbc41\"],[0.9,\"#4d9221\"],[1,\"#276419\"]],\"sequential\":[[0.0,\"#0d0887\"],[0.1111111111111111,\"#46039f\"],[0.2222222222222222,\"#7201a8\"],[0.3333333333333333,\"#9c179e\"],[0.4444444444444444,\"#bd3786\"],[0.5555555555555556,\"#d8576b\"],[0.6666666666666666,\"#ed7953\"],[0.7777777777777778,\"#fb9f3a\"],[0.8888888888888888,\"#fdca26\"],[1.0,\"#f0f921\"]],\"sequentialminus\":[[0.0,\"#0d0887\"],[0.1111111111111111,\"#46039f\"],[0.2222222222222222,\"#7201a8\"],[0.3333333333333333,\"#9c179e\"],[0.4444444444444444,\"#bd3786\"],[0.5555555555555556,\"#d8576b\"],[0.6666666666666666,\"#ed7953\"],[0.7777777777777778,\"#fb9f3a\"],[0.8888888888888888,\"#fdca26\"],[1.0,\"#f0f921\"]]},\"colorway\":[\"#636efa\",\"#EF553B\",\"#00cc96\",\"#ab63fa\",\"#FFA15A\",\"#19d3f3\",\"#FF6692\",\"#B6E880\",\"#FF97FF\",\"#FECB52\"],\"font\":{\"color\":\"#f2f5fa\"},\"geo\":{\"bgcolor\":\"rgb(17,17,17)\",\"lakecolor\":\"rgb(17,17,17)\",\"landcolor\":\"rgb(17,17,17)\",\"showlakes\":true,\"showland\":true,\"subunitcolor\":\"#506784\"},\"hoverlabel\":{\"align\":\"left\"},\"hovermode\":\"closest\",\"mapbox\":{\"style\":\"dark\"},\"paper_bgcolor\":\"rgb(17,17,17)\",\"plot_bgcolor\":\"rgb(17,17,17)\",\"polar\":{\"angularaxis\":{\"gridcolor\":\"#506784\",\"linecolor\":\"#506784\",\"ticks\":\"\"},\"bgcolor\":\"rgb(17,17,17)\",\"radialaxis\":{\"gridcolor\":\"#506784\",\"linecolor\":\"#506784\",\"ticks\":\"\"}},\"scene\":{\"xaxis\":{\"backgroundcolor\":\"rgb(17,17,17)\",\"gridcolor\":\"#506784\",\"gridwidth\":2,\"linecolor\":\"#506784\",\"showbackground\":true,\"ticks\":\"\",\"zerolinecolor\":\"#C8D4E3\"},\"yaxis\":{\"backgroundcolor\":\"rgb(17,17,17)\",\"gridcolor\":\"#506784\",\"gridwidth\":2,\"linecolor\":\"#506784\",\"showbackground\":true,\"ticks\":\"\",\"zerolinecolor\":\"#C8D4E3\"},\"zaxis\":{\"backgroundcolor\":\"rgb(17,17,17)\",\"gridcolor\":\"#506784\",\"gridwidth\":2,\"linecolor\":\"#506784\",\"showbackground\":true,\"ticks\":\"\",\"zerolinecolor\":\"#C8D4E3\"}},\"shapedefaults\":{\"line\":{\"color\":\"#f2f5fa\"}},\"sliderdefaults\":{\"bgcolor\":\"#C8D4E3\",\"bordercolor\":\"rgb(17,17,17)\",\"borderwidth\":1,\"tickwidth\":0},\"ternary\":{\"aaxis\":{\"gridcolor\":\"#506784\",\"linecolor\":\"#506784\",\"ticks\":\"\"},\"baxis\":{\"gridcolor\":\"#506784\",\"linecolor\":\"#506784\",\"ticks\":\"\"},\"bgcolor\":\"rgb(17,17,17)\",\"caxis\":{\"gridcolor\":\"#506784\",\"linecolor\":\"#506784\",\"ticks\":\"\"}},\"title\":{\"x\":0.05},\"updatemenudefaults\":{\"bgcolor\":\"#506784\",\"borderwidth\":0},\"xaxis\":{\"automargin\":true,\"gridcolor\":\"#283442\",\"linecolor\":\"#506784\",\"ticks\":\"\",\"title\":{\"standoff\":15},\"zerolinecolor\":\"#283442\",\"zerolinewidth\":2},\"yaxis\":{\"automargin\":true,\"gridcolor\":\"#283442\",\"linecolor\":\"#506784\",\"ticks\":\"\",\"title\":{\"standoff\":15},\"zerolinecolor\":\"#283442\",\"zerolinewidth\":2}}},\"xaxis\":{\"anchor\":\"y\",\"domain\":[0.0,1.0],\"title\":{\"text\":\"name\"}},\"yaxis\":{\"anchor\":\"x\",\"domain\":[0.0,1.0],\"title\":{\"text\":\"price\"}},\"legend\":{\"tracegroupgap\":0,\"title\":{\"font\":{\"color\":\"lightblue\"}}},\"margin\":{\"t\":60},\"barmode\":\"relative\",\"title\":{\"text\":\"top 5 cheap mask\",\"x\":0.5,\"font\":{\"color\":\"lightblue\"}},\"font\":{\"color\":\"lightblue\"}},                        {\"responsive\": true}                    ).then(function(){\n",
              "                            \n",
              "var gd = document.getElementById('ecca2ee7-bc0b-4b7d-b813-7116af5a0114');\n",
              "var x = new MutationObserver(function (mutations, observer) {{\n",
              "        var display = window.getComputedStyle(gd).display;\n",
              "        if (!display || display === 'none') {{\n",
              "            console.log([gd, 'removed!']);\n",
              "            Plotly.purge(gd);\n",
              "            observer.disconnect();\n",
              "        }}\n",
              "}});\n",
              "\n",
              "// Listen for the removal of the full notebook cells\n",
              "var notebookContainer = gd.closest('#notebook-container');\n",
              "if (notebookContainer) {{\n",
              "    x.observe(notebookContainer, {childList: true});\n",
              "}}\n",
              "\n",
              "// Listen for the clearing of the current output cell\n",
              "var outputEl = gd.closest('.output');\n",
              "if (outputEl) {{\n",
              "    x.observe(outputEl, {childList: true});\n",
              "}}\n",
              "\n",
              "                        })                };                            </script>        </div>\n",
              "</body>\n",
              "</html>"
            ]
          },
          "metadata": {}
        }
      ]
    }
  ]
}